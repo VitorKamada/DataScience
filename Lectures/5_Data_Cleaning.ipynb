{
  "nbformat": 4,
  "nbformat_minor": 0,
  "metadata": {
    "colab": {
      "name": "5_Data_Cleaning.ipynb",
      "provenance": []
    },
    "kernelspec": {
      "name": "python3",
      "display_name": "Python 3"
    },
    "widgets": {
      "application/vnd.jupyter.widget-state+json": {
        "7815f677b67947c8b41b169e44dc211c": {
          "model_module": "@jupyter-widgets/controls",
          "model_name": "VBoxModel",
          "state": {
            "_view_name": "VBoxView",
            "_dom_classes": [
              "widget-interact"
            ],
            "_model_name": "VBoxModel",
            "_view_module": "@jupyter-widgets/controls",
            "_model_module_version": "1.5.0",
            "_view_count": null,
            "_view_module_version": "1.5.0",
            "box_style": "",
            "layout": "IPY_MODEL_de6b528acb0949878cb82a2575575597",
            "_model_module": "@jupyter-widgets/controls",
            "children": [
              "IPY_MODEL_64438832d602436db85b3711a567f789",
              "IPY_MODEL_2de3d4ddd7f64234bdbad2b40476b4db",
              "IPY_MODEL_12c9e20a45aa4eabb7e2d562c95be9f1"
            ]
          }
        },
        "de6b528acb0949878cb82a2575575597": {
          "model_module": "@jupyter-widgets/base",
          "model_name": "LayoutModel",
          "state": {
            "_view_name": "LayoutView",
            "grid_template_rows": null,
            "right": null,
            "justify_content": null,
            "_view_module": "@jupyter-widgets/base",
            "overflow": null,
            "_model_module_version": "1.2.0",
            "_view_count": null,
            "flex_flow": null,
            "width": null,
            "min_width": null,
            "border": null,
            "align_items": null,
            "bottom": null,
            "_model_module": "@jupyter-widgets/base",
            "top": null,
            "grid_column": null,
            "overflow_y": null,
            "overflow_x": null,
            "grid_auto_flow": null,
            "grid_area": null,
            "grid_template_columns": null,
            "flex": null,
            "_model_name": "LayoutModel",
            "justify_items": null,
            "grid_row": null,
            "max_height": null,
            "align_content": null,
            "visibility": null,
            "align_self": null,
            "height": null,
            "min_height": null,
            "padding": null,
            "grid_auto_rows": null,
            "grid_gap": null,
            "max_width": null,
            "order": null,
            "_view_module_version": "1.2.0",
            "grid_template_areas": null,
            "object_position": null,
            "object_fit": null,
            "grid_auto_columns": null,
            "margin": null,
            "display": null,
            "left": null
          }
        },
        "64438832d602436db85b3711a567f789": {
          "model_module": "@jupyter-widgets/controls",
          "model_name": "IntSliderModel",
          "state": {
            "_view_name": "IntSliderView",
            "style": "IPY_MODEL_ec8ed8100ab5435692619c8405e20452",
            "_dom_classes": [],
            "description": "row",
            "step": 5,
            "_model_name": "IntSliderModel",
            "orientation": "horizontal",
            "max": 5508,
            "_view_module": "@jupyter-widgets/controls",
            "_model_module_version": "1.5.0",
            "value": 0,
            "_view_count": null,
            "disabled": false,
            "_view_module_version": "1.5.0",
            "min": 0,
            "continuous_update": true,
            "readout_format": "d",
            "description_tooltip": null,
            "readout": true,
            "_model_module": "@jupyter-widgets/controls",
            "layout": "IPY_MODEL_7797ea40cdad4701ba19f1669a2d62df"
          }
        },
        "2de3d4ddd7f64234bdbad2b40476b4db": {
          "model_module": "@jupyter-widgets/controls",
          "model_name": "IntSliderModel",
          "state": {
            "_view_name": "IntSliderView",
            "style": "IPY_MODEL_f7fcd2ff412342f9b51bab398585d328",
            "_dom_classes": [],
            "description": "col",
            "step": 1,
            "_model_name": "IntSliderModel",
            "orientation": "horizontal",
            "max": 5,
            "_view_module": "@jupyter-widgets/controls",
            "_model_module_version": "1.5.0",
            "value": 0,
            "_view_count": null,
            "disabled": false,
            "_view_module_version": "1.5.0",
            "min": 0,
            "continuous_update": true,
            "readout_format": "d",
            "description_tooltip": null,
            "readout": true,
            "_model_module": "@jupyter-widgets/controls",
            "layout": "IPY_MODEL_3ddf132f01b74d62b7d97acf5cf44265"
          }
        },
        "12c9e20a45aa4eabb7e2d562c95be9f1": {
          "model_module": "@jupyter-widgets/output",
          "model_name": "OutputModel",
          "state": {
            "_view_name": "OutputView",
            "msg_id": "",
            "_dom_classes": [],
            "_model_name": "OutputModel",
            "outputs": [
              {
                "output_type": "display_data",
                "metadata": {
                  "tags": []
                },
                "text/html": "<div>\n<style scoped>\n    .dataframe tbody tr th:only-of-type {\n        vertical-align: middle;\n    }\n\n    .dataframe tbody tr th {\n        vertical-align: top;\n    }\n\n    .dataframe thead th {\n        text-align: right;\n    }\n</style>\n<table border=\"1\" class=\"dataframe\">\n  <thead>\n    <tr style=\"text-align: right;\">\n      <th></th>\n      <th>CASENO</th>\n      <th>OFFENSE</th>\n      <th>EVENTDT</th>\n      <th>EVENTTM</th>\n      <th>CVLEGEND</th>\n      <th>CVDOW</th>\n    </tr>\n  </thead>\n  <tbody>\n    <tr>\n      <th>0</th>\n      <td>17091420</td>\n      <td>BURGLARY AUTO</td>\n      <td>07/23/2017 12:00:00 AM</td>\n      <td>06:00</td>\n      <td>BURGLARY - VEHICLE</td>\n      <td>0</td>\n    </tr>\n    <tr>\n      <th>1</th>\n      <td>17020462</td>\n      <td>THEFT FROM PERSON</td>\n      <td>04/13/2017 12:00:00 AM</td>\n      <td>08:45</td>\n      <td>LARCENY</td>\n      <td>4</td>\n    </tr>\n    <tr>\n      <th>2</th>\n      <td>17050275</td>\n      <td>BURGLARY AUTO</td>\n      <td>08/24/2017 12:00:00 AM</td>\n      <td>18:30</td>\n      <td>BURGLARY - VEHICLE</td>\n      <td>4</td>\n    </tr>\n    <tr>\n      <th>3</th>\n      <td>17019145</td>\n      <td>GUN/WEAPON</td>\n      <td>04/06/2017 12:00:00 AM</td>\n      <td>17:30</td>\n      <td>WEAPONS OFFENSE</td>\n      <td>4</td>\n    </tr>\n    <tr>\n      <th>4</th>\n      <td>17044993</td>\n      <td>VEHICLE STOLEN</td>\n      <td>08/01/2017 12:00:00 AM</td>\n      <td>18:00</td>\n      <td>MOTOR VEHICLE THEFT</td>\n      <td>2</td>\n    </tr>\n  </tbody>\n</table>\n</div>",
                "text/plain": "     CASENO            OFFENSE  ...             CVLEGEND CVDOW\n0  17091420      BURGLARY AUTO  ...   BURGLARY - VEHICLE     0\n1  17020462  THEFT FROM PERSON  ...              LARCENY     4\n2  17050275      BURGLARY AUTO  ...   BURGLARY - VEHICLE     4\n3  17019145         GUN/WEAPON  ...      WEAPONS OFFENSE     4\n4  17044993     VEHICLE STOLEN  ...  MOTOR VEHICLE THEFT     2\n\n[5 rows x 6 columns]"
              }
            ],
            "_view_module": "@jupyter-widgets/output",
            "_model_module_version": "1.0.0",
            "_view_count": null,
            "_view_module_version": "1.0.0",
            "layout": "IPY_MODEL_9cc7f7575d9840e38d3c8e9eb8410f59",
            "_model_module": "@jupyter-widgets/output"
          }
        },
        "ec8ed8100ab5435692619c8405e20452": {
          "model_module": "@jupyter-widgets/controls",
          "model_name": "SliderStyleModel",
          "state": {
            "_view_name": "StyleView",
            "handle_color": null,
            "_model_name": "SliderStyleModel",
            "description_width": "",
            "_view_module": "@jupyter-widgets/base",
            "_model_module_version": "1.5.0",
            "_view_count": null,
            "_view_module_version": "1.2.0",
            "_model_module": "@jupyter-widgets/controls"
          }
        },
        "7797ea40cdad4701ba19f1669a2d62df": {
          "model_module": "@jupyter-widgets/base",
          "model_name": "LayoutModel",
          "state": {
            "_view_name": "LayoutView",
            "grid_template_rows": null,
            "right": null,
            "justify_content": null,
            "_view_module": "@jupyter-widgets/base",
            "overflow": null,
            "_model_module_version": "1.2.0",
            "_view_count": null,
            "flex_flow": null,
            "width": null,
            "min_width": null,
            "border": null,
            "align_items": null,
            "bottom": null,
            "_model_module": "@jupyter-widgets/base",
            "top": null,
            "grid_column": null,
            "overflow_y": null,
            "overflow_x": null,
            "grid_auto_flow": null,
            "grid_area": null,
            "grid_template_columns": null,
            "flex": null,
            "_model_name": "LayoutModel",
            "justify_items": null,
            "grid_row": null,
            "max_height": null,
            "align_content": null,
            "visibility": null,
            "align_self": null,
            "height": null,
            "min_height": null,
            "padding": null,
            "grid_auto_rows": null,
            "grid_gap": null,
            "max_width": null,
            "order": null,
            "_view_module_version": "1.2.0",
            "grid_template_areas": null,
            "object_position": null,
            "object_fit": null,
            "grid_auto_columns": null,
            "margin": null,
            "display": null,
            "left": null
          }
        },
        "f7fcd2ff412342f9b51bab398585d328": {
          "model_module": "@jupyter-widgets/controls",
          "model_name": "SliderStyleModel",
          "state": {
            "_view_name": "StyleView",
            "handle_color": null,
            "_model_name": "SliderStyleModel",
            "description_width": "",
            "_view_module": "@jupyter-widgets/base",
            "_model_module_version": "1.5.0",
            "_view_count": null,
            "_view_module_version": "1.2.0",
            "_model_module": "@jupyter-widgets/controls"
          }
        },
        "3ddf132f01b74d62b7d97acf5cf44265": {
          "model_module": "@jupyter-widgets/base",
          "model_name": "LayoutModel",
          "state": {
            "_view_name": "LayoutView",
            "grid_template_rows": null,
            "right": null,
            "justify_content": null,
            "_view_module": "@jupyter-widgets/base",
            "overflow": null,
            "_model_module_version": "1.2.0",
            "_view_count": null,
            "flex_flow": null,
            "width": null,
            "min_width": null,
            "border": null,
            "align_items": null,
            "bottom": null,
            "_model_module": "@jupyter-widgets/base",
            "top": null,
            "grid_column": null,
            "overflow_y": null,
            "overflow_x": null,
            "grid_auto_flow": null,
            "grid_area": null,
            "grid_template_columns": null,
            "flex": null,
            "_model_name": "LayoutModel",
            "justify_items": null,
            "grid_row": null,
            "max_height": null,
            "align_content": null,
            "visibility": null,
            "align_self": null,
            "height": null,
            "min_height": null,
            "padding": null,
            "grid_auto_rows": null,
            "grid_gap": null,
            "max_width": null,
            "order": null,
            "_view_module_version": "1.2.0",
            "grid_template_areas": null,
            "object_position": null,
            "object_fit": null,
            "grid_auto_columns": null,
            "margin": null,
            "display": null,
            "left": null
          }
        },
        "1cf84360391746aebe8e236305e5adde": {
          "model_module": "@jupyter-widgets/controls",
          "model_name": "VBoxModel",
          "state": {
            "_view_name": "VBoxView",
            "_dom_classes": [
              "widget-interact"
            ],
            "_model_name": "VBoxModel",
            "_view_module": "@jupyter-widgets/controls",
            "_model_module_version": "1.5.0",
            "_view_count": null,
            "_view_module_version": "1.5.0",
            "box_style": "",
            "layout": "IPY_MODEL_00c828f443694784bf9174a74725f5f8",
            "_model_module": "@jupyter-widgets/controls",
            "children": [
              "IPY_MODEL_7d3c9546cabf4c1b82c2c7bf27cbf506",
              "IPY_MODEL_4974432564c0436ea407383c71e8aa3f",
              "IPY_MODEL_0e9c5fc2721a4fd79dbf33c67fb52b5f"
            ]
          }
        },
        "00c828f443694784bf9174a74725f5f8": {
          "model_module": "@jupyter-widgets/base",
          "model_name": "LayoutModel",
          "state": {
            "_view_name": "LayoutView",
            "grid_template_rows": null,
            "right": null,
            "justify_content": null,
            "_view_module": "@jupyter-widgets/base",
            "overflow": null,
            "_model_module_version": "1.2.0",
            "_view_count": null,
            "flex_flow": null,
            "width": null,
            "min_width": null,
            "border": null,
            "align_items": null,
            "bottom": null,
            "_model_module": "@jupyter-widgets/base",
            "top": null,
            "grid_column": null,
            "overflow_y": null,
            "overflow_x": null,
            "grid_auto_flow": null,
            "grid_area": null,
            "grid_template_columns": null,
            "flex": null,
            "_model_name": "LayoutModel",
            "justify_items": null,
            "grid_row": null,
            "max_height": null,
            "align_content": null,
            "visibility": null,
            "align_self": null,
            "height": null,
            "min_height": null,
            "padding": null,
            "grid_auto_rows": null,
            "grid_gap": null,
            "max_width": null,
            "order": null,
            "_view_module_version": "1.2.0",
            "grid_template_areas": null,
            "object_position": null,
            "object_fit": null,
            "grid_auto_columns": null,
            "margin": null,
            "display": null,
            "left": null
          }
        },
        "7d3c9546cabf4c1b82c2c7bf27cbf506": {
          "model_module": "@jupyter-widgets/controls",
          "model_name": "IntSliderModel",
          "state": {
            "_view_name": "IntSliderView",
            "style": "IPY_MODEL_b54ac8de3a8a433f8f5b625f5d5c77d3",
            "_dom_classes": [],
            "description": "row",
            "step": 5,
            "_model_name": "IntSliderModel",
            "orientation": "horizontal",
            "max": 5508,
            "_view_module": "@jupyter-widgets/controls",
            "_model_module_version": "1.5.0",
            "value": 0,
            "_view_count": null,
            "disabled": false,
            "_view_module_version": "1.5.0",
            "min": 0,
            "continuous_update": true,
            "readout_format": "d",
            "description_tooltip": null,
            "readout": true,
            "_model_module": "@jupyter-widgets/controls",
            "layout": "IPY_MODEL_50b39d571dcb4389bb2a6b452e341a0d"
          }
        },
        "4974432564c0436ea407383c71e8aa3f": {
          "model_module": "@jupyter-widgets/controls",
          "model_name": "IntSliderModel",
          "state": {
            "_view_name": "IntSliderView",
            "style": "IPY_MODEL_319660b965d140bda369ef6332de2ec2",
            "_dom_classes": [],
            "description": "col",
            "step": 1,
            "_model_name": "IntSliderModel",
            "orientation": "horizontal",
            "max": 2,
            "_view_module": "@jupyter-widgets/controls",
            "_model_module_version": "1.5.0",
            "value": 0,
            "_view_count": null,
            "disabled": false,
            "_view_module_version": "1.5.0",
            "min": 0,
            "continuous_update": true,
            "readout_format": "d",
            "description_tooltip": null,
            "readout": true,
            "_model_module": "@jupyter-widgets/controls",
            "layout": "IPY_MODEL_847d0a50402a4972852f0f6748136a2b"
          }
        },
        "0e9c5fc2721a4fd79dbf33c67fb52b5f": {
          "model_module": "@jupyter-widgets/output",
          "model_name": "OutputModel",
          "state": {
            "_view_name": "OutputView",
            "msg_id": "",
            "_dom_classes": [],
            "_model_name": "OutputModel",
            "outputs": [
              {
                "output_type": "display_data",
                "metadata": {
                  "tags": []
                },
                "text/html": "<div>\n<style scoped>\n    .dataframe tbody tr th:only-of-type {\n        vertical-align: middle;\n    }\n\n    .dataframe tbody tr th {\n        vertical-align: top;\n    }\n\n    .dataframe thead th {\n        text-align: right;\n    }\n</style>\n<table border=\"1\" class=\"dataframe\">\n  <thead>\n    <tr style=\"text-align: right;\">\n      <th></th>\n      <th>CASENO</th>\n      <th>OFFENSE</th>\n      <th>CVLEGEND</th>\n      <th>BLKADDR</th>\n      <th>EVENTDTTM</th>\n      <th>Latitude</th>\n    </tr>\n  </thead>\n  <tbody>\n    <tr>\n      <th>0</th>\n      <td>17091420</td>\n      <td>BURGLARY AUTO</td>\n      <td>BURGLARY - VEHICLE</td>\n      <td>2500 LE CONTE AVE</td>\n      <td>2017-07-23 06:00:00</td>\n      <td>37.876965</td>\n    </tr>\n    <tr>\n      <th>1</th>\n      <td>17038302</td>\n      <td>BURGLARY AUTO</td>\n      <td>BURGLARY - VEHICLE</td>\n      <td>BOWDITCH STREET &amp; CHANNING WAY</td>\n      <td>2017-07-02 22:00:00</td>\n      <td>37.867209</td>\n    </tr>\n    <tr>\n      <th>2</th>\n      <td>17049346</td>\n      <td>THEFT MISD. (UNDER $950)</td>\n      <td>LARCENY</td>\n      <td>2900 CHANNING WAY</td>\n      <td>2017-08-20 23:20:00</td>\n      <td>37.867948</td>\n    </tr>\n    <tr>\n      <th>3</th>\n      <td>17091319</td>\n      <td>THEFT MISD. (UNDER $950)</td>\n      <td>LARCENY</td>\n      <td>2100 RUSSELL ST</td>\n      <td>2017-07-09 04:15:00</td>\n      <td>37.856719</td>\n    </tr>\n    <tr>\n      <th>4</th>\n      <td>17044238</td>\n      <td>DISTURBANCE</td>\n      <td>DISORDERLY CONDUCT</td>\n      <td>TELEGRAPH AVENUE &amp; DURANT AVE</td>\n      <td>2017-07-30 01:16:00</td>\n      <td>37.867816</td>\n    </tr>\n  </tbody>\n</table>\n</div>",
                "text/plain": "     CASENO                   OFFENSE  ...           EVENTDTTM   Latitude\n0  17091420             BURGLARY AUTO  ... 2017-07-23 06:00:00  37.876965\n1  17038302             BURGLARY AUTO  ... 2017-07-02 22:00:00  37.867209\n2  17049346  THEFT MISD. (UNDER $950)  ... 2017-08-20 23:20:00  37.867948\n3  17091319  THEFT MISD. (UNDER $950)  ... 2017-07-09 04:15:00  37.856719\n4  17044238               DISTURBANCE  ... 2017-07-30 01:16:00  37.867816\n\n[5 rows x 6 columns]"
              }
            ],
            "_view_module": "@jupyter-widgets/output",
            "_model_module_version": "1.0.0",
            "_view_count": null,
            "_view_module_version": "1.0.0",
            "layout": "IPY_MODEL_088cdf35ca71434da09343015745983c",
            "_model_module": "@jupyter-widgets/output"
          }
        },
        "b54ac8de3a8a433f8f5b625f5d5c77d3": {
          "model_module": "@jupyter-widgets/controls",
          "model_name": "SliderStyleModel",
          "state": {
            "_view_name": "StyleView",
            "handle_color": null,
            "_model_name": "SliderStyleModel",
            "description_width": "",
            "_view_module": "@jupyter-widgets/base",
            "_model_module_version": "1.5.0",
            "_view_count": null,
            "_view_module_version": "1.2.0",
            "_model_module": "@jupyter-widgets/controls"
          }
        },
        "50b39d571dcb4389bb2a6b452e341a0d": {
          "model_module": "@jupyter-widgets/base",
          "model_name": "LayoutModel",
          "state": {
            "_view_name": "LayoutView",
            "grid_template_rows": null,
            "right": null,
            "justify_content": null,
            "_view_module": "@jupyter-widgets/base",
            "overflow": null,
            "_model_module_version": "1.2.0",
            "_view_count": null,
            "flex_flow": null,
            "width": null,
            "min_width": null,
            "border": null,
            "align_items": null,
            "bottom": null,
            "_model_module": "@jupyter-widgets/base",
            "top": null,
            "grid_column": null,
            "overflow_y": null,
            "overflow_x": null,
            "grid_auto_flow": null,
            "grid_area": null,
            "grid_template_columns": null,
            "flex": null,
            "_model_name": "LayoutModel",
            "justify_items": null,
            "grid_row": null,
            "max_height": null,
            "align_content": null,
            "visibility": null,
            "align_self": null,
            "height": null,
            "min_height": null,
            "padding": null,
            "grid_auto_rows": null,
            "grid_gap": null,
            "max_width": null,
            "order": null,
            "_view_module_version": "1.2.0",
            "grid_template_areas": null,
            "object_position": null,
            "object_fit": null,
            "grid_auto_columns": null,
            "margin": null,
            "display": null,
            "left": null
          }
        },
        "319660b965d140bda369ef6332de2ec2": {
          "model_module": "@jupyter-widgets/controls",
          "model_name": "SliderStyleModel",
          "state": {
            "_view_name": "StyleView",
            "handle_color": null,
            "_model_name": "SliderStyleModel",
            "description_width": "",
            "_view_module": "@jupyter-widgets/base",
            "_model_module_version": "1.5.0",
            "_view_count": null,
            "_view_module_version": "1.2.0",
            "_model_module": "@jupyter-widgets/controls"
          }
        },
        "847d0a50402a4972852f0f6748136a2b": {
          "model_module": "@jupyter-widgets/base",
          "model_name": "LayoutModel",
          "state": {
            "_view_name": "LayoutView",
            "grid_template_rows": null,
            "right": null,
            "justify_content": null,
            "_view_module": "@jupyter-widgets/base",
            "overflow": null,
            "_model_module_version": "1.2.0",
            "_view_count": null,
            "flex_flow": null,
            "width": null,
            "min_width": null,
            "border": null,
            "align_items": null,
            "bottom": null,
            "_model_module": "@jupyter-widgets/base",
            "top": null,
            "grid_column": null,
            "overflow_y": null,
            "overflow_x": null,
            "grid_auto_flow": null,
            "grid_area": null,
            "grid_template_columns": null,
            "flex": null,
            "_model_name": "LayoutModel",
            "justify_items": null,
            "grid_row": null,
            "max_height": null,
            "align_content": null,
            "visibility": null,
            "align_self": null,
            "height": null,
            "min_height": null,
            "padding": null,
            "grid_auto_rows": null,
            "grid_gap": null,
            "max_width": null,
            "order": null,
            "_view_module_version": "1.2.0",
            "grid_template_areas": null,
            "object_position": null,
            "object_fit": null,
            "grid_auto_columns": null,
            "margin": null,
            "display": null,
            "left": null
          }
        }
      }
    }
  },
  "cells": [
    {
      "cell_type": "markdown",
      "metadata": {
        "id": "DehuSSujqB77",
        "colab_type": "text"
      },
      "source": [
        "Code from https://www.textbook.ds100.org/ch/05/cleaning_intro.html was not running.\n",
        "\n",
        "Updated by Vitor Kamada\n",
        "12/19/2019"
      ]
    },
    {
      "cell_type": "code",
      "metadata": {
        "id": "glf-3OoXqCY6",
        "colab_type": "code",
        "colab": {
          "base_uri": "https://localhost:8080/",
          "height": 227
        },
        "outputId": "0815354a-a61f-4df6-c8ab-66cb5841d848"
      },
      "source": [
        "import numpy as np\n",
        "import pandas as pd\n",
        "path ='https://github.com/DS-100/textbook/raw/master/content/'\n",
        "calls = pd.read_csv(path + 'ch/05/data/Berkeley_PD_-_Calls_for_Service.csv')\n",
        "calls.head(3)"
      ],
      "execution_count": 1,
      "outputs": [
        {
          "output_type": "execute_result",
          "data": {
            "text/html": [
              "<div>\n",
              "<style scoped>\n",
              "    .dataframe tbody tr th:only-of-type {\n",
              "        vertical-align: middle;\n",
              "    }\n",
              "\n",
              "    .dataframe tbody tr th {\n",
              "        vertical-align: top;\n",
              "    }\n",
              "\n",
              "    .dataframe thead th {\n",
              "        text-align: right;\n",
              "    }\n",
              "</style>\n",
              "<table border=\"1\" class=\"dataframe\">\n",
              "  <thead>\n",
              "    <tr style=\"text-align: right;\">\n",
              "      <th></th>\n",
              "      <th>CASENO</th>\n",
              "      <th>OFFENSE</th>\n",
              "      <th>EVENTDT</th>\n",
              "      <th>EVENTTM</th>\n",
              "      <th>CVLEGEND</th>\n",
              "      <th>CVDOW</th>\n",
              "      <th>InDbDate</th>\n",
              "      <th>Block_Location</th>\n",
              "      <th>BLKADDR</th>\n",
              "      <th>City</th>\n",
              "      <th>State</th>\n",
              "    </tr>\n",
              "  </thead>\n",
              "  <tbody>\n",
              "    <tr>\n",
              "      <th>0</th>\n",
              "      <td>17091420</td>\n",
              "      <td>BURGLARY AUTO</td>\n",
              "      <td>07/23/2017 12:00:00 AM</td>\n",
              "      <td>06:00</td>\n",
              "      <td>BURGLARY - VEHICLE</td>\n",
              "      <td>0</td>\n",
              "      <td>08/29/2017 08:28:05 AM</td>\n",
              "      <td>2500 LE CONTE AVE\\nBerkeley, CA\\n(37.876965, -...</td>\n",
              "      <td>2500 LE CONTE AVE</td>\n",
              "      <td>Berkeley</td>\n",
              "      <td>CA</td>\n",
              "    </tr>\n",
              "    <tr>\n",
              "      <th>1</th>\n",
              "      <td>17020462</td>\n",
              "      <td>THEFT FROM PERSON</td>\n",
              "      <td>04/13/2017 12:00:00 AM</td>\n",
              "      <td>08:45</td>\n",
              "      <td>LARCENY</td>\n",
              "      <td>4</td>\n",
              "      <td>08/29/2017 08:28:00 AM</td>\n",
              "      <td>2200 SHATTUCK AVE\\nBerkeley, CA\\n(37.869363, -...</td>\n",
              "      <td>2200 SHATTUCK AVE</td>\n",
              "      <td>Berkeley</td>\n",
              "      <td>CA</td>\n",
              "    </tr>\n",
              "    <tr>\n",
              "      <th>2</th>\n",
              "      <td>17050275</td>\n",
              "      <td>BURGLARY AUTO</td>\n",
              "      <td>08/24/2017 12:00:00 AM</td>\n",
              "      <td>18:30</td>\n",
              "      <td>BURGLARY - VEHICLE</td>\n",
              "      <td>4</td>\n",
              "      <td>08/29/2017 08:28:06 AM</td>\n",
              "      <td>200 UNIVERSITY AVE\\nBerkeley, CA\\n(37.865491, ...</td>\n",
              "      <td>200 UNIVERSITY AVE</td>\n",
              "      <td>Berkeley</td>\n",
              "      <td>CA</td>\n",
              "    </tr>\n",
              "  </tbody>\n",
              "</table>\n",
              "</div>"
            ],
            "text/plain": [
              "     CASENO            OFFENSE  ...      City State\n",
              "0  17091420      BURGLARY AUTO  ...  Berkeley    CA\n",
              "1  17020462  THEFT FROM PERSON  ...  Berkeley    CA\n",
              "2  17050275      BURGLARY AUTO  ...  Berkeley    CA\n",
              "\n",
              "[3 rows x 11 columns]"
            ]
          },
          "metadata": {
            "tags": []
          },
          "execution_count": 1
        }
      ]
    },
    {
      "cell_type": "code",
      "metadata": {
        "id": "qODiHkUGcBS_",
        "colab_type": "code",
        "colab": {
          "base_uri": "https://localhost:8080/",
          "height": 285,
          "referenced_widgets": [
            "7815f677b67947c8b41b169e44dc211c",
            "de6b528acb0949878cb82a2575575597",
            "64438832d602436db85b3711a567f789",
            "2de3d4ddd7f64234bdbad2b40476b4db",
            "12c9e20a45aa4eabb7e2d562c95be9f1",
            "ec8ed8100ab5435692619c8405e20452",
            "7797ea40cdad4701ba19f1669a2d62df",
            "f7fcd2ff412342f9b51bab398585d328",
            "3ddf132f01b74d62b7d97acf5cf44265"
          ]
        },
        "outputId": "610ee8f1-5b29-4ab4-9d6a-261c7fa5b325"
      },
      "source": [
        "from ipywidgets import interact\n",
        "def df_interact(df):\n",
        "    def peek(row=0, col=0):\n",
        "        return df.iloc[row:row + 5, col:col + 6]\n",
        "    interact(peek, row=(0, len(df), 5), col=(0, len(df.columns) - 6))\n",
        "    print('({} rows, {} columns) total'.format(df.shape[0], df.shape[1]))\n",
        "\n",
        "df_interact(calls)"
      ],
      "execution_count": 2,
      "outputs": [
        {
          "output_type": "display_data",
          "data": {
            "application/vnd.jupyter.widget-view+json": {
              "model_id": "7815f677b67947c8b41b169e44dc211c",
              "version_minor": 0,
              "version_major": 2
            },
            "text/plain": [
              "interactive(children=(IntSlider(value=0, description='row', max=5508, step=5), IntSlider(value=0, description=…"
            ]
          },
          "metadata": {
            "tags": []
          }
        },
        {
          "output_type": "stream",
          "text": [
            "(5508 rows, 11 columns) total\n"
          ],
          "name": "stdout"
        }
      ]
    },
    {
      "cell_type": "code",
      "metadata": {
        "id": "XL_6bCsMcBV3",
        "colab_type": "code",
        "colab": {
          "base_uri": "https://localhost:8080/",
          "height": 1000
        },
        "outputId": "4069732a-3dbe-496a-e468-7ce166d412f6"
      },
      "source": [
        "null_rows = calls.isnull().any(axis=1)\n",
        "calls[null_rows]"
      ],
      "execution_count": 3,
      "outputs": [
        {
          "output_type": "execute_result",
          "data": {
            "text/html": [
              "<div>\n",
              "<style scoped>\n",
              "    .dataframe tbody tr th:only-of-type {\n",
              "        vertical-align: middle;\n",
              "    }\n",
              "\n",
              "    .dataframe tbody tr th {\n",
              "        vertical-align: top;\n",
              "    }\n",
              "\n",
              "    .dataframe thead th {\n",
              "        text-align: right;\n",
              "    }\n",
              "</style>\n",
              "<table border=\"1\" class=\"dataframe\">\n",
              "  <thead>\n",
              "    <tr style=\"text-align: right;\">\n",
              "      <th></th>\n",
              "      <th>CASENO</th>\n",
              "      <th>OFFENSE</th>\n",
              "      <th>EVENTDT</th>\n",
              "      <th>EVENTTM</th>\n",
              "      <th>CVLEGEND</th>\n",
              "      <th>CVDOW</th>\n",
              "      <th>InDbDate</th>\n",
              "      <th>Block_Location</th>\n",
              "      <th>BLKADDR</th>\n",
              "      <th>City</th>\n",
              "      <th>State</th>\n",
              "    </tr>\n",
              "  </thead>\n",
              "  <tbody>\n",
              "    <tr>\n",
              "      <th>116</th>\n",
              "      <td>17014831</td>\n",
              "      <td>BURGLARY AUTO</td>\n",
              "      <td>03/16/2017 12:00:00 AM</td>\n",
              "      <td>22:00</td>\n",
              "      <td>BURGLARY - VEHICLE</td>\n",
              "      <td>4</td>\n",
              "      <td>08/29/2017 08:27:58 AM</td>\n",
              "      <td>Berkeley, CA\\n(37.869058, -122.270455)</td>\n",
              "      <td>NaN</td>\n",
              "      <td>Berkeley</td>\n",
              "      <td>CA</td>\n",
              "    </tr>\n",
              "    <tr>\n",
              "      <th>478</th>\n",
              "      <td>17042511</td>\n",
              "      <td>BURGLARY AUTO</td>\n",
              "      <td>07/20/2017 12:00:00 AM</td>\n",
              "      <td>16:00</td>\n",
              "      <td>BURGLARY - VEHICLE</td>\n",
              "      <td>4</td>\n",
              "      <td>08/29/2017 08:28:05 AM</td>\n",
              "      <td>Berkeley, CA\\n(37.869058, -122.270455)</td>\n",
              "      <td>NaN</td>\n",
              "      <td>Berkeley</td>\n",
              "      <td>CA</td>\n",
              "    </tr>\n",
              "    <tr>\n",
              "      <th>486</th>\n",
              "      <td>17022572</td>\n",
              "      <td>VEHICLE STOLEN</td>\n",
              "      <td>04/22/2017 12:00:00 AM</td>\n",
              "      <td>21:00</td>\n",
              "      <td>MOTOR VEHICLE THEFT</td>\n",
              "      <td>6</td>\n",
              "      <td>08/29/2017 08:28:00 AM</td>\n",
              "      <td>Berkeley, CA\\n(37.869058, -122.270455)</td>\n",
              "      <td>NaN</td>\n",
              "      <td>Berkeley</td>\n",
              "      <td>CA</td>\n",
              "    </tr>\n",
              "    <tr>\n",
              "      <th>724</th>\n",
              "      <td>17036936</td>\n",
              "      <td>DISTURBANCE</td>\n",
              "      <td>06/26/2017 12:00:00 AM</td>\n",
              "      <td>18:24</td>\n",
              "      <td>DISORDERLY CONDUCT</td>\n",
              "      <td>1</td>\n",
              "      <td>08/29/2017 08:28:03 AM</td>\n",
              "      <td>Berkeley, CA\\n(37.869058, -122.270455)</td>\n",
              "      <td>NaN</td>\n",
              "      <td>Berkeley</td>\n",
              "      <td>CA</td>\n",
              "    </tr>\n",
              "    <tr>\n",
              "      <th>1164</th>\n",
              "      <td>17034863</td>\n",
              "      <td>DISTURBANCE</td>\n",
              "      <td>06/01/2017 12:00:00 AM</td>\n",
              "      <td>00:00</td>\n",
              "      <td>DISORDERLY CONDUCT</td>\n",
              "      <td>4</td>\n",
              "      <td>08/29/2017 08:28:02 AM</td>\n",
              "      <td>Berkeley, CA\\n(37.869058, -122.270455)</td>\n",
              "      <td>NaN</td>\n",
              "      <td>Berkeley</td>\n",
              "      <td>CA</td>\n",
              "    </tr>\n",
              "    <tr>\n",
              "      <th>1435</th>\n",
              "      <td>17037072</td>\n",
              "      <td>BURGLARY AUTO</td>\n",
              "      <td>06/20/2017 12:00:00 AM</td>\n",
              "      <td>08:00</td>\n",
              "      <td>BURGLARY - VEHICLE</td>\n",
              "      <td>2</td>\n",
              "      <td>08/29/2017 08:28:03 AM</td>\n",
              "      <td>Berkeley, CA\\n(37.869058, -122.270455)</td>\n",
              "      <td>NaN</td>\n",
              "      <td>Berkeley</td>\n",
              "      <td>CA</td>\n",
              "    </tr>\n",
              "    <tr>\n",
              "      <th>1476</th>\n",
              "      <td>17020088</td>\n",
              "      <td>ASSAULT/BATTERY MISD.</td>\n",
              "      <td>04/11/2017 12:00:00 AM</td>\n",
              "      <td>09:25</td>\n",
              "      <td>ASSAULT</td>\n",
              "      <td>2</td>\n",
              "      <td>08/29/2017 08:27:59 AM</td>\n",
              "      <td>Berkeley, CA\\n(37.869058, -122.270455)</td>\n",
              "      <td>NaN</td>\n",
              "      <td>Berkeley</td>\n",
              "      <td>CA</td>\n",
              "    </tr>\n",
              "    <tr>\n",
              "      <th>1584</th>\n",
              "      <td>17028899</td>\n",
              "      <td>ALCOHOL OFFENSE</td>\n",
              "      <td>05/21/2017 12:00:00 AM</td>\n",
              "      <td>22:00</td>\n",
              "      <td>LIQUOR LAW VIOLATION</td>\n",
              "      <td>0</td>\n",
              "      <td>08/29/2017 08:28:00 AM</td>\n",
              "      <td>Berkeley, CA\\n(37.869058, -122.270455)</td>\n",
              "      <td>NaN</td>\n",
              "      <td>Berkeley</td>\n",
              "      <td>CA</td>\n",
              "    </tr>\n",
              "    <tr>\n",
              "      <th>2197</th>\n",
              "      <td>17091147</td>\n",
              "      <td>BURGLARY AUTO</td>\n",
              "      <td>06/14/2017 12:00:00 AM</td>\n",
              "      <td>03:00</td>\n",
              "      <td>BURGLARY - VEHICLE</td>\n",
              "      <td>3</td>\n",
              "      <td>08/29/2017 08:28:02 AM</td>\n",
              "      <td>Berkeley, CA\\n(37.869058, -122.270455)</td>\n",
              "      <td>NaN</td>\n",
              "      <td>Berkeley</td>\n",
              "      <td>CA</td>\n",
              "    </tr>\n",
              "    <tr>\n",
              "      <th>2284</th>\n",
              "      <td>17030164</td>\n",
              "      <td>VEHICLE STOLEN</td>\n",
              "      <td>05/26/2017 12:00:00 AM</td>\n",
              "      <td>20:00</td>\n",
              "      <td>MOTOR VEHICLE THEFT</td>\n",
              "      <td>5</td>\n",
              "      <td>08/29/2017 08:28:00 AM</td>\n",
              "      <td>Berkeley, CA\\n(37.869058, -122.270455)</td>\n",
              "      <td>NaN</td>\n",
              "      <td>Berkeley</td>\n",
              "      <td>CA</td>\n",
              "    </tr>\n",
              "    <tr>\n",
              "      <th>2547</th>\n",
              "      <td>17016871</td>\n",
              "      <td>THEFT MISD. (UNDER $950)</td>\n",
              "      <td>03/26/2017 12:00:00 AM</td>\n",
              "      <td>13:15</td>\n",
              "      <td>LARCENY</td>\n",
              "      <td>0</td>\n",
              "      <td>08/29/2017 08:27:59 AM</td>\n",
              "      <td>Berkeley, CA\\n(37.869058, -122.270455)</td>\n",
              "      <td>NaN</td>\n",
              "      <td>Berkeley</td>\n",
              "      <td>CA</td>\n",
              "    </tr>\n",
              "    <tr>\n",
              "      <th>2742</th>\n",
              "      <td>17026051</td>\n",
              "      <td>THEFT FROM AUTO</td>\n",
              "      <td>05/07/2017 12:00:00 AM</td>\n",
              "      <td>16:00</td>\n",
              "      <td>LARCENY - FROM VEHICLE</td>\n",
              "      <td>0</td>\n",
              "      <td>08/29/2017 08:28:00 AM</td>\n",
              "      <td>Berkeley, CA\\n(37.869058, -122.270455)</td>\n",
              "      <td>NaN</td>\n",
              "      <td>Berkeley</td>\n",
              "      <td>CA</td>\n",
              "    </tr>\n",
              "    <tr>\n",
              "      <th>2995</th>\n",
              "      <td>17090713</td>\n",
              "      <td>THEFT FELONY (OVER $950)</td>\n",
              "      <td>04/09/2017 12:00:00 AM</td>\n",
              "      <td>04:15</td>\n",
              "      <td>LARCENY</td>\n",
              "      <td>0</td>\n",
              "      <td>08/29/2017 08:27:59 AM</td>\n",
              "      <td>Berkeley, CA\\n(37.869058, -122.270455)</td>\n",
              "      <td>NaN</td>\n",
              "      <td>Berkeley</td>\n",
              "      <td>CA</td>\n",
              "    </tr>\n",
              "    <tr>\n",
              "      <th>3020</th>\n",
              "      <td>17020446</td>\n",
              "      <td>VEHICLE STOLEN</td>\n",
              "      <td>04/12/2017 12:00:00 AM</td>\n",
              "      <td>18:00</td>\n",
              "      <td>MOTOR VEHICLE THEFT</td>\n",
              "      <td>3</td>\n",
              "      <td>08/29/2017 08:27:59 AM</td>\n",
              "      <td>Berkeley, CA\\n(37.869058, -122.270455)</td>\n",
              "      <td>NaN</td>\n",
              "      <td>Berkeley</td>\n",
              "      <td>CA</td>\n",
              "    </tr>\n",
              "    <tr>\n",
              "      <th>3515</th>\n",
              "      <td>17091379</td>\n",
              "      <td>BURGLARY AUTO</td>\n",
              "      <td>07/14/2017 12:00:00 AM</td>\n",
              "      <td>12:00</td>\n",
              "      <td>BURGLARY - VEHICLE</td>\n",
              "      <td>5</td>\n",
              "      <td>08/29/2017 08:28:05 AM</td>\n",
              "      <td>Berkeley, CA\\n(37.869058, -122.270455)</td>\n",
              "      <td>NaN</td>\n",
              "      <td>Berkeley</td>\n",
              "      <td>CA</td>\n",
              "    </tr>\n",
              "    <tr>\n",
              "      <th>3630</th>\n",
              "      <td>17025351</td>\n",
              "      <td>THEFT FROM AUTO</td>\n",
              "      <td>05/04/2017 12:00:00 AM</td>\n",
              "      <td>22:30</td>\n",
              "      <td>LARCENY - FROM VEHICLE</td>\n",
              "      <td>4</td>\n",
              "      <td>08/29/2017 08:28:00 AM</td>\n",
              "      <td>Berkeley, CA\\n(37.869058, -122.270455)</td>\n",
              "      <td>NaN</td>\n",
              "      <td>Berkeley</td>\n",
              "      <td>CA</td>\n",
              "    </tr>\n",
              "    <tr>\n",
              "      <th>3662</th>\n",
              "      <td>17090810</td>\n",
              "      <td>BURGLARY AUTO</td>\n",
              "      <td>04/23/2017 12:00:00 AM</td>\n",
              "      <td>00:00</td>\n",
              "      <td>BURGLARY - VEHICLE</td>\n",
              "      <td>0</td>\n",
              "      <td>08/29/2017 08:28:00 AM</td>\n",
              "      <td>Berkeley, CA\\n(37.869058, -122.270455)</td>\n",
              "      <td>NaN</td>\n",
              "      <td>Berkeley</td>\n",
              "      <td>CA</td>\n",
              "    </tr>\n",
              "    <tr>\n",
              "      <th>3679</th>\n",
              "      <td>17024641</td>\n",
              "      <td>BURGLARY AUTO</td>\n",
              "      <td>05/01/2017 12:00:00 AM</td>\n",
              "      <td>21:00</td>\n",
              "      <td>BURGLARY - VEHICLE</td>\n",
              "      <td>1</td>\n",
              "      <td>08/29/2017 08:28:00 AM</td>\n",
              "      <td>Berkeley, CA\\n(37.869058, -122.270455)</td>\n",
              "      <td>NaN</td>\n",
              "      <td>Berkeley</td>\n",
              "      <td>CA</td>\n",
              "    </tr>\n",
              "    <tr>\n",
              "      <th>3698</th>\n",
              "      <td>17029419</td>\n",
              "      <td>BURGLARY RESIDENTIAL</td>\n",
              "      <td>05/23/2017 12:00:00 AM</td>\n",
              "      <td>16:30</td>\n",
              "      <td>BURGLARY - RESIDENTIAL</td>\n",
              "      <td>2</td>\n",
              "      <td>08/29/2017 08:28:00 AM</td>\n",
              "      <td>Berkeley, CA\\n(37.869058, -122.270455)</td>\n",
              "      <td>NaN</td>\n",
              "      <td>Berkeley</td>\n",
              "      <td>CA</td>\n",
              "    </tr>\n",
              "    <tr>\n",
              "      <th>4144</th>\n",
              "      <td>17014074</td>\n",
              "      <td>FRAUD/FORGERY</td>\n",
              "      <td>03/13/2017 12:00:00 AM</td>\n",
              "      <td>15:26</td>\n",
              "      <td>FRAUD</td>\n",
              "      <td>1</td>\n",
              "      <td>08/29/2017 08:27:58 AM</td>\n",
              "      <td>Berkeley, CA\\n(37.869058, -122.270455)</td>\n",
              "      <td>NaN</td>\n",
              "      <td>Berkeley</td>\n",
              "      <td>CA</td>\n",
              "    </tr>\n",
              "    <tr>\n",
              "      <th>4381</th>\n",
              "      <td>17033574</td>\n",
              "      <td>NARCOTICS</td>\n",
              "      <td>06/11/2017 12:00:00 AM</td>\n",
              "      <td>16:53</td>\n",
              "      <td>DRUG VIOLATION</td>\n",
              "      <td>0</td>\n",
              "      <td>08/29/2017 08:28:01 AM</td>\n",
              "      <td>Berkeley, CA\\n(37.869058, -122.270455)</td>\n",
              "      <td>NaN</td>\n",
              "      <td>Berkeley</td>\n",
              "      <td>CA</td>\n",
              "    </tr>\n",
              "    <tr>\n",
              "      <th>4392</th>\n",
              "      <td>17046547</td>\n",
              "      <td>VEHICLE STOLEN</td>\n",
              "      <td>08/08/2017 12:00:00 AM</td>\n",
              "      <td>17:00</td>\n",
              "      <td>MOTOR VEHICLE THEFT</td>\n",
              "      <td>2</td>\n",
              "      <td>08/29/2017 08:28:05 AM</td>\n",
              "      <td>Berkeley, CA\\n(37.869058, -122.270455)</td>\n",
              "      <td>NaN</td>\n",
              "      <td>Berkeley</td>\n",
              "      <td>CA</td>\n",
              "    </tr>\n",
              "    <tr>\n",
              "      <th>4634</th>\n",
              "      <td>17026854</td>\n",
              "      <td>BURGLARY RESIDENTIAL</td>\n",
              "      <td>05/12/2017 12:00:00 AM</td>\n",
              "      <td>09:00</td>\n",
              "      <td>BURGLARY - RESIDENTIAL</td>\n",
              "      <td>5</td>\n",
              "      <td>08/29/2017 08:28:00 AM</td>\n",
              "      <td>Berkeley, CA\\n(37.869058, -122.270455)</td>\n",
              "      <td>NaN</td>\n",
              "      <td>Berkeley</td>\n",
              "      <td>CA</td>\n",
              "    </tr>\n",
              "    <tr>\n",
              "      <th>4737</th>\n",
              "      <td>17030776</td>\n",
              "      <td>BURGLARY RESIDENTIAL</td>\n",
              "      <td>05/30/2017 12:00:00 AM</td>\n",
              "      <td>10:45</td>\n",
              "      <td>BURGLARY - RESIDENTIAL</td>\n",
              "      <td>2</td>\n",
              "      <td>08/29/2017 08:28:01 AM</td>\n",
              "      <td>Berkeley, CA\\n(37.869058, -122.270455)</td>\n",
              "      <td>NaN</td>\n",
              "      <td>Berkeley</td>\n",
              "      <td>CA</td>\n",
              "    </tr>\n",
              "    <tr>\n",
              "      <th>4945</th>\n",
              "      <td>17091287</td>\n",
              "      <td>VANDALISM</td>\n",
              "      <td>07/01/2017 12:00:00 AM</td>\n",
              "      <td>08:00</td>\n",
              "      <td>VANDALISM</td>\n",
              "      <td>6</td>\n",
              "      <td>08/29/2017 08:28:03 AM</td>\n",
              "      <td>Berkeley, CA\\n(37.869058, -122.270455)</td>\n",
              "      <td>NaN</td>\n",
              "      <td>Berkeley</td>\n",
              "      <td>CA</td>\n",
              "    </tr>\n",
              "    <tr>\n",
              "      <th>4947</th>\n",
              "      <td>17038382</td>\n",
              "      <td>BURGLARY RESIDENTIAL</td>\n",
              "      <td>06/30/2017 12:00:00 AM</td>\n",
              "      <td>15:00</td>\n",
              "      <td>BURGLARY - RESIDENTIAL</td>\n",
              "      <td>5</td>\n",
              "      <td>08/29/2017 08:28:03 AM</td>\n",
              "      <td>Berkeley, CA\\n(37.869058, -122.270455)</td>\n",
              "      <td>NaN</td>\n",
              "      <td>Berkeley</td>\n",
              "      <td>CA</td>\n",
              "    </tr>\n",
              "    <tr>\n",
              "      <th>5167</th>\n",
              "      <td>17091632</td>\n",
              "      <td>VANDALISM</td>\n",
              "      <td>08/15/2017 12:00:00 AM</td>\n",
              "      <td>23:30</td>\n",
              "      <td>VANDALISM</td>\n",
              "      <td>2</td>\n",
              "      <td>08/29/2017 08:28:05 AM</td>\n",
              "      <td>Berkeley, CA\\n(37.869058, -122.270455)</td>\n",
              "      <td>NaN</td>\n",
              "      <td>Berkeley</td>\n",
              "      <td>CA</td>\n",
              "    </tr>\n",
              "  </tbody>\n",
              "</table>\n",
              "</div>"
            ],
            "text/plain": [
              "        CASENO                   OFFENSE  ...      City State\n",
              "116   17014831             BURGLARY AUTO  ...  Berkeley    CA\n",
              "478   17042511             BURGLARY AUTO  ...  Berkeley    CA\n",
              "486   17022572            VEHICLE STOLEN  ...  Berkeley    CA\n",
              "724   17036936               DISTURBANCE  ...  Berkeley    CA\n",
              "1164  17034863               DISTURBANCE  ...  Berkeley    CA\n",
              "1435  17037072             BURGLARY AUTO  ...  Berkeley    CA\n",
              "1476  17020088     ASSAULT/BATTERY MISD.  ...  Berkeley    CA\n",
              "1584  17028899           ALCOHOL OFFENSE  ...  Berkeley    CA\n",
              "2197  17091147             BURGLARY AUTO  ...  Berkeley    CA\n",
              "2284  17030164            VEHICLE STOLEN  ...  Berkeley    CA\n",
              "2547  17016871  THEFT MISD. (UNDER $950)  ...  Berkeley    CA\n",
              "2742  17026051           THEFT FROM AUTO  ...  Berkeley    CA\n",
              "2995  17090713  THEFT FELONY (OVER $950)  ...  Berkeley    CA\n",
              "3020  17020446            VEHICLE STOLEN  ...  Berkeley    CA\n",
              "3515  17091379             BURGLARY AUTO  ...  Berkeley    CA\n",
              "3630  17025351           THEFT FROM AUTO  ...  Berkeley    CA\n",
              "3662  17090810             BURGLARY AUTO  ...  Berkeley    CA\n",
              "3679  17024641             BURGLARY AUTO  ...  Berkeley    CA\n",
              "3698  17029419      BURGLARY RESIDENTIAL  ...  Berkeley    CA\n",
              "4144  17014074             FRAUD/FORGERY  ...  Berkeley    CA\n",
              "4381  17033574                 NARCOTICS  ...  Berkeley    CA\n",
              "4392  17046547            VEHICLE STOLEN  ...  Berkeley    CA\n",
              "4634  17026854      BURGLARY RESIDENTIAL  ...  Berkeley    CA\n",
              "4737  17030776      BURGLARY RESIDENTIAL  ...  Berkeley    CA\n",
              "4945  17091287                 VANDALISM  ...  Berkeley    CA\n",
              "4947  17038382      BURGLARY RESIDENTIAL  ...  Berkeley    CA\n",
              "5167  17091632                 VANDALISM  ...  Berkeley    CA\n",
              "\n",
              "[27 rows x 11 columns]"
            ]
          },
          "metadata": {
            "tags": []
          },
          "execution_count": 3
        }
      ]
    },
    {
      "cell_type": "code",
      "metadata": {
        "id": "zHb1R4CWcBbW",
        "colab_type": "code",
        "colab": {
          "base_uri": "https://localhost:8080/",
          "height": 419
        },
        "outputId": "9a7383d1-1327-42b1-c6ca-0649e885561e"
      },
      "source": [
        "def combine_event_datetimes(calls):\n",
        "    combined = pd.to_datetime(\n",
        "        # Combine date and time strings\n",
        "        calls['EVENTDT'].str[:10] + ' ' + calls['EVENTTM'],\n",
        "        infer_datetime_format=True,)\n",
        "    return calls.assign(EVENTDTTM=combined)\n",
        "\n",
        "# To peek at the result without mutating the calls DF:\n",
        "calls.pipe(combine_event_datetimes)[['EVENTDT', 'EVENTTM', 'EVENTDTTM']]"
      ],
      "execution_count": 4,
      "outputs": [
        {
          "output_type": "execute_result",
          "data": {
            "text/html": [
              "<div>\n",
              "<style scoped>\n",
              "    .dataframe tbody tr th:only-of-type {\n",
              "        vertical-align: middle;\n",
              "    }\n",
              "\n",
              "    .dataframe tbody tr th {\n",
              "        vertical-align: top;\n",
              "    }\n",
              "\n",
              "    .dataframe thead th {\n",
              "        text-align: right;\n",
              "    }\n",
              "</style>\n",
              "<table border=\"1\" class=\"dataframe\">\n",
              "  <thead>\n",
              "    <tr style=\"text-align: right;\">\n",
              "      <th></th>\n",
              "      <th>EVENTDT</th>\n",
              "      <th>EVENTTM</th>\n",
              "      <th>EVENTDTTM</th>\n",
              "    </tr>\n",
              "  </thead>\n",
              "  <tbody>\n",
              "    <tr>\n",
              "      <th>0</th>\n",
              "      <td>07/23/2017 12:00:00 AM</td>\n",
              "      <td>06:00</td>\n",
              "      <td>2017-07-23 06:00:00</td>\n",
              "    </tr>\n",
              "    <tr>\n",
              "      <th>1</th>\n",
              "      <td>04/13/2017 12:00:00 AM</td>\n",
              "      <td>08:45</td>\n",
              "      <td>2017-04-13 08:45:00</td>\n",
              "    </tr>\n",
              "    <tr>\n",
              "      <th>2</th>\n",
              "      <td>08/24/2017 12:00:00 AM</td>\n",
              "      <td>18:30</td>\n",
              "      <td>2017-08-24 18:30:00</td>\n",
              "    </tr>\n",
              "    <tr>\n",
              "      <th>3</th>\n",
              "      <td>04/06/2017 12:00:00 AM</td>\n",
              "      <td>17:30</td>\n",
              "      <td>2017-04-06 17:30:00</td>\n",
              "    </tr>\n",
              "    <tr>\n",
              "      <th>4</th>\n",
              "      <td>08/01/2017 12:00:00 AM</td>\n",
              "      <td>18:00</td>\n",
              "      <td>2017-08-01 18:00:00</td>\n",
              "    </tr>\n",
              "    <tr>\n",
              "      <th>...</th>\n",
              "      <td>...</td>\n",
              "      <td>...</td>\n",
              "      <td>...</td>\n",
              "    </tr>\n",
              "    <tr>\n",
              "      <th>5503</th>\n",
              "      <td>07/31/2017 12:00:00 AM</td>\n",
              "      <td>01:00</td>\n",
              "      <td>2017-07-31 01:00:00</td>\n",
              "    </tr>\n",
              "    <tr>\n",
              "      <th>5504</th>\n",
              "      <td>08/27/2017 12:00:00 AM</td>\n",
              "      <td>02:00</td>\n",
              "      <td>2017-08-27 02:00:00</td>\n",
              "    </tr>\n",
              "    <tr>\n",
              "      <th>5505</th>\n",
              "      <td>04/01/2017 12:00:00 AM</td>\n",
              "      <td>12:22</td>\n",
              "      <td>2017-04-01 12:22:00</td>\n",
              "    </tr>\n",
              "    <tr>\n",
              "      <th>5506</th>\n",
              "      <td>04/01/2017 12:00:00 AM</td>\n",
              "      <td>12:00</td>\n",
              "      <td>2017-04-01 12:00:00</td>\n",
              "    </tr>\n",
              "    <tr>\n",
              "      <th>5507</th>\n",
              "      <td>08/22/2017 12:00:00 AM</td>\n",
              "      <td>20:02</td>\n",
              "      <td>2017-08-22 20:02:00</td>\n",
              "    </tr>\n",
              "  </tbody>\n",
              "</table>\n",
              "<p>5508 rows × 3 columns</p>\n",
              "</div>"
            ],
            "text/plain": [
              "                     EVENTDT EVENTTM           EVENTDTTM\n",
              "0     07/23/2017 12:00:00 AM   06:00 2017-07-23 06:00:00\n",
              "1     04/13/2017 12:00:00 AM   08:45 2017-04-13 08:45:00\n",
              "2     08/24/2017 12:00:00 AM   18:30 2017-08-24 18:30:00\n",
              "3     04/06/2017 12:00:00 AM   17:30 2017-04-06 17:30:00\n",
              "4     08/01/2017 12:00:00 AM   18:00 2017-08-01 18:00:00\n",
              "...                      ...     ...                 ...\n",
              "5503  07/31/2017 12:00:00 AM   01:00 2017-07-31 01:00:00\n",
              "5504  08/27/2017 12:00:00 AM   02:00 2017-08-27 02:00:00\n",
              "5505  04/01/2017 12:00:00 AM   12:22 2017-04-01 12:22:00\n",
              "5506  04/01/2017 12:00:00 AM   12:00 2017-04-01 12:00:00\n",
              "5507  08/22/2017 12:00:00 AM   20:02 2017-08-22 20:02:00\n",
              "\n",
              "[5508 rows x 3 columns]"
            ]
          },
          "metadata": {
            "tags": []
          },
          "execution_count": 4
        }
      ]
    },
    {
      "cell_type": "code",
      "metadata": {
        "id": "Y6qiZSe-iZo5",
        "colab_type": "code",
        "colab": {
          "base_uri": "https://localhost:8080/",
          "height": 209
        },
        "outputId": "223d3a7a-9562-4031-ac24-ab7415e57177"
      },
      "source": [
        "calls['OFFENSE'].unique()"
      ],
      "execution_count": 5,
      "outputs": [
        {
          "output_type": "execute_result",
          "data": {
            "text/plain": [
              "array(['BURGLARY AUTO', 'THEFT FROM PERSON', 'GUN/WEAPON',\n",
              "       'VEHICLE STOLEN', 'BURGLARY RESIDENTIAL', 'VANDALISM',\n",
              "       'DISTURBANCE', 'THEFT MISD. (UNDER $950)', 'THEFT FROM AUTO',\n",
              "       'DOMESTIC VIOLENCE', 'THEFT FELONY (OVER $950)', 'ALCOHOL OFFENSE',\n",
              "       'MISSING JUVENILE', 'ROBBERY', 'IDENTITY THEFT',\n",
              "       'ASSAULT/BATTERY MISD.', '2ND RESPONSE', 'BRANDISHING',\n",
              "       'MISSING ADULT', 'NARCOTICS', 'FRAUD/FORGERY',\n",
              "       'ASSAULT/BATTERY FEL.', 'BURGLARY COMMERCIAL', 'MUNICIPAL CODE',\n",
              "       'ARSON', 'SEXUAL ASSAULT FEL.', 'VEHICLE RECOVERED',\n",
              "       'SEXUAL ASSAULT MISD.', 'KIDNAPPING', 'VICE', 'HOMICIDE'],\n",
              "      dtype=object)"
            ]
          },
          "metadata": {
            "tags": []
          },
          "execution_count": 5
        }
      ]
    },
    {
      "cell_type": "code",
      "metadata": {
        "id": "2sn4zKaPiZrq",
        "colab_type": "code",
        "colab": {
          "base_uri": "https://localhost:8080/",
          "height": 157
        },
        "outputId": "cde8926a-f606-425b-a062-91572dabdbc9"
      },
      "source": [
        "calls['CVLEGEND'].unique()"
      ],
      "execution_count": 6,
      "outputs": [
        {
          "output_type": "execute_result",
          "data": {
            "text/plain": [
              "array(['BURGLARY - VEHICLE', 'LARCENY', 'WEAPONS OFFENSE',\n",
              "       'MOTOR VEHICLE THEFT', 'BURGLARY - RESIDENTIAL', 'VANDALISM',\n",
              "       'DISORDERLY CONDUCT', 'LARCENY - FROM VEHICLE', 'FAMILY OFFENSE',\n",
              "       'LIQUOR LAW VIOLATION', 'MISSING PERSON', 'ROBBERY', 'FRAUD',\n",
              "       'ASSAULT', 'NOISE VIOLATION', 'DRUG VIOLATION',\n",
              "       'BURGLARY - COMMERCIAL', 'ALL OTHER OFFENSES', 'ARSON',\n",
              "       'SEX CRIME', 'RECOVERED VEHICLE', 'KIDNAPPING', 'HOMICIDE'],\n",
              "      dtype=object)"
            ]
          },
          "metadata": {
            "tags": []
          },
          "execution_count": 6
        }
      ]
    },
    {
      "cell_type": "code",
      "metadata": {
        "id": "FNaLrp8ziZuJ",
        "colab_type": "code",
        "colab": {
          "base_uri": "https://localhost:8080/",
          "height": 69
        },
        "outputId": "38872884-700e-4c7d-9340-c4f29c0a63a0"
      },
      "source": [
        "calls['BLKADDR'][[0, 5001]]"
      ],
      "execution_count": 7,
      "outputs": [
        {
          "output_type": "execute_result",
          "data": {
            "text/plain": [
              "0            2500 LE CONTE AVE\n",
              "5001    ALLSTON WAY & FIFTH ST\n",
              "Name: BLKADDR, dtype: object"
            ]
          },
          "metadata": {
            "tags": []
          },
          "execution_count": 7
        }
      ]
    },
    {
      "cell_type": "code",
      "metadata": {
        "id": "EJ8pAQJwiZwp",
        "colab_type": "code",
        "colab": {
          "base_uri": "https://localhost:8080/",
          "height": 179
        },
        "outputId": "69dc74a8-3cea-4263-d68a-384682415874"
      },
      "source": [
        "def split_lat_lon(calls):\n",
        "    return calls.join(\n",
        "        calls['Block_Location']\n",
        "        # Get coords from string\n",
        "        .str.split('\\n').str[2]\n",
        "        # Remove parens from coords\n",
        "        .str[1:-1]\n",
        "        # Split latitude and longitude\n",
        "        .str.split(', ', expand=True)\n",
        "        .rename(columns={0: 'Latitude', 1: 'Longitude'}))\n",
        "    \n",
        "calls.pipe(split_lat_lon).head(2)"
      ],
      "execution_count": 8,
      "outputs": [
        {
          "output_type": "execute_result",
          "data": {
            "text/html": [
              "<div>\n",
              "<style scoped>\n",
              "    .dataframe tbody tr th:only-of-type {\n",
              "        vertical-align: middle;\n",
              "    }\n",
              "\n",
              "    .dataframe tbody tr th {\n",
              "        vertical-align: top;\n",
              "    }\n",
              "\n",
              "    .dataframe thead th {\n",
              "        text-align: right;\n",
              "    }\n",
              "</style>\n",
              "<table border=\"1\" class=\"dataframe\">\n",
              "  <thead>\n",
              "    <tr style=\"text-align: right;\">\n",
              "      <th></th>\n",
              "      <th>CASENO</th>\n",
              "      <th>OFFENSE</th>\n",
              "      <th>EVENTDT</th>\n",
              "      <th>EVENTTM</th>\n",
              "      <th>CVLEGEND</th>\n",
              "      <th>CVDOW</th>\n",
              "      <th>InDbDate</th>\n",
              "      <th>Block_Location</th>\n",
              "      <th>BLKADDR</th>\n",
              "      <th>City</th>\n",
              "      <th>State</th>\n",
              "      <th>Latitude</th>\n",
              "      <th>Longitude</th>\n",
              "    </tr>\n",
              "  </thead>\n",
              "  <tbody>\n",
              "    <tr>\n",
              "      <th>0</th>\n",
              "      <td>17091420</td>\n",
              "      <td>BURGLARY AUTO</td>\n",
              "      <td>07/23/2017 12:00:00 AM</td>\n",
              "      <td>06:00</td>\n",
              "      <td>BURGLARY - VEHICLE</td>\n",
              "      <td>0</td>\n",
              "      <td>08/29/2017 08:28:05 AM</td>\n",
              "      <td>2500 LE CONTE AVE\\nBerkeley, CA\\n(37.876965, -...</td>\n",
              "      <td>2500 LE CONTE AVE</td>\n",
              "      <td>Berkeley</td>\n",
              "      <td>CA</td>\n",
              "      <td>37.876965</td>\n",
              "      <td>-122.260544</td>\n",
              "    </tr>\n",
              "    <tr>\n",
              "      <th>1</th>\n",
              "      <td>17020462</td>\n",
              "      <td>THEFT FROM PERSON</td>\n",
              "      <td>04/13/2017 12:00:00 AM</td>\n",
              "      <td>08:45</td>\n",
              "      <td>LARCENY</td>\n",
              "      <td>4</td>\n",
              "      <td>08/29/2017 08:28:00 AM</td>\n",
              "      <td>2200 SHATTUCK AVE\\nBerkeley, CA\\n(37.869363, -...</td>\n",
              "      <td>2200 SHATTUCK AVE</td>\n",
              "      <td>Berkeley</td>\n",
              "      <td>CA</td>\n",
              "      <td>37.869363</td>\n",
              "      <td>-122.268028</td>\n",
              "    </tr>\n",
              "  </tbody>\n",
              "</table>\n",
              "</div>"
            ],
            "text/plain": [
              "     CASENO            OFFENSE  ...   Latitude    Longitude\n",
              "0  17091420      BURGLARY AUTO  ...  37.876965  -122.260544\n",
              "1  17020462  THEFT FROM PERSON  ...  37.869363  -122.268028\n",
              "\n",
              "[2 rows x 13 columns]"
            ]
          },
          "metadata": {
            "tags": []
          },
          "execution_count": 8
        }
      ]
    },
    {
      "cell_type": "code",
      "metadata": {
        "id": "-psVn9EtiZzQ",
        "colab_type": "code",
        "colab": {
          "base_uri": "https://localhost:8080/",
          "height": 266
        },
        "outputId": "9b3232bb-78ff-4e67-b97f-fad36d6f1b62"
      },
      "source": [
        "day_of_week = pd.read_csv(path + 'ch/05/data/cvdow.csv')\n",
        "day_of_week"
      ],
      "execution_count": 9,
      "outputs": [
        {
          "output_type": "execute_result",
          "data": {
            "text/html": [
              "<div>\n",
              "<style scoped>\n",
              "    .dataframe tbody tr th:only-of-type {\n",
              "        vertical-align: middle;\n",
              "    }\n",
              "\n",
              "    .dataframe tbody tr th {\n",
              "        vertical-align: top;\n",
              "    }\n",
              "\n",
              "    .dataframe thead th {\n",
              "        text-align: right;\n",
              "    }\n",
              "</style>\n",
              "<table border=\"1\" class=\"dataframe\">\n",
              "  <thead>\n",
              "    <tr style=\"text-align: right;\">\n",
              "      <th></th>\n",
              "      <th>CVDOW</th>\n",
              "      <th>Day</th>\n",
              "    </tr>\n",
              "  </thead>\n",
              "  <tbody>\n",
              "    <tr>\n",
              "      <th>0</th>\n",
              "      <td>0</td>\n",
              "      <td>Sunday</td>\n",
              "    </tr>\n",
              "    <tr>\n",
              "      <th>1</th>\n",
              "      <td>1</td>\n",
              "      <td>Monday</td>\n",
              "    </tr>\n",
              "    <tr>\n",
              "      <th>2</th>\n",
              "      <td>2</td>\n",
              "      <td>Tuesday</td>\n",
              "    </tr>\n",
              "    <tr>\n",
              "      <th>3</th>\n",
              "      <td>3</td>\n",
              "      <td>Wednesday</td>\n",
              "    </tr>\n",
              "    <tr>\n",
              "      <th>4</th>\n",
              "      <td>4</td>\n",
              "      <td>Thursday</td>\n",
              "    </tr>\n",
              "    <tr>\n",
              "      <th>5</th>\n",
              "      <td>5</td>\n",
              "      <td>Friday</td>\n",
              "    </tr>\n",
              "    <tr>\n",
              "      <th>6</th>\n",
              "      <td>6</td>\n",
              "      <td>Saturday</td>\n",
              "    </tr>\n",
              "  </tbody>\n",
              "</table>\n",
              "</div>"
            ],
            "text/plain": [
              "   CVDOW        Day\n",
              "0      0     Sunday\n",
              "1      1     Monday\n",
              "2      2    Tuesday\n",
              "3      3  Wednesday\n",
              "4      4   Thursday\n",
              "5      5     Friday\n",
              "6      6   Saturday"
            ]
          },
          "metadata": {
            "tags": []
          },
          "execution_count": 9
        }
      ]
    },
    {
      "cell_type": "code",
      "metadata": {
        "id": "_f0LpB_kcBeP",
        "colab_type": "code",
        "colab": {
          "base_uri": "https://localhost:8080/",
          "height": 162
        },
        "outputId": "945891c7-cada-4a41-f00b-77e3e10241a2"
      },
      "source": [
        "def match_weekday(calls):\n",
        "    return calls.merge(day_of_week, on='CVDOW')\n",
        "calls.pipe(match_weekday).head(2)"
      ],
      "execution_count": 10,
      "outputs": [
        {
          "output_type": "execute_result",
          "data": {
            "text/html": [
              "<div>\n",
              "<style scoped>\n",
              "    .dataframe tbody tr th:only-of-type {\n",
              "        vertical-align: middle;\n",
              "    }\n",
              "\n",
              "    .dataframe tbody tr th {\n",
              "        vertical-align: top;\n",
              "    }\n",
              "\n",
              "    .dataframe thead th {\n",
              "        text-align: right;\n",
              "    }\n",
              "</style>\n",
              "<table border=\"1\" class=\"dataframe\">\n",
              "  <thead>\n",
              "    <tr style=\"text-align: right;\">\n",
              "      <th></th>\n",
              "      <th>CASENO</th>\n",
              "      <th>OFFENSE</th>\n",
              "      <th>EVENTDT</th>\n",
              "      <th>EVENTTM</th>\n",
              "      <th>CVLEGEND</th>\n",
              "      <th>CVDOW</th>\n",
              "      <th>InDbDate</th>\n",
              "      <th>Block_Location</th>\n",
              "      <th>BLKADDR</th>\n",
              "      <th>City</th>\n",
              "      <th>State</th>\n",
              "      <th>Day</th>\n",
              "    </tr>\n",
              "  </thead>\n",
              "  <tbody>\n",
              "    <tr>\n",
              "      <th>0</th>\n",
              "      <td>17091420</td>\n",
              "      <td>BURGLARY AUTO</td>\n",
              "      <td>07/23/2017 12:00:00 AM</td>\n",
              "      <td>06:00</td>\n",
              "      <td>BURGLARY - VEHICLE</td>\n",
              "      <td>0</td>\n",
              "      <td>08/29/2017 08:28:05 AM</td>\n",
              "      <td>2500 LE CONTE AVE\\nBerkeley, CA\\n(37.876965, -...</td>\n",
              "      <td>2500 LE CONTE AVE</td>\n",
              "      <td>Berkeley</td>\n",
              "      <td>CA</td>\n",
              "      <td>Sunday</td>\n",
              "    </tr>\n",
              "    <tr>\n",
              "      <th>1</th>\n",
              "      <td>17038302</td>\n",
              "      <td>BURGLARY AUTO</td>\n",
              "      <td>07/02/2017 12:00:00 AM</td>\n",
              "      <td>22:00</td>\n",
              "      <td>BURGLARY - VEHICLE</td>\n",
              "      <td>0</td>\n",
              "      <td>08/29/2017 08:28:03 AM</td>\n",
              "      <td>BOWDITCH STREET &amp;amp; CHANNING WAY\\nBerkeley, ...</td>\n",
              "      <td>BOWDITCH STREET &amp; CHANNING WAY</td>\n",
              "      <td>Berkeley</td>\n",
              "      <td>CA</td>\n",
              "      <td>Sunday</td>\n",
              "    </tr>\n",
              "  </tbody>\n",
              "</table>\n",
              "</div>"
            ],
            "text/plain": [
              "     CASENO        OFFENSE                 EVENTDT  ...      City State     Day\n",
              "0  17091420  BURGLARY AUTO  07/23/2017 12:00:00 AM  ...  Berkeley    CA  Sunday\n",
              "1  17038302  BURGLARY AUTO  07/02/2017 12:00:00 AM  ...  Berkeley    CA  Sunday\n",
              "\n",
              "[2 rows x 12 columns]"
            ]
          },
          "metadata": {
            "tags": []
          },
          "execution_count": 10
        }
      ]
    },
    {
      "cell_type": "code",
      "metadata": {
        "id": "qQuvSkbCcBhG",
        "colab_type": "code",
        "colab": {
          "base_uri": "https://localhost:8080/",
          "height": 285,
          "referenced_widgets": [
            "1cf84360391746aebe8e236305e5adde",
            "00c828f443694784bf9174a74725f5f8",
            "7d3c9546cabf4c1b82c2c7bf27cbf506",
            "4974432564c0436ea407383c71e8aa3f",
            "0e9c5fc2721a4fd79dbf33c67fb52b5f",
            "b54ac8de3a8a433f8f5b625f5d5c77d3",
            "50b39d571dcb4389bb2a6b452e341a0d",
            "319660b965d140bda369ef6332de2ec2",
            "847d0a50402a4972852f0f6748136a2b"
          ]
        },
        "outputId": "59a484bb-5b08-4524-f62f-d8ecc9cb58ef"
      },
      "source": [
        "def drop_unneeded_cols(calls):\n",
        "    return calls.drop(columns=['CVDOW', 'InDbDate', 'Block_Location',\n",
        "       'City','State', 'EVENTDT', 'EVENTTM'])\n",
        "calls_final = (calls.pipe(combine_event_datetimes).pipe(split_lat_lon)\n",
        "  .pipe(match_weekday).pipe(drop_unneeded_cols)) \n",
        "df_interact(calls_final)    "
      ],
      "execution_count": 11,
      "outputs": [
        {
          "output_type": "display_data",
          "data": {
            "application/vnd.jupyter.widget-view+json": {
              "model_id": "1cf84360391746aebe8e236305e5adde",
              "version_minor": 0,
              "version_major": 2
            },
            "text/plain": [
              "interactive(children=(IntSlider(value=0, description='row', max=5508, step=5), IntSlider(value=0, description=…"
            ]
          },
          "metadata": {
            "tags": []
          }
        },
        {
          "output_type": "stream",
          "text": [
            "(5508 rows, 8 columns) total\n"
          ],
          "name": "stdout"
        }
      ]
    },
    {
      "cell_type": "code",
      "metadata": {
        "id": "FlZaaGN6pAk2",
        "colab_type": "code",
        "colab": {
          "base_uri": "https://localhost:8080/",
          "height": 227
        },
        "outputId": "ca5c30b8-3331-45ff-950f-aa11a0a11039"
      },
      "source": [
        "calls_final['EVENTDTTM'].dt.date.sort_values()"
      ],
      "execution_count": 12,
      "outputs": [
        {
          "output_type": "execute_result",
          "data": {
            "text/plain": [
              "1384    2017-03-02\n",
              "1264    2017-03-02\n",
              "1408    2017-03-02\n",
              "1032    2017-03-02\n",
              "1277    2017-03-02\n",
              "           ...    \n",
              "256     2017-08-27\n",
              "544     2017-08-27\n",
              "3516    2017-08-28\n",
              "3409    2017-08-28\n",
              "3631    2017-08-28\n",
              "Name: EVENTDTTM, Length: 5508, dtype: object"
            ]
          },
          "metadata": {
            "tags": []
          },
          "execution_count": 12
        }
      ]
    },
    {
      "cell_type": "code",
      "metadata": {
        "id": "2TkGwC82sGsE",
        "colab_type": "code",
        "colab": {
          "base_uri": "https://localhost:8080/",
          "height": 34
        },
        "outputId": "3a438826-e33b-466d-c920-9c91894117c0"
      },
      "source": [
        "(calls_final['EVENTDTTM'].dt.date.max() - \n",
        "  calls_final['EVENTDTTM'].dt.date.min())"
      ],
      "execution_count": 13,
      "outputs": [
        {
          "output_type": "execute_result",
          "data": {
            "text/plain": [
              "datetime.timedelta(179)"
            ]
          },
          "metadata": {
            "tags": []
          },
          "execution_count": 13
        }
      ]
    },
    {
      "cell_type": "code",
      "metadata": {
        "id": "YjcgnDAakCjA",
        "colab_type": "code",
        "colab": {
          "base_uri": "https://localhost:8080/",
          "height": 758
        },
        "outputId": "5bc3340e-589c-453c-9bf8-be787f3ef92e"
      },
      "source": [
        "import folium # Use the Folium Javascript Map Library\n",
        "import folium.plugins\n",
        "SF_COORDINATES = (37.87, -122.28)\n",
        "sf_map = folium.Map(location=SF_COORDINATES, zoom_start=13)\n",
        "locs = calls_final[['Latitude', \n",
        "          'Longitude']].dropna().astype('float').as_matrix()\n",
        "heatmap = folium.plugins.HeatMap(locs.tolist(), radius = 10)\n",
        "sf_map.add_child(heatmap)"
      ],
      "execution_count": 14,
      "outputs": [
        {
          "output_type": "stream",
          "text": [
            "/usr/local/lib/python3.6/dist-packages/ipykernel_launcher.py:6: FutureWarning: Method .as_matrix will be removed in a future version. Use .values instead.\n",
            "  \n"
          ],
          "name": "stderr"
        },
        {
          "output_type": "execute_result",
          "data": {
            "text/html": [
              "<div style=\"width:100%;\"><div style=\"position:relative;width:100%;height:0;padding-bottom:60%;\"><iframe src=\"data:text/html;charset=utf-8;base64,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\" style=\"position:absolute;width:100%;height:100%;left:0;top:0;border:none !important;\" allowfullscreen webkitallowfullscreen mozallowfullscreen></iframe></div></div>"
            ],
            "text/plain": [
              "<folium.folium.Map at 0x7f0f4404d358>"
            ]
          },
          "metadata": {
            "tags": []
          },
          "execution_count": 14
        }
      ]
    },
    {
      "cell_type": "code",
      "metadata": {
        "id": "W3zkN7SIskRy",
        "colab_type": "code",
        "colab": {
          "base_uri": "https://localhost:8080/",
          "height": 317
        },
        "outputId": "35bcd639-3eac-4c80-cd21-f5f9ab634f12"
      },
      "source": [
        "import seaborn as sns\n",
        "sns.set()\n",
        "sns.set_context('talk')\n",
        "calls_final['CASENO'].plot.hist(bins=30)"
      ],
      "execution_count": 15,
      "outputs": [
        {
          "output_type": "execute_result",
          "data": {
            "text/plain": [
              "<matplotlib.axes._subplots.AxesSubplot at 0x7f0f341b0668>"
            ]
          },
          "metadata": {
            "tags": []
          },
          "execution_count": 15
        },
        {
          "output_type": "display_data",
          "data": {
            "image/png": "[encoded data removed]",
            "text/plain": [
              "<Figure size 432x288 with 1 Axes>"
            ]
          },
          "metadata": {
            "tags": []
          }
        }
      ]
    }
  ]
}