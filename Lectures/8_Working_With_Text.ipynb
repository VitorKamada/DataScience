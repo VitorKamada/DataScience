{
  "nbformat": 4,
  "nbformat_minor": 0,
  "metadata": {
    "colab": {
      "name": "8_Working_With_Text.ipynb",
      "provenance": [],
      "toc_visible": true
    },
    "kernelspec": {
      "name": "python3",
      "display_name": "Python 3"
    }
  },
  "cells": [
    {
      "cell_type": "markdown",
      "metadata": {
        "id": "zMV0BRXeBFLz",
        "colab_type": "text"
      },
      "source": [
        "# String Methods"
      ]
    },
    {
      "cell_type": "markdown",
      "metadata": {
        "id": "sg6Z_nHFAVYB",
        "colab_type": "text"
      },
      "source": [
        "| Method              | Description                                                                 |\n",
        "| ------------------- | --------------------------------------------------------------------------- |\n",
        "| `str[x:y]`          | Slices `str`, returning indices x (inclusive) to y (not inclusive)          |\n",
        "| `str.lower()`       | Returns a copy of a string with all letters converted to lowercase          |\n",
        "| `str.replace(a, b)` | Replaces all instances of the substring `a` in `str` with the substring `b` |\n",
        "| `str.split(a)`      | Returns substrings of `str` split at a substring `a`                        |\n",
        "| `str.strip()`       | Removes leading and trailing whitespace from `str`                          |"
      ]
    },
    {
      "cell_type": "code",
      "metadata": {
        "id": "ebyMRSb1BHzw",
        "colab_type": "code",
        "colab": {}
      },
      "source": [
        "import pandas as pd\n",
        "state = pd.DataFrame({\n",
        "    'County': [\n",
        "        'De Witt County',\n",
        "        'Lac qui Parle County',\n",
        "        'Lewis and Clark County',\n",
        "        'St John the Baptist Parish',\n",
        "    ],\n",
        "    'State': [\n",
        "        'IL',\n",
        "        'MN',\n",
        "        'MT',\n",
        "        'LA',\n",
        "    ]\n",
        "})\n",
        "population = pd.DataFrame({\n",
        "    'County': [\n",
        "        'DeWitt  ',\n",
        "        'Lac Qui Parle',\n",
        "        'Lewis & Clark',\n",
        "        'St. John the Baptist',\n",
        "    ],\n",
        "    'Population': [\n",
        "        '16,798',\n",
        "        '8,067',\n",
        "        '55,716',\n",
        "        '43,044',\n",
        "    ]\n",
        "})"
      ],
      "execution_count": 0,
      "outputs": []
    },
    {
      "cell_type": "code",
      "metadata": {
        "id": "RzRCxYcoBH7g",
        "colab_type": "code",
        "colab": {
          "base_uri": "https://localhost:8080/",
          "height": 173
        },
        "outputId": "98b70289-9840-471b-cf5d-4c23255b975d"
      },
      "source": [
        "state"
      ],
      "execution_count": 2,
      "outputs": [
        {
          "output_type": "execute_result",
          "data": {
            "text/html": [
              "<div>\n",
              "<style scoped>\n",
              "    .dataframe tbody tr th:only-of-type {\n",
              "        vertical-align: middle;\n",
              "    }\n",
              "\n",
              "    .dataframe tbody tr th {\n",
              "        vertical-align: top;\n",
              "    }\n",
              "\n",
              "    .dataframe thead th {\n",
              "        text-align: right;\n",
              "    }\n",
              "</style>\n",
              "<table border=\"1\" class=\"dataframe\">\n",
              "  <thead>\n",
              "    <tr style=\"text-align: right;\">\n",
              "      <th></th>\n",
              "      <th>County</th>\n",
              "      <th>State</th>\n",
              "    </tr>\n",
              "  </thead>\n",
              "  <tbody>\n",
              "    <tr>\n",
              "      <th>0</th>\n",
              "      <td>De Witt County</td>\n",
              "      <td>IL</td>\n",
              "    </tr>\n",
              "    <tr>\n",
              "      <th>1</th>\n",
              "      <td>Lac qui Parle County</td>\n",
              "      <td>MN</td>\n",
              "    </tr>\n",
              "    <tr>\n",
              "      <th>2</th>\n",
              "      <td>Lewis and Clark County</td>\n",
              "      <td>MT</td>\n",
              "    </tr>\n",
              "    <tr>\n",
              "      <th>3</th>\n",
              "      <td>St John the Baptist Parish</td>\n",
              "      <td>LA</td>\n",
              "    </tr>\n",
              "  </tbody>\n",
              "</table>\n",
              "</div>"
            ],
            "text/plain": [
              "                       County State\n",
              "0              De Witt County    IL\n",
              "1        Lac qui Parle County    MN\n",
              "2      Lewis and Clark County    MT\n",
              "3  St John the Baptist Parish    LA"
            ]
          },
          "metadata": {
            "tags": []
          },
          "execution_count": 2
        }
      ]
    },
    {
      "cell_type": "code",
      "metadata": {
        "id": "g_Jgwh0-BIYR",
        "colab_type": "code",
        "colab": {
          "base_uri": "https://localhost:8080/",
          "height": 173
        },
        "outputId": "413ad60e-818f-463e-f0f1-e577813e8cef"
      },
      "source": [
        "population"
      ],
      "execution_count": 3,
      "outputs": [
        {
          "output_type": "execute_result",
          "data": {
            "text/html": [
              "<div>\n",
              "<style scoped>\n",
              "    .dataframe tbody tr th:only-of-type {\n",
              "        vertical-align: middle;\n",
              "    }\n",
              "\n",
              "    .dataframe tbody tr th {\n",
              "        vertical-align: top;\n",
              "    }\n",
              "\n",
              "    .dataframe thead th {\n",
              "        text-align: right;\n",
              "    }\n",
              "</style>\n",
              "<table border=\"1\" class=\"dataframe\">\n",
              "  <thead>\n",
              "    <tr style=\"text-align: right;\">\n",
              "      <th></th>\n",
              "      <th>County</th>\n",
              "      <th>Population</th>\n",
              "    </tr>\n",
              "  </thead>\n",
              "  <tbody>\n",
              "    <tr>\n",
              "      <th>0</th>\n",
              "      <td>DeWitt</td>\n",
              "      <td>16,798</td>\n",
              "    </tr>\n",
              "    <tr>\n",
              "      <th>1</th>\n",
              "      <td>Lac Qui Parle</td>\n",
              "      <td>8,067</td>\n",
              "    </tr>\n",
              "    <tr>\n",
              "      <th>2</th>\n",
              "      <td>Lewis &amp; Clark</td>\n",
              "      <td>55,716</td>\n",
              "    </tr>\n",
              "    <tr>\n",
              "      <th>3</th>\n",
              "      <td>St. John the Baptist</td>\n",
              "      <td>43,044</td>\n",
              "    </tr>\n",
              "  </tbody>\n",
              "</table>\n",
              "</div>"
            ],
            "text/plain": [
              "                 County Population\n",
              "0              DeWitt       16,798\n",
              "1         Lac Qui Parle      8,067\n",
              "2         Lewis & Clark     55,716\n",
              "3  St. John the Baptist     43,044"
            ]
          },
          "metadata": {
            "tags": []
          },
          "execution_count": 3
        }
      ]
    },
    {
      "cell_type": "code",
      "metadata": {
        "id": "KbsM8VxPBX7B",
        "colab_type": "code",
        "colab": {}
      },
      "source": [
        "state['County'] = (state['County']\n",
        " .str.lower()\n",
        " .str.strip()\n",
        " .str.replace(' parish', '')\n",
        " .str.replace(' county', '')\n",
        " .str.replace('&', 'and')\n",
        " .str.replace('.', '')\n",
        " .str.replace(' ', '')\n",
        ")\n",
        "\n",
        "population['County'] = (population['County']\n",
        " .str.lower()\n",
        " .str.strip()\n",
        " .str.replace(' parish', '')\n",
        " .str.replace(' county', '')\n",
        " .str.replace('&', 'and')\n",
        " .str.replace('.', '')\n",
        " .str.replace(' ', '')\n",
        ")"
      ],
      "execution_count": 0,
      "outputs": []
    },
    {
      "cell_type": "code",
      "metadata": {
        "id": "GQQHH90QBX9z",
        "colab_type": "code",
        "colab": {
          "base_uri": "https://localhost:8080/",
          "height": 173
        },
        "outputId": "3870c78a-4907-4725-a01d-0977384e7768"
      },
      "source": [
        "state"
      ],
      "execution_count": 5,
      "outputs": [
        {
          "output_type": "execute_result",
          "data": {
            "text/html": [
              "<div>\n",
              "<style scoped>\n",
              "    .dataframe tbody tr th:only-of-type {\n",
              "        vertical-align: middle;\n",
              "    }\n",
              "\n",
              "    .dataframe tbody tr th {\n",
              "        vertical-align: top;\n",
              "    }\n",
              "\n",
              "    .dataframe thead th {\n",
              "        text-align: right;\n",
              "    }\n",
              "</style>\n",
              "<table border=\"1\" class=\"dataframe\">\n",
              "  <thead>\n",
              "    <tr style=\"text-align: right;\">\n",
              "      <th></th>\n",
              "      <th>County</th>\n",
              "      <th>State</th>\n",
              "    </tr>\n",
              "  </thead>\n",
              "  <tbody>\n",
              "    <tr>\n",
              "      <th>0</th>\n",
              "      <td>dewitt</td>\n",
              "      <td>IL</td>\n",
              "    </tr>\n",
              "    <tr>\n",
              "      <th>1</th>\n",
              "      <td>lacquiparle</td>\n",
              "      <td>MN</td>\n",
              "    </tr>\n",
              "    <tr>\n",
              "      <th>2</th>\n",
              "      <td>lewisandclark</td>\n",
              "      <td>MT</td>\n",
              "    </tr>\n",
              "    <tr>\n",
              "      <th>3</th>\n",
              "      <td>stjohnthebaptist</td>\n",
              "      <td>LA</td>\n",
              "    </tr>\n",
              "  </tbody>\n",
              "</table>\n",
              "</div>"
            ],
            "text/plain": [
              "             County State\n",
              "0            dewitt    IL\n",
              "1       lacquiparle    MN\n",
              "2     lewisandclark    MT\n",
              "3  stjohnthebaptist    LA"
            ]
          },
          "metadata": {
            "tags": []
          },
          "execution_count": 5
        }
      ]
    },
    {
      "cell_type": "code",
      "metadata": {
        "id": "R4d3n8GKBYAk",
        "colab_type": "code",
        "colab": {
          "base_uri": "https://localhost:8080/",
          "height": 173
        },
        "outputId": "cddd0771-b87c-4ce7-ed14-0406ffb71eb9"
      },
      "source": [
        "population"
      ],
      "execution_count": 6,
      "outputs": [
        {
          "output_type": "execute_result",
          "data": {
            "text/html": [
              "<div>\n",
              "<style scoped>\n",
              "    .dataframe tbody tr th:only-of-type {\n",
              "        vertical-align: middle;\n",
              "    }\n",
              "\n",
              "    .dataframe tbody tr th {\n",
              "        vertical-align: top;\n",
              "    }\n",
              "\n",
              "    .dataframe thead th {\n",
              "        text-align: right;\n",
              "    }\n",
              "</style>\n",
              "<table border=\"1\" class=\"dataframe\">\n",
              "  <thead>\n",
              "    <tr style=\"text-align: right;\">\n",
              "      <th></th>\n",
              "      <th>County</th>\n",
              "      <th>Population</th>\n",
              "    </tr>\n",
              "  </thead>\n",
              "  <tbody>\n",
              "    <tr>\n",
              "      <th>0</th>\n",
              "      <td>dewitt</td>\n",
              "      <td>16,798</td>\n",
              "    </tr>\n",
              "    <tr>\n",
              "      <th>1</th>\n",
              "      <td>lacquiparle</td>\n",
              "      <td>8,067</td>\n",
              "    </tr>\n",
              "    <tr>\n",
              "      <th>2</th>\n",
              "      <td>lewisandclark</td>\n",
              "      <td>55,716</td>\n",
              "    </tr>\n",
              "    <tr>\n",
              "      <th>3</th>\n",
              "      <td>stjohnthebaptist</td>\n",
              "      <td>43,044</td>\n",
              "    </tr>\n",
              "  </tbody>\n",
              "</table>\n",
              "</div>"
            ],
            "text/plain": [
              "             County Population\n",
              "0            dewitt     16,798\n",
              "1       lacquiparle      8,067\n",
              "2     lewisandclark     55,716\n",
              "3  stjohnthebaptist     43,044"
            ]
          },
          "metadata": {
            "tags": []
          },
          "execution_count": 6
        }
      ]
    },
    {
      "cell_type": "code",
      "metadata": {
        "id": "pXkrmI4mBYDU",
        "colab_type": "code",
        "colab": {
          "base_uri": "https://localhost:8080/",
          "height": 173
        },
        "outputId": "bd19c941-e4b5-40f3-f738-ac922a397212"
      },
      "source": [
        "state.merge(population, on='County')"
      ],
      "execution_count": 7,
      "outputs": [
        {
          "output_type": "execute_result",
          "data": {
            "text/html": [
              "<div>\n",
              "<style scoped>\n",
              "    .dataframe tbody tr th:only-of-type {\n",
              "        vertical-align: middle;\n",
              "    }\n",
              "\n",
              "    .dataframe tbody tr th {\n",
              "        vertical-align: top;\n",
              "    }\n",
              "\n",
              "    .dataframe thead th {\n",
              "        text-align: right;\n",
              "    }\n",
              "</style>\n",
              "<table border=\"1\" class=\"dataframe\">\n",
              "  <thead>\n",
              "    <tr style=\"text-align: right;\">\n",
              "      <th></th>\n",
              "      <th>County</th>\n",
              "      <th>State</th>\n",
              "      <th>Population</th>\n",
              "    </tr>\n",
              "  </thead>\n",
              "  <tbody>\n",
              "    <tr>\n",
              "      <th>0</th>\n",
              "      <td>dewitt</td>\n",
              "      <td>IL</td>\n",
              "      <td>16,798</td>\n",
              "    </tr>\n",
              "    <tr>\n",
              "      <th>1</th>\n",
              "      <td>lacquiparle</td>\n",
              "      <td>MN</td>\n",
              "      <td>8,067</td>\n",
              "    </tr>\n",
              "    <tr>\n",
              "      <th>2</th>\n",
              "      <td>lewisandclark</td>\n",
              "      <td>MT</td>\n",
              "      <td>55,716</td>\n",
              "    </tr>\n",
              "    <tr>\n",
              "      <th>3</th>\n",
              "      <td>stjohnthebaptist</td>\n",
              "      <td>LA</td>\n",
              "      <td>43,044</td>\n",
              "    </tr>\n",
              "  </tbody>\n",
              "</table>\n",
              "</div>"
            ],
            "text/plain": [
              "             County State Population\n",
              "0            dewitt    IL     16,798\n",
              "1       lacquiparle    MN      8,067\n",
              "2     lewisandclark    MT     55,716\n",
              "3  stjohnthebaptist    LA     43,044"
            ]
          },
          "metadata": {
            "tags": []
          },
          "execution_count": 7
        }
      ]
    },
    {
      "cell_type": "markdown",
      "metadata": {
        "id": "yvYq-1upBeK6",
        "colab_type": "text"
      },
      "source": [
        "# Regular Expressions"
      ]
    },
    {
      "cell_type": "markdown",
      "metadata": {
        "id": "gW5As6_c_7pJ",
        "colab_type": "text"
      },
      "source": [
        "**Meta Characters**\n",
        "\n",
        "This table includes most of the important *meta characters*, which help us specify certain patterns we want to match in a string.\n",
        "\n",
        "| Char   | Description                         | Example                    | Matches        | Doesn't Match |\n",
        "| ------ | ----------------------------------- | -------------------------- | -------------- | ------------- |\n",
        "| .      | Any character except \\n             | `...`                      | abc            | ab<br>abcd    |\n",
        "| [ ]    | Any character inside brackets       | `[cb.]ar`                  | car<br>.ar     | jar           |\n",
        "| [^ ]   | Any character _not_ inside brackets | `[^b]ar`                   | car<br>par     | bar<br>ar     |\n",
        "| \\*     | ≥ 0 or more of last symbol          | `[pb]*ark`                 | bbark<br>ark   | dark          |\n",
        "| +      | ≥ 1 or more of last symbol          | `[pb]+ark`                 | bbpark<br>bark | dark<br>ark   |\n",
        "| ?      | 0 or 1 of last symbol               | `s?he`                     | she<br>he      | the           |\n",
        "| {_n_}  | Exactly _n_ of last symbol          | `hello{3}`                 | hellooo        | hello         |\n",
        "| &#124; | Pattern before or after bar         | <code>we&#124;[ui]s</code> | we<br>us<br>is | e<br>s        |\n",
        "| \\      | Escapes next character              | `\\[hi\\]`                   | [hi]           | hi            |\n",
        "| ^      | Beginning of line                   | `^ark`                     | ark two        | dark          |\n",
        "| \\$     | End of line                         | `ark$`                     | noahs ark      | noahs arks    |"
      ]
    },
    {
      "cell_type": "markdown",
      "metadata": {
        "id": "ZHpNKwRT_2Cx",
        "colab_type": "text"
      },
      "source": [
        "**Shorthand Character Sets**\n",
        "\n",
        "Some commonly used character sets have shorthands.\n",
        "\n",
        "| Description                   | Bracket Form       | Shorthand |\n",
        "| ----------------------------- | ------------------ | --------- |\n",
        "| Alphanumeric character        | `[a-zA-Z0-9]`      | `\\w`      |\n",
        "| Not an alphanumeric character | `[^a-zA-Z0-9]`     | `\\W`      |\n",
        "| Digit                         | `[0-9]`            | `\\d`      |\n",
        "| Not a digit                   | `[^0-9]`           | `\\D`      |\n",
        "| Whitespace                    | `[\\t\\n\\f\\r\\p{Z}]`  | `\\s`      |\n",
        "| Not whitespace                | `[^\\t\\n\\f\\r\\p{z}]` | `\\S`      |"
      ]
    },
    {
      "cell_type": "code",
      "metadata": {
        "id": "iuCdBxkHwdg-",
        "colab_type": "code",
        "colab": {}
      },
      "source": [
        "import re"
      ],
      "execution_count": 0,
      "outputs": []
    },
    {
      "cell_type": "markdown",
      "metadata": {
        "id": "gmg_0hAT3PZz",
        "colab_type": "text"
      },
      "source": [
        "# re.findall(pattern, string)"
      ]
    },
    {
      "cell_type": "code",
      "metadata": {
        "id": "Z61bt6LNvFS4",
        "colab_type": "code",
        "colab": {
          "base_uri": "https://localhost:8080/",
          "height": 34
        },
        "outputId": "29d7f19a-1fbd-4650-8f4d-6232fc7c634f"
      },
      "source": [
        "import re\n",
        "gmail_re = r'[a-zA-Z0-9]+@gmail\\.com'\n",
        "text = '''\n",
        "From: email1@gmail.com\n",
        "To: email2@yahoo.com and email3@gmail.com\n",
        "'''\n",
        "re.findall(gmail_re, text)"
      ],
      "execution_count": 9,
      "outputs": [
        {
          "output_type": "execute_result",
          "data": {
            "text/plain": [
              "['email1@gmail.com', 'email3@gmail.com']"
            ]
          },
          "metadata": {
            "tags": []
          },
          "execution_count": 9
        }
      ]
    },
    {
      "cell_type": "code",
      "metadata": {
        "id": "a67RpHdpyaav",
        "colab_type": "code",
        "colab": {
          "base_uri": "https://localhost:8080/",
          "height": 34
        },
        "outputId": "b557a1ad-63fa-4931-d7a9-7b966897ce37"
      },
      "source": [
        "phone_re = r\"[0-9]{3}-[0-9]{3}-[0-9]{4}\"\n",
        "text  = \"Sam's number is 382-384-3840 and Mary's is 123-456-7890.\"\n",
        "re.findall(phone_re, text)"
      ],
      "execution_count": 10,
      "outputs": [
        {
          "output_type": "execute_result",
          "data": {
            "text/plain": [
              "['382-384-3840', '123-456-7890']"
            ]
          },
          "metadata": {
            "tags": []
          },
          "execution_count": 10
        }
      ]
    },
    {
      "cell_type": "code",
      "metadata": {
        "id": "RLQw2ZnxvFlO",
        "colab_type": "code",
        "colab": {
          "base_uri": "https://localhost:8080/",
          "height": 34
        },
        "outputId": "a0197421-f397-41ab-d005-28f39711a5c1"
      },
      "source": [
        "# Same regex with parentheses around the digit groups\n",
        "phone_re = r\"([0-9]{3})-([0-9]{3})-([0-9]{4})\"\n",
        "text  = \"Sam's number is 382-384-3840 and Mary's is 123-456-7890.\"\n",
        "list = re.findall(phone_re, text)\n",
        "list"
      ],
      "execution_count": 11,
      "outputs": [
        {
          "output_type": "execute_result",
          "data": {
            "text/plain": [
              "[('382', '384', '3840'), ('123', '456', '7890')]"
            ]
          },
          "metadata": {
            "tags": []
          },
          "execution_count": 11
        }
      ]
    },
    {
      "cell_type": "code",
      "metadata": {
        "id": "U7-2FIR1zRaV",
        "colab_type": "code",
        "colab": {
          "base_uri": "https://localhost:8080/",
          "height": 34
        },
        "outputId": "994fc974-3655-4017-c68c-07738060ae42"
      },
      "source": [
        "list[0][2]"
      ],
      "execution_count": 12,
      "outputs": [
        {
          "output_type": "execute_result",
          "data": {
            "text/plain": [
              "'3840'"
            ]
          },
          "metadata": {
            "tags": []
          },
          "execution_count": 12
        }
      ]
    },
    {
      "cell_type": "markdown",
      "metadata": {
        "id": "2pcxJlhv3dfb",
        "colab_type": "text"
      },
      "source": [
        "# re.sub(pattern, replacement, string)"
      ]
    },
    {
      "cell_type": "code",
      "metadata": {
        "id": "_V4qIA8fzRc-",
        "colab_type": "code",
        "colab": {
          "base_uri": "https://localhost:8080/",
          "height": 34
        },
        "outputId": "c181d370-7cce-4ef5-86fc-bd563047dced"
      },
      "source": [
        "messy_dates = '03/12/2018, 03.13.18, 03/14/2018, 03:15:2018'\n",
        "regex = r'[/.:]'\n",
        "string = re.sub(regex, '-', messy_dates)\n",
        "string"
      ],
      "execution_count": 13,
      "outputs": [
        {
          "output_type": "execute_result",
          "data": {
            "text/plain": [
              "'03-12-2018, 03-13-18, 03-14-2018, 03-15-2018'"
            ]
          },
          "metadata": {
            "tags": []
          },
          "execution_count": 13
        }
      ]
    },
    {
      "cell_type": "code",
      "metadata": {
        "id": "4N0HDE93zRfc",
        "colab_type": "code",
        "colab": {
          "base_uri": "https://localhost:8080/",
          "height": 34
        },
        "outputId": "8d0dcaad-10d1-43d4-9e48-d11fd0b735ed"
      },
      "source": [
        "string[12:20]"
      ],
      "execution_count": 14,
      "outputs": [
        {
          "output_type": "execute_result",
          "data": {
            "text/plain": [
              "'03-13-18'"
            ]
          },
          "metadata": {
            "tags": []
          },
          "execution_count": 14
        }
      ]
    },
    {
      "cell_type": "markdown",
      "metadata": {
        "id": "QFzN3ebG3jJ7",
        "colab_type": "text"
      },
      "source": [
        "# re.split(pattern, string)"
      ]
    },
    {
      "cell_type": "code",
      "metadata": {
        "id": "g-pDEpoDzRiN",
        "colab_type": "code",
        "colab": {
          "base_uri": "https://localhost:8080/",
          "height": 54
        },
        "outputId": "bb271437-155b-45be-e34a-fe8539b2c6f7"
      },
      "source": [
        "toc = '''\n",
        "PLAYING PILGRIMS============3\n",
        "A MERRY CHRISTMAS===========13\n",
        "THE LAURENCE BOY============31\n",
        "BURDENS=====================55\n",
        "BEING NEIGHBORLY============76\n",
        "'''\n",
        "toc "
      ],
      "execution_count": 15,
      "outputs": [
        {
          "output_type": "execute_result",
          "data": {
            "text/plain": [
              "'\\nPLAYING PILGRIMS============3\\nA MERRY CHRISTMAS===========13\\nTHE LAURENCE BOY============31\\nBURDENS=====================55\\nBEING NEIGHBORLY============76\\n'"
            ]
          },
          "metadata": {
            "tags": []
          },
          "execution_count": 15
        }
      ]
    },
    {
      "cell_type": "code",
      "metadata": {
        "id": "xX60eOUx2_z1",
        "colab_type": "code",
        "colab": {
          "base_uri": "https://localhost:8080/",
          "height": 34
        },
        "outputId": "b274592d-d671-4611-ac77-0d4c13a8ca09"
      },
      "source": [
        "toc.strip()"
      ],
      "execution_count": 16,
      "outputs": [
        {
          "output_type": "execute_result",
          "data": {
            "text/plain": [
              "'PLAYING PILGRIMS============3\\nA MERRY CHRISTMAS===========13\\nTHE LAURENCE BOY============31\\nBURDENS=====================55\\nBEING NEIGHBORLY============76'"
            ]
          },
          "metadata": {
            "tags": []
          },
          "execution_count": 16
        }
      ]
    },
    {
      "cell_type": "code",
      "metadata": {
        "id": "GuDtRYqi2_2s",
        "colab_type": "code",
        "colab": {
          "base_uri": "https://localhost:8080/",
          "height": 104
        },
        "outputId": "8fcbc460-bf32-4bce-e853-b1a1839e0d7f"
      },
      "source": [
        "# First, split into individual lines\n",
        "lines = re.split('\\n', toc.strip())\n",
        "lines"
      ],
      "execution_count": 17,
      "outputs": [
        {
          "output_type": "execute_result",
          "data": {
            "text/plain": [
              "['PLAYING PILGRIMS============3',\n",
              " 'A MERRY CHRISTMAS===========13',\n",
              " 'THE LAURENCE BOY============31',\n",
              " 'BURDENS=====================55',\n",
              " 'BEING NEIGHBORLY============76']"
            ]
          },
          "metadata": {
            "tags": []
          },
          "execution_count": 17
        }
      ]
    },
    {
      "cell_type": "code",
      "metadata": {
        "id": "3XjnMdad2_5V",
        "colab_type": "code",
        "colab": {
          "base_uri": "https://localhost:8080/",
          "height": 104
        },
        "outputId": "9e74af87-7f15-4d07-e8dd-b5ab479dfb42"
      },
      "source": [
        "# Then, split into chapter title and page number\n",
        "# Matches any sequence of = characters\n",
        "split_re = r'=+' \n",
        "[re.split(split_re, line) for line in lines]"
      ],
      "execution_count": 18,
      "outputs": [
        {
          "output_type": "execute_result",
          "data": {
            "text/plain": [
              "[['PLAYING PILGRIMS', '3'],\n",
              " ['A MERRY CHRISTMAS', '13'],\n",
              " ['THE LAURENCE BOY', '31'],\n",
              " ['BURDENS', '55'],\n",
              " ['BEING NEIGHBORLY', '76']]"
            ]
          },
          "metadata": {
            "tags": []
          },
          "execution_count": 18
        }
      ]
    },
    {
      "cell_type": "code",
      "metadata": {
        "id": "yOHqbzHN8QfL",
        "colab_type": "code",
        "colab": {
          "base_uri": "https://localhost:8080/",
          "height": 204
        },
        "outputId": "03753ad8-4901-4752-b509-512822a76097"
      },
      "source": [
        "text = '''\n",
        "\"Christmas won't be Christmas without any presents,\" grumbled Jo, lying on the rug.\n",
        "\"It's so dreadful to be poor!\" sighed Meg, looking down at her old dress.\n",
        "\"I don't think it's fair for some girls to have plenty of pretty things, and other girls nothing at all,\" added little Amy, with an injured sniff.\n",
        "\"We've got Father and Mother, and each other,\" said Beth contentedly from her corner.\n",
        "The four young faces on which the firelight shone brightened at the cheerful words, but darkened again as Jo said sadly, \"We haven't got Father, and shall not have him for a long time.\"\n",
        "'''.strip()\n",
        "little = pd.DataFrame({'sentences': text.split('\\n')})\n",
        "little"
      ],
      "execution_count": 19,
      "outputs": [
        {
          "output_type": "execute_result",
          "data": {
            "text/html": [
              "<div>\n",
              "<style scoped>\n",
              "    .dataframe tbody tr th:only-of-type {\n",
              "        vertical-align: middle;\n",
              "    }\n",
              "\n",
              "    .dataframe tbody tr th {\n",
              "        vertical-align: top;\n",
              "    }\n",
              "\n",
              "    .dataframe thead th {\n",
              "        text-align: right;\n",
              "    }\n",
              "</style>\n",
              "<table border=\"1\" class=\"dataframe\">\n",
              "  <thead>\n",
              "    <tr style=\"text-align: right;\">\n",
              "      <th></th>\n",
              "      <th>sentences</th>\n",
              "    </tr>\n",
              "  </thead>\n",
              "  <tbody>\n",
              "    <tr>\n",
              "      <th>0</th>\n",
              "      <td>\"Christmas won't be Christmas without any pres...</td>\n",
              "    </tr>\n",
              "    <tr>\n",
              "      <th>1</th>\n",
              "      <td>\"It's so dreadful to be poor!\" sighed Meg, loo...</td>\n",
              "    </tr>\n",
              "    <tr>\n",
              "      <th>2</th>\n",
              "      <td>\"I don't think it's fair for some girls to hav...</td>\n",
              "    </tr>\n",
              "    <tr>\n",
              "      <th>3</th>\n",
              "      <td>\"We've got Father and Mother, and each other,\"...</td>\n",
              "    </tr>\n",
              "    <tr>\n",
              "      <th>4</th>\n",
              "      <td>The four young faces on which the firelight sh...</td>\n",
              "    </tr>\n",
              "  </tbody>\n",
              "</table>\n",
              "</div>"
            ],
            "text/plain": [
              "                                           sentences\n",
              "0  \"Christmas won't be Christmas without any pres...\n",
              "1  \"It's so dreadful to be poor!\" sighed Meg, loo...\n",
              "2  \"I don't think it's fair for some girls to hav...\n",
              "3  \"We've got Father and Mother, and each other,\"...\n",
              "4  The four young faces on which the firelight sh..."
            ]
          },
          "metadata": {
            "tags": []
          },
          "execution_count": 19
        }
      ]
    },
    {
      "cell_type": "code",
      "metadata": {
        "id": "-atv8nYC8Qvh",
        "colab_type": "code",
        "colab": {
          "base_uri": "https://localhost:8080/",
          "height": 204
        },
        "outputId": "9b466769-f101-4138-cef9-56b6bdba84e7"
      },
      "source": [
        "# Extract text within double quotes\n",
        "quote_re = r'\"([^\"]+)\"'\n",
        "spoken = little['sentences'].str.extract(quote_re)\n",
        "little['dialog'] = spoken\n",
        "little"
      ],
      "execution_count": 20,
      "outputs": [
        {
          "output_type": "execute_result",
          "data": {
            "text/html": [
              "<div>\n",
              "<style scoped>\n",
              "    .dataframe tbody tr th:only-of-type {\n",
              "        vertical-align: middle;\n",
              "    }\n",
              "\n",
              "    .dataframe tbody tr th {\n",
              "        vertical-align: top;\n",
              "    }\n",
              "\n",
              "    .dataframe thead th {\n",
              "        text-align: right;\n",
              "    }\n",
              "</style>\n",
              "<table border=\"1\" class=\"dataframe\">\n",
              "  <thead>\n",
              "    <tr style=\"text-align: right;\">\n",
              "      <th></th>\n",
              "      <th>sentences</th>\n",
              "      <th>dialog</th>\n",
              "    </tr>\n",
              "  </thead>\n",
              "  <tbody>\n",
              "    <tr>\n",
              "      <th>0</th>\n",
              "      <td>\"Christmas won't be Christmas without any pres...</td>\n",
              "      <td>Christmas won't be Christmas without any prese...</td>\n",
              "    </tr>\n",
              "    <tr>\n",
              "      <th>1</th>\n",
              "      <td>\"It's so dreadful to be poor!\" sighed Meg, loo...</td>\n",
              "      <td>It's so dreadful to be poor!</td>\n",
              "    </tr>\n",
              "    <tr>\n",
              "      <th>2</th>\n",
              "      <td>\"I don't think it's fair for some girls to hav...</td>\n",
              "      <td>I don't think it's fair for some girls to have...</td>\n",
              "    </tr>\n",
              "    <tr>\n",
              "      <th>3</th>\n",
              "      <td>\"We've got Father and Mother, and each other,\"...</td>\n",
              "      <td>We've got Father and Mother, and each other,</td>\n",
              "    </tr>\n",
              "    <tr>\n",
              "      <th>4</th>\n",
              "      <td>The four young faces on which the firelight sh...</td>\n",
              "      <td>We haven't got Father, and shall not have him ...</td>\n",
              "    </tr>\n",
              "  </tbody>\n",
              "</table>\n",
              "</div>"
            ],
            "text/plain": [
              "                                           sentences                                             dialog\n",
              "0  \"Christmas won't be Christmas without any pres...  Christmas won't be Christmas without any prese...\n",
              "1  \"It's so dreadful to be poor!\" sighed Meg, loo...                       It's so dreadful to be poor!\n",
              "2  \"I don't think it's fair for some girls to hav...  I don't think it's fair for some girls to have...\n",
              "3  \"We've got Father and Mother, and each other,\"...       We've got Father and Mother, and each other,\n",
              "4  The four young faces on which the firelight sh...  We haven't got Father, and shall not have him ..."
            ]
          },
          "metadata": {
            "tags": []
          },
          "execution_count": 20
        }
      ]
    }
  ]
}