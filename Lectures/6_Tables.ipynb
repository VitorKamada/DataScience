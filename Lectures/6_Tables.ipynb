{
  "nbformat": 4,
  "nbformat_minor": 0,
  "metadata": {
    "colab": {
      "name": "6_Tables.ipynb",
      "provenance": []
    },
    "kernelspec": {
      "name": "python3",
      "display_name": "Python 3"
    }
  },
  "cells": [
    {
      "cell_type": "code",
      "metadata": {
        "id": "_WDg3KyNpXSj",
        "colab_type": "code",
        "colab": {}
      },
      "source": [
        "from datascience import *\n",
        "import numpy as np"
      ],
      "execution_count": 0,
      "outputs": []
    },
    {
      "cell_type": "code",
      "metadata": {
        "id": "IdIg41wkpXvP",
        "colab_type": "code",
        "colab": {
          "base_uri": "https://localhost:8080/",
          "height": 408
        },
        "outputId": "228bebf3-65c1-4b59-e905-c54e6b1e4dc0"
      },
      "source": [
        "# As of Jan 2017, this census file is online here: \n",
        "path_data = 'http://www2.census.gov/programs-surveys/popest/datasets/2010-2015/national/asrh/'\n",
        "data = path_data + 'nc-est2015-agesex-res.csv'\n",
        "full_census_table = Table.read_table(data)\n",
        "full_census_table"
      ],
      "execution_count": 2,
      "outputs": [
        {
          "output_type": "execute_result",
          "data": {
            "text/html": [
              "<table border=\"1\" class=\"dataframe\">\n",
              "    <thead>\n",
              "        <tr>\n",
              "            <th>SEX</th> <th>AGE</th> <th>CENSUS2010POP</th> <th>ESTIMATESBASE2010</th> <th>POPESTIMATE2010</th> <th>POPESTIMATE2011</th> <th>POPESTIMATE2012</th> <th>POPESTIMATE2013</th> <th>POPESTIMATE2014</th> <th>POPESTIMATE2015</th>\n",
              "        </tr>\n",
              "    </thead>\n",
              "    <tbody>\n",
              "        <tr>\n",
              "            <td>0   </td> <td>0   </td> <td>3944153      </td> <td>3944160          </td> <td>3951330        </td> <td>3963087        </td> <td>3926540        </td> <td>3931141        </td> <td>3949775        </td> <td>3978038        </td>\n",
              "        </tr>\n",
              "        <tr>\n",
              "            <td>0   </td> <td>1   </td> <td>3978070      </td> <td>3978090          </td> <td>3957888        </td> <td>3966551        </td> <td>3977939        </td> <td>3942872        </td> <td>3949776        </td> <td>3968564        </td>\n",
              "        </tr>\n",
              "        <tr>\n",
              "            <td>0   </td> <td>2   </td> <td>4096929      </td> <td>4096939          </td> <td>4090862        </td> <td>3971565        </td> <td>3980095        </td> <td>3992720        </td> <td>3959664        </td> <td>3966583        </td>\n",
              "        </tr>\n",
              "        <tr>\n",
              "            <td>0   </td> <td>3   </td> <td>4119040      </td> <td>4119051          </td> <td>4111920        </td> <td>4102470        </td> <td>3983157        </td> <td>3992734        </td> <td>4007079        </td> <td>3974061        </td>\n",
              "        </tr>\n",
              "        <tr>\n",
              "            <td>0   </td> <td>4   </td> <td>4063170      </td> <td>4063186          </td> <td>4077551        </td> <td>4122294        </td> <td>4112849        </td> <td>3994449        </td> <td>4005716        </td> <td>4020035        </td>\n",
              "        </tr>\n",
              "        <tr>\n",
              "            <td>0   </td> <td>5   </td> <td>4056858      </td> <td>4056872          </td> <td>4064653        </td> <td>4087709        </td> <td>4132242        </td> <td>4123626        </td> <td>4006900        </td> <td>4018158        </td>\n",
              "        </tr>\n",
              "        <tr>\n",
              "            <td>0   </td> <td>6   </td> <td>4066381      </td> <td>4066412          </td> <td>4073013        </td> <td>4074993        </td> <td>4097605        </td> <td>4142916        </td> <td>4135930        </td> <td>4019207        </td>\n",
              "        </tr>\n",
              "        <tr>\n",
              "            <td>0   </td> <td>7   </td> <td>4030579      </td> <td>4030594          </td> <td>4043046        </td> <td>4083225        </td> <td>4084913        </td> <td>4108349        </td> <td>4155326        </td> <td>4148360        </td>\n",
              "        </tr>\n",
              "        <tr>\n",
              "            <td>0   </td> <td>8   </td> <td>4046486      </td> <td>4046497          </td> <td>4025604        </td> <td>4053203        </td> <td>4093177        </td> <td>4095711        </td> <td>4120903        </td> <td>4167887        </td>\n",
              "        </tr>\n",
              "        <tr>\n",
              "            <td>0   </td> <td>9   </td> <td>4148353      </td> <td>4148369          </td> <td>4125415        </td> <td>4035710        </td> <td>4063152        </td> <td>4104072        </td> <td>4108349        </td> <td>4133564        </td>\n",
              "        </tr>\n",
              "    </tbody>\n",
              "</table>\n",
              "<p>... (296 rows omitted)</p>"
            ],
            "text/plain": [
              "SEX  | AGE  | CENSUS2010POP | ESTIMATESBASE2010 | POPESTIMATE2010 | POPESTIMATE2011 | POPESTIMATE2012 | POPESTIMATE2013 | POPESTIMATE2014 | POPESTIMATE2015\n",
              "0    | 0    | 3944153       | 3944160           | 3951330         | 3963087         | 3926540         | 3931141         | 3949775         | 3978038\n",
              "0    | 1    | 3978070       | 3978090           | 3957888         | 3966551         | 3977939         | 3942872         | 3949776         | 3968564\n",
              "0    | 2    | 4096929       | 4096939           | 4090862         | 3971565         | 3980095         | 3992720         | 3959664         | 3966583\n",
              "0    | 3    | 4119040       | 4119051           | 4111920         | 4102470         | 3983157         | 3992734         | 4007079         | 3974061\n",
              "0    | 4    | 4063170       | 4063186           | 4077551         | 4122294         | 4112849         | 3994449         | 4005716         | 4020035\n",
              "0    | 5    | 4056858       | 4056872           | 4064653         | 4087709         | 4132242         | 4123626         | 4006900         | 4018158\n",
              "0    | 6    | 4066381       | 4066412           | 4073013         | 4074993         | 4097605         | 4142916         | 4135930         | 4019207\n",
              "0    | 7    | 4030579       | 4030594           | 4043046         | 4083225         | 4084913         | 4108349         | 4155326         | 4148360\n",
              "0    | 8    | 4046486       | 4046497           | 4025604         | 4053203         | 4093177         | 4095711         | 4120903         | 4167887\n",
              "0    | 9    | 4148353       | 4148369           | 4125415         | 4035710         | 4063152         | 4104072         | 4108349         | 4133564\n",
              "... (296 rows omitted)"
            ]
          },
          "metadata": {
            "tags": []
          },
          "execution_count": 2
        }
      ]
    },
    {
      "cell_type": "code",
      "metadata": {
        "id": "4_urpcQQtxcJ",
        "colab_type": "code",
        "colab": {
          "base_uri": "https://localhost:8080/",
          "height": 34
        },
        "outputId": "9bdd0e44-3d57-48e7-cc2e-21f9ce3751a4"
      },
      "source": [
        "full_census_table.num_columns"
      ],
      "execution_count": 3,
      "outputs": [
        {
          "output_type": "execute_result",
          "data": {
            "text/plain": [
              "10"
            ]
          },
          "metadata": {
            "tags": []
          },
          "execution_count": 3
        }
      ]
    },
    {
      "cell_type": "code",
      "metadata": {
        "id": "bzJQJB-xt1sJ",
        "colab_type": "code",
        "colab": {
          "base_uri": "https://localhost:8080/",
          "height": 34
        },
        "outputId": "85d62400-83ef-494d-eb05-9a8ed55131b7"
      },
      "source": [
        "full_census_table.num_rows"
      ],
      "execution_count": 4,
      "outputs": [
        {
          "output_type": "execute_result",
          "data": {
            "text/plain": [
              "306"
            ]
          },
          "metadata": {
            "tags": []
          },
          "execution_count": 4
        }
      ]
    },
    {
      "cell_type": "code",
      "metadata": {
        "id": "dwOyKOLFt-mI",
        "colab_type": "code",
        "colab": {
          "base_uri": "https://localhost:8080/",
          "height": 192
        },
        "outputId": "00b83b70-718e-4417-a7a9-58de3d19a93e"
      },
      "source": [
        "full_census_table.labels"
      ],
      "execution_count": 5,
      "outputs": [
        {
          "output_type": "execute_result",
          "data": {
            "text/plain": [
              "('SEX',\n",
              " 'AGE',\n",
              " 'CENSUS2010POP',\n",
              " 'ESTIMATESBASE2010',\n",
              " 'POPESTIMATE2010',\n",
              " 'POPESTIMATE2011',\n",
              " 'POPESTIMATE2012',\n",
              " 'POPESTIMATE2013',\n",
              " 'POPESTIMATE2014',\n",
              " 'POPESTIMATE2015')"
            ]
          },
          "metadata": {
            "tags": []
          },
          "execution_count": 5
        }
      ]
    },
    {
      "cell_type": "code",
      "metadata": {
        "id": "NrNUEG3KpXx9",
        "colab_type": "code",
        "colab": {
          "base_uri": "https://localhost:8080/",
          "height": 388
        },
        "outputId": "41baf125-f826-4b98-e746-6cbb8b1e7d37"
      },
      "source": [
        "partial_census_table = full_census_table.select('SEX', 'AGE', \n",
        "                        'POPESTIMATE2010', 'POPESTIMATE2014')\n",
        "partial_census_table"
      ],
      "execution_count": 6,
      "outputs": [
        {
          "output_type": "execute_result",
          "data": {
            "text/html": [
              "<table border=\"1\" class=\"dataframe\">\n",
              "    <thead>\n",
              "        <tr>\n",
              "            <th>SEX</th> <th>AGE</th> <th>POPESTIMATE2010</th> <th>POPESTIMATE2014</th>\n",
              "        </tr>\n",
              "    </thead>\n",
              "    <tbody>\n",
              "        <tr>\n",
              "            <td>0   </td> <td>0   </td> <td>3951330        </td> <td>3949775        </td>\n",
              "        </tr>\n",
              "        <tr>\n",
              "            <td>0   </td> <td>1   </td> <td>3957888        </td> <td>3949776        </td>\n",
              "        </tr>\n",
              "        <tr>\n",
              "            <td>0   </td> <td>2   </td> <td>4090862        </td> <td>3959664        </td>\n",
              "        </tr>\n",
              "        <tr>\n",
              "            <td>0   </td> <td>3   </td> <td>4111920        </td> <td>4007079        </td>\n",
              "        </tr>\n",
              "        <tr>\n",
              "            <td>0   </td> <td>4   </td> <td>4077551        </td> <td>4005716        </td>\n",
              "        </tr>\n",
              "        <tr>\n",
              "            <td>0   </td> <td>5   </td> <td>4064653        </td> <td>4006900        </td>\n",
              "        </tr>\n",
              "        <tr>\n",
              "            <td>0   </td> <td>6   </td> <td>4073013        </td> <td>4135930        </td>\n",
              "        </tr>\n",
              "        <tr>\n",
              "            <td>0   </td> <td>7   </td> <td>4043046        </td> <td>4155326        </td>\n",
              "        </tr>\n",
              "        <tr>\n",
              "            <td>0   </td> <td>8   </td> <td>4025604        </td> <td>4120903        </td>\n",
              "        </tr>\n",
              "        <tr>\n",
              "            <td>0   </td> <td>9   </td> <td>4125415        </td> <td>4108349        </td>\n",
              "        </tr>\n",
              "    </tbody>\n",
              "</table>\n",
              "<p>... (296 rows omitted)</p>"
            ],
            "text/plain": [
              "SEX  | AGE  | POPESTIMATE2010 | POPESTIMATE2014\n",
              "0    | 0    | 3951330         | 3949775\n",
              "0    | 1    | 3957888         | 3949776\n",
              "0    | 2    | 4090862         | 3959664\n",
              "0    | 3    | 4111920         | 4007079\n",
              "0    | 4    | 4077551         | 4005716\n",
              "0    | 5    | 4064653         | 4006900\n",
              "0    | 6    | 4073013         | 4135930\n",
              "0    | 7    | 4043046         | 4155326\n",
              "0    | 8    | 4025604         | 4120903\n",
              "0    | 9    | 4125415         | 4108349\n",
              "... (296 rows omitted)"
            ]
          },
          "metadata": {
            "tags": []
          },
          "execution_count": 6
        }
      ]
    },
    {
      "cell_type": "code",
      "metadata": {
        "id": "NvSd9PQVpX0f",
        "colab_type": "code",
        "colab": {
          "base_uri": "https://localhost:8080/",
          "height": 388
        },
        "outputId": "41816e8c-0199-446a-f93f-352966f5b039"
      },
      "source": [
        "us_pop = partial_census_table.relabeled('POPESTIMATE2010',\n",
        "              '2010').relabeled('POPESTIMATE2014', '2014')\n",
        "us_pop"
      ],
      "execution_count": 7,
      "outputs": [
        {
          "output_type": "execute_result",
          "data": {
            "text/html": [
              "<table border=\"1\" class=\"dataframe\">\n",
              "    <thead>\n",
              "        <tr>\n",
              "            <th>SEX</th> <th>AGE</th> <th>2010</th> <th>2014</th>\n",
              "        </tr>\n",
              "    </thead>\n",
              "    <tbody>\n",
              "        <tr>\n",
              "            <td>0   </td> <td>0   </td> <td>3951330</td> <td>3949775</td>\n",
              "        </tr>\n",
              "        <tr>\n",
              "            <td>0   </td> <td>1   </td> <td>3957888</td> <td>3949776</td>\n",
              "        </tr>\n",
              "        <tr>\n",
              "            <td>0   </td> <td>2   </td> <td>4090862</td> <td>3959664</td>\n",
              "        </tr>\n",
              "        <tr>\n",
              "            <td>0   </td> <td>3   </td> <td>4111920</td> <td>4007079</td>\n",
              "        </tr>\n",
              "        <tr>\n",
              "            <td>0   </td> <td>4   </td> <td>4077551</td> <td>4005716</td>\n",
              "        </tr>\n",
              "        <tr>\n",
              "            <td>0   </td> <td>5   </td> <td>4064653</td> <td>4006900</td>\n",
              "        </tr>\n",
              "        <tr>\n",
              "            <td>0   </td> <td>6   </td> <td>4073013</td> <td>4135930</td>\n",
              "        </tr>\n",
              "        <tr>\n",
              "            <td>0   </td> <td>7   </td> <td>4043046</td> <td>4155326</td>\n",
              "        </tr>\n",
              "        <tr>\n",
              "            <td>0   </td> <td>8   </td> <td>4025604</td> <td>4120903</td>\n",
              "        </tr>\n",
              "        <tr>\n",
              "            <td>0   </td> <td>9   </td> <td>4125415</td> <td>4108349</td>\n",
              "        </tr>\n",
              "    </tbody>\n",
              "</table>\n",
              "<p>... (296 rows omitted)</p>"
            ],
            "text/plain": [
              "SEX  | AGE  | 2010    | 2014\n",
              "0    | 0    | 3951330 | 3949775\n",
              "0    | 1    | 3957888 | 3949776\n",
              "0    | 2    | 4090862 | 3959664\n",
              "0    | 3    | 4111920 | 4007079\n",
              "0    | 4    | 4077551 | 4005716\n",
              "0    | 5    | 4064653 | 4006900\n",
              "0    | 6    | 4073013 | 4135930\n",
              "0    | 7    | 4043046 | 4155326\n",
              "0    | 8    | 4025604 | 4120903\n",
              "0    | 9    | 4125415 | 4108349\n",
              "... (296 rows omitted)"
            ]
          },
          "metadata": {
            "tags": []
          },
          "execution_count": 7
        }
      ]
    },
    {
      "cell_type": "code",
      "metadata": {
        "id": "C92GhoLmpX3Z",
        "colab_type": "code",
        "colab": {
          "base_uri": "https://localhost:8080/",
          "height": 388
        },
        "outputId": "27b64cfb-c656-4648-da6c-b54943394cbf"
      },
      "source": [
        "change = us_pop.column('2014') - us_pop.column('2010')\n",
        "census = us_pop.with_columns(\n",
        "    'Change', change,\n",
        "    'Percent Change', change/us_pop.column('2010')\n",
        ")\n",
        "census.set_format('Percent Change', PercentFormatter)"
      ],
      "execution_count": 8,
      "outputs": [
        {
          "output_type": "execute_result",
          "data": {
            "text/html": [
              "<table border=\"1\" class=\"dataframe\">\n",
              "    <thead>\n",
              "        <tr>\n",
              "            <th>SEX</th> <th>AGE</th> <th>2010</th> <th>2014</th> <th>Change</th> <th>Percent Change</th>\n",
              "        </tr>\n",
              "    </thead>\n",
              "    <tbody>\n",
              "        <tr>\n",
              "            <td>0   </td> <td>0   </td> <td>3951330</td> <td>3949775</td> <td>-1555  </td> <td>-0.04%        </td>\n",
              "        </tr>\n",
              "        <tr>\n",
              "            <td>0   </td> <td>1   </td> <td>3957888</td> <td>3949776</td> <td>-8112  </td> <td>-0.20%        </td>\n",
              "        </tr>\n",
              "        <tr>\n",
              "            <td>0   </td> <td>2   </td> <td>4090862</td> <td>3959664</td> <td>-131198</td> <td>-3.21%        </td>\n",
              "        </tr>\n",
              "        <tr>\n",
              "            <td>0   </td> <td>3   </td> <td>4111920</td> <td>4007079</td> <td>-104841</td> <td>-2.55%        </td>\n",
              "        </tr>\n",
              "        <tr>\n",
              "            <td>0   </td> <td>4   </td> <td>4077551</td> <td>4005716</td> <td>-71835 </td> <td>-1.76%        </td>\n",
              "        </tr>\n",
              "        <tr>\n",
              "            <td>0   </td> <td>5   </td> <td>4064653</td> <td>4006900</td> <td>-57753 </td> <td>-1.42%        </td>\n",
              "        </tr>\n",
              "        <tr>\n",
              "            <td>0   </td> <td>6   </td> <td>4073013</td> <td>4135930</td> <td>62917  </td> <td>1.54%         </td>\n",
              "        </tr>\n",
              "        <tr>\n",
              "            <td>0   </td> <td>7   </td> <td>4043046</td> <td>4155326</td> <td>112280 </td> <td>2.78%         </td>\n",
              "        </tr>\n",
              "        <tr>\n",
              "            <td>0   </td> <td>8   </td> <td>4025604</td> <td>4120903</td> <td>95299  </td> <td>2.37%         </td>\n",
              "        </tr>\n",
              "        <tr>\n",
              "            <td>0   </td> <td>9   </td> <td>4125415</td> <td>4108349</td> <td>-17066 </td> <td>-0.41%        </td>\n",
              "        </tr>\n",
              "    </tbody>\n",
              "</table>\n",
              "<p>... (296 rows omitted)</p>"
            ],
            "text/plain": [
              "SEX  | AGE  | 2010    | 2014    | Change  | Percent Change\n",
              "0    | 0    | 3951330 | 3949775 | -1555   | -0.04%\n",
              "0    | 1    | 3957888 | 3949776 | -8112   | -0.20%\n",
              "0    | 2    | 4090862 | 3959664 | -131198 | -3.21%\n",
              "0    | 3    | 4111920 | 4007079 | -104841 | -2.55%\n",
              "0    | 4    | 4077551 | 4005716 | -71835  | -1.76%\n",
              "0    | 5    | 4064653 | 4006900 | -57753  | -1.42%\n",
              "0    | 6    | 4073013 | 4135930 | 62917   | 1.54%\n",
              "0    | 7    | 4043046 | 4155326 | 112280  | 2.78%\n",
              "0    | 8    | 4025604 | 4120903 | 95299   | 2.37%\n",
              "0    | 9    | 4125415 | 4108349 | -17066  | -0.41%\n",
              "... (296 rows omitted)"
            ]
          },
          "metadata": {
            "tags": []
          },
          "execution_count": 8
        }
      ]
    },
    {
      "cell_type": "code",
      "metadata": {
        "id": "thDdOoHKpX6V",
        "colab_type": "code",
        "colab": {
          "base_uri": "https://localhost:8080/",
          "height": 388
        },
        "outputId": "ed1a4cd1-0c4e-499f-bda1-7c8ff86434a0"
      },
      "source": [
        "census.sort('Change', descending=True)"
      ],
      "execution_count": 9,
      "outputs": [
        {
          "output_type": "execute_result",
          "data": {
            "text/html": [
              "<table border=\"1\" class=\"dataframe\">\n",
              "    <thead>\n",
              "        <tr>\n",
              "            <th>SEX</th> <th>AGE</th> <th>2010</th> <th>2014</th> <th>Change</th> <th>Percent Change</th>\n",
              "        </tr>\n",
              "    </thead>\n",
              "    <tbody>\n",
              "        <tr>\n",
              "            <td>0   </td> <td>999 </td> <td>309346863</td> <td>318907401</td> <td>9560538</td> <td>3.09%         </td>\n",
              "        </tr>\n",
              "        <tr>\n",
              "            <td>1   </td> <td>999 </td> <td>152088043</td> <td>156955337</td> <td>4867294</td> <td>3.20%         </td>\n",
              "        </tr>\n",
              "        <tr>\n",
              "            <td>2   </td> <td>999 </td> <td>157258820</td> <td>161952064</td> <td>4693244</td> <td>2.98%         </td>\n",
              "        </tr>\n",
              "        <tr>\n",
              "            <td>0   </td> <td>67  </td> <td>2693707  </td> <td>3485241  </td> <td>791534 </td> <td>29.38%        </td>\n",
              "        </tr>\n",
              "        <tr>\n",
              "            <td>0   </td> <td>64  </td> <td>2706055  </td> <td>3487559  </td> <td>781504 </td> <td>28.88%        </td>\n",
              "        </tr>\n",
              "        <tr>\n",
              "            <td>0   </td> <td>66  </td> <td>2621335  </td> <td>3347060  </td> <td>725725 </td> <td>27.69%        </td>\n",
              "        </tr>\n",
              "        <tr>\n",
              "            <td>0   </td> <td>65  </td> <td>2678525  </td> <td>3382824  </td> <td>704299 </td> <td>26.29%        </td>\n",
              "        </tr>\n",
              "        <tr>\n",
              "            <td>0   </td> <td>71  </td> <td>1953607  </td> <td>2519705  </td> <td>566098 </td> <td>28.98%        </td>\n",
              "        </tr>\n",
              "        <tr>\n",
              "            <td>0   </td> <td>34  </td> <td>3822189  </td> <td>4364748  </td> <td>542559 </td> <td>14.19%        </td>\n",
              "        </tr>\n",
              "        <tr>\n",
              "            <td>0   </td> <td>23  </td> <td>4217228  </td> <td>4702156  </td> <td>484928 </td> <td>11.50%        </td>\n",
              "        </tr>\n",
              "    </tbody>\n",
              "</table>\n",
              "<p>... (296 rows omitted)</p>"
            ],
            "text/plain": [
              "SEX  | AGE  | 2010      | 2014      | Change  | Percent Change\n",
              "0    | 999  | 309346863 | 318907401 | 9560538 | 3.09%\n",
              "1    | 999  | 152088043 | 156955337 | 4867294 | 3.20%\n",
              "2    | 999  | 157258820 | 161952064 | 4693244 | 2.98%\n",
              "0    | 67   | 2693707   | 3485241   | 791534  | 29.38%\n",
              "0    | 64   | 2706055   | 3487559   | 781504  | 28.88%\n",
              "0    | 66   | 2621335   | 3347060   | 725725  | 27.69%\n",
              "0    | 65   | 2678525   | 3382824   | 704299  | 26.29%\n",
              "0    | 71   | 1953607   | 2519705   | 566098  | 28.98%\n",
              "0    | 34   | 3822189   | 4364748   | 542559  | 14.19%\n",
              "0    | 23   | 4217228   | 4702156   | 484928  | 11.50%\n",
              "... (296 rows omitted)"
            ]
          },
          "metadata": {
            "tags": []
          },
          "execution_count": 9
        }
      ]
    },
    {
      "cell_type": "code",
      "metadata": {
        "id": "PsClczTkpX9F",
        "colab_type": "code",
        "colab": {
          "base_uri": "https://localhost:8080/",
          "height": 173
        },
        "outputId": "90b976f1-26b0-4002-c7ca-1a6273751955"
      },
      "source": [
        "us_pop.where('SEX', are.equal_to(0)).where('AGE', are.between(97, 101))"
      ],
      "execution_count": 10,
      "outputs": [
        {
          "output_type": "execute_result",
          "data": {
            "text/html": [
              "<table border=\"1\" class=\"dataframe\">\n",
              "    <thead>\n",
              "        <tr>\n",
              "            <th>SEX</th> <th>AGE</th> <th>2010</th> <th>2014</th>\n",
              "        </tr>\n",
              "    </thead>\n",
              "    <tbody>\n",
              "        <tr>\n",
              "            <td>0   </td> <td>97  </td> <td>68893</td> <td>83089</td>\n",
              "        </tr>\n",
              "        <tr>\n",
              "            <td>0   </td> <td>98  </td> <td>47037</td> <td>59726</td>\n",
              "        </tr>\n",
              "        <tr>\n",
              "            <td>0   </td> <td>99  </td> <td>32178</td> <td>41468</td>\n",
              "        </tr>\n",
              "        <tr>\n",
              "            <td>0   </td> <td>100 </td> <td>54410</td> <td>71626</td>\n",
              "        </tr>\n",
              "    </tbody>\n",
              "</table>"
            ],
            "text/plain": [
              "SEX  | AGE  | 2010  | 2014\n",
              "0    | 97   | 68893 | 83089\n",
              "0    | 98   | 47037 | 59726\n",
              "0    | 99   | 32178 | 41468\n",
              "0    | 100  | 54410 | 71626"
            ]
          },
          "metadata": {
            "tags": []
          },
          "execution_count": 10
        }
      ]
    },
    {
      "cell_type": "code",
      "metadata": {
        "id": "b3J0pj3apX_t",
        "colab_type": "code",
        "colab": {
          "base_uri": "https://localhost:8080/",
          "height": 142
        },
        "outputId": "d29f8919-5685-487c-a585-43375c158506"
      },
      "source": [
        "us_pop_2014 = us_pop.drop('2010')\n",
        "all_ages = us_pop_2014.where('AGE', are.equal_to(999))\n",
        "all_ages"
      ],
      "execution_count": 11,
      "outputs": [
        {
          "output_type": "execute_result",
          "data": {
            "text/html": [
              "<table border=\"1\" class=\"dataframe\">\n",
              "    <thead>\n",
              "        <tr>\n",
              "            <th>SEX</th> <th>AGE</th> <th>2014</th>\n",
              "        </tr>\n",
              "    </thead>\n",
              "    <tbody>\n",
              "        <tr>\n",
              "            <td>0   </td> <td>999 </td> <td>318907401</td>\n",
              "        </tr>\n",
              "        <tr>\n",
              "            <td>1   </td> <td>999 </td> <td>156955337</td>\n",
              "        </tr>\n",
              "        <tr>\n",
              "            <td>2   </td> <td>999 </td> <td>161952064</td>\n",
              "        </tr>\n",
              "    </tbody>\n",
              "</table>"
            ],
            "text/plain": [
              "SEX  | AGE  | 2014\n",
              "0    | 999  | 318907401\n",
              "1    | 999  | 156955337\n",
              "2    | 999  | 161952064"
            ]
          },
          "metadata": {
            "tags": []
          },
          "execution_count": 11
        }
      ]
    },
    {
      "cell_type": "code",
      "metadata": {
        "id": "eFo8jnTMpYCg",
        "colab_type": "code",
        "colab": {
          "base_uri": "https://localhost:8080/",
          "height": 142
        },
        "outputId": "1da036b0-3454-42a0-d035-c0d443c7bb5a"
      },
      "source": [
        "pop_2014 = all_ages.column('2014').item(0)\n",
        "all_ages.with_column(\n",
        "    'Proportion', all_ages.column('2014')/pop_2014\n",
        ").set_format('Proportion', PercentFormatter)"
      ],
      "execution_count": 12,
      "outputs": [
        {
          "output_type": "execute_result",
          "data": {
            "text/html": [
              "<table border=\"1\" class=\"dataframe\">\n",
              "    <thead>\n",
              "        <tr>\n",
              "            <th>SEX</th> <th>AGE</th> <th>2014</th> <th>Proportion</th>\n",
              "        </tr>\n",
              "    </thead>\n",
              "    <tbody>\n",
              "        <tr>\n",
              "            <td>0   </td> <td>999 </td> <td>318907401</td> <td>100.00%   </td>\n",
              "        </tr>\n",
              "        <tr>\n",
              "            <td>1   </td> <td>999 </td> <td>156955337</td> <td>49.22%    </td>\n",
              "        </tr>\n",
              "        <tr>\n",
              "            <td>2   </td> <td>999 </td> <td>161952064</td> <td>50.78%    </td>\n",
              "        </tr>\n",
              "    </tbody>\n",
              "</table>"
            ],
            "text/plain": [
              "SEX  | AGE  | 2014      | Proportion\n",
              "0    | 999  | 318907401 | 100.00%\n",
              "1    | 999  | 156955337 | 49.22%\n",
              "2    | 999  | 161952064 | 50.78%"
            ]
          },
          "metadata": {
            "tags": []
          },
          "execution_count": 12
        }
      ]
    },
    {
      "cell_type": "code",
      "metadata": {
        "id": "c4uxrQfdpYFO",
        "colab_type": "code",
        "colab": {
          "base_uri": "https://localhost:8080/",
          "height": 142
        },
        "outputId": "c6969da0-3416-49b1-f502-d28980d14c3f"
      },
      "source": [
        "infants = us_pop_2014.where('AGE', are.equal_to(0))\n",
        "infants_2014 = infants.column('2014').item(0)\n",
        "infants.with_column(\n",
        "    'Proportion', infants.column('2014')/infants_2014\n",
        ").set_format('Proportion', PercentFormatter)"
      ],
      "execution_count": 13,
      "outputs": [
        {
          "output_type": "execute_result",
          "data": {
            "text/html": [
              "<table border=\"1\" class=\"dataframe\">\n",
              "    <thead>\n",
              "        <tr>\n",
              "            <th>SEX</th> <th>AGE</th> <th>2014</th> <th>Proportion</th>\n",
              "        </tr>\n",
              "    </thead>\n",
              "    <tbody>\n",
              "        <tr>\n",
              "            <td>0   </td> <td>0   </td> <td>3949775</td> <td>100.00%   </td>\n",
              "        </tr>\n",
              "        <tr>\n",
              "            <td>1   </td> <td>0   </td> <td>2020326</td> <td>51.15%    </td>\n",
              "        </tr>\n",
              "        <tr>\n",
              "            <td>2   </td> <td>0   </td> <td>1929449</td> <td>48.85%    </td>\n",
              "        </tr>\n",
              "    </tbody>\n",
              "</table>"
            ],
            "text/plain": [
              "SEX  | AGE  | 2014    | Proportion\n",
              "0    | 0    | 3949775 | 100.00%\n",
              "1    | 0    | 2020326 | 51.15%\n",
              "2    | 0    | 1929449 | 48.85%"
            ]
          },
          "metadata": {
            "tags": []
          },
          "execution_count": 13
        }
      ]
    },
    {
      "cell_type": "code",
      "metadata": {
        "id": "YfJ20mYJpYIJ",
        "colab_type": "code",
        "colab": {
          "base_uri": "https://localhost:8080/",
          "height": 388
        },
        "outputId": "94ca05a5-c734-4f8e-ed95-7015d71398c9"
      },
      "source": [
        "females_all_rows = us_pop_2014.where('SEX', are.equal_to(2))\n",
        "females = females_all_rows.where('AGE', are.not_equal_to(999))\n",
        "females"
      ],
      "execution_count": 14,
      "outputs": [
        {
          "output_type": "execute_result",
          "data": {
            "text/html": [
              "<table border=\"1\" class=\"dataframe\">\n",
              "    <thead>\n",
              "        <tr>\n",
              "            <th>SEX</th> <th>AGE</th> <th>2014</th>\n",
              "        </tr>\n",
              "    </thead>\n",
              "    <tbody>\n",
              "        <tr>\n",
              "            <td>2   </td> <td>0   </td> <td>1929449</td>\n",
              "        </tr>\n",
              "        <tr>\n",
              "            <td>2   </td> <td>1   </td> <td>1931375</td>\n",
              "        </tr>\n",
              "        <tr>\n",
              "            <td>2   </td> <td>2   </td> <td>1935991</td>\n",
              "        </tr>\n",
              "        <tr>\n",
              "            <td>2   </td> <td>3   </td> <td>1957483</td>\n",
              "        </tr>\n",
              "        <tr>\n",
              "            <td>2   </td> <td>4   </td> <td>1961199</td>\n",
              "        </tr>\n",
              "        <tr>\n",
              "            <td>2   </td> <td>5   </td> <td>1962561</td>\n",
              "        </tr>\n",
              "        <tr>\n",
              "            <td>2   </td> <td>6   </td> <td>2024870</td>\n",
              "        </tr>\n",
              "        <tr>\n",
              "            <td>2   </td> <td>7   </td> <td>2032494</td>\n",
              "        </tr>\n",
              "        <tr>\n",
              "            <td>2   </td> <td>8   </td> <td>2015285</td>\n",
              "        </tr>\n",
              "        <tr>\n",
              "            <td>2   </td> <td>9   </td> <td>2010659</td>\n",
              "        </tr>\n",
              "    </tbody>\n",
              "</table>\n",
              "<p>... (91 rows omitted)</p>"
            ],
            "text/plain": [
              "SEX  | AGE  | 2014\n",
              "2    | 0    | 1929449\n",
              "2    | 1    | 1931375\n",
              "2    | 2    | 1935991\n",
              "2    | 3    | 1957483\n",
              "2    | 4    | 1961199\n",
              "2    | 5    | 1962561\n",
              "2    | 6    | 2024870\n",
              "2    | 7    | 2032494\n",
              "2    | 8    | 2015285\n",
              "2    | 9    | 2010659\n",
              "... (91 rows omitted)"
            ]
          },
          "metadata": {
            "tags": []
          },
          "execution_count": 14
        }
      ]
    },
    {
      "cell_type": "code",
      "metadata": {
        "id": "crQsHA6JpYK5",
        "colab_type": "code",
        "colab": {
          "base_uri": "https://localhost:8080/",
          "height": 388
        },
        "outputId": "14fe8542-e05a-4568-990a-f4f7c7a1557f"
      },
      "source": [
        "males_all_rows = us_pop_2014.where('SEX', are.equal_to(1))\n",
        "males = males_all_rows.where('AGE', are.not_equal_to(999))\n",
        "males"
      ],
      "execution_count": 15,
      "outputs": [
        {
          "output_type": "execute_result",
          "data": {
            "text/html": [
              "<table border=\"1\" class=\"dataframe\">\n",
              "    <thead>\n",
              "        <tr>\n",
              "            <th>SEX</th> <th>AGE</th> <th>2014</th>\n",
              "        </tr>\n",
              "    </thead>\n",
              "    <tbody>\n",
              "        <tr>\n",
              "            <td>1   </td> <td>0   </td> <td>2020326</td>\n",
              "        </tr>\n",
              "        <tr>\n",
              "            <td>1   </td> <td>1   </td> <td>2018401</td>\n",
              "        </tr>\n",
              "        <tr>\n",
              "            <td>1   </td> <td>2   </td> <td>2023673</td>\n",
              "        </tr>\n",
              "        <tr>\n",
              "            <td>1   </td> <td>3   </td> <td>2049596</td>\n",
              "        </tr>\n",
              "        <tr>\n",
              "            <td>1   </td> <td>4   </td> <td>2044517</td>\n",
              "        </tr>\n",
              "        <tr>\n",
              "            <td>1   </td> <td>5   </td> <td>2044339</td>\n",
              "        </tr>\n",
              "        <tr>\n",
              "            <td>1   </td> <td>6   </td> <td>2111060</td>\n",
              "        </tr>\n",
              "        <tr>\n",
              "            <td>1   </td> <td>7   </td> <td>2122832</td>\n",
              "        </tr>\n",
              "        <tr>\n",
              "            <td>1   </td> <td>8   </td> <td>2105618</td>\n",
              "        </tr>\n",
              "        <tr>\n",
              "            <td>1   </td> <td>9   </td> <td>2097690</td>\n",
              "        </tr>\n",
              "    </tbody>\n",
              "</table>\n",
              "<p>... (91 rows omitted)</p>"
            ],
            "text/plain": [
              "SEX  | AGE  | 2014\n",
              "1    | 0    | 2020326\n",
              "1    | 1    | 2018401\n",
              "1    | 2    | 2023673\n",
              "1    | 3    | 2049596\n",
              "1    | 4    | 2044517\n",
              "1    | 5    | 2044339\n",
              "1    | 6    | 2111060\n",
              "1    | 7    | 2122832\n",
              "1    | 8    | 2105618\n",
              "1    | 9    | 2097690\n",
              "... (91 rows omitted)"
            ]
          },
          "metadata": {
            "tags": []
          },
          "execution_count": 15
        }
      ]
    },
    {
      "cell_type": "code",
      "metadata": {
        "id": "C8r2Z5ckpYN5",
        "colab_type": "code",
        "colab": {
          "base_uri": "https://localhost:8080/",
          "height": 157
        },
        "outputId": "13f2156c-b9d2-4546-bbbd-bba5d8b600a5"
      },
      "source": [
        "males.column('AGE')"
      ],
      "execution_count": 16,
      "outputs": [
        {
          "output_type": "execute_result",
          "data": {
            "text/plain": [
              "array([  0,   1,   2,   3,   4,   5,   6,   7,   8,   9,  10,  11,  12,\n",
              "        13,  14,  15,  16,  17,  18,  19,  20,  21,  22,  23,  24,  25,\n",
              "        26,  27,  28,  29,  30,  31,  32,  33,  34,  35,  36,  37,  38,\n",
              "        39,  40,  41,  42,  43,  44,  45,  46,  47,  48,  49,  50,  51,\n",
              "        52,  53,  54,  55,  56,  57,  58,  59,  60,  61,  62,  63,  64,\n",
              "        65,  66,  67,  68,  69,  70,  71,  72,  73,  74,  75,  76,  77,\n",
              "        78,  79,  80,  81,  82,  83,  84,  85,  86,  87,  88,  89,  90,\n",
              "        91,  92,  93,  94,  95,  96,  97,  98,  99, 100])"
            ]
          },
          "metadata": {
            "tags": []
          },
          "execution_count": 16
        }
      ]
    },
    {
      "cell_type": "code",
      "metadata": {
        "id": "7DkMws6dpYUV",
        "colab_type": "code",
        "colab": {
          "base_uri": "https://localhost:8080/",
          "height": 157
        },
        "outputId": "f6165055-ecea-4881-ebb7-b50eae735aaf"
      },
      "source": [
        "females.column('AGE')"
      ],
      "execution_count": 17,
      "outputs": [
        {
          "output_type": "execute_result",
          "data": {
            "text/plain": [
              "array([  0,   1,   2,   3,   4,   5,   6,   7,   8,   9,  10,  11,  12,\n",
              "        13,  14,  15,  16,  17,  18,  19,  20,  21,  22,  23,  24,  25,\n",
              "        26,  27,  28,  29,  30,  31,  32,  33,  34,  35,  36,  37,  38,\n",
              "        39,  40,  41,  42,  43,  44,  45,  46,  47,  48,  49,  50,  51,\n",
              "        52,  53,  54,  55,  56,  57,  58,  59,  60,  61,  62,  63,  64,\n",
              "        65,  66,  67,  68,  69,  70,  71,  72,  73,  74,  75,  76,  77,\n",
              "        78,  79,  80,  81,  82,  83,  84,  85,  86,  87,  88,  89,  90,\n",
              "        91,  92,  93,  94,  95,  96,  97,  98,  99, 100])"
            ]
          },
          "metadata": {
            "tags": []
          },
          "execution_count": 17
        }
      ]
    },
    {
      "cell_type": "code",
      "metadata": {
        "id": "fMUdsMl_sthx",
        "colab_type": "code",
        "colab": {
          "base_uri": "https://localhost:8080/",
          "height": 388
        },
        "outputId": "4b1e71ea-7798-469f-c1af-c216de5d8726"
      },
      "source": [
        "ratios = Table().with_columns(\n",
        "    'AGE', females.column('AGE'),\n",
        "    '2014 F:M RATIO', females.column('2014')/males.column('2014')\n",
        ")\n",
        "ratios"
      ],
      "execution_count": 18,
      "outputs": [
        {
          "output_type": "execute_result",
          "data": {
            "text/html": [
              "<table border=\"1\" class=\"dataframe\">\n",
              "    <thead>\n",
              "        <tr>\n",
              "            <th>AGE</th> <th>2014 F:M RATIO</th>\n",
              "        </tr>\n",
              "    </thead>\n",
              "    <tbody>\n",
              "        <tr>\n",
              "            <td>0   </td> <td>0.955019      </td>\n",
              "        </tr>\n",
              "        <tr>\n",
              "            <td>1   </td> <td>0.956884      </td>\n",
              "        </tr>\n",
              "        <tr>\n",
              "            <td>2   </td> <td>0.956672      </td>\n",
              "        </tr>\n",
              "        <tr>\n",
              "            <td>3   </td> <td>0.955058      </td>\n",
              "        </tr>\n",
              "        <tr>\n",
              "            <td>4   </td> <td>0.959248      </td>\n",
              "        </tr>\n",
              "        <tr>\n",
              "            <td>5   </td> <td>0.959998      </td>\n",
              "        </tr>\n",
              "        <tr>\n",
              "            <td>6   </td> <td>0.959172      </td>\n",
              "        </tr>\n",
              "        <tr>\n",
              "            <td>7   </td> <td>0.957445      </td>\n",
              "        </tr>\n",
              "        <tr>\n",
              "            <td>8   </td> <td>0.957099      </td>\n",
              "        </tr>\n",
              "        <tr>\n",
              "            <td>9   </td> <td>0.958511      </td>\n",
              "        </tr>\n",
              "    </tbody>\n",
              "</table>\n",
              "<p>... (91 rows omitted)</p>"
            ],
            "text/plain": [
              "AGE  | 2014 F:M RATIO\n",
              "0    | 0.955019\n",
              "1    | 0.956884\n",
              "2    | 0.956672\n",
              "3    | 0.955058\n",
              "4    | 0.959248\n",
              "5    | 0.959998\n",
              "6    | 0.959172\n",
              "7    | 0.957445\n",
              "8    | 0.957099\n",
              "9    | 0.958511\n",
              "... (91 rows omitted)"
            ]
          },
          "metadata": {
            "tags": []
          },
          "execution_count": 18
        }
      ]
    },
    {
      "cell_type": "code",
      "metadata": {
        "id": "7V2yZtKustkf",
        "colab_type": "code",
        "colab": {
          "base_uri": "https://localhost:8080/",
          "height": 824
        },
        "outputId": "4f3a39c4-d540-4d14-8d42-a4b4f7b0957c"
      },
      "source": [
        "ratios.where('AGE', are.above(75)).show()"
      ],
      "execution_count": 19,
      "outputs": [
        {
          "output_type": "display_data",
          "data": {
            "text/html": [
              "<table border=\"1\" class=\"dataframe\">\n",
              "    <thead>\n",
              "        <tr>\n",
              "            <th>AGE</th> <th>2014 F:M RATIO</th>\n",
              "        </tr>\n",
              "    </thead>\n",
              "    <tbody>\n",
              "        <tr>\n",
              "            <td>76  </td> <td>1.23487       </td>\n",
              "        </tr>\n",
              "        <tr>\n",
              "            <td>77  </td> <td>1.25797       </td>\n",
              "        </tr>\n",
              "        <tr>\n",
              "            <td>78  </td> <td>1.28244       </td>\n",
              "        </tr>\n",
              "        <tr>\n",
              "            <td>79  </td> <td>1.31627       </td>\n",
              "        </tr>\n",
              "        <tr>\n",
              "            <td>80  </td> <td>1.34138       </td>\n",
              "        </tr>\n",
              "        <tr>\n",
              "            <td>81  </td> <td>1.37967       </td>\n",
              "        </tr>\n",
              "        <tr>\n",
              "            <td>82  </td> <td>1.41932       </td>\n",
              "        </tr>\n",
              "        <tr>\n",
              "            <td>83  </td> <td>1.46552       </td>\n",
              "        </tr>\n",
              "        <tr>\n",
              "            <td>84  </td> <td>1.52048       </td>\n",
              "        </tr>\n",
              "        <tr>\n",
              "            <td>85  </td> <td>1.5756        </td>\n",
              "        </tr>\n",
              "        <tr>\n",
              "            <td>86  </td> <td>1.65096       </td>\n",
              "        </tr>\n",
              "        <tr>\n",
              "            <td>87  </td> <td>1.72172       </td>\n",
              "        </tr>\n",
              "        <tr>\n",
              "            <td>88  </td> <td>1.81223       </td>\n",
              "        </tr>\n",
              "        <tr>\n",
              "            <td>89  </td> <td>1.91837       </td>\n",
              "        </tr>\n",
              "        <tr>\n",
              "            <td>90  </td> <td>2.01263       </td>\n",
              "        </tr>\n",
              "        <tr>\n",
              "            <td>91  </td> <td>2.09488       </td>\n",
              "        </tr>\n",
              "        <tr>\n",
              "            <td>92  </td> <td>2.2299        </td>\n",
              "        </tr>\n",
              "        <tr>\n",
              "            <td>93  </td> <td>2.33359       </td>\n",
              "        </tr>\n",
              "        <tr>\n",
              "            <td>94  </td> <td>2.52285       </td>\n",
              "        </tr>\n",
              "        <tr>\n",
              "            <td>95  </td> <td>2.67253       </td>\n",
              "        </tr>\n",
              "        <tr>\n",
              "            <td>96  </td> <td>2.87998       </td>\n",
              "        </tr>\n",
              "        <tr>\n",
              "            <td>97  </td> <td>3.09104       </td>\n",
              "        </tr>\n",
              "        <tr>\n",
              "            <td>98  </td> <td>3.41826       </td>\n",
              "        </tr>\n",
              "        <tr>\n",
              "            <td>99  </td> <td>3.63278       </td>\n",
              "        </tr>\n",
              "        <tr>\n",
              "            <td>100 </td> <td>4.25966       </td>\n",
              "        </tr>\n",
              "    </tbody>\n",
              "</table>"
            ],
            "text/plain": [
              "<IPython.core.display.HTML object>"
            ]
          },
          "metadata": {
            "tags": []
          }
        }
      ]
    },
    {
      "cell_type": "code",
      "metadata": {
        "id": "VUhxyfA5stn7",
        "colab_type": "code",
        "colab": {
          "base_uri": "https://localhost:8080/",
          "height": 111
        },
        "outputId": "1d181478-2ab7-4f6a-8bd2-de0ea891fd6f"
      },
      "source": [
        "males.where('AGE', are.between(98, 100))"
      ],
      "execution_count": 20,
      "outputs": [
        {
          "output_type": "execute_result",
          "data": {
            "text/html": [
              "<table border=\"1\" class=\"dataframe\">\n",
              "    <thead>\n",
              "        <tr>\n",
              "            <th>SEX</th> <th>AGE</th> <th>2014</th>\n",
              "        </tr>\n",
              "    </thead>\n",
              "    <tbody>\n",
              "        <tr>\n",
              "            <td>1   </td> <td>98  </td> <td>13518</td>\n",
              "        </tr>\n",
              "        <tr>\n",
              "            <td>1   </td> <td>99  </td> <td>8951 </td>\n",
              "        </tr>\n",
              "    </tbody>\n",
              "</table>"
            ],
            "text/plain": [
              "SEX  | AGE  | 2014\n",
              "1    | 98   | 13518\n",
              "1    | 99   | 8951"
            ]
          },
          "metadata": {
            "tags": []
          },
          "execution_count": 20
        }
      ]
    },
    {
      "cell_type": "code",
      "metadata": {
        "id": "1F6Uvor-strH",
        "colab_type": "code",
        "colab": {
          "base_uri": "https://localhost:8080/",
          "height": 111
        },
        "outputId": "7c33c531-2352-4602-f92b-090ea8f36cac"
      },
      "source": [
        "females.where('AGE', are.between(98, 100))"
      ],
      "execution_count": 21,
      "outputs": [
        {
          "output_type": "execute_result",
          "data": {
            "text/html": [
              "<table border=\"1\" class=\"dataframe\">\n",
              "    <thead>\n",
              "        <tr>\n",
              "            <th>SEX</th> <th>AGE</th> <th>2014</th>\n",
              "        </tr>\n",
              "    </thead>\n",
              "    <tbody>\n",
              "        <tr>\n",
              "            <td>2   </td> <td>98  </td> <td>46208</td>\n",
              "        </tr>\n",
              "        <tr>\n",
              "            <td>2   </td> <td>99  </td> <td>32517</td>\n",
              "        </tr>\n",
              "    </tbody>\n",
              "</table>"
            ],
            "text/plain": [
              "SEX  | AGE  | 2014\n",
              "2    | 98   | 46208\n",
              "2    | 99   | 32517"
            ]
          },
          "metadata": {
            "tags": []
          },
          "execution_count": 21
        }
      ]
    },
    {
      "cell_type": "code",
      "metadata": {
        "id": "yIL4gtvhstuI",
        "colab_type": "code",
        "colab": {
          "base_uri": "https://localhost:8080/",
          "height": 301
        },
        "outputId": "2ef9f8b7-dcfa-4fd4-dc07-e8c0895d1f7a"
      },
      "source": [
        "%matplotlib inline\n",
        "import matplotlib.pyplot as plots\n",
        "plots.style.use('fivethirtyeight')\n",
        "ratios.plot('AGE')"
      ],
      "execution_count": 22,
      "outputs": [
        {
          "output_type": "display_data",
          "data": {
            "image/png": "[encoded data removed]",
            "text/plain": [
              "<Figure size 432x288 with 1 Axes>"
            ]
          },
          "metadata": {
            "tags": []
          }
        }
      ]
    }
  ]
}