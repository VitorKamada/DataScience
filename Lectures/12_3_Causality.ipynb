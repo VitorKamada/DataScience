{
  "nbformat": 4,
  "nbformat_minor": 0,
  "metadata": {
    "colab": {
      "name": "12_3_Causality.ipynb",
      "provenance": []
    },
    "kernelspec": {
      "name": "python3",
      "display_name": "Python 3"
    }
  },
  "cells": [
    {
      "cell_type": "code",
      "metadata": {
        "id": "gcqe5DiHnJTt",
        "colab_type": "code",
        "colab": {
          "base_uri": "https://localhost:8080/",
          "height": 1000
        },
        "outputId": "5b4013a1-e40a-4136-bcf8-b0279c712de5"
      },
      "source": [
        "from datascience import *\n",
        "path_data = 'https://github.com/data-8/textbook/raw/gh-pages/data/'\n",
        "bta = Table.read_table(path_data + 'bta.csv')\n",
        "bta.show()"
      ],
      "execution_count": 1,
      "outputs": [
        {
          "output_type": "display_data",
          "data": {
            "text/html": [
              "<table border=\"1\" class=\"dataframe\">\n",
              "    <thead>\n",
              "        <tr>\n",
              "            <th>Group</th> <th>Result</th>\n",
              "        </tr>\n",
              "    </thead>\n",
              "    <tbody>\n",
              "        <tr>\n",
              "            <td>Control  </td> <td>1     </td>\n",
              "        </tr>\n",
              "        <tr>\n",
              "            <td>Control  </td> <td>1     </td>\n",
              "        </tr>\n",
              "        <tr>\n",
              "            <td>Control  </td> <td>0     </td>\n",
              "        </tr>\n",
              "        <tr>\n",
              "            <td>Control  </td> <td>0     </td>\n",
              "        </tr>\n",
              "        <tr>\n",
              "            <td>Control  </td> <td>0     </td>\n",
              "        </tr>\n",
              "        <tr>\n",
              "            <td>Control  </td> <td>0     </td>\n",
              "        </tr>\n",
              "        <tr>\n",
              "            <td>Control  </td> <td>0     </td>\n",
              "        </tr>\n",
              "        <tr>\n",
              "            <td>Control  </td> <td>0     </td>\n",
              "        </tr>\n",
              "        <tr>\n",
              "            <td>Control  </td> <td>0     </td>\n",
              "        </tr>\n",
              "        <tr>\n",
              "            <td>Control  </td> <td>0     </td>\n",
              "        </tr>\n",
              "        <tr>\n",
              "            <td>Control  </td> <td>0     </td>\n",
              "        </tr>\n",
              "        <tr>\n",
              "            <td>Control  </td> <td>0     </td>\n",
              "        </tr>\n",
              "        <tr>\n",
              "            <td>Control  </td> <td>0     </td>\n",
              "        </tr>\n",
              "        <tr>\n",
              "            <td>Control  </td> <td>0     </td>\n",
              "        </tr>\n",
              "        <tr>\n",
              "            <td>Control  </td> <td>0     </td>\n",
              "        </tr>\n",
              "        <tr>\n",
              "            <td>Control  </td> <td>0     </td>\n",
              "        </tr>\n",
              "        <tr>\n",
              "            <td>Treatment</td> <td>1     </td>\n",
              "        </tr>\n",
              "        <tr>\n",
              "            <td>Treatment</td> <td>1     </td>\n",
              "        </tr>\n",
              "        <tr>\n",
              "            <td>Treatment</td> <td>1     </td>\n",
              "        </tr>\n",
              "        <tr>\n",
              "            <td>Treatment</td> <td>1     </td>\n",
              "        </tr>\n",
              "        <tr>\n",
              "            <td>Treatment</td> <td>1     </td>\n",
              "        </tr>\n",
              "        <tr>\n",
              "            <td>Treatment</td> <td>1     </td>\n",
              "        </tr>\n",
              "        <tr>\n",
              "            <td>Treatment</td> <td>1     </td>\n",
              "        </tr>\n",
              "        <tr>\n",
              "            <td>Treatment</td> <td>1     </td>\n",
              "        </tr>\n",
              "        <tr>\n",
              "            <td>Treatment</td> <td>1     </td>\n",
              "        </tr>\n",
              "        <tr>\n",
              "            <td>Treatment</td> <td>0     </td>\n",
              "        </tr>\n",
              "        <tr>\n",
              "            <td>Treatment</td> <td>0     </td>\n",
              "        </tr>\n",
              "        <tr>\n",
              "            <td>Treatment</td> <td>0     </td>\n",
              "        </tr>\n",
              "        <tr>\n",
              "            <td>Treatment</td> <td>0     </td>\n",
              "        </tr>\n",
              "        <tr>\n",
              "            <td>Treatment</td> <td>0     </td>\n",
              "        </tr>\n",
              "        <tr>\n",
              "            <td>Treatment</td> <td>0     </td>\n",
              "        </tr>\n",
              "    </tbody>\n",
              "</table>"
            ],
            "text/plain": [
              "<IPython.core.display.HTML object>"
            ]
          },
          "metadata": {
            "tags": []
          }
        }
      ]
    },
    {
      "cell_type": "code",
      "metadata": {
        "id": "A-2iUjTGnLLF",
        "colab_type": "code",
        "colab": {
          "base_uri": "https://localhost:8080/",
          "height": 111
        },
        "outputId": "16ba1115-0954-4422-c7be-9113e39e99d6"
      },
      "source": [
        "import numpy as np\n",
        "bta.group('Group', np.average)"
      ],
      "execution_count": 2,
      "outputs": [
        {
          "output_type": "execute_result",
          "data": {
            "text/html": [
              "<table border=\"1\" class=\"dataframe\">\n",
              "    <thead>\n",
              "        <tr>\n",
              "            <th>Group</th> <th>Result average</th>\n",
              "        </tr>\n",
              "    </thead>\n",
              "    <tbody>\n",
              "        <tr>\n",
              "            <td>Control  </td> <td>0.125         </td>\n",
              "        </tr>\n",
              "        <tr>\n",
              "            <td>Treatment</td> <td>0.6           </td>\n",
              "        </tr>\n",
              "    </tbody>\n",
              "</table>"
            ],
            "text/plain": [
              "Group     | Result average\n",
              "Control   | 0.125\n",
              "Treatment | 0.6"
            ]
          },
          "metadata": {
            "tags": []
          },
          "execution_count": 2
        }
      ]
    },
    {
      "cell_type": "code",
      "metadata": {
        "id": "_v_b_FLYnLNu",
        "colab_type": "code",
        "colab": {
          "base_uri": "https://localhost:8080/",
          "height": 1000
        },
        "outputId": "61abcde0-13ef-4841-9d2b-ac7f99757b69"
      },
      "source": [
        "observed_outcomes = Table.read_table(path_data + \"observed_outcomes.csv\")\n",
        "observed_outcomes.show()"
      ],
      "execution_count": 3,
      "outputs": [
        {
          "output_type": "display_data",
          "data": {
            "text/html": [
              "<table border=\"1\" class=\"dataframe\">\n",
              "    <thead>\n",
              "        <tr>\n",
              "            <th>Group</th> <th>Outcome if assigned treatment</th> <th>Outcome if assigned control</th>\n",
              "        </tr>\n",
              "    </thead>\n",
              "    <tbody>\n",
              "        <tr>\n",
              "            <td>Control  </td> <td>Unknown                      </td> <td>1                          </td>\n",
              "        </tr>\n",
              "        <tr>\n",
              "            <td>Control  </td> <td>Unknown                      </td> <td>1                          </td>\n",
              "        </tr>\n",
              "        <tr>\n",
              "            <td>Control  </td> <td>Unknown                      </td> <td>0                          </td>\n",
              "        </tr>\n",
              "        <tr>\n",
              "            <td>Control  </td> <td>Unknown                      </td> <td>0                          </td>\n",
              "        </tr>\n",
              "        <tr>\n",
              "            <td>Control  </td> <td>Unknown                      </td> <td>0                          </td>\n",
              "        </tr>\n",
              "        <tr>\n",
              "            <td>Control  </td> <td>Unknown                      </td> <td>0                          </td>\n",
              "        </tr>\n",
              "        <tr>\n",
              "            <td>Control  </td> <td>Unknown                      </td> <td>0                          </td>\n",
              "        </tr>\n",
              "        <tr>\n",
              "            <td>Control  </td> <td>Unknown                      </td> <td>0                          </td>\n",
              "        </tr>\n",
              "        <tr>\n",
              "            <td>Control  </td> <td>Unknown                      </td> <td>0                          </td>\n",
              "        </tr>\n",
              "        <tr>\n",
              "            <td>Control  </td> <td>Unknown                      </td> <td>0                          </td>\n",
              "        </tr>\n",
              "        <tr>\n",
              "            <td>Control  </td> <td>Unknown                      </td> <td>0                          </td>\n",
              "        </tr>\n",
              "        <tr>\n",
              "            <td>Control  </td> <td>Unknown                      </td> <td>0                          </td>\n",
              "        </tr>\n",
              "        <tr>\n",
              "            <td>Control  </td> <td>Unknown                      </td> <td>0                          </td>\n",
              "        </tr>\n",
              "        <tr>\n",
              "            <td>Control  </td> <td>Unknown                      </td> <td>0                          </td>\n",
              "        </tr>\n",
              "        <tr>\n",
              "            <td>Control  </td> <td>Unknown                      </td> <td>0                          </td>\n",
              "        </tr>\n",
              "        <tr>\n",
              "            <td>Control  </td> <td>Unknown                      </td> <td>0                          </td>\n",
              "        </tr>\n",
              "        <tr>\n",
              "            <td>Treatment</td> <td>1                            </td> <td>Unknown                    </td>\n",
              "        </tr>\n",
              "        <tr>\n",
              "            <td>Treatment</td> <td>1                            </td> <td>Unknown                    </td>\n",
              "        </tr>\n",
              "        <tr>\n",
              "            <td>Treatment</td> <td>1                            </td> <td>Unknown                    </td>\n",
              "        </tr>\n",
              "        <tr>\n",
              "            <td>Treatment</td> <td>1                            </td> <td>Unknown                    </td>\n",
              "        </tr>\n",
              "        <tr>\n",
              "            <td>Treatment</td> <td>1                            </td> <td>Unknown                    </td>\n",
              "        </tr>\n",
              "        <tr>\n",
              "            <td>Treatment</td> <td>1                            </td> <td>Unknown                    </td>\n",
              "        </tr>\n",
              "        <tr>\n",
              "            <td>Treatment</td> <td>1                            </td> <td>Unknown                    </td>\n",
              "        </tr>\n",
              "        <tr>\n",
              "            <td>Treatment</td> <td>1                            </td> <td>Unknown                    </td>\n",
              "        </tr>\n",
              "        <tr>\n",
              "            <td>Treatment</td> <td>1                            </td> <td>Unknown                    </td>\n",
              "        </tr>\n",
              "        <tr>\n",
              "            <td>Treatment</td> <td>0                            </td> <td>Unknown                    </td>\n",
              "        </tr>\n",
              "        <tr>\n",
              "            <td>Treatment</td> <td>0                            </td> <td>Unknown                    </td>\n",
              "        </tr>\n",
              "        <tr>\n",
              "            <td>Treatment</td> <td>0                            </td> <td>Unknown                    </td>\n",
              "        </tr>\n",
              "        <tr>\n",
              "            <td>Treatment</td> <td>0                            </td> <td>Unknown                    </td>\n",
              "        </tr>\n",
              "        <tr>\n",
              "            <td>Treatment</td> <td>0                            </td> <td>Unknown                    </td>\n",
              "        </tr>\n",
              "        <tr>\n",
              "            <td>Treatment</td> <td>0                            </td> <td>Unknown                    </td>\n",
              "        </tr>\n",
              "    </tbody>\n",
              "</table>"
            ],
            "text/plain": [
              "<IPython.core.display.HTML object>"
            ]
          },
          "metadata": {
            "tags": []
          }
        }
      ]
    },
    {
      "cell_type": "code",
      "metadata": {
        "id": "n1lVgRHUnLQT",
        "colab_type": "code",
        "colab": {
          "base_uri": "https://localhost:8080/",
          "height": 111
        },
        "outputId": "8886e077-fff7-4c50-e200-0af6cc1f4396"
      },
      "source": [
        "bta.group('Group', np.average)"
      ],
      "execution_count": 4,
      "outputs": [
        {
          "output_type": "execute_result",
          "data": {
            "text/html": [
              "<table border=\"1\" class=\"dataframe\">\n",
              "    <thead>\n",
              "        <tr>\n",
              "            <th>Group</th> <th>Result average</th>\n",
              "        </tr>\n",
              "    </thead>\n",
              "    <tbody>\n",
              "        <tr>\n",
              "            <td>Control  </td> <td>0.125         </td>\n",
              "        </tr>\n",
              "        <tr>\n",
              "            <td>Treatment</td> <td>0.6           </td>\n",
              "        </tr>\n",
              "    </tbody>\n",
              "</table>"
            ],
            "text/plain": [
              "Group     | Result average\n",
              "Control   | 0.125\n",
              "Treatment | 0.6"
            ]
          },
          "metadata": {
            "tags": []
          },
          "execution_count": 4
        }
      ]
    },
    {
      "cell_type": "code",
      "metadata": {
        "id": "wD_9Zpt7nLS1",
        "colab_type": "code",
        "colab": {
          "base_uri": "https://localhost:8080/",
          "height": 34
        },
        "outputId": "07581033-ea7e-4263-ebd7-036db3105e70"
      },
      "source": [
        "observed_proportions = bta.group('Group', np.average).column(1)\n",
        "observed_distance = abs(observed_proportions.item(0) \\\n",
        "                        - observed_proportions.item(1))\n",
        "observed_distance"
      ],
      "execution_count": 5,
      "outputs": [
        {
          "output_type": "execute_result",
          "data": {
            "text/plain": [
              "0.475"
            ]
          },
          "metadata": {
            "tags": []
          },
          "execution_count": 5
        }
      ]
    },
    {
      "cell_type": "code",
      "metadata": {
        "id": "FBS4JmctnLVd",
        "colab_type": "code",
        "colab": {
          "base_uri": "https://localhost:8080/",
          "height": 34
        },
        "outputId": "11033069-73a9-4297-b6ff-0cc1b8fc6a64"
      },
      "source": [
        "def distance(table, label, group_label):\n",
        "    reduced = table.select(label, group_label)\n",
        "    proportions = reduced.group(group_label, np.average).column(1)\n",
        "    return abs(proportions.item(1) - proportions.item(0))\n",
        "    \n",
        "distance(bta, 'Result', 'Group')"
      ],
      "execution_count": 6,
      "outputs": [
        {
          "output_type": "execute_result",
          "data": {
            "text/plain": [
              "0.475"
            ]
          },
          "metadata": {
            "tags": []
          },
          "execution_count": 6
        }
      ]
    },
    {
      "cell_type": "code",
      "metadata": {
        "id": "CUJpAKwTnLYE",
        "colab_type": "code",
        "colab": {
          "base_uri": "https://localhost:8080/",
          "height": 1000
        },
        "outputId": "c6a8dc28-f246-4454-e452-06d34493b237"
      },
      "source": [
        "shuffled_labels = bta.sample(with_replacement=False).column(0)\n",
        "bta_with_shuffled_labels = bta.with_column('Shuffled Label',\n",
        "                                           shuffled_labels)\n",
        "bta_with_shuffled_labels.show()"
      ],
      "execution_count": 7,
      "outputs": [
        {
          "output_type": "display_data",
          "data": {
            "text/html": [
              "<table border=\"1\" class=\"dataframe\">\n",
              "    <thead>\n",
              "        <tr>\n",
              "            <th>Group</th> <th>Result</th> <th>Shuffled Label</th>\n",
              "        </tr>\n",
              "    </thead>\n",
              "    <tbody>\n",
              "        <tr>\n",
              "            <td>Control  </td> <td>1     </td> <td>Control       </td>\n",
              "        </tr>\n",
              "        <tr>\n",
              "            <td>Control  </td> <td>1     </td> <td>Control       </td>\n",
              "        </tr>\n",
              "        <tr>\n",
              "            <td>Control  </td> <td>0     </td> <td>Treatment     </td>\n",
              "        </tr>\n",
              "        <tr>\n",
              "            <td>Control  </td> <td>0     </td> <td>Treatment     </td>\n",
              "        </tr>\n",
              "        <tr>\n",
              "            <td>Control  </td> <td>0     </td> <td>Control       </td>\n",
              "        </tr>\n",
              "        <tr>\n",
              "            <td>Control  </td> <td>0     </td> <td>Control       </td>\n",
              "        </tr>\n",
              "        <tr>\n",
              "            <td>Control  </td> <td>0     </td> <td>Treatment     </td>\n",
              "        </tr>\n",
              "        <tr>\n",
              "            <td>Control  </td> <td>0     </td> <td>Treatment     </td>\n",
              "        </tr>\n",
              "        <tr>\n",
              "            <td>Control  </td> <td>0     </td> <td>Treatment     </td>\n",
              "        </tr>\n",
              "        <tr>\n",
              "            <td>Control  </td> <td>0     </td> <td>Control       </td>\n",
              "        </tr>\n",
              "        <tr>\n",
              "            <td>Control  </td> <td>0     </td> <td>Control       </td>\n",
              "        </tr>\n",
              "        <tr>\n",
              "            <td>Control  </td> <td>0     </td> <td>Control       </td>\n",
              "        </tr>\n",
              "        <tr>\n",
              "            <td>Control  </td> <td>0     </td> <td>Treatment     </td>\n",
              "        </tr>\n",
              "        <tr>\n",
              "            <td>Control  </td> <td>0     </td> <td>Control       </td>\n",
              "        </tr>\n",
              "        <tr>\n",
              "            <td>Control  </td> <td>0     </td> <td>Treatment     </td>\n",
              "        </tr>\n",
              "        <tr>\n",
              "            <td>Control  </td> <td>0     </td> <td>Treatment     </td>\n",
              "        </tr>\n",
              "        <tr>\n",
              "            <td>Treatment</td> <td>1     </td> <td>Treatment     </td>\n",
              "        </tr>\n",
              "        <tr>\n",
              "            <td>Treatment</td> <td>1     </td> <td>Treatment     </td>\n",
              "        </tr>\n",
              "        <tr>\n",
              "            <td>Treatment</td> <td>1     </td> <td>Control       </td>\n",
              "        </tr>\n",
              "        <tr>\n",
              "            <td>Treatment</td> <td>1     </td> <td>Control       </td>\n",
              "        </tr>\n",
              "        <tr>\n",
              "            <td>Treatment</td> <td>1     </td> <td>Control       </td>\n",
              "        </tr>\n",
              "        <tr>\n",
              "            <td>Treatment</td> <td>1     </td> <td>Treatment     </td>\n",
              "        </tr>\n",
              "        <tr>\n",
              "            <td>Treatment</td> <td>1     </td> <td>Control       </td>\n",
              "        </tr>\n",
              "        <tr>\n",
              "            <td>Treatment</td> <td>1     </td> <td>Control       </td>\n",
              "        </tr>\n",
              "        <tr>\n",
              "            <td>Treatment</td> <td>1     </td> <td>Control       </td>\n",
              "        </tr>\n",
              "        <tr>\n",
              "            <td>Treatment</td> <td>0     </td> <td>Treatment     </td>\n",
              "        </tr>\n",
              "        <tr>\n",
              "            <td>Treatment</td> <td>0     </td> <td>Treatment     </td>\n",
              "        </tr>\n",
              "        <tr>\n",
              "            <td>Treatment</td> <td>0     </td> <td>Control       </td>\n",
              "        </tr>\n",
              "        <tr>\n",
              "            <td>Treatment</td> <td>0     </td> <td>Control       </td>\n",
              "        </tr>\n",
              "        <tr>\n",
              "            <td>Treatment</td> <td>0     </td> <td>Treatment     </td>\n",
              "        </tr>\n",
              "        <tr>\n",
              "            <td>Treatment</td> <td>0     </td> <td>Treatment     </td>\n",
              "        </tr>\n",
              "    </tbody>\n",
              "</table>"
            ],
            "text/plain": [
              "<IPython.core.display.HTML object>"
            ]
          },
          "metadata": {
            "tags": []
          }
        }
      ]
    },
    {
      "cell_type": "code",
      "metadata": {
        "id": "kgfPEIXlnLas",
        "colab_type": "code",
        "colab": {
          "base_uri": "https://localhost:8080/",
          "height": 34
        },
        "outputId": "3598e29b-5561-4328-d139-701195425f20"
      },
      "source": [
        "distance(bta_with_shuffled_labels, 'Result', 'Shuffled Label')"
      ],
      "execution_count": 8,
      "outputs": [
        {
          "output_type": "execute_result",
          "data": {
            "text/plain": [
              "0.3"
            ]
          },
          "metadata": {
            "tags": []
          },
          "execution_count": 8
        }
      ]
    },
    {
      "cell_type": "code",
      "metadata": {
        "id": "Zg8rWVYZnLdS",
        "colab_type": "code",
        "colab": {
          "base_uri": "https://localhost:8080/",
          "height": 34
        },
        "outputId": "ba604615-cf38-4e03-fd2a-ff2e228343ff"
      },
      "source": [
        "distance(bta_with_shuffled_labels, 'Result', 'Group')"
      ],
      "execution_count": 9,
      "outputs": [
        {
          "output_type": "execute_result",
          "data": {
            "text/plain": [
              "0.475"
            ]
          },
          "metadata": {
            "tags": []
          },
          "execution_count": 9
        }
      ]
    },
    {
      "cell_type": "code",
      "metadata": {
        "id": "eHoaSZ6ZnLf8",
        "colab_type": "code",
        "colab": {}
      },
      "source": [
        "def one_simulated_distance(table, label, group_label):\n",
        "    shuffled_labels = table.sample(with_replacement = False\n",
        "                                      ).column(group_label)\n",
        "    shuffled_table = table.select(label).with_column(\n",
        "        'Shuffled Label', shuffled_labels)\n",
        "    return distance(shuffled_table, label, 'Shuffled Label') \n",
        "\n",
        "distances = make_array()\n",
        "repetitions = 20000\n",
        "for i in np.arange(repetitions):\n",
        "    new_distance = one_simulated_distance(bta, 'Result', 'Group')\n",
        "    distances = np.append(distances, new_distance)    "
      ],
      "execution_count": 0,
      "outputs": []
    },
    {
      "cell_type": "code",
      "metadata": {
        "id": "eJmx-L6snLij",
        "colab_type": "code",
        "colab": {}
      },
      "source": [
        "empirical_P = np.count_nonzero(distances >= observed_distance) / repetitions\n",
        "empirical_P"
      ],
      "execution_count": 0,
      "outputs": []
    },
    {
      "cell_type": "code",
      "metadata": {
        "id": "J59iUGE6nLlM",
        "colab_type": "code",
        "colab": {}
      },
      "source": [
        "%matplotlib inline\n",
        "import matplotlib.pyplot as plots\n",
        "plots.style.use('fivethirtyeight')"
      ],
      "execution_count": 0,
      "outputs": []
    },
    {
      "cell_type": "code",
      "metadata": {
        "id": "l7xdkmKhnLn0",
        "colab_type": "code",
        "colab": {}
      },
      "source": [
        "Table().with_column('Distance', distances).hist(bins = np.arange(0, 0.7, 0.1))\n",
        "plots.scatter(observed_distance, 0, color='red', s=40)\n",
        "plots.title('Prediction Under the Null Hypothesis')\n",
        "print('Observed Distance', observed_distance)\n",
        "print('Empirical P-value:', round(empirical_P, 4) *100, '%')"
      ],
      "execution_count": 0,
      "outputs": []
    }
  ]
}