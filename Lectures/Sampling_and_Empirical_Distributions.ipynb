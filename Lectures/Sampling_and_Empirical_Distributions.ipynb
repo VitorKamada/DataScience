{
  "nbformat": 4,
  "nbformat_minor": 0,
  "metadata": {
    "colab": {
      "name": "Sampling_and_Empirical_Distributions.ipynb",
      "provenance": []
    },
    "kernelspec": {
      "name": "python3",
      "display_name": "Python 3"
    }
  },
  "cells": [
    {
      "cell_type": "code",
      "metadata": {
        "id": "4dQL9fvwP-id",
        "colab_type": "code",
        "colab": {
          "base_uri": "https://localhost:8080/",
          "height": 388
        },
        "outputId": "f768b9a4-900f-4aff-d4c8-be4a58261ed7"
      },
      "source": [
        "import numpy as np\n",
        "from datascience import *\n",
        "path_data = 'https://github.com/data-8/textbook/raw/gh-pages/data/'\n",
        "top1 = Table.read_table(path_data + 'top_movies.csv')\n",
        "top2 = top1.with_column('Row Index', np.arange(top1.num_rows))\n",
        "top = top2.move_to_start('Row Index')\n",
        "top.set_format(make_array(3, 4), NumberFormatter)"
      ],
      "execution_count": 1,
      "outputs": [
        {
          "output_type": "execute_result",
          "data": {
            "text/html": [
              "<table border=\"1\" class=\"dataframe\">\n",
              "    <thead>\n",
              "        <tr>\n",
              "            <th>Row Index</th> <th>Title</th> <th>Studio</th> <th>Gross</th> <th>Gross (Adjusted)</th> <th>Year</th>\n",
              "        </tr>\n",
              "    </thead>\n",
              "    <tbody>\n",
              "        <tr>\n",
              "            <td>0        </td> <td>Star Wars: The Force Awakens             </td> <td>Buena Vista (Disney)</td> <td>906,723,418</td> <td>906,723,400     </td> <td>2015</td>\n",
              "        </tr>\n",
              "        <tr>\n",
              "            <td>1        </td> <td>Avatar                                   </td> <td>Fox                 </td> <td>760,507,625</td> <td>846,120,800     </td> <td>2009</td>\n",
              "        </tr>\n",
              "        <tr>\n",
              "            <td>2        </td> <td>Titanic                                  </td> <td>Paramount           </td> <td>658,672,302</td> <td>1,178,627,900   </td> <td>1997</td>\n",
              "        </tr>\n",
              "        <tr>\n",
              "            <td>3        </td> <td>Jurassic World                           </td> <td>Universal           </td> <td>652,270,625</td> <td>687,728,000     </td> <td>2015</td>\n",
              "        </tr>\n",
              "        <tr>\n",
              "            <td>4        </td> <td>Marvel's The Avengers                    </td> <td>Buena Vista (Disney)</td> <td>623,357,910</td> <td>668,866,600     </td> <td>2012</td>\n",
              "        </tr>\n",
              "        <tr>\n",
              "            <td>5        </td> <td>The Dark Knight                          </td> <td>Warner Bros.        </td> <td>534,858,444</td> <td>647,761,600     </td> <td>2008</td>\n",
              "        </tr>\n",
              "        <tr>\n",
              "            <td>6        </td> <td>Star Wars: Episode I - The Phantom Menace</td> <td>Fox                 </td> <td>474,544,677</td> <td>785,715,000     </td> <td>1999</td>\n",
              "        </tr>\n",
              "        <tr>\n",
              "            <td>7        </td> <td>Star Wars                                </td> <td>Fox                 </td> <td>460,998,007</td> <td>1,549,640,500   </td> <td>1977</td>\n",
              "        </tr>\n",
              "        <tr>\n",
              "            <td>8        </td> <td>Avengers: Age of Ultron                  </td> <td>Buena Vista (Disney)</td> <td>459,005,868</td> <td>465,684,200     </td> <td>2015</td>\n",
              "        </tr>\n",
              "        <tr>\n",
              "            <td>9        </td> <td>The Dark Knight Rises                    </td> <td>Warner Bros.        </td> <td>448,139,099</td> <td>500,961,700     </td> <td>2012</td>\n",
              "        </tr>\n",
              "    </tbody>\n",
              "</table>\n",
              "<p>... (190 rows omitted)</p>"
            ],
            "text/plain": [
              "Row Index | Title                                     | Studio               | Gross       | Gross (Adjusted) | Year\n",
              "0         | Star Wars: The Force Awakens              | Buena Vista (Disney) | 906,723,418 | 906,723,400      | 2015\n",
              "1         | Avatar                                    | Fox                  | 760,507,625 | 846,120,800      | 2009\n",
              "2         | Titanic                                   | Paramount            | 658,672,302 | 1,178,627,900    | 1997\n",
              "3         | Jurassic World                            | Universal            | 652,270,625 | 687,728,000      | 2015\n",
              "4         | Marvel's The Avengers                     | Buena Vista (Disney) | 623,357,910 | 668,866,600      | 2012\n",
              "5         | The Dark Knight                           | Warner Bros.         | 534,858,444 | 647,761,600      | 2008\n",
              "6         | Star Wars: Episode I - The Phantom Menace | Fox                  | 474,544,677 | 785,715,000      | 1999\n",
              "7         | Star Wars                                 | Fox                  | 460,998,007 | 1,549,640,500    | 1977\n",
              "8         | Avengers: Age of Ultron                   | Buena Vista (Disney) | 459,005,868 | 465,684,200      | 2015\n",
              "9         | The Dark Knight Rises                     | Warner Bros.         | 448,139,099 | 500,961,700      | 2012\n",
              "... (190 rows omitted)"
            ]
          },
          "metadata": {
            "tags": []
          },
          "execution_count": 1
        }
      ]
    },
    {
      "cell_type": "code",
      "metadata": {
        "id": "xi795LMQQALF",
        "colab_type": "code",
        "colab": {
          "base_uri": "https://localhost:8080/",
          "height": 142
        },
        "outputId": "888a65d1-03d1-4f5b-e9b2-392dfbce7151"
      },
      "source": [
        "top.take(make_array(3, 18, 100))"
      ],
      "execution_count": 2,
      "outputs": [
        {
          "output_type": "execute_result",
          "data": {
            "text/html": [
              "<table border=\"1\" class=\"dataframe\">\n",
              "    <thead>\n",
              "        <tr>\n",
              "            <th>Row Index</th> <th>Title</th> <th>Studio</th> <th>Gross</th> <th>Gross (Adjusted)</th> <th>Year</th>\n",
              "        </tr>\n",
              "    </thead>\n",
              "    <tbody>\n",
              "        <tr>\n",
              "            <td>3        </td> <td>Jurassic World    </td> <td>Universal</td> <td>652,270,625</td> <td>687,728,000     </td> <td>2015</td>\n",
              "        </tr>\n",
              "        <tr>\n",
              "            <td>18       </td> <td>Spider-Man        </td> <td>Sony     </td> <td>403,706,375</td> <td>604,517,300     </td> <td>2002</td>\n",
              "        </tr>\n",
              "        <tr>\n",
              "            <td>100      </td> <td>Gone with the Wind</td> <td>MGM      </td> <td>198,676,459</td> <td>1,757,788,200   </td> <td>1939</td>\n",
              "        </tr>\n",
              "    </tbody>\n",
              "</table>"
            ],
            "text/plain": [
              "Row Index | Title              | Studio    | Gross       | Gross (Adjusted) | Year\n",
              "3         | Jurassic World     | Universal | 652,270,625 | 687,728,000      | 2015\n",
              "18        | Spider-Man         | Sony      | 403,706,375 | 604,517,300      | 2002\n",
              "100       | Gone with the Wind | MGM       | 198,676,459 | 1,757,788,200    | 1939"
            ]
          },
          "metadata": {
            "tags": []
          },
          "execution_count": 2
        }
      ]
    },
    {
      "cell_type": "code",
      "metadata": {
        "id": "m8YU4UeOQANv",
        "colab_type": "code",
        "colab": {
          "base_uri": "https://localhost:8080/",
          "height": 266
        },
        "outputId": "1f43f123-c6cb-4362-acdb-edfb682f9745"
      },
      "source": [
        "top.where('Title', are.containing('Harry Potter'))"
      ],
      "execution_count": 3,
      "outputs": [
        {
          "output_type": "execute_result",
          "data": {
            "text/html": [
              "<table border=\"1\" class=\"dataframe\">\n",
              "    <thead>\n",
              "        <tr>\n",
              "            <th>Row Index</th> <th>Title</th> <th>Studio</th> <th>Gross</th> <th>Gross (Adjusted)</th> <th>Year</th>\n",
              "        </tr>\n",
              "    </thead>\n",
              "    <tbody>\n",
              "        <tr>\n",
              "            <td>22       </td> <td>Harry Potter and the Deathly Hallows Part 2</td> <td>Warner Bros.</td> <td>381,011,219</td> <td>417,512,200     </td> <td>2011</td>\n",
              "        </tr>\n",
              "        <tr>\n",
              "            <td>43       </td> <td>Harry Potter and the Sorcerer's Stone      </td> <td>Warner Bros.</td> <td>317,575,550</td> <td>486,442,900     </td> <td>2001</td>\n",
              "        </tr>\n",
              "        <tr>\n",
              "            <td>54       </td> <td>Harry Potter and the Half-Blood Prince     </td> <td>Warner Bros.</td> <td>301,959,197</td> <td>352,098,800     </td> <td>2009</td>\n",
              "        </tr>\n",
              "        <tr>\n",
              "            <td>59       </td> <td>Harry Potter and the Order of the Phoenix  </td> <td>Warner Bros.</td> <td>292,004,738</td> <td>369,250,200     </td> <td>2007</td>\n",
              "        </tr>\n",
              "        <tr>\n",
              "            <td>62       </td> <td>Harry Potter and the Goblet of Fire        </td> <td>Warner Bros.</td> <td>290,013,036</td> <td>393,024,800     </td> <td>2005</td>\n",
              "        </tr>\n",
              "        <tr>\n",
              "            <td>69       </td> <td>Harry Potter and the Chamber of Secrets    </td> <td>Warner Bros.</td> <td>261,988,482</td> <td>390,768,100     </td> <td>2002</td>\n",
              "        </tr>\n",
              "        <tr>\n",
              "            <td>76       </td> <td>Harry Potter and the Prisoner of Azkaban   </td> <td>Warner Bros.</td> <td>249,541,069</td> <td>349,598,600     </td> <td>2004</td>\n",
              "        </tr>\n",
              "    </tbody>\n",
              "</table>"
            ],
            "text/plain": [
              "Row Index | Title                                       | Studio       | Gross       | Gross (Adjusted) | Year\n",
              "22        | Harry Potter and the Deathly Hallows Part 2 | Warner Bros. | 381,011,219 | 417,512,200      | 2011\n",
              "43        | Harry Potter and the Sorcerer's Stone       | Warner Bros. | 317,575,550 | 486,442,900      | 2001\n",
              "54        | Harry Potter and the Half-Blood Prince      | Warner Bros. | 301,959,197 | 352,098,800      | 2009\n",
              "59        | Harry Potter and the Order of the Phoenix   | Warner Bros. | 292,004,738 | 369,250,200      | 2007\n",
              "62        | Harry Potter and the Goblet of Fire         | Warner Bros. | 290,013,036 | 393,024,800      | 2005\n",
              "69        | Harry Potter and the Chamber of Secrets     | Warner Bros. | 261,988,482 | 390,768,100      | 2002\n",
              "76        | Harry Potter and the Prisoner of Azkaban    | Warner Bros. | 249,541,069 | 349,598,600      | 2004"
            ]
          },
          "metadata": {
            "tags": []
          },
          "execution_count": 3
        }
      ]
    },
    {
      "cell_type": "code",
      "metadata": {
        "id": "sZ1Gfb3kQAQj",
        "colab_type": "code",
        "colab": {
          "base_uri": "https://localhost:8080/",
          "height": 388
        },
        "outputId": "a33eabb2-e474-4215-b18c-da6a778e8fa3"
      },
      "source": [
        "\"\"\"Choose a random start among rows 0 through 9;\n",
        "then take every 10th row.\"\"\"\n",
        "start = np.random.choice(np.arange(10))\n",
        "top.take(np.arange(start, top.num_rows, 10))"
      ],
      "execution_count": 4,
      "outputs": [
        {
          "output_type": "execute_result",
          "data": {
            "text/html": [
              "<table border=\"1\" class=\"dataframe\">\n",
              "    <thead>\n",
              "        <tr>\n",
              "            <th>Row Index</th> <th>Title</th> <th>Studio</th> <th>Gross</th> <th>Gross (Adjusted)</th> <th>Year</th>\n",
              "        </tr>\n",
              "    </thead>\n",
              "    <tbody>\n",
              "        <tr>\n",
              "            <td>2        </td> <td>Titanic                                    </td> <td>Paramount   </td> <td>658,672,302</td> <td>1,178,627,900   </td> <td>1997</td>\n",
              "        </tr>\n",
              "        <tr>\n",
              "            <td>12       </td> <td>The Hunger Games: Catching Fire            </td> <td>Lionsgate   </td> <td>424,668,047</td> <td>444,697,400     </td> <td>2013</td>\n",
              "        </tr>\n",
              "        <tr>\n",
              "            <td>22       </td> <td>Harry Potter and the Deathly Hallows Part 2</td> <td>Warner Bros.</td> <td>381,011,219</td> <td>417,512,200     </td> <td>2011</td>\n",
              "        </tr>\n",
              "        <tr>\n",
              "            <td>32       </td> <td>American Sniper                            </td> <td>Warner Bros.</td> <td>350,126,372</td> <td>374,796,000     </td> <td>2014</td>\n",
              "        </tr>\n",
              "        <tr>\n",
              "            <td>42       </td> <td>Iron Man                                   </td> <td>Paramount   </td> <td>318,412,101</td> <td>385,808,100     </td> <td>2008</td>\n",
              "        </tr>\n",
              "        <tr>\n",
              "            <td>52       </td> <td>Skyfall                                    </td> <td>Sony        </td> <td>304,360,277</td> <td>329,225,400     </td> <td>2012</td>\n",
              "        </tr>\n",
              "        <tr>\n",
              "            <td>62       </td> <td>Harry Potter and the Goblet of Fire        </td> <td>Warner Bros.</td> <td>290,013,036</td> <td>393,024,800     </td> <td>2005</td>\n",
              "        </tr>\n",
              "        <tr>\n",
              "            <td>72       </td> <td>Jaws                                       </td> <td>Universal   </td> <td>260,000,000</td> <td>1,114,285,700   </td> <td>1975</td>\n",
              "        </tr>\n",
              "        <tr>\n",
              "            <td>82       </td> <td>Twister                                    </td> <td>Warner Bros.</td> <td>241,721,524</td> <td>475,786,700     </td> <td>1996</td>\n",
              "        </tr>\n",
              "        <tr>\n",
              "            <td>92       </td> <td>Ghost                                      </td> <td>Paramount   </td> <td>217,631,306</td> <td>447,747,400     </td> <td>1990</td>\n",
              "        </tr>\n",
              "    </tbody>\n",
              "</table>\n",
              "<p>... (10 rows omitted)</p>"
            ],
            "text/plain": [
              "Row Index | Title                                       | Studio       | Gross       | Gross (Adjusted) | Year\n",
              "2         | Titanic                                     | Paramount    | 658,672,302 | 1,178,627,900    | 1997\n",
              "12        | The Hunger Games: Catching Fire             | Lionsgate    | 424,668,047 | 444,697,400      | 2013\n",
              "22        | Harry Potter and the Deathly Hallows Part 2 | Warner Bros. | 381,011,219 | 417,512,200      | 2011\n",
              "32        | American Sniper                             | Warner Bros. | 350,126,372 | 374,796,000      | 2014\n",
              "42        | Iron Man                                    | Paramount    | 318,412,101 | 385,808,100      | 2008\n",
              "52        | Skyfall                                     | Sony         | 304,360,277 | 329,225,400      | 2012\n",
              "62        | Harry Potter and the Goblet of Fire         | Warner Bros. | 290,013,036 | 393,024,800      | 2005\n",
              "72        | Jaws                                        | Universal    | 260,000,000 | 1,114,285,700    | 1975\n",
              "82        | Twister                                     | Warner Bros. | 241,721,524 | 475,786,700      | 1996\n",
              "92        | Ghost                                       | Paramount    | 217,631,306 | 447,747,400      | 1990\n",
              "... (10 rows omitted)"
            ]
          },
          "metadata": {
            "tags": []
          },
          "execution_count": 4
        }
      ]
    },
    {
      "cell_type": "code",
      "metadata": {
        "id": "WeVTUlT2QATT",
        "colab_type": "code",
        "colab": {
          "base_uri": "https://localhost:8080/",
          "height": 235
        },
        "outputId": "ab4a4102-03d8-4b51-f90f-83d4cf200e97"
      },
      "source": [
        "die = Table().with_column('Face', np.arange(1, 7, 1))\n",
        "die"
      ],
      "execution_count": 5,
      "outputs": [
        {
          "output_type": "execute_result",
          "data": {
            "text/html": [
              "<table border=\"1\" class=\"dataframe\">\n",
              "    <thead>\n",
              "        <tr>\n",
              "            <th>Face</th>\n",
              "        </tr>\n",
              "    </thead>\n",
              "    <tbody>\n",
              "        <tr>\n",
              "            <td>1   </td>\n",
              "        </tr>\n",
              "        <tr>\n",
              "            <td>2   </td>\n",
              "        </tr>\n",
              "        <tr>\n",
              "            <td>3   </td>\n",
              "        </tr>\n",
              "        <tr>\n",
              "            <td>4   </td>\n",
              "        </tr>\n",
              "        <tr>\n",
              "            <td>5   </td>\n",
              "        </tr>\n",
              "        <tr>\n",
              "            <td>6   </td>\n",
              "        </tr>\n",
              "    </tbody>\n",
              "</table>"
            ],
            "text/plain": [
              "Face\n",
              "1\n",
              "2\n",
              "3\n",
              "4\n",
              "5\n",
              "6"
            ]
          },
          "metadata": {
            "tags": []
          },
          "execution_count": 5
        }
      ]
    },
    {
      "cell_type": "code",
      "metadata": {
        "id": "P0RNFchwQAV7",
        "colab_type": "code",
        "colab": {
          "base_uri": "https://localhost:8080/",
          "height": 359
        },
        "outputId": "2447beb2-cc3e-480b-bb2f-2929ee076507"
      },
      "source": [
        "die.sample(10)"
      ],
      "execution_count": 6,
      "outputs": [
        {
          "output_type": "execute_result",
          "data": {
            "text/html": [
              "<table border=\"1\" class=\"dataframe\">\n",
              "    <thead>\n",
              "        <tr>\n",
              "            <th>Face</th>\n",
              "        </tr>\n",
              "    </thead>\n",
              "    <tbody>\n",
              "        <tr>\n",
              "            <td>1   </td>\n",
              "        </tr>\n",
              "        <tr>\n",
              "            <td>2   </td>\n",
              "        </tr>\n",
              "        <tr>\n",
              "            <td>4   </td>\n",
              "        </tr>\n",
              "        <tr>\n",
              "            <td>3   </td>\n",
              "        </tr>\n",
              "        <tr>\n",
              "            <td>2   </td>\n",
              "        </tr>\n",
              "        <tr>\n",
              "            <td>2   </td>\n",
              "        </tr>\n",
              "        <tr>\n",
              "            <td>1   </td>\n",
              "        </tr>\n",
              "        <tr>\n",
              "            <td>4   </td>\n",
              "        </tr>\n",
              "        <tr>\n",
              "            <td>2   </td>\n",
              "        </tr>\n",
              "        <tr>\n",
              "            <td>3   </td>\n",
              "        </tr>\n",
              "    </tbody>\n",
              "</table>"
            ],
            "text/plain": [
              "Face\n",
              "1\n",
              "2\n",
              "4\n",
              "3\n",
              "2\n",
              "2\n",
              "1\n",
              "4\n",
              "2\n",
              "3"
            ]
          },
          "metadata": {
            "tags": []
          },
          "execution_count": 6
        }
      ]
    },
    {
      "cell_type": "code",
      "metadata": {
        "id": "n9CaGi5DR4FE",
        "colab_type": "code",
        "colab": {
          "base_uri": "https://localhost:8080/",
          "height": 306
        },
        "outputId": "ed85d1a4-34c4-4f0f-b94d-aca8ab206a1a"
      },
      "source": [
        "%matplotlib inline\n",
        "import matplotlib.pyplot as plots\n",
        "plots.style.use('fivethirtyeight')\n",
        "die_bins = np.arange(0.5, 6.6, 1)\n",
        "die.hist(bins = die_bins)"
      ],
      "execution_count": 7,
      "outputs": [
        {
          "output_type": "display_data",
          "data": {
            "image/png": "[encoded data removed]",
            "text/plain": [
              "<Figure size 432x288 with 1 Axes>"
            ]
          },
          "metadata": {
            "tags": []
          }
        }
      ]
    },
    {
      "cell_type": "code",
      "metadata": {
        "id": "GxFo283MQAYj",
        "colab_type": "code",
        "colab": {}
      },
      "source": [
        "def empirical_hist_die(n):\n",
        "    die.sample(n).hist(bins = die_bins)"
      ],
      "execution_count": 0,
      "outputs": []
    },
    {
      "cell_type": "code",
      "metadata": {
        "id": "9DZqYVqnQAbL",
        "colab_type": "code",
        "colab": {
          "base_uri": "https://localhost:8080/",
          "height": 301
        },
        "outputId": "fb88f750-83b4-4e76-f076-be11a0ca050e"
      },
      "source": [
        "empirical_hist_die(10)"
      ],
      "execution_count": 9,
      "outputs": [
        {
          "output_type": "display_data",
          "data": {
            "image/png": "[encoded data removed]",
            "text/plain": [
              "<Figure size 432x288 with 1 Axes>"
            ]
          },
          "metadata": {
            "tags": []
          }
        }
      ]
    },
    {
      "cell_type": "code",
      "metadata": {
        "id": "U456ebRCQAd0",
        "colab_type": "code",
        "colab": {
          "base_uri": "https://localhost:8080/",
          "height": 301
        },
        "outputId": "6a6534d5-6b60-4c0f-fe7e-f22be699956a"
      },
      "source": [
        "empirical_hist_die(100)"
      ],
      "execution_count": 10,
      "outputs": [
        {
          "output_type": "display_data",
          "data": {
            "image/png": "[encoded data removed]",
            "text/plain": [
              "<Figure size 432x288 with 1 Axes>"
            ]
          },
          "metadata": {
            "tags": []
          }
        }
      ]
    },
    {
      "cell_type": "code",
      "metadata": {
        "id": "xGAL47p2SA70",
        "colab_type": "code",
        "colab": {
          "base_uri": "https://localhost:8080/",
          "height": 301
        },
        "outputId": "6352cc1f-3874-440d-f5ba-e96abb2a4e63"
      },
      "source": [
        "empirical_hist_die(1000)"
      ],
      "execution_count": 11,
      "outputs": [
        {
          "output_type": "display_data",
          "data": {
            "image/png": "[encoded data removed]",
            "text/plain": [
              "<Figure size 432x288 with 1 Axes>"
            ]
          },
          "metadata": {
            "tags": []
          }
        }
      ]
    },
    {
      "cell_type": "code",
      "metadata": {
        "id": "pFl5jSdjSA-k",
        "colab_type": "code",
        "colab": {
          "base_uri": "https://localhost:8080/",
          "height": 388
        },
        "outputId": "4342003e-f99c-4f7e-94c8-d465de92069c"
      },
      "source": [
        "united = Table.read_table(path_data + 'united_summer2015.csv')\n",
        "united"
      ],
      "execution_count": 12,
      "outputs": [
        {
          "output_type": "execute_result",
          "data": {
            "text/html": [
              "<table border=\"1\" class=\"dataframe\">\n",
              "    <thead>\n",
              "        <tr>\n",
              "            <th>Date</th> <th>Flight Number</th> <th>Destination</th> <th>Delay</th>\n",
              "        </tr>\n",
              "    </thead>\n",
              "    <tbody>\n",
              "        <tr>\n",
              "            <td>6/1/15</td> <td>73           </td> <td>HNL        </td> <td>257  </td>\n",
              "        </tr>\n",
              "        <tr>\n",
              "            <td>6/1/15</td> <td>217          </td> <td>EWR        </td> <td>28   </td>\n",
              "        </tr>\n",
              "        <tr>\n",
              "            <td>6/1/15</td> <td>237          </td> <td>STL        </td> <td>-3   </td>\n",
              "        </tr>\n",
              "        <tr>\n",
              "            <td>6/1/15</td> <td>250          </td> <td>SAN        </td> <td>0    </td>\n",
              "        </tr>\n",
              "        <tr>\n",
              "            <td>6/1/15</td> <td>267          </td> <td>PHL        </td> <td>64   </td>\n",
              "        </tr>\n",
              "        <tr>\n",
              "            <td>6/1/15</td> <td>273          </td> <td>SEA        </td> <td>-6   </td>\n",
              "        </tr>\n",
              "        <tr>\n",
              "            <td>6/1/15</td> <td>278          </td> <td>SEA        </td> <td>-8   </td>\n",
              "        </tr>\n",
              "        <tr>\n",
              "            <td>6/1/15</td> <td>292          </td> <td>EWR        </td> <td>12   </td>\n",
              "        </tr>\n",
              "        <tr>\n",
              "            <td>6/1/15</td> <td>300          </td> <td>HNL        </td> <td>20   </td>\n",
              "        </tr>\n",
              "        <tr>\n",
              "            <td>6/1/15</td> <td>317          </td> <td>IND        </td> <td>-10  </td>\n",
              "        </tr>\n",
              "    </tbody>\n",
              "</table>\n",
              "<p>... (13815 rows omitted)</p>"
            ],
            "text/plain": [
              "Date   | Flight Number | Destination | Delay\n",
              "6/1/15 | 73            | HNL         | 257\n",
              "6/1/15 | 217           | EWR         | 28\n",
              "6/1/15 | 237           | STL         | -3\n",
              "6/1/15 | 250           | SAN         | 0\n",
              "6/1/15 | 267           | PHL         | 64\n",
              "6/1/15 | 273           | SEA         | -6\n",
              "6/1/15 | 278           | SEA         | -8\n",
              "6/1/15 | 292           | EWR         | 12\n",
              "6/1/15 | 300           | HNL         | 20\n",
              "6/1/15 | 317           | IND         | -10\n",
              "... (13815 rows omitted)"
            ]
          },
          "metadata": {
            "tags": []
          },
          "execution_count": 12
        }
      ]
    },
    {
      "cell_type": "code",
      "metadata": {
        "id": "gy9VmdW7SBBU",
        "colab_type": "code",
        "colab": {
          "base_uri": "https://localhost:8080/",
          "height": 34
        },
        "outputId": "dce049f3-22fc-46f5-ee16-1bd284fa31e4"
      },
      "source": [
        "united.column('Delay').min()"
      ],
      "execution_count": 13,
      "outputs": [
        {
          "output_type": "execute_result",
          "data": {
            "text/plain": [
              "-16"
            ]
          },
          "metadata": {
            "tags": []
          },
          "execution_count": 13
        }
      ]
    },
    {
      "cell_type": "code",
      "metadata": {
        "id": "0eCjhoVNSBED",
        "colab_type": "code",
        "colab": {
          "base_uri": "https://localhost:8080/",
          "height": 34
        },
        "outputId": "40cab4d7-7502-4f7f-84c2-11555dd78764"
      },
      "source": [
        "united.column('Delay').max()"
      ],
      "execution_count": 14,
      "outputs": [
        {
          "output_type": "execute_result",
          "data": {
            "text/plain": [
              "580"
            ]
          },
          "metadata": {
            "tags": []
          },
          "execution_count": 14
        }
      ]
    },
    {
      "cell_type": "code",
      "metadata": {
        "id": "zI8SetBISS9E",
        "colab_type": "code",
        "colab": {
          "base_uri": "https://localhost:8080/",
          "height": 301
        },
        "outputId": "7ce8c5e9-963f-4e85-99fe-b3090992abb4"
      },
      "source": [
        "delay_bins = np.append(np.arange(-20, 301, 10), 600)\n",
        "united.hist('Delay', bins = delay_bins, unit = 'minute')"
      ],
      "execution_count": 15,
      "outputs": [
        {
          "output_type": "display_data",
          "data": {
            "image/png": "[encoded data removed]",
            "text/plain": [
              "<Figure size 432x288 with 1 Axes>"
            ]
          },
          "metadata": {
            "tags": []
          }
        }
      ]
    },
    {
      "cell_type": "code",
      "metadata": {
        "id": "BvWt5SVnSS_z",
        "colab_type": "code",
        "colab": {
          "base_uri": "https://localhost:8080/",
          "height": 34
        },
        "outputId": "81bcbb5f-2396-4142-9bd3-f7d85ebbf642"
      },
      "source": [
        "united.where('Delay', are.above(200)).num_rows/united.num_rows"
      ],
      "execution_count": 16,
      "outputs": [
        {
          "output_type": "execute_result",
          "data": {
            "text/plain": [
              "0.008390596745027125"
            ]
          },
          "metadata": {
            "tags": []
          },
          "execution_count": 16
        }
      ]
    },
    {
      "cell_type": "code",
      "metadata": {
        "id": "IxmvHCg0STDF",
        "colab_type": "code",
        "colab": {
          "base_uri": "https://localhost:8080/",
          "height": 322
        },
        "outputId": "5e1cddfd-e53b-4db6-f229-2d09d1bd51cc"
      },
      "source": [
        "delay_bins = np.arange(-20, 201, 10)\n",
        "united.hist('Delay', bins = delay_bins, unit = 'minute')\n",
        "plots.title('Population');"
      ],
      "execution_count": 17,
      "outputs": [
        {
          "output_type": "display_data",
          "data": {
            "image/png": "[encoded data removed]",
            "text/plain": [
              "<Figure size 432x288 with 1 Axes>"
            ]
          },
          "metadata": {
            "tags": []
          }
        }
      ]
    },
    {
      "cell_type": "code",
      "metadata": {
        "id": "ysg0cIleSTF1",
        "colab_type": "code",
        "colab": {
          "base_uri": "https://localhost:8080/",
          "height": 34
        },
        "outputId": "516d006d-80e7-456a-a976-52e5685cd4cf"
      },
      "source": [
        "united.where('Delay', are.between(0,\n",
        "      10)).num_rows/united.num_rows"
      ],
      "execution_count": 18,
      "outputs": [
        {
          "output_type": "execute_result",
          "data": {
            "text/plain": [
              "0.2935985533453888"
            ]
          },
          "metadata": {
            "tags": []
          },
          "execution_count": 18
        }
      ]
    },
    {
      "cell_type": "code",
      "metadata": {
        "id": "vgNKDki1STId",
        "colab_type": "code",
        "colab": {}
      },
      "source": [
        "def empirical_hist_delay(n):\n",
        "    united.sample(n).hist('Delay', \n",
        "    bins = delay_bins, unit = 'minute')"
      ],
      "execution_count": 0,
      "outputs": []
    },
    {
      "cell_type": "code",
      "metadata": {
        "id": "9kU1twwHSTLU",
        "colab_type": "code",
        "colab": {
          "base_uri": "https://localhost:8080/",
          "height": 301
        },
        "outputId": "04b49c2b-072d-462f-c63b-1ac4d4d1d108"
      },
      "source": [
        "empirical_hist_delay(10)"
      ],
      "execution_count": 20,
      "outputs": [
        {
          "output_type": "display_data",
          "data": {
            "image/png": "[encoded data removed]",
            "text/plain": [
              "<Figure size 432x288 with 1 Axes>"
            ]
          },
          "metadata": {
            "tags": []
          }
        }
      ]
    },
    {
      "cell_type": "code",
      "metadata": {
        "id": "LTwd8N5RSTOK",
        "colab_type": "code",
        "colab": {
          "base_uri": "https://localhost:8080/",
          "height": 301
        },
        "outputId": "d63be359-a2c4-4384-8be7-06e6fe04f622"
      },
      "source": [
        "empirical_hist_delay(100)"
      ],
      "execution_count": 21,
      "outputs": [
        {
          "output_type": "display_data",
          "data": {
            "image/png": "[encoded data removed]",
            "text/plain": [
              "<Figure size 432x288 with 1 Axes>"
            ]
          },
          "metadata": {
            "tags": []
          }
        }
      ]
    },
    {
      "cell_type": "code",
      "metadata": {
        "id": "NCYxXlqLSqlO",
        "colab_type": "code",
        "colab": {
          "base_uri": "https://localhost:8080/",
          "height": 304
        },
        "outputId": "78de0128-08ac-4aaa-a857-ef5386f712b1"
      },
      "source": [
        "empirical_hist_delay(1000)"
      ],
      "execution_count": 22,
      "outputs": [
        {
          "output_type": "display_data",
          "data": {
            "image/png": "[encoded data removed]",
            "text/plain": [
              "<Figure size 432x288 with 1 Axes>"
            ]
          },
          "metadata": {
            "tags": []
          }
        }
      ]
    },
    {
      "cell_type": "code",
      "metadata": {
        "id": "yhmynmMPSqoA",
        "colab_type": "code",
        "colab": {
          "base_uri": "https://localhost:8080/",
          "height": 322
        },
        "outputId": "f6c2920a-19c8-4ff3-c412-fa021f115452"
      },
      "source": [
        "sample_1000 = united.sample(1000)\n",
        "sample_1000.hist('Delay', bins = delay_bins, unit = 'minute')\n",
        "plots.title('Sample of Size 1000');"
      ],
      "execution_count": 23,
      "outputs": [
        {
          "output_type": "display_data",
          "data": {
            "image/png": "[encoded data removed]",
            "text/plain": [
              "<Figure size 432x288 with 1 Axes>"
            ]
          },
          "metadata": {
            "tags": []
          }
        }
      ]
    },
    {
      "cell_type": "code",
      "metadata": {
        "id": "j_dbk4bUSqrH",
        "colab_type": "code",
        "colab": {
          "base_uri": "https://localhost:8080/",
          "height": 34
        },
        "outputId": "5f57a214-1e5a-4f77-de5d-9eb7b8ea4cc8"
      },
      "source": [
        "np.median(united.column('Delay'))"
      ],
      "execution_count": 24,
      "outputs": [
        {
          "output_type": "execute_result",
          "data": {
            "text/plain": [
              "2.0"
            ]
          },
          "metadata": {
            "tags": []
          },
          "execution_count": 24
        }
      ]
    },
    {
      "cell_type": "code",
      "metadata": {
        "id": "n_ZBsDhLSqt8",
        "colab_type": "code",
        "colab": {
          "base_uri": "https://localhost:8080/",
          "height": 34
        },
        "outputId": "4cc1701b-5362-4208-8c86-1aea8f3bb5c4"
      },
      "source": [
        "united.where('Delay', are.below_or_equal_to(2)).num_rows / united.num_rows"
      ],
      "execution_count": 25,
      "outputs": [
        {
          "output_type": "execute_result",
          "data": {
            "text/plain": [
              "0.5018444846292948"
            ]
          },
          "metadata": {
            "tags": []
          },
          "execution_count": 25
        }
      ]
    },
    {
      "cell_type": "code",
      "metadata": {
        "id": "wgeenY8TSqwk",
        "colab_type": "code",
        "colab": {
          "base_uri": "https://localhost:8080/",
          "height": 34
        },
        "outputId": "b727ea68-d0b7-46c7-d8db-e58b506b2cec"
      },
      "source": [
        "united.where('Delay', are.equal_to(2)).num_rows"
      ],
      "execution_count": 26,
      "outputs": [
        {
          "output_type": "execute_result",
          "data": {
            "text/plain": [
              "480"
            ]
          },
          "metadata": {
            "tags": []
          },
          "execution_count": 26
        }
      ]
    },
    {
      "cell_type": "code",
      "metadata": {
        "id": "Ioz0smzJSqy8",
        "colab_type": "code",
        "colab": {
          "base_uri": "https://localhost:8080/",
          "height": 34
        },
        "outputId": "fd299004-1a4e-44e4-f5a2-bfe4513b4241"
      },
      "source": [
        "np.median(sample_1000.column('Delay'))"
      ],
      "execution_count": 27,
      "outputs": [
        {
          "output_type": "execute_result",
          "data": {
            "text/plain": [
              "1.0"
            ]
          },
          "metadata": {
            "tags": []
          },
          "execution_count": 27
        }
      ]
    },
    {
      "cell_type": "code",
      "metadata": {
        "id": "s_8kFph8TIxW",
        "colab_type": "code",
        "colab": {
          "base_uri": "https://localhost:8080/",
          "height": 34
        },
        "outputId": "c25fe05e-cc43-44d7-df2d-4e4c4003df4f"
      },
      "source": [
        "np.median(united.sample(1000).column('Delay'))"
      ],
      "execution_count": 28,
      "outputs": [
        {
          "output_type": "execute_result",
          "data": {
            "text/plain": [
              "2.5"
            ]
          },
          "metadata": {
            "tags": []
          },
          "execution_count": 28
        }
      ]
    },
    {
      "cell_type": "code",
      "metadata": {
        "id": "IKUI8SNeTIz9",
        "colab_type": "code",
        "colab": {}
      },
      "source": [
        "def random_sample_median():\n",
        "    return np.median(united.sample(1000).column('Delay'))"
      ],
      "execution_count": 0,
      "outputs": []
    },
    {
      "cell_type": "code",
      "metadata": {
        "id": "qU2bcg5UTI23",
        "colab_type": "code",
        "colab": {}
      },
      "source": [
        "medians = make_array()\n",
        "\n",
        "for i in np.arange(5000):\n",
        "    medians = np.append(medians, random_sample_median())"
      ],
      "execution_count": 0,
      "outputs": []
    },
    {
      "cell_type": "code",
      "metadata": {
        "id": "1cDLJikUTI5d",
        "colab_type": "code",
        "colab": {
          "base_uri": "https://localhost:8080/",
          "height": 388
        },
        "outputId": "14be92e3-4224-4ecf-df48-2eb9915f9eb8"
      },
      "source": [
        "simulated_medians = Table().with_column('Sample Median', medians)\n",
        "simulated_medians"
      ],
      "execution_count": 31,
      "outputs": [
        {
          "output_type": "execute_result",
          "data": {
            "text/html": [
              "<table border=\"1\" class=\"dataframe\">\n",
              "    <thead>\n",
              "        <tr>\n",
              "            <th>Sample Median</th>\n",
              "        </tr>\n",
              "    </thead>\n",
              "    <tbody>\n",
              "        <tr>\n",
              "            <td>2            </td>\n",
              "        </tr>\n",
              "        <tr>\n",
              "            <td>2            </td>\n",
              "        </tr>\n",
              "        <tr>\n",
              "            <td>2            </td>\n",
              "        </tr>\n",
              "        <tr>\n",
              "            <td>2            </td>\n",
              "        </tr>\n",
              "        <tr>\n",
              "            <td>3            </td>\n",
              "        </tr>\n",
              "        <tr>\n",
              "            <td>2            </td>\n",
              "        </tr>\n",
              "        <tr>\n",
              "            <td>2            </td>\n",
              "        </tr>\n",
              "        <tr>\n",
              "            <td>3            </td>\n",
              "        </tr>\n",
              "        <tr>\n",
              "            <td>2            </td>\n",
              "        </tr>\n",
              "        <tr>\n",
              "            <td>1            </td>\n",
              "        </tr>\n",
              "    </tbody>\n",
              "</table>\n",
              "<p>... (4990 rows omitted)</p>"
            ],
            "text/plain": [
              "Sample Median\n",
              "2\n",
              "2\n",
              "2\n",
              "2\n",
              "3\n",
              "2\n",
              "2\n",
              "3\n",
              "2\n",
              "1\n",
              "... (4990 rows omitted)"
            ]
          },
          "metadata": {
            "tags": []
          },
          "execution_count": 31
        }
      ]
    },
    {
      "cell_type": "code",
      "metadata": {
        "id": "Q9LZnGJrTRV2",
        "colab_type": "code",
        "colab": {
          "base_uri": "https://localhost:8080/",
          "height": 301
        },
        "outputId": "f7f48703-f3db-412c-f35d-b61a51b377dd"
      },
      "source": [
        "simulated_medians.hist(bins=np.arange(0.5, 5, 1))"
      ],
      "execution_count": 32,
      "outputs": [
        {
          "output_type": "display_data",
          "data": {
            "image/png": "[encoded data removed]",
            "text/plain": [
              "<Figure size 432x288 with 1 Axes>"
            ]
          },
          "metadata": {
            "tags": []
          }
        }
      ]
    }
  ]
}