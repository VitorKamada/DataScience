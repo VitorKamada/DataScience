{
  "nbformat": 4,
  "nbformat_minor": 0,
  "metadata": {
    "colab": {
      "name": "Ridge_and_Lasso.ipynb",
      "provenance": []
    },
    "kernelspec": {
      "name": "python3",
      "display_name": "Python 3"
    }
  },
  "cells": [
    {
      "cell_type": "code",
      "metadata": {
        "id": "_Vjx2B15QFTA",
        "colab_type": "code",
        "colab": {}
      },
      "source": [
        "import pandas as pd\n",
        "import numpy as np\n",
        "import matplotlib.pyplot as plt\n",
        "import seaborn as sns\n",
        "from sklearn.preprocessing import scale \n",
        "from sklearn import model_selection\n",
        "from sklearn.linear_model import LinearRegression, Ridge, RidgeCV, Lasso, LassoCV\n",
        "from sklearn.decomposition import PCA\n",
        "from sklearn.cross_decomposition import PLSRegression\n",
        "from sklearn.model_selection import KFold, cross_val_score\n",
        "from sklearn.metrics import mean_squared_error"
      ],
      "execution_count": 0,
      "outputs": []
    },
    {
      "cell_type": "code",
      "metadata": {
        "id": "7nUwg1sJQFwD",
        "colab_type": "code",
        "colab": {
          "base_uri": "https://localhost:8080/",
          "height": 454
        },
        "outputId": "6198324d-a14f-471a-a04d-a28f7ccee882"
      },
      "source": [
        "path ='https://github.com/VitorKamada/DataScience/raw/master/Labs/Data/'\n",
        "df = pd.read_csv(path + 'Hitters.csv', index_col=0).dropna()\n",
        "df.index.name = 'Player'\n",
        "df.info()"
      ],
      "execution_count": 2,
      "outputs": [
        {
          "output_type": "stream",
          "text": [
            "<class 'pandas.core.frame.DataFrame'>\n",
            "Index: 263 entries, -Alan Ashby to -Willie Wilson\n",
            "Data columns (total 20 columns):\n",
            "AtBat        263 non-null int64\n",
            "Hits         263 non-null int64\n",
            "HmRun        263 non-null int64\n",
            "Runs         263 non-null int64\n",
            "RBI          263 non-null int64\n",
            "Walks        263 non-null int64\n",
            "Years        263 non-null int64\n",
            "CAtBat       263 non-null int64\n",
            "CHits        263 non-null int64\n",
            "CHmRun       263 non-null int64\n",
            "CRuns        263 non-null int64\n",
            "CRBI         263 non-null int64\n",
            "CWalks       263 non-null int64\n",
            "League       263 non-null object\n",
            "Division     263 non-null object\n",
            "PutOuts      263 non-null int64\n",
            "Assists      263 non-null int64\n",
            "Errors       263 non-null int64\n",
            "Salary       263 non-null float64\n",
            "NewLeague    263 non-null object\n",
            "dtypes: float64(1), int64(16), object(3)\n",
            "memory usage: 43.1+ KB\n"
          ],
          "name": "stdout"
        }
      ]
    },
    {
      "cell_type": "code",
      "metadata": {
        "id": "SP70o929QFy6",
        "colab_type": "code",
        "colab": {
          "base_uri": "https://localhost:8080/",
          "height": 340
        },
        "outputId": "a5b89977-fca1-410a-c298-ff110309b744"
      },
      "source": [
        "df.head()"
      ],
      "execution_count": 3,
      "outputs": [
        {
          "output_type": "execute_result",
          "data": {
            "text/html": [
              "<div>\n",
              "<style scoped>\n",
              "    .dataframe tbody tr th:only-of-type {\n",
              "        vertical-align: middle;\n",
              "    }\n",
              "\n",
              "    .dataframe tbody tr th {\n",
              "        vertical-align: top;\n",
              "    }\n",
              "\n",
              "    .dataframe thead th {\n",
              "        text-align: right;\n",
              "    }\n",
              "</style>\n",
              "<table border=\"1\" class=\"dataframe\">\n",
              "  <thead>\n",
              "    <tr style=\"text-align: right;\">\n",
              "      <th></th>\n",
              "      <th>AtBat</th>\n",
              "      <th>Hits</th>\n",
              "      <th>HmRun</th>\n",
              "      <th>Runs</th>\n",
              "      <th>RBI</th>\n",
              "      <th>Walks</th>\n",
              "      <th>Years</th>\n",
              "      <th>CAtBat</th>\n",
              "      <th>CHits</th>\n",
              "      <th>CHmRun</th>\n",
              "      <th>CRuns</th>\n",
              "      <th>CRBI</th>\n",
              "      <th>CWalks</th>\n",
              "      <th>League</th>\n",
              "      <th>Division</th>\n",
              "      <th>PutOuts</th>\n",
              "      <th>Assists</th>\n",
              "      <th>Errors</th>\n",
              "      <th>Salary</th>\n",
              "      <th>NewLeague</th>\n",
              "    </tr>\n",
              "    <tr>\n",
              "      <th>Player</th>\n",
              "      <th></th>\n",
              "      <th></th>\n",
              "      <th></th>\n",
              "      <th></th>\n",
              "      <th></th>\n",
              "      <th></th>\n",
              "      <th></th>\n",
              "      <th></th>\n",
              "      <th></th>\n",
              "      <th></th>\n",
              "      <th></th>\n",
              "      <th></th>\n",
              "      <th></th>\n",
              "      <th></th>\n",
              "      <th></th>\n",
              "      <th></th>\n",
              "      <th></th>\n",
              "      <th></th>\n",
              "      <th></th>\n",
              "      <th></th>\n",
              "    </tr>\n",
              "  </thead>\n",
              "  <tbody>\n",
              "    <tr>\n",
              "      <th>-Alan Ashby</th>\n",
              "      <td>315</td>\n",
              "      <td>81</td>\n",
              "      <td>7</td>\n",
              "      <td>24</td>\n",
              "      <td>38</td>\n",
              "      <td>39</td>\n",
              "      <td>14</td>\n",
              "      <td>3449</td>\n",
              "      <td>835</td>\n",
              "      <td>69</td>\n",
              "      <td>321</td>\n",
              "      <td>414</td>\n",
              "      <td>375</td>\n",
              "      <td>N</td>\n",
              "      <td>W</td>\n",
              "      <td>632</td>\n",
              "      <td>43</td>\n",
              "      <td>10</td>\n",
              "      <td>475.0</td>\n",
              "      <td>N</td>\n",
              "    </tr>\n",
              "    <tr>\n",
              "      <th>-Alvin Davis</th>\n",
              "      <td>479</td>\n",
              "      <td>130</td>\n",
              "      <td>18</td>\n",
              "      <td>66</td>\n",
              "      <td>72</td>\n",
              "      <td>76</td>\n",
              "      <td>3</td>\n",
              "      <td>1624</td>\n",
              "      <td>457</td>\n",
              "      <td>63</td>\n",
              "      <td>224</td>\n",
              "      <td>266</td>\n",
              "      <td>263</td>\n",
              "      <td>A</td>\n",
              "      <td>W</td>\n",
              "      <td>880</td>\n",
              "      <td>82</td>\n",
              "      <td>14</td>\n",
              "      <td>480.0</td>\n",
              "      <td>A</td>\n",
              "    </tr>\n",
              "    <tr>\n",
              "      <th>-Andre Dawson</th>\n",
              "      <td>496</td>\n",
              "      <td>141</td>\n",
              "      <td>20</td>\n",
              "      <td>65</td>\n",
              "      <td>78</td>\n",
              "      <td>37</td>\n",
              "      <td>11</td>\n",
              "      <td>5628</td>\n",
              "      <td>1575</td>\n",
              "      <td>225</td>\n",
              "      <td>828</td>\n",
              "      <td>838</td>\n",
              "      <td>354</td>\n",
              "      <td>N</td>\n",
              "      <td>E</td>\n",
              "      <td>200</td>\n",
              "      <td>11</td>\n",
              "      <td>3</td>\n",
              "      <td>500.0</td>\n",
              "      <td>N</td>\n",
              "    </tr>\n",
              "    <tr>\n",
              "      <th>-Andres Galarraga</th>\n",
              "      <td>321</td>\n",
              "      <td>87</td>\n",
              "      <td>10</td>\n",
              "      <td>39</td>\n",
              "      <td>42</td>\n",
              "      <td>30</td>\n",
              "      <td>2</td>\n",
              "      <td>396</td>\n",
              "      <td>101</td>\n",
              "      <td>12</td>\n",
              "      <td>48</td>\n",
              "      <td>46</td>\n",
              "      <td>33</td>\n",
              "      <td>N</td>\n",
              "      <td>E</td>\n",
              "      <td>805</td>\n",
              "      <td>40</td>\n",
              "      <td>4</td>\n",
              "      <td>91.5</td>\n",
              "      <td>N</td>\n",
              "    </tr>\n",
              "    <tr>\n",
              "      <th>-Alfredo Griffin</th>\n",
              "      <td>594</td>\n",
              "      <td>169</td>\n",
              "      <td>4</td>\n",
              "      <td>74</td>\n",
              "      <td>51</td>\n",
              "      <td>35</td>\n",
              "      <td>11</td>\n",
              "      <td>4408</td>\n",
              "      <td>1133</td>\n",
              "      <td>19</td>\n",
              "      <td>501</td>\n",
              "      <td>336</td>\n",
              "      <td>194</td>\n",
              "      <td>A</td>\n",
              "      <td>W</td>\n",
              "      <td>282</td>\n",
              "      <td>421</td>\n",
              "      <td>25</td>\n",
              "      <td>750.0</td>\n",
              "      <td>A</td>\n",
              "    </tr>\n",
              "  </tbody>\n",
              "</table>\n",
              "</div>"
            ],
            "text/plain": [
              "                   AtBat  Hits  HmRun  Runs  ...  Assists  Errors  Salary  NewLeague\n",
              "Player                                       ...                                    \n",
              "-Alan Ashby          315    81      7    24  ...       43      10   475.0          N\n",
              "-Alvin Davis         479   130     18    66  ...       82      14   480.0          A\n",
              "-Andre Dawson        496   141     20    65  ...       11       3   500.0          N\n",
              "-Andres Galarraga    321    87     10    39  ...       40       4    91.5          N\n",
              "-Alfredo Griffin     594   169      4    74  ...      421      25   750.0          A\n",
              "\n",
              "[5 rows x 20 columns]"
            ]
          },
          "metadata": {
            "tags": []
          },
          "execution_count": 3
        }
      ]
    },
    {
      "cell_type": "code",
      "metadata": {
        "id": "arpN9YAKQF16",
        "colab_type": "code",
        "colab": {
          "base_uri": "https://localhost:8080/",
          "height": 367
        },
        "outputId": "e5c61c24-41dc-40f4-9dc1-02df10e8ff27"
      },
      "source": [
        "dummies = pd.get_dummies(df[['League', 'Division', 'NewLeague']])\n",
        "dummies.info()\n",
        "print(dummies.head())"
      ],
      "execution_count": 4,
      "outputs": [
        {
          "output_type": "stream",
          "text": [
            "<class 'pandas.core.frame.DataFrame'>\n",
            "Index: 263 entries, -Alan Ashby to -Willie Wilson\n",
            "Data columns (total 6 columns):\n",
            "League_A       263 non-null uint8\n",
            "League_N       263 non-null uint8\n",
            "Division_E     263 non-null uint8\n",
            "Division_W     263 non-null uint8\n",
            "NewLeague_A    263 non-null uint8\n",
            "NewLeague_N    263 non-null uint8\n",
            "dtypes: uint8(6)\n",
            "memory usage: 3.6+ KB\n",
            "                   League_A  League_N  ...  NewLeague_A  NewLeague_N\n",
            "Player                                 ...                          \n",
            "-Alan Ashby               0         1  ...            0            1\n",
            "-Alvin Davis              1         0  ...            1            0\n",
            "-Andre Dawson             0         1  ...            0            1\n",
            "-Andres Galarraga         0         1  ...            0            1\n",
            "-Alfredo Griffin          1         0  ...            1            0\n",
            "\n",
            "[5 rows x 6 columns]\n"
          ],
          "name": "stdout"
        }
      ]
    },
    {
      "cell_type": "code",
      "metadata": {
        "id": "Zgvl3_NhQF4Z",
        "colab_type": "code",
        "colab": {
          "base_uri": "https://localhost:8080/",
          "height": 437
        },
        "outputId": "e8315d98-e217-4f3e-8253-50e6352ae64b"
      },
      "source": [
        "y = df.Salary\n",
        "# Drop the column with the independent variable (Salary),\n",
        "# and columns for which we created dummy variables\n",
        "X_ = df.drop(['Salary', 'League', 'Division', 'NewLeague'],\n",
        "             axis=1).astype('float64')\n",
        "# Define the feature set X.\n",
        "X = pd.concat([X_, dummies[['League_N',\n",
        "                    'Division_W', 'NewLeague_N']]], axis=1)\n",
        "X.info()"
      ],
      "execution_count": 5,
      "outputs": [
        {
          "output_type": "stream",
          "text": [
            "<class 'pandas.core.frame.DataFrame'>\n",
            "Index: 263 entries, -Alan Ashby to -Willie Wilson\n",
            "Data columns (total 19 columns):\n",
            "AtBat          263 non-null float64\n",
            "Hits           263 non-null float64\n",
            "HmRun          263 non-null float64\n",
            "Runs           263 non-null float64\n",
            "RBI            263 non-null float64\n",
            "Walks          263 non-null float64\n",
            "Years          263 non-null float64\n",
            "CAtBat         263 non-null float64\n",
            "CHits          263 non-null float64\n",
            "CHmRun         263 non-null float64\n",
            "CRuns          263 non-null float64\n",
            "CRBI           263 non-null float64\n",
            "CWalks         263 non-null float64\n",
            "PutOuts        263 non-null float64\n",
            "Assists        263 non-null float64\n",
            "Errors         263 non-null float64\n",
            "League_N       263 non-null uint8\n",
            "Division_W     263 non-null uint8\n",
            "NewLeague_N    263 non-null uint8\n",
            "dtypes: float64(16), uint8(3)\n",
            "memory usage: 35.7+ KB\n"
          ],
          "name": "stdout"
        }
      ]
    },
    {
      "cell_type": "code",
      "metadata": {
        "id": "u_hmT84eQF6z",
        "colab_type": "code",
        "colab": {
          "base_uri": "https://localhost:8080/",
          "height": 340
        },
        "outputId": "fc2e8743-46a3-4848-9f98-dcd5467a9c48"
      },
      "source": [
        "X.head(5)"
      ],
      "execution_count": 6,
      "outputs": [
        {
          "output_type": "execute_result",
          "data": {
            "text/html": [
              "<div>\n",
              "<style scoped>\n",
              "    .dataframe tbody tr th:only-of-type {\n",
              "        vertical-align: middle;\n",
              "    }\n",
              "\n",
              "    .dataframe tbody tr th {\n",
              "        vertical-align: top;\n",
              "    }\n",
              "\n",
              "    .dataframe thead th {\n",
              "        text-align: right;\n",
              "    }\n",
              "</style>\n",
              "<table border=\"1\" class=\"dataframe\">\n",
              "  <thead>\n",
              "    <tr style=\"text-align: right;\">\n",
              "      <th></th>\n",
              "      <th>AtBat</th>\n",
              "      <th>Hits</th>\n",
              "      <th>HmRun</th>\n",
              "      <th>Runs</th>\n",
              "      <th>RBI</th>\n",
              "      <th>Walks</th>\n",
              "      <th>Years</th>\n",
              "      <th>CAtBat</th>\n",
              "      <th>CHits</th>\n",
              "      <th>CHmRun</th>\n",
              "      <th>CRuns</th>\n",
              "      <th>CRBI</th>\n",
              "      <th>CWalks</th>\n",
              "      <th>PutOuts</th>\n",
              "      <th>Assists</th>\n",
              "      <th>Errors</th>\n",
              "      <th>League_N</th>\n",
              "      <th>Division_W</th>\n",
              "      <th>NewLeague_N</th>\n",
              "    </tr>\n",
              "    <tr>\n",
              "      <th>Player</th>\n",
              "      <th></th>\n",
              "      <th></th>\n",
              "      <th></th>\n",
              "      <th></th>\n",
              "      <th></th>\n",
              "      <th></th>\n",
              "      <th></th>\n",
              "      <th></th>\n",
              "      <th></th>\n",
              "      <th></th>\n",
              "      <th></th>\n",
              "      <th></th>\n",
              "      <th></th>\n",
              "      <th></th>\n",
              "      <th></th>\n",
              "      <th></th>\n",
              "      <th></th>\n",
              "      <th></th>\n",
              "      <th></th>\n",
              "    </tr>\n",
              "  </thead>\n",
              "  <tbody>\n",
              "    <tr>\n",
              "      <th>-Alan Ashby</th>\n",
              "      <td>315.0</td>\n",
              "      <td>81.0</td>\n",
              "      <td>7.0</td>\n",
              "      <td>24.0</td>\n",
              "      <td>38.0</td>\n",
              "      <td>39.0</td>\n",
              "      <td>14.0</td>\n",
              "      <td>3449.0</td>\n",
              "      <td>835.0</td>\n",
              "      <td>69.0</td>\n",
              "      <td>321.0</td>\n",
              "      <td>414.0</td>\n",
              "      <td>375.0</td>\n",
              "      <td>632.0</td>\n",
              "      <td>43.0</td>\n",
              "      <td>10.0</td>\n",
              "      <td>1</td>\n",
              "      <td>1</td>\n",
              "      <td>1</td>\n",
              "    </tr>\n",
              "    <tr>\n",
              "      <th>-Alvin Davis</th>\n",
              "      <td>479.0</td>\n",
              "      <td>130.0</td>\n",
              "      <td>18.0</td>\n",
              "      <td>66.0</td>\n",
              "      <td>72.0</td>\n",
              "      <td>76.0</td>\n",
              "      <td>3.0</td>\n",
              "      <td>1624.0</td>\n",
              "      <td>457.0</td>\n",
              "      <td>63.0</td>\n",
              "      <td>224.0</td>\n",
              "      <td>266.0</td>\n",
              "      <td>263.0</td>\n",
              "      <td>880.0</td>\n",
              "      <td>82.0</td>\n",
              "      <td>14.0</td>\n",
              "      <td>0</td>\n",
              "      <td>1</td>\n",
              "      <td>0</td>\n",
              "    </tr>\n",
              "    <tr>\n",
              "      <th>-Andre Dawson</th>\n",
              "      <td>496.0</td>\n",
              "      <td>141.0</td>\n",
              "      <td>20.0</td>\n",
              "      <td>65.0</td>\n",
              "      <td>78.0</td>\n",
              "      <td>37.0</td>\n",
              "      <td>11.0</td>\n",
              "      <td>5628.0</td>\n",
              "      <td>1575.0</td>\n",
              "      <td>225.0</td>\n",
              "      <td>828.0</td>\n",
              "      <td>838.0</td>\n",
              "      <td>354.0</td>\n",
              "      <td>200.0</td>\n",
              "      <td>11.0</td>\n",
              "      <td>3.0</td>\n",
              "      <td>1</td>\n",
              "      <td>0</td>\n",
              "      <td>1</td>\n",
              "    </tr>\n",
              "    <tr>\n",
              "      <th>-Andres Galarraga</th>\n",
              "      <td>321.0</td>\n",
              "      <td>87.0</td>\n",
              "      <td>10.0</td>\n",
              "      <td>39.0</td>\n",
              "      <td>42.0</td>\n",
              "      <td>30.0</td>\n",
              "      <td>2.0</td>\n",
              "      <td>396.0</td>\n",
              "      <td>101.0</td>\n",
              "      <td>12.0</td>\n",
              "      <td>48.0</td>\n",
              "      <td>46.0</td>\n",
              "      <td>33.0</td>\n",
              "      <td>805.0</td>\n",
              "      <td>40.0</td>\n",
              "      <td>4.0</td>\n",
              "      <td>1</td>\n",
              "      <td>0</td>\n",
              "      <td>1</td>\n",
              "    </tr>\n",
              "    <tr>\n",
              "      <th>-Alfredo Griffin</th>\n",
              "      <td>594.0</td>\n",
              "      <td>169.0</td>\n",
              "      <td>4.0</td>\n",
              "      <td>74.0</td>\n",
              "      <td>51.0</td>\n",
              "      <td>35.0</td>\n",
              "      <td>11.0</td>\n",
              "      <td>4408.0</td>\n",
              "      <td>1133.0</td>\n",
              "      <td>19.0</td>\n",
              "      <td>501.0</td>\n",
              "      <td>336.0</td>\n",
              "      <td>194.0</td>\n",
              "      <td>282.0</td>\n",
              "      <td>421.0</td>\n",
              "      <td>25.0</td>\n",
              "      <td>0</td>\n",
              "      <td>1</td>\n",
              "      <td>0</td>\n",
              "    </tr>\n",
              "  </tbody>\n",
              "</table>\n",
              "</div>"
            ],
            "text/plain": [
              "                   AtBat   Hits  HmRun  ...  League_N  Division_W  NewLeague_N\n",
              "Player                                  ...                                   \n",
              "-Alan Ashby        315.0   81.0    7.0  ...         1           1            1\n",
              "-Alvin Davis       479.0  130.0   18.0  ...         0           1            0\n",
              "-Andre Dawson      496.0  141.0   20.0  ...         1           0            1\n",
              "-Andres Galarraga  321.0   87.0   10.0  ...         1           0            1\n",
              "-Alfredo Griffin   594.0  169.0    4.0  ...         0           1            0\n",
              "\n",
              "[5 rows x 19 columns]"
            ]
          },
          "metadata": {
            "tags": []
          },
          "execution_count": 6
        }
      ]
    },
    {
      "cell_type": "code",
      "metadata": {
        "id": "OgLiLWFSQF9q",
        "colab_type": "code",
        "colab": {}
      },
      "source": [
        "X_train = pd.read_csv(path + 'Hitters_X_train.csv', index_col=0)\n",
        "y_train = pd.read_csv(path +'Hitters_y_train.csv', index_col=0)\n",
        "X_test = pd.read_csv(path +'Hitters_X_test.csv', index_col=0)\n",
        "y_test = pd.read_csv(path +'Hitters_y_test.csv', index_col=0)"
      ],
      "execution_count": 0,
      "outputs": []
    },
    {
      "cell_type": "markdown",
      "metadata": {
        "id": "xBmXVF9uQ6Uc",
        "colab_type": "text"
      },
      "source": [
        "# Ridge Regression"
      ]
    },
    {
      "cell_type": "markdown",
      "metadata": {
        "id": "r2W4V2B7SL5c",
        "colab_type": "text"
      },
      "source": [
        "The __glmnet__ algorithms in R optimize the objective function using cyclical coordinate descent, while scikit-learn Ridge regression uses linear least squares with L2 regularization. They are rather different implementations, but the general principles are the same.\n",
        "\n",
        "The __glmnet() function in R__ optimizes:\n",
        "### $$ \\frac{1}{N}|| X\\beta-y||^2_2+\\lambda\\bigg(\\frac{1}{2}(1−\\alpha)||\\beta||^2_2 \\ +\\ \\alpha||\\beta||_1\\bigg) $$\n",
        "(See R documentation and https://cran.r-project.org/web/packages/glmnet/vignettes/glmnet_beta.pdf)<BR>\n",
        "The function supports L1 and L2 regularization. For just Ridge regression we need to use $\\alpha = 0 $. This reduces the above cost function to\n",
        "### $$ \\frac{1}{N}|| X\\beta-y||^2_2+\\frac{1}{2}\\lambda ||\\beta||^2_2 $$\n",
        "The __sklearn Ridge()__ function optimizes:\n",
        "### $$ ||X\\beta - y||^2_2 + \\alpha ||\\beta||^2_2 $$\n",
        "which is equivalent to optimizing\n",
        "### $$ \\frac{1}{N}||X\\beta - y||^2_2 + \\frac{\\alpha}{N} ||\\beta||^2_2 $$"
      ]
    },
    {
      "cell_type": "code",
      "metadata": {
        "id": "Cv80iGUjQGAj",
        "colab_type": "code",
        "colab": {
          "base_uri": "https://localhost:8080/",
          "height": 299
        },
        "outputId": "5af75a4c-91e2-4aa3-c800-28d7d6cc60bc"
      },
      "source": [
        "alphas = 10**np.linspace(10,-2,100)*0.5\n",
        "\n",
        "ridge = Ridge()\n",
        "coefs = []\n",
        "\n",
        "for a in alphas:\n",
        "    ridge.set_params(alpha=a)\n",
        "    ridge.fit(scale(X), y)\n",
        "    coefs.append(ridge.coef_)\n",
        "\n",
        "ax = plt.gca()\n",
        "ax.plot(alphas, coefs)\n",
        "ax.set_xscale('log')\n",
        "ax.set_xlim(ax.get_xlim()[::-1])  # reverse axis\n",
        "plt.axis('tight')\n",
        "plt.xlabel('alpha')\n",
        "plt.ylabel('weights')\n",
        "plt.title('Ridge coefficients as a function of the regularization');"
      ],
      "execution_count": 8,
      "outputs": [
        {
          "output_type": "display_data",
          "data": {
            "image/png": "[encoded data removed]",
            "text/plain": [
              "<Figure size 432x288 with 1 Axes>"
            ]
          },
          "metadata": {
            "tags": []
          }
        }
      ]
    },
    {
      "cell_type": "markdown",
      "metadata": {
        "id": "2Y3gGpU9Rk0z",
        "colab_type": "text"
      },
      "source": [
        "**Alpha = 4**"
      ]
    },
    {
      "cell_type": "code",
      "metadata": {
        "id": "foeFlREIRWK7",
        "colab_type": "code",
        "colab": {}
      },
      "source": [
        "from sklearn.preprocessing import StandardScaler\n",
        "scaler = StandardScaler().fit(X_train)"
      ],
      "execution_count": 0,
      "outputs": []
    },
    {
      "cell_type": "code",
      "metadata": {
        "id": "0bz1ew1hRWNk",
        "colab_type": "code",
        "colab": {
          "base_uri": "https://localhost:8080/",
          "height": 34
        },
        "outputId": "680555ff-5715-471b-ff82-295b3885ca8e"
      },
      "source": [
        "ridge2 = Ridge(alpha=len(X_)*11498/2)\n",
        "ridge2.fit(scaler.transform(X_train), y_train)\n",
        "pred = ridge2.predict(scaler.transform(X_test))\n",
        "mean_squared_error(y_test, pred)"
      ],
      "execution_count": 10,
      "outputs": [
        {
          "output_type": "execute_result",
          "data": {
            "text/plain": [
              "193147.46143016344"
            ]
          },
          "metadata": {
            "tags": []
          },
          "execution_count": 10
        }
      ]
    },
    {
      "cell_type": "code",
      "metadata": {
        "id": "3LVFl5DjRWQK",
        "colab_type": "code",
        "colab": {
          "base_uri": "https://localhost:8080/",
          "height": 367
        },
        "outputId": "9101df92-3352-4f8a-8186-2ad96d1f016c"
      },
      "source": [
        "pd.Series(ridge2.coef_.flatten(), index=X.columns)\n"
      ],
      "execution_count": 11,
      "outputs": [
        {
          "output_type": "execute_result",
          "data": {
            "text/plain": [
              "AtBat          0.015146\n",
              "Hits           0.016050\n",
              "HmRun          0.013561\n",
              "Runs           0.015681\n",
              "RBI            0.016782\n",
              "Walks          0.019662\n",
              "Years          0.010390\n",
              "CAtBat         0.016570\n",
              "CHits          0.017627\n",
              "CHmRun         0.015072\n",
              "CRuns          0.018771\n",
              "CRBI           0.016697\n",
              "CWalks         0.016821\n",
              "PutOuts        0.003228\n",
              "Assists       -0.007600\n",
              "Errors         0.013672\n",
              "League_N       0.003519\n",
              "Division_W     0.003339\n",
              "NewLeague_N    0.003499\n",
              "dtype: float64"
            ]
          },
          "metadata": {
            "tags": []
          },
          "execution_count": 11
        }
      ]
    },
    {
      "cell_type": "markdown",
      "metadata": {
        "id": "26R3fS1GRntb",
        "colab_type": "text"
      },
      "source": [
        "**Alpha = 10^10**"
      ]
    },
    {
      "cell_type": "code",
      "metadata": {
        "id": "1PLw-XTeRWSy",
        "colab_type": "code",
        "colab": {
          "base_uri": "https://localhost:8080/",
          "height": 34
        },
        "outputId": "0180c1c9-8c17-433f-df70-d3b9f3b04158"
      },
      "source": [
        "ridge2.set_params(alpha=10**10)\n",
        "ridge2.fit(scale(X_train), y_train)\n",
        "pred = ridge2.predict(scale(X_test))\n",
        "mean_squared_error(y_test, pred)"
      ],
      "execution_count": 12,
      "outputs": [
        {
          "output_type": "execute_result",
          "data": {
            "text/plain": [
              "193253.09741651407"
            ]
          },
          "metadata": {
            "tags": []
          },
          "execution_count": 12
        }
      ]
    },
    {
      "cell_type": "markdown",
      "metadata": {
        "id": "UhQKhKmbR77b",
        "colab_type": "text"
      },
      "source": [
        "Compute the regularization path using RidgeCV"
      ]
    },
    {
      "cell_type": "code",
      "metadata": {
        "id": "ItdhhbqfRWVr",
        "colab_type": "code",
        "colab": {
          "base_uri": "https://localhost:8080/",
          "height": 227
        },
        "outputId": "043279ce-10d0-471c-b476-ab1f76c2d0c6"
      },
      "source": [
        "ridgecv = RidgeCV(alphas=alphas, scoring='neg_mean_squared_error')\n",
        "ridgecv.fit(scale(X_train), y_train)"
      ],
      "execution_count": 13,
      "outputs": [
        {
          "output_type": "execute_result",
          "data": {
            "text/plain": [
              "RidgeCV(alphas=array([5.00000000e+09, 3.78231664e+09, 2.86118383e+09, 2.16438064e+09,\n",
              "       1.63727458e+09, 1.23853818e+09, 9.36908711e+08, 7.08737081e+08,\n",
              "       5.36133611e+08, 4.05565415e+08, 3.06795364e+08, 2.32079442e+08,\n",
              "       1.75559587e+08, 1.32804389e+08, 1.00461650e+08, 7.59955541e+07,\n",
              "       5.74878498e+07, 4.34874501e+07, 3.28966612e+07, 2.48851178e+07,\n",
              "       1.88246790e+07, 1.42401793e+0...\n",
              "       3.28966612e-01, 2.48851178e-01, 1.88246790e-01, 1.42401793e-01,\n",
              "       1.07721735e-01, 8.14875417e-02, 6.16423370e-02, 4.66301673e-02,\n",
              "       3.52740116e-02, 2.66834962e-02, 2.01850863e-02, 1.52692775e-02,\n",
              "       1.15506485e-02, 8.73764200e-03, 6.60970574e-03, 5.00000000e-03]),\n",
              "        cv=None, fit_intercept=True, gcv_mode=None, normalize=False,\n",
              "        scoring='neg_mean_squared_error', store_cv_values=False)"
            ]
          },
          "metadata": {
            "tags": []
          },
          "execution_count": 13
        }
      ]
    },
    {
      "cell_type": "code",
      "metadata": {
        "id": "RyaTi8m2SArT",
        "colab_type": "code",
        "colab": {
          "base_uri": "https://localhost:8080/",
          "height": 34
        },
        "outputId": "17e96ed1-0484-453e-8621-e7feb8df90d7"
      },
      "source": [
        "ridgecv.alpha_"
      ],
      "execution_count": 14,
      "outputs": [
        {
          "output_type": "execute_result",
          "data": {
            "text/plain": [
              "115.5064850041579"
            ]
          },
          "metadata": {
            "tags": []
          },
          "execution_count": 14
        }
      ]
    },
    {
      "cell_type": "code",
      "metadata": {
        "id": "Fqelxlo6SCir",
        "colab_type": "code",
        "colab": {
          "base_uri": "https://localhost:8080/",
          "height": 34
        },
        "outputId": "b07494ee-2bf5-47b4-fae2-83b305059aa6"
      },
      "source": [
        "ridge2.set_params(alpha=ridgecv.alpha_)\n",
        "ridge2.fit(scale(X_train), y_train)\n",
        "mean_squared_error(y_test, ridge2.predict(scale(X_test)))"
      ],
      "execution_count": 15,
      "outputs": [
        {
          "output_type": "execute_result",
          "data": {
            "text/plain": [
              "97384.9295917259"
            ]
          },
          "metadata": {
            "tags": []
          },
          "execution_count": 15
        }
      ]
    },
    {
      "cell_type": "code",
      "metadata": {
        "id": "WJAH7H5ASCqq",
        "colab_type": "code",
        "colab": {
          "base_uri": "https://localhost:8080/",
          "height": 367
        },
        "outputId": "d7913844-8d15-4810-eeae-852e044231c7"
      },
      "source": [
        "pd.Series(ridge2.coef_.flatten(), index=X.columns)"
      ],
      "execution_count": 16,
      "outputs": [
        {
          "output_type": "execute_result",
          "data": {
            "text/plain": [
              "AtBat           7.576771\n",
              "Hits           22.596030\n",
              "HmRun          18.971990\n",
              "Runs           20.193945\n",
              "RBI            21.063875\n",
              "Walks          55.713281\n",
              "Years          -4.687149\n",
              "CAtBat         20.496892\n",
              "CHits          29.230247\n",
              "CHmRun         14.293124\n",
              "CRuns          35.881788\n",
              "CRBI           20.212172\n",
              "CWalks         24.419768\n",
              "PutOuts        16.128910\n",
              "Assists       -44.102264\n",
              "Errors         54.624503\n",
              "League_N        5.771464\n",
              "Division_W     -0.293713\n",
              "NewLeague_N    11.137518\n",
              "dtype: float64"
            ]
          },
          "metadata": {
            "tags": []
          },
          "execution_count": 16
        }
      ]
    },
    {
      "cell_type": "markdown",
      "metadata": {
        "id": "LpQftIiFSr4M",
        "colab_type": "text"
      },
      "source": [
        "# The Lasso"
      ]
    },
    {
      "cell_type": "markdown",
      "metadata": {
        "id": "HrvUSqL1Suts",
        "colab_type": "text"
      },
      "source": [
        "\n",
        "For both __glmnet__ in R and sklearn __Lasso()__ function the standard L1 penalty is:\n",
        "### $$ \\lambda |\\beta|_1 $$"
      ]
    },
    {
      "cell_type": "code",
      "metadata": {
        "id": "_EnUjZ4cSnt0",
        "colab_type": "code",
        "colab": {
          "base_uri": "https://localhost:8080/",
          "height": 299
        },
        "outputId": "cbf8798b-944f-4944-fcb3-580be609b787"
      },
      "source": [
        "lasso = Lasso(max_iter=10000)\n",
        "coefs = []\n",
        "\n",
        "for a in alphas*2:\n",
        "    lasso.set_params(alpha=a)\n",
        "    lasso.fit(scale(X_train), y_train)\n",
        "    coefs.append(lasso.coef_)\n",
        "\n",
        "ax = plt.gca()\n",
        "ax.plot(alphas*2, coefs)\n",
        "ax.set_xscale('log')\n",
        "ax.set_xlim(ax.get_xlim()[::-1])  # reverse axis\n",
        "plt.axis('tight')\n",
        "plt.xlabel('alpha')\n",
        "plt.ylabel('weights')\n",
        "plt.title('Lasso coefficients as a function of the regularization');"
      ],
      "execution_count": 17,
      "outputs": [
        {
          "output_type": "display_data",
          "data": {
            "image/png": "[encoded data removed]",
            "text/plain": [
              "<Figure size 432x288 with 1 Axes>"
            ]
          },
          "metadata": {
            "tags": []
          }
        }
      ]
    },
    {
      "cell_type": "code",
      "metadata": {
        "id": "fpUf7lrRSnwn",
        "colab_type": "code",
        "colab": {
          "base_uri": "https://localhost:8080/",
          "height": 87
        },
        "outputId": "4a1271ca-a411-48c1-8a56-9e22332116fc"
      },
      "source": [
        "lassocv = LassoCV(alphas=None, cv=10, max_iter=10000)\n",
        "lassocv.fit(scale(X_train), y_train.values.ravel())"
      ],
      "execution_count": 18,
      "outputs": [
        {
          "output_type": "execute_result",
          "data": {
            "text/plain": [
              "LassoCV(alphas=None, copy_X=True, cv=10, eps=0.001, fit_intercept=True,\n",
              "        max_iter=10000, n_alphas=100, n_jobs=None, normalize=False,\n",
              "        positive=False, precompute='auto', random_state=None,\n",
              "        selection='cyclic', tol=0.0001, verbose=False)"
            ]
          },
          "metadata": {
            "tags": []
          },
          "execution_count": 18
        }
      ]
    },
    {
      "cell_type": "code",
      "metadata": {
        "id": "SLgkIwwxSnzP",
        "colab_type": "code",
        "colab": {
          "base_uri": "https://localhost:8080/",
          "height": 34
        },
        "outputId": "75afcc34-c097-484c-b745-939d628370a3"
      },
      "source": [
        "lassocv.alpha_"
      ],
      "execution_count": 19,
      "outputs": [
        {
          "output_type": "execute_result",
          "data": {
            "text/plain": [
              "30.01382256446427"
            ]
          },
          "metadata": {
            "tags": []
          },
          "execution_count": 19
        }
      ]
    },
    {
      "cell_type": "code",
      "metadata": {
        "id": "kXXCA6O2S3MF",
        "colab_type": "code",
        "colab": {
          "base_uri": "https://localhost:8080/",
          "height": 34
        },
        "outputId": "2d0a7ff4-d9b3-4fb1-f012-7fb40b055ae4"
      },
      "source": [
        "lasso.set_params(alpha=lassocv.alpha_)\n",
        "lasso.fit(scale(X_train), y_train)\n",
        "mean_squared_error(y_test, lasso.predict(scale(X_test)))"
      ],
      "execution_count": 20,
      "outputs": [
        {
          "output_type": "execute_result",
          "data": {
            "text/plain": [
              "102924.90954696965"
            ]
          },
          "metadata": {
            "tags": []
          },
          "execution_count": 20
        }
      ]
    },
    {
      "cell_type": "code",
      "metadata": {
        "id": "e5h5tSx8S3O8",
        "colab_type": "code",
        "colab": {
          "base_uri": "https://localhost:8080/",
          "height": 367
        },
        "outputId": "4c63376f-d912-4fc2-efe7-d8af1a3b615b"
      },
      "source": [
        "# Some of the coefficients are now reduced to exactly zero.\n",
        "pd.Series(lasso.coef_, index=X.columns)"
      ],
      "execution_count": 21,
      "outputs": [
        {
          "output_type": "execute_result",
          "data": {
            "text/plain": [
              "AtBat            0.000000\n",
              "Hits             0.000000\n",
              "HmRun            2.154219\n",
              "Runs             0.000000\n",
              "RBI             30.835560\n",
              "Walks          104.071528\n",
              "Years           -0.000000\n",
              "CAtBat           0.000000\n",
              "CHits            0.000000\n",
              "CHmRun           0.000000\n",
              "CRuns          132.858095\n",
              "CRBI             0.000000\n",
              "CWalks           0.000000\n",
              "PutOuts          1.896185\n",
              "Assists        -51.058752\n",
              "Errors          76.779641\n",
              "League_N         0.000000\n",
              "Division_W       0.000000\n",
              "NewLeague_N      0.000000\n",
              "dtype: float64"
            ]
          },
          "metadata": {
            "tags": []
          },
          "execution_count": 21
        }
      ]
    }
  ]
}