{
  "nbformat": 4,
  "nbformat_minor": 0,
  "metadata": {
    "colab": {
      "name": "Principal_Component_Analysis.ipynb",
      "provenance": []
    },
    "kernelspec": {
      "name": "python3",
      "display_name": "Python 3"
    }
  },
  "cells": [
    {
      "cell_type": "code",
      "metadata": {
        "id": "1L0EKqkpyJez",
        "colab_type": "code",
        "colab": {}
      },
      "source": [
        "import pandas as pd\n",
        "import numpy as np\n",
        "import matplotlib as mpl\n",
        "import matplotlib.pyplot as plt\n",
        "import seaborn as sns\n",
        "\n",
        "from sklearn.preprocessing import scale\n",
        "from sklearn.decomposition import PCA\n",
        "\n",
        "from scipy.cluster import hierarchy\n",
        "\n",
        "%matplotlib inline\n",
        "plt.style.use('seaborn-white')"
      ],
      "execution_count": 0,
      "outputs": []
    },
    {
      "cell_type": "code",
      "metadata": {
        "id": "fevGj7gtyKRk",
        "colab_type": "code",
        "colab": {
          "base_uri": "https://localhost:8080/",
          "height": 174
        },
        "outputId": "464d3f08-c1f9-4172-ea33-0e2d489e4a57"
      },
      "source": [
        "path ='https://github.com/VitorKamada/DataScience/raw/master/Labs/Data/'\n",
        "df = pd.read_csv(path + 'USArrests.csv', index_col=0)\n",
        "df.info()"
      ],
      "execution_count": 2,
      "outputs": [
        {
          "output_type": "stream",
          "text": [
            "<class 'pandas.core.frame.DataFrame'>\n",
            "Index: 50 entries, Alabama to Wyoming\n",
            "Data columns (total 4 columns):\n",
            "Murder      50 non-null float64\n",
            "Assault     50 non-null int64\n",
            "UrbanPop    50 non-null int64\n",
            "Rape        50 non-null float64\n",
            "dtypes: float64(2), int64(2)\n",
            "memory usage: 2.0+ KB\n"
          ],
          "name": "stdout"
        }
      ]
    },
    {
      "cell_type": "code",
      "metadata": {
        "id": "3LlZgzrZyKh7",
        "colab_type": "code",
        "colab": {
          "base_uri": "https://localhost:8080/",
          "height": 104
        },
        "outputId": "041fe4d6-cc2f-4256-8068-5c5313d72f2e"
      },
      "source": [
        "df.mean()"
      ],
      "execution_count": 3,
      "outputs": [
        {
          "output_type": "execute_result",
          "data": {
            "text/plain": [
              "Murder        7.788\n",
              "Assault     170.760\n",
              "UrbanPop     65.540\n",
              "Rape         21.232\n",
              "dtype: float64"
            ]
          },
          "metadata": {
            "tags": []
          },
          "execution_count": 3
        }
      ]
    },
    {
      "cell_type": "code",
      "metadata": {
        "id": "KToq-gyeyKlS",
        "colab_type": "code",
        "colab": {
          "base_uri": "https://localhost:8080/",
          "height": 104
        },
        "outputId": "f1b1173d-670f-45de-ba3b-a7e4e99d1ea2"
      },
      "source": [
        "df.var()"
      ],
      "execution_count": 4,
      "outputs": [
        {
          "output_type": "execute_result",
          "data": {
            "text/plain": [
              "Murder        18.970465\n",
              "Assault     6945.165714\n",
              "UrbanPop     209.518776\n",
              "Rape          87.729159\n",
              "dtype: float64"
            ]
          },
          "metadata": {
            "tags": []
          },
          "execution_count": 4
        }
      ]
    },
    {
      "cell_type": "code",
      "metadata": {
        "id": "Fsjji4LUyKoC",
        "colab_type": "code",
        "colab": {}
      },
      "source": [
        "X = pd.DataFrame(scale(df), index=df.index, columns=df.columns)"
      ],
      "execution_count": 0,
      "outputs": []
    },
    {
      "cell_type": "code",
      "metadata": {
        "id": "tfWKcvQ7yKq0",
        "colab_type": "code",
        "colab": {
          "base_uri": "https://localhost:8080/",
          "height": 173
        },
        "outputId": "4cd73bce-21a0-4903-8f3a-e35a727ce473"
      },
      "source": [
        "# The loading vectors\n",
        "pca_loadings = pd.DataFrame(PCA().fit(X).components_.T,\n",
        "      index=df.columns, columns=['V1', 'V2', 'V3', 'V4'])\n",
        "pca_loadings"
      ],
      "execution_count": 6,
      "outputs": [
        {
          "output_type": "execute_result",
          "data": {
            "text/html": [
              "<div>\n",
              "<style scoped>\n",
              "    .dataframe tbody tr th:only-of-type {\n",
              "        vertical-align: middle;\n",
              "    }\n",
              "\n",
              "    .dataframe tbody tr th {\n",
              "        vertical-align: top;\n",
              "    }\n",
              "\n",
              "    .dataframe thead th {\n",
              "        text-align: right;\n",
              "    }\n",
              "</style>\n",
              "<table border=\"1\" class=\"dataframe\">\n",
              "  <thead>\n",
              "    <tr style=\"text-align: right;\">\n",
              "      <th></th>\n",
              "      <th>V1</th>\n",
              "      <th>V2</th>\n",
              "      <th>V3</th>\n",
              "      <th>V4</th>\n",
              "    </tr>\n",
              "  </thead>\n",
              "  <tbody>\n",
              "    <tr>\n",
              "      <th>Murder</th>\n",
              "      <td>0.535899</td>\n",
              "      <td>0.418181</td>\n",
              "      <td>-0.341233</td>\n",
              "      <td>0.649228</td>\n",
              "    </tr>\n",
              "    <tr>\n",
              "      <th>Assault</th>\n",
              "      <td>0.583184</td>\n",
              "      <td>0.187986</td>\n",
              "      <td>-0.268148</td>\n",
              "      <td>-0.743407</td>\n",
              "    </tr>\n",
              "    <tr>\n",
              "      <th>UrbanPop</th>\n",
              "      <td>0.278191</td>\n",
              "      <td>-0.872806</td>\n",
              "      <td>-0.378016</td>\n",
              "      <td>0.133878</td>\n",
              "    </tr>\n",
              "    <tr>\n",
              "      <th>Rape</th>\n",
              "      <td>0.543432</td>\n",
              "      <td>-0.167319</td>\n",
              "      <td>0.817778</td>\n",
              "      <td>0.089024</td>\n",
              "    </tr>\n",
              "  </tbody>\n",
              "</table>\n",
              "</div>"
            ],
            "text/plain": [
              "                V1        V2        V3        V4\n",
              "Murder    0.535899  0.418181 -0.341233  0.649228\n",
              "Assault   0.583184  0.187986 -0.268148 -0.743407\n",
              "UrbanPop  0.278191 -0.872806 -0.378016  0.133878\n",
              "Rape      0.543432 -0.167319  0.817778  0.089024"
            ]
          },
          "metadata": {
            "tags": []
          },
          "execution_count": 6
        }
      ]
    },
    {
      "cell_type": "code",
      "metadata": {
        "id": "TQSPYdQzyKtc",
        "colab_type": "code",
        "colab": {
          "base_uri": "https://localhost:8080/",
          "height": 1000
        },
        "outputId": "60bb28c6-f324-4641-f9d3-59819de5239d"
      },
      "source": [
        "# Fit the PCA model and transform X to get the principal components\n",
        "pca = PCA()\n",
        "df_plot = pd.DataFrame(pca.fit_transform(X),\n",
        "              columns=['PC1', 'PC2', 'PC3', 'PC4'], index=X.index)\n",
        "df_plot"
      ],
      "execution_count": 7,
      "outputs": [
        {
          "output_type": "execute_result",
          "data": {
            "text/html": [
              "<div>\n",
              "<style scoped>\n",
              "    .dataframe tbody tr th:only-of-type {\n",
              "        vertical-align: middle;\n",
              "    }\n",
              "\n",
              "    .dataframe tbody tr th {\n",
              "        vertical-align: top;\n",
              "    }\n",
              "\n",
              "    .dataframe thead th {\n",
              "        text-align: right;\n",
              "    }\n",
              "</style>\n",
              "<table border=\"1\" class=\"dataframe\">\n",
              "  <thead>\n",
              "    <tr style=\"text-align: right;\">\n",
              "      <th></th>\n",
              "      <th>PC1</th>\n",
              "      <th>PC2</th>\n",
              "      <th>PC3</th>\n",
              "      <th>PC4</th>\n",
              "    </tr>\n",
              "  </thead>\n",
              "  <tbody>\n",
              "    <tr>\n",
              "      <th>Alabama</th>\n",
              "      <td>0.985566</td>\n",
              "      <td>1.133392</td>\n",
              "      <td>-0.444269</td>\n",
              "      <td>0.156267</td>\n",
              "    </tr>\n",
              "    <tr>\n",
              "      <th>Alaska</th>\n",
              "      <td>1.950138</td>\n",
              "      <td>1.073213</td>\n",
              "      <td>2.040003</td>\n",
              "      <td>-0.438583</td>\n",
              "    </tr>\n",
              "    <tr>\n",
              "      <th>Arizona</th>\n",
              "      <td>1.763164</td>\n",
              "      <td>-0.745957</td>\n",
              "      <td>0.054781</td>\n",
              "      <td>-0.834653</td>\n",
              "    </tr>\n",
              "    <tr>\n",
              "      <th>Arkansas</th>\n",
              "      <td>-0.141420</td>\n",
              "      <td>1.119797</td>\n",
              "      <td>0.114574</td>\n",
              "      <td>-0.182811</td>\n",
              "    </tr>\n",
              "    <tr>\n",
              "      <th>California</th>\n",
              "      <td>2.523980</td>\n",
              "      <td>-1.542934</td>\n",
              "      <td>0.598557</td>\n",
              "      <td>-0.341996</td>\n",
              "    </tr>\n",
              "    <tr>\n",
              "      <th>Colorado</th>\n",
              "      <td>1.514563</td>\n",
              "      <td>-0.987555</td>\n",
              "      <td>1.095007</td>\n",
              "      <td>0.001465</td>\n",
              "    </tr>\n",
              "    <tr>\n",
              "      <th>Connecticut</th>\n",
              "      <td>-1.358647</td>\n",
              "      <td>-1.088928</td>\n",
              "      <td>-0.643258</td>\n",
              "      <td>-0.118469</td>\n",
              "    </tr>\n",
              "    <tr>\n",
              "      <th>Delaware</th>\n",
              "      <td>0.047709</td>\n",
              "      <td>-0.325359</td>\n",
              "      <td>-0.718633</td>\n",
              "      <td>-0.881978</td>\n",
              "    </tr>\n",
              "    <tr>\n",
              "      <th>Florida</th>\n",
              "      <td>3.013042</td>\n",
              "      <td>0.039229</td>\n",
              "      <td>-0.576829</td>\n",
              "      <td>-0.096285</td>\n",
              "    </tr>\n",
              "    <tr>\n",
              "      <th>Georgia</th>\n",
              "      <td>1.639283</td>\n",
              "      <td>1.278942</td>\n",
              "      <td>-0.342460</td>\n",
              "      <td>1.076797</td>\n",
              "    </tr>\n",
              "    <tr>\n",
              "      <th>Hawaii</th>\n",
              "      <td>-0.912657</td>\n",
              "      <td>-1.570460</td>\n",
              "      <td>0.050782</td>\n",
              "      <td>0.902807</td>\n",
              "    </tr>\n",
              "    <tr>\n",
              "      <th>Idaho</th>\n",
              "      <td>-1.639800</td>\n",
              "      <td>0.210973</td>\n",
              "      <td>0.259801</td>\n",
              "      <td>-0.499104</td>\n",
              "    </tr>\n",
              "    <tr>\n",
              "      <th>Illinois</th>\n",
              "      <td>1.378911</td>\n",
              "      <td>-0.681841</td>\n",
              "      <td>-0.677496</td>\n",
              "      <td>-0.122021</td>\n",
              "    </tr>\n",
              "    <tr>\n",
              "      <th>Indiana</th>\n",
              "      <td>-0.505461</td>\n",
              "      <td>-0.151563</td>\n",
              "      <td>0.228055</td>\n",
              "      <td>0.424666</td>\n",
              "    </tr>\n",
              "    <tr>\n",
              "      <th>Iowa</th>\n",
              "      <td>-2.253646</td>\n",
              "      <td>-0.104054</td>\n",
              "      <td>0.164564</td>\n",
              "      <td>0.017556</td>\n",
              "    </tr>\n",
              "    <tr>\n",
              "      <th>Kansas</th>\n",
              "      <td>-0.796881</td>\n",
              "      <td>-0.270165</td>\n",
              "      <td>0.025553</td>\n",
              "      <td>0.206496</td>\n",
              "    </tr>\n",
              "    <tr>\n",
              "      <th>Kentucky</th>\n",
              "      <td>-0.750859</td>\n",
              "      <td>0.958440</td>\n",
              "      <td>-0.028369</td>\n",
              "      <td>0.670557</td>\n",
              "    </tr>\n",
              "    <tr>\n",
              "      <th>Louisiana</th>\n",
              "      <td>1.564818</td>\n",
              "      <td>0.871055</td>\n",
              "      <td>-0.783480</td>\n",
              "      <td>0.454728</td>\n",
              "    </tr>\n",
              "    <tr>\n",
              "      <th>Maine</th>\n",
              "      <td>-2.396829</td>\n",
              "      <td>0.376392</td>\n",
              "      <td>-0.065682</td>\n",
              "      <td>-0.330460</td>\n",
              "    </tr>\n",
              "    <tr>\n",
              "      <th>Maryland</th>\n",
              "      <td>1.763369</td>\n",
              "      <td>0.427655</td>\n",
              "      <td>-0.157250</td>\n",
              "      <td>-0.559070</td>\n",
              "    </tr>\n",
              "    <tr>\n",
              "      <th>Massachusetts</th>\n",
              "      <td>-0.486166</td>\n",
              "      <td>-1.474496</td>\n",
              "      <td>-0.609497</td>\n",
              "      <td>-0.179599</td>\n",
              "    </tr>\n",
              "    <tr>\n",
              "      <th>Michigan</th>\n",
              "      <td>2.108441</td>\n",
              "      <td>-0.155397</td>\n",
              "      <td>0.384869</td>\n",
              "      <td>0.102372</td>\n",
              "    </tr>\n",
              "    <tr>\n",
              "      <th>Minnesota</th>\n",
              "      <td>-1.692682</td>\n",
              "      <td>-0.632261</td>\n",
              "      <td>0.153070</td>\n",
              "      <td>0.067317</td>\n",
              "    </tr>\n",
              "    <tr>\n",
              "      <th>Mississippi</th>\n",
              "      <td>0.996494</td>\n",
              "      <td>2.393796</td>\n",
              "      <td>-0.740808</td>\n",
              "      <td>0.215508</td>\n",
              "    </tr>\n",
              "    <tr>\n",
              "      <th>Missouri</th>\n",
              "      <td>0.696787</td>\n",
              "      <td>-0.263355</td>\n",
              "      <td>0.377444</td>\n",
              "      <td>0.225824</td>\n",
              "    </tr>\n",
              "    <tr>\n",
              "      <th>Montana</th>\n",
              "      <td>-1.185452</td>\n",
              "      <td>0.536874</td>\n",
              "      <td>0.246889</td>\n",
              "      <td>0.123742</td>\n",
              "    </tr>\n",
              "    <tr>\n",
              "      <th>Nebraska</th>\n",
              "      <td>-1.265637</td>\n",
              "      <td>-0.193954</td>\n",
              "      <td>0.175574</td>\n",
              "      <td>0.015893</td>\n",
              "    </tr>\n",
              "    <tr>\n",
              "      <th>Nevada</th>\n",
              "      <td>2.874395</td>\n",
              "      <td>-0.775600</td>\n",
              "      <td>1.163380</td>\n",
              "      <td>0.314515</td>\n",
              "    </tr>\n",
              "    <tr>\n",
              "      <th>New Hampshire</th>\n",
              "      <td>-2.383915</td>\n",
              "      <td>-0.018082</td>\n",
              "      <td>0.036855</td>\n",
              "      <td>-0.033137</td>\n",
              "    </tr>\n",
              "    <tr>\n",
              "      <th>New Jersey</th>\n",
              "      <td>0.181566</td>\n",
              "      <td>-1.449506</td>\n",
              "      <td>-0.764454</td>\n",
              "      <td>0.243383</td>\n",
              "    </tr>\n",
              "    <tr>\n",
              "      <th>New Mexico</th>\n",
              "      <td>1.980024</td>\n",
              "      <td>0.142849</td>\n",
              "      <td>0.183692</td>\n",
              "      <td>-0.339534</td>\n",
              "    </tr>\n",
              "    <tr>\n",
              "      <th>New York</th>\n",
              "      <td>1.682577</td>\n",
              "      <td>-0.823184</td>\n",
              "      <td>-0.643075</td>\n",
              "      <td>-0.013484</td>\n",
              "    </tr>\n",
              "    <tr>\n",
              "      <th>North Carolina</th>\n",
              "      <td>1.123379</td>\n",
              "      <td>2.228003</td>\n",
              "      <td>-0.863572</td>\n",
              "      <td>-0.954382</td>\n",
              "    </tr>\n",
              "    <tr>\n",
              "      <th>North Dakota</th>\n",
              "      <td>-2.992226</td>\n",
              "      <td>0.599119</td>\n",
              "      <td>0.301277</td>\n",
              "      <td>-0.253987</td>\n",
              "    </tr>\n",
              "    <tr>\n",
              "      <th>Ohio</th>\n",
              "      <td>-0.225965</td>\n",
              "      <td>-0.742238</td>\n",
              "      <td>-0.031139</td>\n",
              "      <td>0.473916</td>\n",
              "    </tr>\n",
              "    <tr>\n",
              "      <th>Oklahoma</th>\n",
              "      <td>-0.311783</td>\n",
              "      <td>-0.287854</td>\n",
              "      <td>-0.015310</td>\n",
              "      <td>0.010332</td>\n",
              "    </tr>\n",
              "    <tr>\n",
              "      <th>Oregon</th>\n",
              "      <td>0.059122</td>\n",
              "      <td>-0.541411</td>\n",
              "      <td>0.939833</td>\n",
              "      <td>-0.237781</td>\n",
              "    </tr>\n",
              "    <tr>\n",
              "      <th>Pennsylvania</th>\n",
              "      <td>-0.888416</td>\n",
              "      <td>-0.571100</td>\n",
              "      <td>-0.400629</td>\n",
              "      <td>0.359061</td>\n",
              "    </tr>\n",
              "    <tr>\n",
              "      <th>Rhode Island</th>\n",
              "      <td>-0.863772</td>\n",
              "      <td>-1.491978</td>\n",
              "      <td>-1.369946</td>\n",
              "      <td>-0.613569</td>\n",
              "    </tr>\n",
              "    <tr>\n",
              "      <th>South Carolina</th>\n",
              "      <td>1.320724</td>\n",
              "      <td>1.933405</td>\n",
              "      <td>-0.300538</td>\n",
              "      <td>-0.131467</td>\n",
              "    </tr>\n",
              "    <tr>\n",
              "      <th>South Dakota</th>\n",
              "      <td>-1.987775</td>\n",
              "      <td>0.823343</td>\n",
              "      <td>0.389293</td>\n",
              "      <td>-0.109572</td>\n",
              "    </tr>\n",
              "    <tr>\n",
              "      <th>Tennessee</th>\n",
              "      <td>0.999742</td>\n",
              "      <td>0.860251</td>\n",
              "      <td>0.188083</td>\n",
              "      <td>0.652864</td>\n",
              "    </tr>\n",
              "    <tr>\n",
              "      <th>Texas</th>\n",
              "      <td>1.355138</td>\n",
              "      <td>-0.412481</td>\n",
              "      <td>-0.492069</td>\n",
              "      <td>0.643195</td>\n",
              "    </tr>\n",
              "    <tr>\n",
              "      <th>Utah</th>\n",
              "      <td>-0.550565</td>\n",
              "      <td>-1.471505</td>\n",
              "      <td>0.293728</td>\n",
              "      <td>-0.082314</td>\n",
              "    </tr>\n",
              "    <tr>\n",
              "      <th>Vermont</th>\n",
              "      <td>-2.801412</td>\n",
              "      <td>1.402288</td>\n",
              "      <td>0.841263</td>\n",
              "      <td>-0.144890</td>\n",
              "    </tr>\n",
              "    <tr>\n",
              "      <th>Virginia</th>\n",
              "      <td>-0.096335</td>\n",
              "      <td>0.199735</td>\n",
              "      <td>0.011713</td>\n",
              "      <td>0.211371</td>\n",
              "    </tr>\n",
              "    <tr>\n",
              "      <th>Washington</th>\n",
              "      <td>-0.216903</td>\n",
              "      <td>-0.970124</td>\n",
              "      <td>0.624871</td>\n",
              "      <td>-0.220848</td>\n",
              "    </tr>\n",
              "    <tr>\n",
              "      <th>West Virginia</th>\n",
              "      <td>-2.108585</td>\n",
              "      <td>1.424847</td>\n",
              "      <td>0.104775</td>\n",
              "      <td>0.131909</td>\n",
              "    </tr>\n",
              "    <tr>\n",
              "      <th>Wisconsin</th>\n",
              "      <td>-2.079714</td>\n",
              "      <td>-0.611269</td>\n",
              "      <td>-0.138865</td>\n",
              "      <td>0.184104</td>\n",
              "    </tr>\n",
              "    <tr>\n",
              "      <th>Wyoming</th>\n",
              "      <td>-0.629427</td>\n",
              "      <td>0.321013</td>\n",
              "      <td>-0.240659</td>\n",
              "      <td>-0.166652</td>\n",
              "    </tr>\n",
              "  </tbody>\n",
              "</table>\n",
              "</div>"
            ],
            "text/plain": [
              "                     PC1       PC2       PC3       PC4\n",
              "Alabama         0.985566  1.133392 -0.444269  0.156267\n",
              "Alaska          1.950138  1.073213  2.040003 -0.438583\n",
              "Arizona         1.763164 -0.745957  0.054781 -0.834653\n",
              "Arkansas       -0.141420  1.119797  0.114574 -0.182811\n",
              "California      2.523980 -1.542934  0.598557 -0.341996\n",
              "Colorado        1.514563 -0.987555  1.095007  0.001465\n",
              "Connecticut    -1.358647 -1.088928 -0.643258 -0.118469\n",
              "Delaware        0.047709 -0.325359 -0.718633 -0.881978\n",
              "Florida         3.013042  0.039229 -0.576829 -0.096285\n",
              "Georgia         1.639283  1.278942 -0.342460  1.076797\n",
              "Hawaii         -0.912657 -1.570460  0.050782  0.902807\n",
              "Idaho          -1.639800  0.210973  0.259801 -0.499104\n",
              "Illinois        1.378911 -0.681841 -0.677496 -0.122021\n",
              "Indiana        -0.505461 -0.151563  0.228055  0.424666\n",
              "Iowa           -2.253646 -0.104054  0.164564  0.017556\n",
              "Kansas         -0.796881 -0.270165  0.025553  0.206496\n",
              "Kentucky       -0.750859  0.958440 -0.028369  0.670557\n",
              "Louisiana       1.564818  0.871055 -0.783480  0.454728\n",
              "Maine          -2.396829  0.376392 -0.065682 -0.330460\n",
              "Maryland        1.763369  0.427655 -0.157250 -0.559070\n",
              "Massachusetts  -0.486166 -1.474496 -0.609497 -0.179599\n",
              "Michigan        2.108441 -0.155397  0.384869  0.102372\n",
              "Minnesota      -1.692682 -0.632261  0.153070  0.067317\n",
              "Mississippi     0.996494  2.393796 -0.740808  0.215508\n",
              "Missouri        0.696787 -0.263355  0.377444  0.225824\n",
              "Montana        -1.185452  0.536874  0.246889  0.123742\n",
              "Nebraska       -1.265637 -0.193954  0.175574  0.015893\n",
              "Nevada          2.874395 -0.775600  1.163380  0.314515\n",
              "New Hampshire  -2.383915 -0.018082  0.036855 -0.033137\n",
              "New Jersey      0.181566 -1.449506 -0.764454  0.243383\n",
              "New Mexico      1.980024  0.142849  0.183692 -0.339534\n",
              "New York        1.682577 -0.823184 -0.643075 -0.013484\n",
              "North Carolina  1.123379  2.228003 -0.863572 -0.954382\n",
              "North Dakota   -2.992226  0.599119  0.301277 -0.253987\n",
              "Ohio           -0.225965 -0.742238 -0.031139  0.473916\n",
              "Oklahoma       -0.311783 -0.287854 -0.015310  0.010332\n",
              "Oregon          0.059122 -0.541411  0.939833 -0.237781\n",
              "Pennsylvania   -0.888416 -0.571100 -0.400629  0.359061\n",
              "Rhode Island   -0.863772 -1.491978 -1.369946 -0.613569\n",
              "South Carolina  1.320724  1.933405 -0.300538 -0.131467\n",
              "South Dakota   -1.987775  0.823343  0.389293 -0.109572\n",
              "Tennessee       0.999742  0.860251  0.188083  0.652864\n",
              "Texas           1.355138 -0.412481 -0.492069  0.643195\n",
              "Utah           -0.550565 -1.471505  0.293728 -0.082314\n",
              "Vermont        -2.801412  1.402288  0.841263 -0.144890\n",
              "Virginia       -0.096335  0.199735  0.011713  0.211371\n",
              "Washington     -0.216903 -0.970124  0.624871 -0.220848\n",
              "West Virginia  -2.108585  1.424847  0.104775  0.131909\n",
              "Wisconsin      -2.079714 -0.611269 -0.138865  0.184104\n",
              "Wyoming        -0.629427  0.321013 -0.240659 -0.166652"
            ]
          },
          "metadata": {
            "tags": []
          },
          "execution_count": 7
        }
      ]
    },
    {
      "cell_type": "code",
      "metadata": {
        "id": "gKmCjvmMyKwK",
        "colab_type": "code",
        "colab": {
          "base_uri": "https://localhost:8080/",
          "height": 464
        },
        "outputId": "b12658d5-801c-4db2-b197-6fec79180fba"
      },
      "source": [
        "fig , ax1 = plt.subplots(figsize=(9,7))\n",
        "\n",
        "ax1.set_xlim(-3.5,3.5)\n",
        "ax1.set_ylim(-3.5,3.5)\n",
        "\n",
        "# Plot Principal Components 1 and 2\n",
        "for i in df_plot.index:\n",
        "    ax1.annotate(i, (df_plot.PC1.loc[i], -df_plot.PC2.loc[i]), ha='center')\n",
        "\n",
        "# Plot reference lines\n",
        "ax1.hlines(0,-3.5,3.5, linestyles='dotted', colors='grey')\n",
        "ax1.vlines(0,-3.5,3.5, linestyles='dotted', colors='grey')\n",
        "\n",
        "ax1.set_xlabel('First Principal Component')\n",
        "ax1.set_ylabel('Second Principal Component')\n",
        "    \n",
        "# Plot Principal Component loading vectors, using a second y-axis.\n",
        "ax2 = ax1.twinx().twiny() \n",
        "\n",
        "ax2.set_ylim(-1,1)\n",
        "ax2.set_xlim(-1,1)\n",
        "ax2.tick_params(axis='y', colors='orange')\n",
        "ax2.set_xlabel('Principal Component loading vectors', color='orange')\n",
        "\n",
        "# Plot labels for vectors. Variable 'a' is a small offset parameter to separate arrow tip and text.\n",
        "a = 1.07  \n",
        "for i in pca_loadings[['V1', 'V2']].index:\n",
        "    ax2.annotate(i, (pca_loadings.V1.loc[i]*a, -pca_loadings.V2.loc[i]*a), color='orange')\n",
        "\n",
        "# Plot vectors\n",
        "ax2.arrow(0,0,pca_loadings.V1[0], -pca_loadings.V2[0])\n",
        "ax2.arrow(0,0,pca_loadings.V1[1], -pca_loadings.V2[1])\n",
        "ax2.arrow(0,0,pca_loadings.V1[2], -pca_loadings.V2[2])\n",
        "ax2.arrow(0,0,pca_loadings.V1[3], -pca_loadings.V2[3]);"
      ],
      "execution_count": 8,
      "outputs": [
        {
          "output_type": "display_data",
          "data": {
            "image/png": "[encoded data removed]",
            "text/plain": [
              "<Figure size 648x504 with 3 Axes>"
            ]
          },
          "metadata": {
            "tags": []
          }
        }
      ]
    },
    {
      "cell_type": "code",
      "metadata": {
        "id": "XBUEagj8yKzC",
        "colab_type": "code",
        "colab": {
          "base_uri": "https://localhost:8080/",
          "height": 34
        },
        "outputId": "a7fab3b9-0ba6-4d3f-83e4-7296ef843bee"
      },
      "source": [
        "# Standard deviation of the four principal components\n",
        "np.sqrt(pca.explained_variance_)"
      ],
      "execution_count": 9,
      "outputs": [
        {
          "output_type": "execute_result",
          "data": {
            "text/plain": [
              "array([1.5908673 , 1.00496987, 0.6031915 , 0.4206774 ])"
            ]
          },
          "metadata": {
            "tags": []
          },
          "execution_count": 9
        }
      ]
    },
    {
      "cell_type": "code",
      "metadata": {
        "id": "GIJpynnMzGMA",
        "colab_type": "code",
        "colab": {
          "base_uri": "https://localhost:8080/",
          "height": 34
        },
        "outputId": "d36c418e-9100-4640-f7fd-3c0a64c970c1"
      },
      "source": [
        "pca.explained_variance_"
      ],
      "execution_count": 10,
      "outputs": [
        {
          "output_type": "execute_result",
          "data": {
            "text/plain": [
              "array([2.53085875, 1.00996444, 0.36383998, 0.17696948])"
            ]
          },
          "metadata": {
            "tags": []
          },
          "execution_count": 10
        }
      ]
    },
    {
      "cell_type": "code",
      "metadata": {
        "id": "e-JBhHPnzGPM",
        "colab_type": "code",
        "colab": {
          "base_uri": "https://localhost:8080/",
          "height": 34
        },
        "outputId": "a9c788fb-d681-4f93-cadf-6b53a83cf28c"
      },
      "source": [
        "pca.explained_variance_ratio_"
      ],
      "execution_count": 11,
      "outputs": [
        {
          "output_type": "execute_result",
          "data": {
            "text/plain": [
              "array([0.62006039, 0.24744129, 0.0891408 , 0.04335752])"
            ]
          },
          "metadata": {
            "tags": []
          },
          "execution_count": 11
        }
      ]
    },
    {
      "cell_type": "code",
      "metadata": {
        "id": "DLyiG8qbzGR2",
        "colab_type": "code",
        "colab": {
          "base_uri": "https://localhost:8080/",
          "height": 330
        },
        "outputId": "719cdd6c-8fb1-49a3-9cb7-4e0073cbc551"
      },
      "source": [
        "plt.figure(figsize=(7,5))\n",
        "\n",
        "plt.plot([1,2,3,4], pca.explained_variance_ratio_,\n",
        "         '-o', label='Individual component')\n",
        "plt.plot([1,2,3,4], np.cumsum(pca.explained_variance_ratio_),\n",
        "         '-s', label='Cumulative')\n",
        "\n",
        "plt.ylabel('Proportion of Variance Explained')\n",
        "plt.xlabel('Principal Component')\n",
        "plt.xlim(0.75,4.25)\n",
        "plt.ylim(0,1.05)\n",
        "plt.xticks([1,2,3,4])\n",
        "plt.legend(loc=2);"
      ],
      "execution_count": 12,
      "outputs": [
        {
          "output_type": "display_data",
          "data": {
            "image/png": "[encoded data removed]",
            "text/plain": [
              "<Figure size 504x360 with 1 Axes>"
            ]
          },
          "metadata": {
            "tags": []
          }
        }
      ]
    },
    {
      "cell_type": "markdown",
      "metadata": {
        "id": "3yn38cDazeEM",
        "colab_type": "text"
      },
      "source": [
        "# NCI60 Data Example\n",
        "\n"
      ]
    },
    {
      "cell_type": "markdown",
      "metadata": {
        "id": "n07Qpw2bzhfs",
        "colab_type": "text"
      },
      "source": [
        "NCI60 cancer cell line microarray data, which\n",
        "consists of 6,830 gene expression measurements on 64 cancer cell lines. Each cell line is labeled with a cancer type. We do not make use of the\n",
        "cancer types in performing PCA and clustering, as these are unsupervised\n",
        "techniques. But after performing PCA and clustering, we will check to\n",
        "see the extent to which these cancer types agree with the results of these\n",
        "unsupervised techniques."
      ]
    },
    {
      "cell_type": "code",
      "metadata": {
        "id": "90eD61T8zGUV",
        "colab_type": "code",
        "colab": {
          "base_uri": "https://localhost:8080/",
          "height": 104
        },
        "outputId": "9c7e0f48-302b-4cce-ae5c-d8d558c14530"
      },
      "source": [
        "df2 = pd.read_csv(path + 'NCI60_X.csv').drop('Unnamed: 0', axis=1)\n",
        "df2.columns = np.arange(df2.columns.size)\n",
        "df2.info()"
      ],
      "execution_count": 13,
      "outputs": [
        {
          "output_type": "stream",
          "text": [
            "<class 'pandas.core.frame.DataFrame'>\n",
            "RangeIndex: 64 entries, 0 to 63\n",
            "Columns: 6830 entries, 0 to 6829\n",
            "dtypes: float64(6830)\n",
            "memory usage: 3.3 MB\n"
          ],
          "name": "stdout"
        }
      ]
    },
    {
      "cell_type": "code",
      "metadata": {
        "id": "NAlfDBBizweT",
        "colab_type": "code",
        "colab": {
          "base_uri": "https://localhost:8080/",
          "height": 34
        },
        "outputId": "b4ea11f1-c2a0-4a79-fed2-1211c320ea32"
      },
      "source": [
        "X = pd.DataFrame(scale(df2))\n",
        "X.shape"
      ],
      "execution_count": 14,
      "outputs": [
        {
          "output_type": "execute_result",
          "data": {
            "text/plain": [
              "(64, 6830)"
            ]
          },
          "metadata": {
            "tags": []
          },
          "execution_count": 14
        }
      ]
    },
    {
      "cell_type": "code",
      "metadata": {
        "id": "Flolb7bGzwhW",
        "colab_type": "code",
        "colab": {
          "base_uri": "https://localhost:8080/",
          "height": 34
        },
        "outputId": "b311700c-ee67-4c2f-f06d-a7b8cf28a201"
      },
      "source": [
        "y = pd.read_csv(path+  'NCI60_y.csv',\n",
        "      usecols=[1], skiprows=1, names=['type'])\n",
        "y.shape"
      ],
      "execution_count": 15,
      "outputs": [
        {
          "output_type": "execute_result",
          "data": {
            "text/plain": [
              "(64, 1)"
            ]
          },
          "metadata": {
            "tags": []
          },
          "execution_count": 15
        }
      ]
    },
    {
      "cell_type": "code",
      "metadata": {
        "id": "0ZZiO5S8zwj1",
        "colab_type": "code",
        "colab": {
          "base_uri": "https://localhost:8080/",
          "height": 279
        },
        "outputId": "6b4d001b-2fd5-4776-c3d9-623990d9ce67"
      },
      "source": [
        "y.type.value_counts()"
      ],
      "execution_count": 16,
      "outputs": [
        {
          "output_type": "execute_result",
          "data": {
            "text/plain": [
              "RENAL          9\n",
              "NSCLC          9\n",
              "MELANOMA       8\n",
              "BREAST         7\n",
              "COLON          7\n",
              "LEUKEMIA       6\n",
              "OVARIAN        6\n",
              "CNS            5\n",
              "PROSTATE       2\n",
              "K562B-repro    1\n",
              "MCF7A-repro    1\n",
              "MCF7D-repro    1\n",
              "UNKNOWN        1\n",
              "K562A-repro    1\n",
              "Name: type, dtype: int64"
            ]
          },
          "metadata": {
            "tags": []
          },
          "execution_count": 16
        }
      ]
    },
    {
      "cell_type": "code",
      "metadata": {
        "id": "0A0Tcsw7zwmc",
        "colab_type": "code",
        "colab": {}
      },
      "source": [
        "# Fit the PCA model and transform X to get the principal components\n",
        "pca2 = PCA()\n",
        "df2_plot = pd.DataFrame(pca2.fit_transform(X))"
      ],
      "execution_count": 0,
      "outputs": []
    },
    {
      "cell_type": "code",
      "metadata": {
        "id": "xSzUmH3Lzwou",
        "colab_type": "code",
        "colab": {}
      },
      "source": [
        "color_idx = pd.factorize(y.type)[0]\n",
        "cmap = plt.cm.hsv\n",
        "\n",
        "# Left plot\n",
        "ax1.scatter(df2_plot.iloc[:,0], -df2_plot.iloc[:,1], c=color_idx, cmap=cmap, alpha=0.5, s=50)\n",
        "ax1.set_ylabel('Principal Component 2')\n",
        "\n",
        "# Right plot\n",
        "ax2.scatter(df2_plot.iloc[:,0], df2_plot.iloc[:,2], c=color_idx, cmap=cmap, alpha=0.5, s=50)\n",
        "ax2.set_ylabel('Principal Component 3')\n",
        "\n",
        "# Custom legend for the classes (y) since we do not create scatter plots per class (which could have their own labels).\n",
        "handles = []\n",
        "labels = pd.factorize(y.type.unique())\n",
        "norm = mpl.colors.Normalize(vmin=0.0, vmax=14.0)\n",
        "\n",
        "for i, v in zip(labels[0], labels[1]):\n",
        "    handles.append(mpl.patches.Patch(color=cmap(norm(i)), label=v, alpha=0.5))\n",
        "\n",
        "ax2.legend(handles=handles, bbox_to_anchor=(1.05, 1), loc=2, borderaxespad=0.)\n",
        "\n",
        "# xlabel for both plots\n",
        "for ax in fig.axes:\n",
        "    ax.set_xlabel('Principal Component 1') "
      ],
      "execution_count": 0,
      "outputs": []
    },
    {
      "cell_type": "code",
      "metadata": {
        "id": "oD9rVGoXzwrW",
        "colab_type": "code",
        "colab": {
          "base_uri": "https://localhost:8080/",
          "height": 197
        },
        "outputId": "6aeb3566-7098-4fc4-8bfe-ed2005c452d1"
      },
      "source": [
        "pd.DataFrame([df2_plot.iloc[:,:5].std(axis=0, ddof=0).as_matrix(),\n",
        "              pca2.explained_variance_ratio_[:5],\n",
        "              np.cumsum(pca2.explained_variance_ratio_[:5])],\n",
        "             index=['Standard Deviation', 'Proportion of Variance',\n",
        "                    'Cumulative Proportion'],\n",
        "             columns=['PC1', 'PC2', 'PC3', 'PC4', 'PC5'])"
      ],
      "execution_count": 19,
      "outputs": [
        {
          "output_type": "stream",
          "text": [
            "/usr/local/lib/python3.6/dist-packages/ipykernel_launcher.py:1: FutureWarning: Method .as_matrix will be removed in a future version. Use .values instead.\n",
            "  \"\"\"Entry point for launching an IPython kernel.\n"
          ],
          "name": "stderr"
        },
        {
          "output_type": "execute_result",
          "data": {
            "text/html": [
              "<div>\n",
              "<style scoped>\n",
              "    .dataframe tbody tr th:only-of-type {\n",
              "        vertical-align: middle;\n",
              "    }\n",
              "\n",
              "    .dataframe tbody tr th {\n",
              "        vertical-align: top;\n",
              "    }\n",
              "\n",
              "    .dataframe thead th {\n",
              "        text-align: right;\n",
              "    }\n",
              "</style>\n",
              "<table border=\"1\" class=\"dataframe\">\n",
              "  <thead>\n",
              "    <tr style=\"text-align: right;\">\n",
              "      <th></th>\n",
              "      <th>PC1</th>\n",
              "      <th>PC2</th>\n",
              "      <th>PC3</th>\n",
              "      <th>PC4</th>\n",
              "      <th>PC5</th>\n",
              "    </tr>\n",
              "  </thead>\n",
              "  <tbody>\n",
              "    <tr>\n",
              "      <th>Standard Deviation</th>\n",
              "      <td>27.853469</td>\n",
              "      <td>21.481355</td>\n",
              "      <td>19.820465</td>\n",
              "      <td>17.032556</td>\n",
              "      <td>15.971807</td>\n",
              "    </tr>\n",
              "    <tr>\n",
              "      <th>Proportion of Variance</th>\n",
              "      <td>0.113589</td>\n",
              "      <td>0.067562</td>\n",
              "      <td>0.057518</td>\n",
              "      <td>0.042476</td>\n",
              "      <td>0.037350</td>\n",
              "    </tr>\n",
              "    <tr>\n",
              "      <th>Cumulative Proportion</th>\n",
              "      <td>0.113589</td>\n",
              "      <td>0.181151</td>\n",
              "      <td>0.238670</td>\n",
              "      <td>0.281145</td>\n",
              "      <td>0.318495</td>\n",
              "    </tr>\n",
              "  </tbody>\n",
              "</table>\n",
              "</div>"
            ],
            "text/plain": [
              "                              PC1        PC2        PC3        PC4        PC5\n",
              "Standard Deviation      27.853469  21.481355  19.820465  17.032556  15.971807\n",
              "Proportion of Variance   0.113589   0.067562   0.057518   0.042476   0.037350\n",
              "Cumulative Proportion    0.113589   0.181151   0.238670   0.281145   0.318495"
            ]
          },
          "metadata": {
            "tags": []
          },
          "execution_count": 19
        }
      ]
    },
    {
      "cell_type": "code",
      "metadata": {
        "id": "VDhiZzmW0H43",
        "colab_type": "code",
        "colab": {
          "base_uri": "https://localhost:8080/",
          "height": 262
        },
        "outputId": "a208091b-5a53-4791-e869-e7050e463c6e"
      },
      "source": [
        "df2_plot.iloc[:,:10].var(axis=0, ddof=0).plot(kind='bar', rot=0)\n",
        "plt.ylabel('Variances');"
      ],
      "execution_count": 20,
      "outputs": [
        {
          "output_type": "display_data",
          "data": {
            "image/png": "[encoded data removed]",
            "text/plain": [
              "<Figure size 432x288 with 1 Axes>"
            ]
          },
          "metadata": {
            "tags": []
          }
        }
      ]
    },
    {
      "cell_type": "code",
      "metadata": {
        "id": "iz1z18F00H7z",
        "colab_type": "code",
        "colab": {
          "base_uri": "https://localhost:8080/",
          "height": 350
        },
        "outputId": "11bfabd6-5134-44bd-a98a-7969f34249d3"
      },
      "source": [
        "fig , (ax1,ax2) = plt.subplots(1,2, figsize=(15,5))\n",
        "\n",
        "# Left plot\n",
        "ax1.plot(pca2.explained_variance_ratio_, '-o')\n",
        "ax1.set_ylabel('Proportion of Variance Explained')\n",
        "ax1.set_ylim(ymin=-0.01)\n",
        "\n",
        "# Right plot\n",
        "ax2.plot(np.cumsum(pca2.explained_variance_ratio_), '-ro')\n",
        "ax2.set_ylabel('Cumulative Proportion of Variance Explained')\n",
        "ax2.set_ylim(ymax=1.05)\n",
        "\n",
        "for ax in fig.axes:\n",
        "    ax.set_xlabel('Principal Component')\n",
        "    ax.set_xlim(-1,65) "
      ],
      "execution_count": 21,
      "outputs": [
        {
          "output_type": "display_data",
          "data": {
            "image/png": "[encoded data removed]",
            "text/plain": [
              "<Figure size 1080x360 with 2 Axes>"
            ]
          },
          "metadata": {
            "tags": []
          }
        }
      ]
    }
  ]
}