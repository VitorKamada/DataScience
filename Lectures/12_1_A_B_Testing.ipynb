{
  "nbformat": 4,
  "nbformat_minor": 0,
  "metadata": {
    "colab": {
      "name": "12_1_A/B_Testing.ipynb",
      "provenance": []
    },
    "kernelspec": {
      "name": "python3",
      "display_name": "Python 3"
    }
  },
  "cells": [
    {
      "cell_type": "code",
      "metadata": {
        "id": "AWjq6aseF3Vk",
        "colab_type": "code",
        "colab": {
          "base_uri": "https://localhost:8080/",
          "height": 405
        },
        "outputId": "c042d362-0e1b-4477-d14f-81de93b02313"
      },
      "source": [
        "from datascience import *\n",
        "path_data = 'https://github.com/data-8/textbook/raw/gh-pages/data/'\n",
        "births = Table.read_table(path_data + 'baby.csv')\n",
        "births"
      ],
      "execution_count": 1,
      "outputs": [
        {
          "output_type": "execute_result",
          "data": {
            "text/html": [
              "<table border=\"1\" class=\"dataframe\">\n",
              "    <thead>\n",
              "        <tr>\n",
              "            <th>Birth Weight</th> <th>Gestational Days</th> <th>Maternal Age</th> <th>Maternal Height</th> <th>Maternal Pregnancy Weight</th> <th>Maternal Smoker</th>\n",
              "        </tr>\n",
              "    </thead>\n",
              "    <tbody>\n",
              "        <tr>\n",
              "            <td>120         </td> <td>284             </td> <td>27          </td> <td>62             </td> <td>100                      </td> <td>False          </td>\n",
              "        </tr>\n",
              "        <tr>\n",
              "            <td>113         </td> <td>282             </td> <td>33          </td> <td>64             </td> <td>135                      </td> <td>False          </td>\n",
              "        </tr>\n",
              "        <tr>\n",
              "            <td>128         </td> <td>279             </td> <td>28          </td> <td>64             </td> <td>115                      </td> <td>True           </td>\n",
              "        </tr>\n",
              "        <tr>\n",
              "            <td>108         </td> <td>282             </td> <td>23          </td> <td>67             </td> <td>125                      </td> <td>True           </td>\n",
              "        </tr>\n",
              "        <tr>\n",
              "            <td>136         </td> <td>286             </td> <td>25          </td> <td>62             </td> <td>93                       </td> <td>False          </td>\n",
              "        </tr>\n",
              "        <tr>\n",
              "            <td>138         </td> <td>244             </td> <td>33          </td> <td>62             </td> <td>178                      </td> <td>False          </td>\n",
              "        </tr>\n",
              "        <tr>\n",
              "            <td>132         </td> <td>245             </td> <td>23          </td> <td>65             </td> <td>140                      </td> <td>False          </td>\n",
              "        </tr>\n",
              "        <tr>\n",
              "            <td>120         </td> <td>289             </td> <td>25          </td> <td>62             </td> <td>125                      </td> <td>False          </td>\n",
              "        </tr>\n",
              "        <tr>\n",
              "            <td>143         </td> <td>299             </td> <td>30          </td> <td>66             </td> <td>136                      </td> <td>True           </td>\n",
              "        </tr>\n",
              "        <tr>\n",
              "            <td>140         </td> <td>351             </td> <td>27          </td> <td>68             </td> <td>120                      </td> <td>False          </td>\n",
              "        </tr>\n",
              "    </tbody>\n",
              "</table>\n",
              "<p>... (1164 rows omitted)</p>"
            ],
            "text/plain": [
              "Birth Weight | Gestational Days | Maternal Age | Maternal Height | Maternal Pregnancy Weight | Maternal Smoker\n",
              "120          | 284              | 27           | 62              | 100                       | False\n",
              "113          | 282              | 33           | 64              | 135                       | False\n",
              "128          | 279              | 28           | 64              | 115                       | True\n",
              "108          | 282              | 23           | 67              | 125                       | True\n",
              "136          | 286              | 25           | 62              | 93                        | False\n",
              "138          | 244              | 33           | 62              | 178                       | False\n",
              "132          | 245              | 23           | 65              | 140                       | False\n",
              "120          | 289              | 25           | 62              | 125                       | False\n",
              "143          | 299              | 30           | 66              | 136                       | True\n",
              "140          | 351              | 27           | 68              | 120                       | False\n",
              "... (1164 rows omitted)"
            ]
          },
          "metadata": {
            "tags": []
          },
          "execution_count": 1
        }
      ]
    },
    {
      "cell_type": "code",
      "metadata": {
        "id": "-3ws33rQF4MY",
        "colab_type": "code",
        "colab": {
          "base_uri": "https://localhost:8080/",
          "height": 111
        },
        "outputId": "c05dd303-a34d-456e-a4e3-c014107e7497"
      },
      "source": [
        "smoking_and_birthweight = births.select('Maternal Smoker', \n",
        "                                        'Birth Weight')\n",
        "smoking_and_birthweight.group('Maternal Smoker')"
      ],
      "execution_count": 2,
      "outputs": [
        {
          "output_type": "execute_result",
          "data": {
            "text/html": [
              "<table border=\"1\" class=\"dataframe\">\n",
              "    <thead>\n",
              "        <tr>\n",
              "            <th>Maternal Smoker</th> <th>count</th>\n",
              "        </tr>\n",
              "    </thead>\n",
              "    <tbody>\n",
              "        <tr>\n",
              "            <td>False          </td> <td>715  </td>\n",
              "        </tr>\n",
              "        <tr>\n",
              "            <td>True           </td> <td>459  </td>\n",
              "        </tr>\n",
              "    </tbody>\n",
              "</table>"
            ],
            "text/plain": [
              "Maternal Smoker | count\n",
              "False           | 715\n",
              "True            | 459"
            ]
          },
          "metadata": {
            "tags": []
          },
          "execution_count": 2
        }
      ]
    },
    {
      "cell_type": "code",
      "metadata": {
        "id": "6E1rXg7lF4PI",
        "colab_type": "code",
        "colab": {
          "base_uri": "https://localhost:8080/",
          "height": 282
        },
        "outputId": "c7f520ad-d985-4346-a801-d85eaa45f30a"
      },
      "source": [
        "%matplotlib inline\n",
        "import matplotlib.pyplot as plots\n",
        "plots.style.use('fivethirtyeight')\n",
        "smoking_and_birthweight.hist('Birth Weight', group = 'Maternal Smoker')"
      ],
      "execution_count": 3,
      "outputs": [
        {
          "output_type": "display_data",
          "data": {
            "image/png": "[encoded data removed]",
            "text/plain": [
              "<Figure size 432x288 with 1 Axes>"
            ]
          },
          "metadata": {
            "tags": []
          }
        }
      ]
    },
    {
      "cell_type": "code",
      "metadata": {
        "id": "YMe0jS5bF4Rw",
        "colab_type": "code",
        "colab": {
          "base_uri": "https://localhost:8080/",
          "height": 111
        },
        "outputId": "c26e504f-25ee-4697-aa43-c1ec34d3de54"
      },
      "source": [
        "import numpy as np\n",
        "means_table = smoking_and_birthweight.group('Maternal Smoker', np.average)\n",
        "means_table"
      ],
      "execution_count": 4,
      "outputs": [
        {
          "output_type": "execute_result",
          "data": {
            "text/html": [
              "<table border=\"1\" class=\"dataframe\">\n",
              "    <thead>\n",
              "        <tr>\n",
              "            <th>Maternal Smoker</th> <th>Birth Weight average</th>\n",
              "        </tr>\n",
              "    </thead>\n",
              "    <tbody>\n",
              "        <tr>\n",
              "            <td>False          </td> <td>123.085             </td>\n",
              "        </tr>\n",
              "        <tr>\n",
              "            <td>True           </td> <td>113.819             </td>\n",
              "        </tr>\n",
              "    </tbody>\n",
              "</table>"
            ],
            "text/plain": [
              "Maternal Smoker | Birth Weight average\n",
              "False           | 123.085\n",
              "True            | 113.819"
            ]
          },
          "metadata": {
            "tags": []
          },
          "execution_count": 4
        }
      ]
    },
    {
      "cell_type": "code",
      "metadata": {
        "id": "jQdee0bWF4Us",
        "colab_type": "code",
        "colab": {
          "base_uri": "https://localhost:8080/",
          "height": 34
        },
        "outputId": "4d037da4-1d08-4a36-955c-c1b1ad430d82"
      },
      "source": [
        "means = means_table.column(1)\n",
        "observed_difference = means.item(1) - means.item(0)\n",
        "observed_difference"
      ],
      "execution_count": 5,
      "outputs": [
        {
          "output_type": "execute_result",
          "data": {
            "text/plain": [
              "-9.266142572024918"
            ]
          },
          "metadata": {
            "tags": []
          },
          "execution_count": 5
        }
      ]
    },
    {
      "cell_type": "code",
      "metadata": {
        "id": "DtipIalwF4XY",
        "colab_type": "code",
        "colab": {
          "base_uri": "https://localhost:8080/",
          "height": 34
        },
        "outputId": "fdd025da-57a9-4d5f-8a9c-d464bcf22c51"
      },
      "source": [
        "def difference_of_means(table, label, group_label):\n",
        "    reduced = table.select(label, group_label)\n",
        "    means_table = reduced.group(group_label, np.average)\n",
        "    means = means_table.column(1)\n",
        "    return means.item(1) - means.item(0)\n",
        "\n",
        "difference_of_means(births, 'Birth Weight', 'Maternal Smoker')    "
      ],
      "execution_count": 6,
      "outputs": [
        {
          "output_type": "execute_result",
          "data": {
            "text/plain": [
              "-9.266142572024918"
            ]
          },
          "metadata": {
            "tags": []
          },
          "execution_count": 6
        }
      ]
    },
    {
      "cell_type": "code",
      "metadata": {
        "id": "s02-CGDSF4aP",
        "colab_type": "code",
        "colab": {
          "base_uri": "https://localhost:8080/",
          "height": 388
        },
        "outputId": "58f948e9-87fa-4645-fa76-d36098d7874b"
      },
      "source": [
        "smoking_and_birthweight"
      ],
      "execution_count": 7,
      "outputs": [
        {
          "output_type": "execute_result",
          "data": {
            "text/html": [
              "<table border=\"1\" class=\"dataframe\">\n",
              "    <thead>\n",
              "        <tr>\n",
              "            <th>Maternal Smoker</th> <th>Birth Weight</th>\n",
              "        </tr>\n",
              "    </thead>\n",
              "    <tbody>\n",
              "        <tr>\n",
              "            <td>False          </td> <td>120         </td>\n",
              "        </tr>\n",
              "        <tr>\n",
              "            <td>False          </td> <td>113         </td>\n",
              "        </tr>\n",
              "        <tr>\n",
              "            <td>True           </td> <td>128         </td>\n",
              "        </tr>\n",
              "        <tr>\n",
              "            <td>True           </td> <td>108         </td>\n",
              "        </tr>\n",
              "        <tr>\n",
              "            <td>False          </td> <td>136         </td>\n",
              "        </tr>\n",
              "        <tr>\n",
              "            <td>False          </td> <td>138         </td>\n",
              "        </tr>\n",
              "        <tr>\n",
              "            <td>False          </td> <td>132         </td>\n",
              "        </tr>\n",
              "        <tr>\n",
              "            <td>False          </td> <td>120         </td>\n",
              "        </tr>\n",
              "        <tr>\n",
              "            <td>True           </td> <td>143         </td>\n",
              "        </tr>\n",
              "        <tr>\n",
              "            <td>False          </td> <td>140         </td>\n",
              "        </tr>\n",
              "    </tbody>\n",
              "</table>\n",
              "<p>... (1164 rows omitted)</p>"
            ],
            "text/plain": [
              "Maternal Smoker | Birth Weight\n",
              "False           | 120\n",
              "False           | 113\n",
              "True            | 128\n",
              "True            | 108\n",
              "False           | 136\n",
              "False           | 138\n",
              "False           | 132\n",
              "False           | 120\n",
              "True            | 143\n",
              "False           | 140\n",
              "... (1164 rows omitted)"
            ]
          },
          "metadata": {
            "tags": []
          },
          "execution_count": 7
        }
      ]
    },
    {
      "cell_type": "code",
      "metadata": {
        "id": "1Hwt-rtAF4c4",
        "colab_type": "code",
        "colab": {
          "base_uri": "https://localhost:8080/",
          "height": 388
        },
        "outputId": "3edc3d87-48d4-4dac-cb03-df87462f32ce"
      },
      "source": [
        "shuffled_labels = smoking_and_birthweight.sample\\\n",
        "   (with_replacement = False).column(0)\n",
        "original_and_shuffled = smoking_and_birthweight.with_column\\\n",
        "    ('Shuffled Label', shuffled_labels)\n",
        "original_and_shuffled"
      ],
      "execution_count": 8,
      "outputs": [
        {
          "output_type": "execute_result",
          "data": {
            "text/html": [
              "<table border=\"1\" class=\"dataframe\">\n",
              "    <thead>\n",
              "        <tr>\n",
              "            <th>Maternal Smoker</th> <th>Birth Weight</th> <th>Shuffled Label</th>\n",
              "        </tr>\n",
              "    </thead>\n",
              "    <tbody>\n",
              "        <tr>\n",
              "            <td>False          </td> <td>120         </td> <td>True          </td>\n",
              "        </tr>\n",
              "        <tr>\n",
              "            <td>False          </td> <td>113         </td> <td>True          </td>\n",
              "        </tr>\n",
              "        <tr>\n",
              "            <td>True           </td> <td>128         </td> <td>True          </td>\n",
              "        </tr>\n",
              "        <tr>\n",
              "            <td>True           </td> <td>108         </td> <td>True          </td>\n",
              "        </tr>\n",
              "        <tr>\n",
              "            <td>False          </td> <td>136         </td> <td>True          </td>\n",
              "        </tr>\n",
              "        <tr>\n",
              "            <td>False          </td> <td>138         </td> <td>False         </td>\n",
              "        </tr>\n",
              "        <tr>\n",
              "            <td>False          </td> <td>132         </td> <td>True          </td>\n",
              "        </tr>\n",
              "        <tr>\n",
              "            <td>False          </td> <td>120         </td> <td>False         </td>\n",
              "        </tr>\n",
              "        <tr>\n",
              "            <td>True           </td> <td>143         </td> <td>True          </td>\n",
              "        </tr>\n",
              "        <tr>\n",
              "            <td>False          </td> <td>140         </td> <td>False         </td>\n",
              "        </tr>\n",
              "    </tbody>\n",
              "</table>\n",
              "<p>... (1164 rows omitted)</p>"
            ],
            "text/plain": [
              "Maternal Smoker | Birth Weight | Shuffled Label\n",
              "False           | 120          | True\n",
              "False           | 113          | True\n",
              "True            | 128          | True\n",
              "True            | 108          | True\n",
              "False           | 136          | True\n",
              "False           | 138          | False\n",
              "False           | 132          | True\n",
              "False           | 120          | False\n",
              "True            | 143          | True\n",
              "False           | 140          | False\n",
              "... (1164 rows omitted)"
            ]
          },
          "metadata": {
            "tags": []
          },
          "execution_count": 8
        }
      ]
    },
    {
      "cell_type": "code",
      "metadata": {
        "id": "GMK4Pl3BF4fo",
        "colab_type": "code",
        "colab": {
          "base_uri": "https://localhost:8080/",
          "height": 111
        },
        "outputId": "3d1effec-712b-49af-e940-7e8e3be3d2e9"
      },
      "source": [
        "shuffled_only = original_and_shuffled.drop('Maternal Smoker')\n",
        "shuffled_group_means = shuffled_only.group('Shuffled Label',\n",
        "                                           np.average)\n",
        "shuffled_group_means"
      ],
      "execution_count": 9,
      "outputs": [
        {
          "output_type": "execute_result",
          "data": {
            "text/html": [
              "<table border=\"1\" class=\"dataframe\">\n",
              "    <thead>\n",
              "        <tr>\n",
              "            <th>Shuffled Label</th> <th>Birth Weight average</th>\n",
              "        </tr>\n",
              "    </thead>\n",
              "    <tbody>\n",
              "        <tr>\n",
              "            <td>False         </td> <td>119.352             </td>\n",
              "        </tr>\n",
              "        <tr>\n",
              "            <td>True          </td> <td>119.634             </td>\n",
              "        </tr>\n",
              "    </tbody>\n",
              "</table>"
            ],
            "text/plain": [
              "Shuffled Label | Birth Weight average\n",
              "False          | 119.352\n",
              "True           | 119.634"
            ]
          },
          "metadata": {
            "tags": []
          },
          "execution_count": 9
        }
      ]
    },
    {
      "cell_type": "code",
      "metadata": {
        "id": "ttHo5S_XF4iw",
        "colab_type": "code",
        "colab": {
          "base_uri": "https://localhost:8080/",
          "height": 34
        },
        "outputId": "4f0270c4-d612-47aa-9299-ff2f9623f782"
      },
      "source": [
        "difference_of_means(original_and_shuffled, 'Birth Weight',\n",
        "                                        'Shuffled Label')"
      ],
      "execution_count": 10,
      "outputs": [
        {
          "output_type": "execute_result",
          "data": {
            "text/plain": [
              "0.2815393756570188"
            ]
          },
          "metadata": {
            "tags": []
          },
          "execution_count": 10
        }
      ]
    },
    {
      "cell_type": "code",
      "metadata": {
        "id": "QVvqZjLCF4lo",
        "colab_type": "code",
        "colab": {
          "base_uri": "https://localhost:8080/",
          "height": 34
        },
        "outputId": "bb0d0c80-1d66-4c8c-b0d0-de258711d112"
      },
      "source": [
        "difference_of_means(original_and_shuffled, 'Birth Weight',\n",
        "                                     'Maternal Smoker')"
      ],
      "execution_count": 11,
      "outputs": [
        {
          "output_type": "execute_result",
          "data": {
            "text/plain": [
              "-9.266142572024918"
            ]
          },
          "metadata": {
            "tags": []
          },
          "execution_count": 11
        }
      ]
    },
    {
      "cell_type": "code",
      "metadata": {
        "id": "yLt9PmS3Hk56",
        "colab_type": "code",
        "colab": {}
      },
      "source": [
        "def one_simulated_difference(table, label, group_label):\n",
        "    shuffled_labels = table.sample(with_replacement = False\n",
        "                                       ).column(group_label)\n",
        "    shuffled_table = table.select(label).with_column(\n",
        "        'Shuffled Label', shuffled_labels)\n",
        "    return difference_of_means(shuffled_table, \n",
        "                                   label, 'Shuffled Label')  "
      ],
      "execution_count": 0,
      "outputs": []
    },
    {
      "cell_type": "code",
      "metadata": {
        "id": "46BorSaRHk8d",
        "colab_type": "code",
        "colab": {
          "base_uri": "https://localhost:8080/",
          "height": 34
        },
        "outputId": "9ad55bfa-90df-4959-da37-133e5a277d42"
      },
      "source": [
        "one_simulated_difference(births, 'Birth Weight', 'Maternal Smoker')"
      ],
      "execution_count": 13,
      "outputs": [
        {
          "output_type": "execute_result",
          "data": {
            "text/plain": [
              "0.13129484894190568"
            ]
          },
          "metadata": {
            "tags": []
          },
          "execution_count": 13
        }
      ]
    },
    {
      "cell_type": "code",
      "metadata": {
        "id": "grORadRlHk_U",
        "colab_type": "code",
        "colab": {}
      },
      "source": [
        "differences = make_array()\n",
        "repetitions = 5000\n",
        "for i in np.arange(repetitions):\n",
        "    new_difference = one_simulated_difference(births, 'Birth Weight',\n",
        "                                              'Maternal Smoker')\n",
        "    differences = np.append(differences, new_difference)     "
      ],
      "execution_count": 0,
      "outputs": []
    },
    {
      "cell_type": "code",
      "metadata": {
        "id": "mqzxUcGgHlCK",
        "colab_type": "code",
        "colab": {
          "base_uri": "https://localhost:8080/",
          "height": 339
        },
        "outputId": "f488cae4-7e63-424e-e56c-e6b4b37d75b7"
      },
      "source": [
        "Table().with_column('Difference Between Group Means', differences).hist()\n",
        "print('Observed Difference:', observed_difference)\n",
        "plots.title('Prediction Under the Null Hypothesis');"
      ],
      "execution_count": 15,
      "outputs": [
        {
          "output_type": "stream",
          "text": [
            "Observed Difference: -9.266142572024918\n"
          ],
          "name": "stdout"
        },
        {
          "output_type": "display_data",
          "data": {
            "image/png": "[encoded data removed]",
            "text/plain": [
              "<Figure size 432x288 with 1 Axes>"
            ]
          },
          "metadata": {
            "tags": []
          }
        }
      ]
    },
    {
      "cell_type": "code",
      "metadata": {
        "id": "-8xxWzCzHlEy",
        "colab_type": "code",
        "colab": {
          "base_uri": "https://localhost:8080/",
          "height": 34
        },
        "outputId": "129a2c1d-6acb-42c6-a122-834766f707c8"
      },
      "source": [
        "empirical_P = np.count_nonzero\\\n",
        "  (differences <= observed_difference) / repetitions\n",
        "empirical_P"
      ],
      "execution_count": 16,
      "outputs": [
        {
          "output_type": "execute_result",
          "data": {
            "text/plain": [
              "0.0"
            ]
          },
          "metadata": {
            "tags": []
          },
          "execution_count": 16
        }
      ]
    },
    {
      "cell_type": "code",
      "metadata": {
        "id": "H3T2zyIEILS6",
        "colab_type": "code",
        "colab": {
          "base_uri": "https://localhost:8080/",
          "height": 282
        },
        "outputId": "ef319975-cd38-4f51-fcf9-31734cae931c"
      },
      "source": [
        "smoking_and_age = births.select('Maternal Smoker', 'Maternal Age')\n",
        "smoking_and_age.hist('Maternal Age', group = 'Maternal Smoker')"
      ],
      "execution_count": 17,
      "outputs": [
        {
          "output_type": "display_data",
          "data": {
            "image/png": "[encoded data removed]",
            "text/plain": [
              "<Figure size 432x288 with 1 Axes>"
            ]
          },
          "metadata": {
            "tags": []
          }
        }
      ]
    },
    {
      "cell_type": "code",
      "metadata": {
        "id": "jvKSJd4yILWJ",
        "colab_type": "code",
        "colab": {
          "base_uri": "https://localhost:8080/",
          "height": 34
        },
        "outputId": "5c729004-c48f-467e-9a4e-1b9da9546a9d"
      },
      "source": [
        "observed_age_difference = difference_of_means(births, 'Maternal Age', 'Maternal Smoker')\n",
        "observed_age_difference"
      ],
      "execution_count": 18,
      "outputs": [
        {
          "output_type": "execute_result",
          "data": {
            "text/plain": [
              "-0.8076725017901509"
            ]
          },
          "metadata": {
            "tags": []
          },
          "execution_count": 18
        }
      ]
    },
    {
      "cell_type": "code",
      "metadata": {
        "id": "dTRxTsDNILZw",
        "colab_type": "code",
        "colab": {}
      },
      "source": [
        "age_differences = make_array()\n",
        "repetitions = 5000\n",
        "for i in np.arange(repetitions):\n",
        "    new_difference = one_simulated_difference(births, 'Maternal Age',\n",
        "                                              'Maternal Smoker')\n",
        "    age_differences = np.append(age_differences, new_difference)"
      ],
      "execution_count": 0,
      "outputs": []
    },
    {
      "cell_type": "code",
      "metadata": {
        "id": "-QlS2iUwIUPK",
        "colab_type": "code",
        "colab": {
          "base_uri": "https://localhost:8080/",
          "height": 339
        },
        "outputId": "f63fa56f-3f0b-4d53-a5db-05bde2a89825"
      },
      "source": [
        "Table().with_column('Difference Between Group Means', age_differences).hist()\n",
        "plots.scatter(observed_age_difference, 0, color='red', s=40)\n",
        "plots.title('Prediction Under the Null Hypothesis')\n",
        "print('Observed Difference:', observed_age_difference)"
      ],
      "execution_count": 20,
      "outputs": [
        {
          "output_type": "stream",
          "text": [
            "Observed Difference: -0.8076725017901509\n"
          ],
          "name": "stdout"
        },
        {
          "output_type": "display_data",
          "data": {
            "image/png": "[encoded data removed]",
            "text/plain": [
              "<Figure size 432x288 with 1 Axes>"
            ]
          },
          "metadata": {
            "tags": []
          }
        }
      ]
    },
    {
      "cell_type": "code",
      "metadata": {
        "id": "vWWLzEYJIUai",
        "colab_type": "code",
        "colab": {
          "base_uri": "https://localhost:8080/",
          "height": 34
        },
        "outputId": "98fd0e58-64da-4cda-f300-e3f4aa70ac38"
      },
      "source": [
        "empirical_P = np.count_nonzero\\\n",
        "(age_differences <= observed_age_difference) / 5000\n",
        "empirical_P"
      ],
      "execution_count": 21,
      "outputs": [
        {
          "output_type": "execute_result",
          "data": {
            "text/plain": [
              "0.0108"
            ]
          },
          "metadata": {
            "tags": []
          },
          "execution_count": 21
        }
      ]
    }
  ]
}