{
  "nbformat": 4,
  "nbformat_minor": 0,
  "metadata": {
    "colab": {
      "name": "9_4_The_Monty_Hall_Problem.ipynb",
      "provenance": []
    },
    "kernelspec": {
      "name": "python3",
      "display_name": "Python 3"
    }
  },
  "cells": [
    {
      "cell_type": "code",
      "metadata": {
        "id": "IDz10LEcjtlG",
        "colab_type": "code",
        "colab": {}
      },
      "source": [
        "import numpy as np\n",
        "from datascience import *"
      ],
      "execution_count": 0,
      "outputs": []
    },
    {
      "cell_type": "code",
      "metadata": {
        "id": "ZH5WOCjqmcbO",
        "colab_type": "code",
        "colab": {
          "base_uri": "https://localhost:8080/",
          "height": 34
        },
        "outputId": "5f639c28-6fb2-4bcf-c76c-610ef55e11fc"
      },
      "source": [
        "goats = make_array('first goat', 'second goat')\n",
        "goats"
      ],
      "execution_count": 2,
      "outputs": [
        {
          "output_type": "execute_result",
          "data": {
            "text/plain": [
              "array(['first goat', 'second goat'], dtype='<U11')"
            ]
          },
          "metadata": {
            "tags": []
          },
          "execution_count": 2
        }
      ]
    },
    {
      "cell_type": "code",
      "metadata": {
        "id": "WBPqYIDLjuVW",
        "colab_type": "code",
        "colab": {}
      },
      "source": [
        "def other_goat(x):\n",
        "    if x == 'first goat':\n",
        "        return 'second goat'\n",
        "    elif x == 'second goat':\n",
        "        return 'first goat'"
      ],
      "execution_count": 0,
      "outputs": []
    },
    {
      "cell_type": "code",
      "metadata": {
        "id": "81Xj1mnPjuYL",
        "colab_type": "code",
        "colab": {
          "base_uri": "https://localhost:8080/",
          "height": 34
        },
        "outputId": "abd52984-012a-4002-9252-167d15f863d9"
      },
      "source": [
        "hidden_behind_doors = make_array('car', 'first goat', 'second goat')\n",
        "hidden_behind_doors"
      ],
      "execution_count": 4,
      "outputs": [
        {
          "output_type": "execute_result",
          "data": {
            "text/plain": [
              "array(['car', 'first goat', 'second goat'], dtype='<U11')"
            ]
          },
          "metadata": {
            "tags": []
          },
          "execution_count": 4
        }
      ]
    },
    {
      "cell_type": "code",
      "metadata": {
        "id": "bvnUdqlXjua8",
        "colab_type": "code",
        "colab": {}
      },
      "source": [
        "def monty_hall_game():\n",
        "    \"\"\"Return [contestant's guess, what Monty reveals, \n",
        "    what remains behind the other door]\"\"\"\n",
        "    \n",
        "    contestant_guess = np.random.choice(hidden_behind_doors)\n",
        "    \n",
        "    if contestant_guess == 'first goat':\n",
        "        return [contestant_guess, 'second goat', 'car']\n",
        "    \n",
        "    if contestant_guess == 'second goat':\n",
        "        return [contestant_guess, 'first goat', 'car']\n",
        "    \n",
        "    if contestant_guess == 'car':\n",
        "        revealed = np.random.choice(goats)\n",
        "        return [contestant_guess, revealed, other_goat(revealed)]"
      ],
      "execution_count": 0,
      "outputs": []
    },
    {
      "cell_type": "code",
      "metadata": {
        "id": "FA2ltLabjudk",
        "colab_type": "code",
        "colab": {
          "base_uri": "https://localhost:8080/",
          "height": 34
        },
        "outputId": "17c50282-1726-4af5-c573-cd535b326309"
      },
      "source": [
        "monty_hall_game()"
      ],
      "execution_count": 6,
      "outputs": [
        {
          "output_type": "execute_result",
          "data": {
            "text/plain": [
              "['car', 'second goat', 'first goat']"
            ]
          },
          "metadata": {
            "tags": []
          },
          "execution_count": 6
        }
      ]
    },
    {
      "cell_type": "code",
      "metadata": {
        "id": "zMdtYJwCjugL",
        "colab_type": "code",
        "colab": {}
      },
      "source": [
        "games = Table(['Guess', 'Revealed', 'Remaining'])\n",
        "# Play the game 10000 times and \n",
        "# record the results in the table games\n",
        "for i in np.arange(10000):\n",
        "    games.append(monty_hall_game())"
      ],
      "execution_count": 0,
      "outputs": []
    },
    {
      "cell_type": "code",
      "metadata": {
        "id": "zDHZcRpjjui_",
        "colab_type": "code",
        "colab": {
          "base_uri": "https://localhost:8080/",
          "height": 142
        },
        "outputId": "21881de7-c40f-45c4-ba2d-2912860591ec"
      },
      "source": [
        "original_choice = games.group('Guess')\n",
        "original_choice"
      ],
      "execution_count": 8,
      "outputs": [
        {
          "output_type": "execute_result",
          "data": {
            "text/html": [
              "<table border=\"1\" class=\"dataframe\">\n",
              "    <thead>\n",
              "        <tr>\n",
              "            <th>Guess</th> <th>count</th>\n",
              "        </tr>\n",
              "    </thead>\n",
              "    <tbody>\n",
              "        <tr>\n",
              "            <td>car        </td> <td>3339 </td>\n",
              "        </tr>\n",
              "        <tr>\n",
              "            <td>first goat </td> <td>3343 </td>\n",
              "        </tr>\n",
              "        <tr>\n",
              "            <td>second goat</td> <td>3318 </td>\n",
              "        </tr>\n",
              "    </tbody>\n",
              "</table>"
            ],
            "text/plain": [
              "Guess       | count\n",
              "car         | 3339\n",
              "first goat  | 3343\n",
              "second goat | 3318"
            ]
          },
          "metadata": {
            "tags": []
          },
          "execution_count": 8
        }
      ]
    },
    {
      "cell_type": "code",
      "metadata": {
        "id": "FLrcnsSYjulr",
        "colab_type": "code",
        "colab": {
          "base_uri": "https://localhost:8080/",
          "height": 142
        },
        "outputId": "2bfadaf3-0a25-4a3a-98d4-e199b03cf559"
      },
      "source": [
        "remaining_door = games.group('Remaining')\n",
        "remaining_door"
      ],
      "execution_count": 9,
      "outputs": [
        {
          "output_type": "execute_result",
          "data": {
            "text/html": [
              "<table border=\"1\" class=\"dataframe\">\n",
              "    <thead>\n",
              "        <tr>\n",
              "            <th>Remaining</th> <th>count</th>\n",
              "        </tr>\n",
              "    </thead>\n",
              "    <tbody>\n",
              "        <tr>\n",
              "            <td>car        </td> <td>6661 </td>\n",
              "        </tr>\n",
              "        <tr>\n",
              "            <td>first goat </td> <td>1660 </td>\n",
              "        </tr>\n",
              "        <tr>\n",
              "            <td>second goat</td> <td>1679 </td>\n",
              "        </tr>\n",
              "    </tbody>\n",
              "</table>"
            ],
            "text/plain": [
              "Remaining   | count\n",
              "car         | 6661\n",
              "first goat  | 1660\n",
              "second goat | 1679"
            ]
          },
          "metadata": {
            "tags": []
          },
          "execution_count": 9
        }
      ]
    },
    {
      "cell_type": "code",
      "metadata": {
        "id": "dLXbwpiWjuob",
        "colab_type": "code",
        "colab": {
          "base_uri": "https://localhost:8080/",
          "height": 142
        },
        "outputId": "4fd0b65b-521f-4e14-cbf1-340d816dc8d5"
      },
      "source": [
        "joined = original_choice.join('Guess', remaining_door, 'Remaining')\n",
        "combined = joined.relabeled(0, 'Item').relabeled(1, \n",
        "                'Original Door').relabeled(2, 'Remaining Door')\n",
        "combined"
      ],
      "execution_count": 10,
      "outputs": [
        {
          "output_type": "execute_result",
          "data": {
            "text/html": [
              "<table border=\"1\" class=\"dataframe\">\n",
              "    <thead>\n",
              "        <tr>\n",
              "            <th>Item</th> <th>Original Door</th> <th>Remaining Door</th>\n",
              "        </tr>\n",
              "    </thead>\n",
              "    <tbody>\n",
              "        <tr>\n",
              "            <td>car        </td> <td>3339         </td> <td>6661          </td>\n",
              "        </tr>\n",
              "        <tr>\n",
              "            <td>first goat </td> <td>3343         </td> <td>1660          </td>\n",
              "        </tr>\n",
              "        <tr>\n",
              "            <td>second goat</td> <td>3318         </td> <td>1679          </td>\n",
              "        </tr>\n",
              "    </tbody>\n",
              "</table>"
            ],
            "text/plain": [
              "Item        | Original Door | Remaining Door\n",
              "car         | 3339          | 6661\n",
              "first goat  | 3343          | 1660\n",
              "second goat | 3318          | 1679"
            ]
          },
          "metadata": {
            "tags": []
          },
          "execution_count": 10
        }
      ]
    },
    {
      "cell_type": "code",
      "metadata": {
        "id": "JatayckWjuq7",
        "colab_type": "code",
        "colab": {
          "base_uri": "https://localhost:8080/",
          "height": 282
        },
        "outputId": "94a326ee-3b74-4e5e-b138-2bafc72cc6b8"
      },
      "source": [
        "%matplotlib inline\n",
        "import matplotlib.pyplot as plots\n",
        "plots.style.use('fivethirtyeight')\n",
        "combined.barh(0)"
      ],
      "execution_count": 11,
      "outputs": [
        {
          "output_type": "display_data",
          "data": {
            "image/png": "[encoded data removed]",
            "text/plain": [
              "<Figure size 432x288 with 1 Axes>"
            ]
          },
          "metadata": {
            "tags": []
          }
        }
      ]
    }
  ]
}