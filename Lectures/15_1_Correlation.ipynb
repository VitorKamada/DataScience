{
  "nbformat": 4,
  "nbformat_minor": 0,
  "metadata": {
    "colab": {
      "name": "15_1_Correlation.ipynb",
      "provenance": []
    },
    "kernelspec": {
      "name": "python3",
      "display_name": "Python 3"
    }
  },
  "cells": [
    {
      "cell_type": "code",
      "metadata": {
        "id": "Lf8NUm2BK0Aa",
        "colab_type": "code",
        "colab": {}
      },
      "source": [
        "from datascience import *\n",
        "import numpy as np\n",
        "%matplotlib inline\n",
        "import matplotlib.pyplot as plots\n",
        "plots.style.use('fivethirtyeight')"
      ],
      "execution_count": 0,
      "outputs": []
    },
    {
      "cell_type": "code",
      "metadata": {
        "id": "eq9cjcZaNuyQ",
        "colab_type": "code",
        "colab": {
          "base_uri": "https://localhost:8080/",
          "height": 235
        },
        "outputId": "2497d102-8c8d-4a4d-b536-6cc39b049337"
      },
      "source": [
        "x = np.arange(1, 7, 1)\n",
        "y = make_array(2, 3, 1, 5, 2, 7)\n",
        "t = Table().with_columns(\n",
        "        'x', x,\n",
        "        'y', y)\n",
        "t"
      ],
      "execution_count": 2,
      "outputs": [
        {
          "output_type": "execute_result",
          "data": {
            "text/html": [
              "<table border=\"1\" class=\"dataframe\">\n",
              "    <thead>\n",
              "        <tr>\n",
              "            <th>x</th> <th>y</th>\n",
              "        </tr>\n",
              "    </thead>\n",
              "    <tbody>\n",
              "        <tr>\n",
              "            <td>1   </td> <td>2   </td>\n",
              "        </tr>\n",
              "        <tr>\n",
              "            <td>2   </td> <td>3   </td>\n",
              "        </tr>\n",
              "        <tr>\n",
              "            <td>3   </td> <td>1   </td>\n",
              "        </tr>\n",
              "        <tr>\n",
              "            <td>4   </td> <td>5   </td>\n",
              "        </tr>\n",
              "        <tr>\n",
              "            <td>5   </td> <td>2   </td>\n",
              "        </tr>\n",
              "        <tr>\n",
              "            <td>6   </td> <td>7   </td>\n",
              "        </tr>\n",
              "    </tbody>\n",
              "</table>"
            ],
            "text/plain": [
              "x    | y\n",
              "1    | 2\n",
              "2    | 3\n",
              "3    | 1\n",
              "4    | 5\n",
              "5    | 2\n",
              "6    | 7"
            ]
          },
          "metadata": {
            "tags": []
          },
          "execution_count": 2
        }
      ]
    },
    {
      "cell_type": "code",
      "metadata": {
        "id": "KzZugeltNu8V",
        "colab_type": "code",
        "colab": {
          "base_uri": "https://localhost:8080/",
          "height": 359
        },
        "outputId": "ab346a6d-25f8-49e3-9e39-af9b78385505"
      },
      "source": [
        "t.scatter(0, 1, s=30, color='red')"
      ],
      "execution_count": 3,
      "outputs": [
        {
          "output_type": "display_data",
          "data": {
            "image/png": "[encoded data removed]",
            "text/plain": [
              "<Figure size 360x360 with 1 Axes>"
            ]
          },
          "metadata": {
            "tags": []
          }
        }
      ]
    },
    {
      "cell_type": "code",
      "metadata": {
        "id": "vpKVDgypOM_e",
        "colab_type": "code",
        "colab": {}
      },
      "source": [
        "def standard_units(any_numbers):\n",
        "    \"Convert any array of numbers to standard units.\"\n",
        "    return (any_numbers - np.mean(any_numbers))/np.std(any_numbers)  "
      ],
      "execution_count": 0,
      "outputs": []
    },
    {
      "cell_type": "code",
      "metadata": {
        "id": "UEWv3xFFNu_k",
        "colab_type": "code",
        "colab": {
          "base_uri": "https://localhost:8080/",
          "height": 235
        },
        "outputId": "1a89b2d1-68e6-466f-ec59-0bb8b85cacac"
      },
      "source": [
        "t_su = t.with_columns(\n",
        "        'x (standard units)', standard_units(x),\n",
        "        'y (standard units)', standard_units(y))\n",
        "t_su"
      ],
      "execution_count": 5,
      "outputs": [
        {
          "output_type": "execute_result",
          "data": {
            "text/html": [
              "<table border=\"1\" class=\"dataframe\">\n",
              "    <thead>\n",
              "        <tr>\n",
              "            <th>x</th> <th>y</th> <th>x (standard units)</th> <th>y (standard units)</th>\n",
              "        </tr>\n",
              "    </thead>\n",
              "    <tbody>\n",
              "        <tr>\n",
              "            <td>1   </td> <td>2   </td> <td>-1.46385          </td> <td>-0.648886         </td>\n",
              "        </tr>\n",
              "        <tr>\n",
              "            <td>2   </td> <td>3   </td> <td>-0.87831          </td> <td>-0.162221         </td>\n",
              "        </tr>\n",
              "        <tr>\n",
              "            <td>3   </td> <td>1   </td> <td>-0.29277          </td> <td>-1.13555          </td>\n",
              "        </tr>\n",
              "        <tr>\n",
              "            <td>4   </td> <td>5   </td> <td>0.29277           </td> <td>0.811107          </td>\n",
              "        </tr>\n",
              "        <tr>\n",
              "            <td>5   </td> <td>2   </td> <td>0.87831           </td> <td>-0.648886         </td>\n",
              "        </tr>\n",
              "        <tr>\n",
              "            <td>6   </td> <td>7   </td> <td>1.46385           </td> <td>1.78444           </td>\n",
              "        </tr>\n",
              "    </tbody>\n",
              "</table>"
            ],
            "text/plain": [
              "x    | y    | x (standard units) | y (standard units)\n",
              "1    | 2    | -1.46385           | -0.648886\n",
              "2    | 3    | -0.87831           | -0.162221\n",
              "3    | 1    | -0.29277           | -1.13555\n",
              "4    | 5    | 0.29277            | 0.811107\n",
              "5    | 2    | 0.87831            | -0.648886\n",
              "6    | 7    | 1.46385            | 1.78444"
            ]
          },
          "metadata": {
            "tags": []
          },
          "execution_count": 5
        }
      ]
    },
    {
      "cell_type": "code",
      "metadata": {
        "id": "XaMNwsShNvCs",
        "colab_type": "code",
        "colab": {
          "base_uri": "https://localhost:8080/",
          "height": 235
        },
        "outputId": "3c7c8d9f-01f6-4802-af32-590ec2a1e8bd"
      },
      "source": [
        "t_product = t_su.with_column('product of standard units',\n",
        "                        t_su.column(2) * t_su.column(3))\n",
        "t_product"
      ],
      "execution_count": 6,
      "outputs": [
        {
          "output_type": "execute_result",
          "data": {
            "text/html": [
              "<table border=\"1\" class=\"dataframe\">\n",
              "    <thead>\n",
              "        <tr>\n",
              "            <th>x</th> <th>y</th> <th>x (standard units)</th> <th>y (standard units)</th> <th>product of standard units</th>\n",
              "        </tr>\n",
              "    </thead>\n",
              "    <tbody>\n",
              "        <tr>\n",
              "            <td>1   </td> <td>2   </td> <td>-1.46385          </td> <td>-0.648886         </td> <td>0.949871                 </td>\n",
              "        </tr>\n",
              "        <tr>\n",
              "            <td>2   </td> <td>3   </td> <td>-0.87831          </td> <td>-0.162221         </td> <td>0.142481                 </td>\n",
              "        </tr>\n",
              "        <tr>\n",
              "            <td>3   </td> <td>1   </td> <td>-0.29277          </td> <td>-1.13555          </td> <td>0.332455                 </td>\n",
              "        </tr>\n",
              "        <tr>\n",
              "            <td>4   </td> <td>5   </td> <td>0.29277           </td> <td>0.811107          </td> <td>0.237468                 </td>\n",
              "        </tr>\n",
              "        <tr>\n",
              "            <td>5   </td> <td>2   </td> <td>0.87831           </td> <td>-0.648886         </td> <td>-0.569923                </td>\n",
              "        </tr>\n",
              "        <tr>\n",
              "            <td>6   </td> <td>7   </td> <td>1.46385           </td> <td>1.78444           </td> <td>2.61215                  </td>\n",
              "        </tr>\n",
              "    </tbody>\n",
              "</table>"
            ],
            "text/plain": [
              "x    | y    | x (standard units) | y (standard units) | product of standard units\n",
              "1    | 2    | -1.46385           | -0.648886          | 0.949871\n",
              "2    | 3    | -0.87831           | -0.162221          | 0.142481\n",
              "3    | 1    | -0.29277           | -1.13555           | 0.332455\n",
              "4    | 5    | 0.29277            | 0.811107           | 0.237468\n",
              "5    | 2    | 0.87831            | -0.648886          | -0.569923\n",
              "6    | 7    | 1.46385            | 1.78444            | 2.61215"
            ]
          },
          "metadata": {
            "tags": []
          },
          "execution_count": 6
        }
      ]
    },
    {
      "cell_type": "code",
      "metadata": {
        "id": "DQZUa8zGNvGO",
        "colab_type": "code",
        "colab": {
          "base_uri": "https://localhost:8080/",
          "height": 34
        },
        "outputId": "fe4c2e59-5afd-4066-dc71-23c40375e950"
      },
      "source": [
        "r = np.mean(t_product.column(4))\n",
        "r"
      ],
      "execution_count": 7,
      "outputs": [
        {
          "output_type": "execute_result",
          "data": {
            "text/plain": [
              "0.6174163971897709"
            ]
          },
          "metadata": {
            "tags": []
          },
          "execution_count": 7
        }
      ]
    },
    {
      "cell_type": "code",
      "metadata": {
        "id": "vCTxIQ5xK1k7",
        "colab_type": "code",
        "colab": {}
      },
      "source": [
        "def correlation(t, x, y):\n",
        "    return np.mean(standard_units(t.column(x))*standard_units(t.column(y)))"
      ],
      "execution_count": 0,
      "outputs": []
    },
    {
      "cell_type": "code",
      "metadata": {
        "id": "qLB4QsvnK1qj",
        "colab_type": "code",
        "colab": {
          "base_uri": "https://localhost:8080/",
          "height": 359
        },
        "outputId": "58be4952-157f-4245-e370-6afb9b0365fa"
      },
      "source": [
        "new_x = np.arange(-4, 4.1, 0.5)\n",
        "nonlinear = Table().with_columns(\n",
        "        'x', new_x,\n",
        "        'y', new_x**2)\n",
        "nonlinear.scatter('x', 'y', s=30, color='r')"
      ],
      "execution_count": 9,
      "outputs": [
        {
          "output_type": "display_data",
          "data": {
            "image/png": "[encoded data removed]",
            "text/plain": [
              "<Figure size 360x360 with 1 Axes>"
            ]
          },
          "metadata": {
            "tags": []
          }
        }
      ]
    },
    {
      "cell_type": "code",
      "metadata": {
        "id": "iKFrqQWYK1tE",
        "colab_type": "code",
        "colab": {
          "base_uri": "https://localhost:8080/",
          "height": 34
        },
        "outputId": "cf921787-3224-4c48-9d63-46e61162f0fd"
      },
      "source": [
        "correlation(nonlinear, 'x', 'y')"
      ],
      "execution_count": 10,
      "outputs": [
        {
          "output_type": "execute_result",
          "data": {
            "text/plain": [
              "0.0"
            ]
          },
          "metadata": {
            "tags": []
          },
          "execution_count": 10
        }
      ]
    },
    {
      "cell_type": "code",
      "metadata": {
        "id": "DGi8mt58K1v1",
        "colab_type": "code",
        "colab": {
          "base_uri": "https://localhost:8080/",
          "height": 388
        },
        "outputId": "96c59357-de65-4305-a095-edf596f20715"
      },
      "source": [
        "path_data = 'https://github.com/data-8/textbook/raw/gh-pages/data/'\n",
        "sat2014 = Table.read_table(path_data + 'sat2014.csv').sort('State')\n",
        "sat2014"
      ],
      "execution_count": 11,
      "outputs": [
        {
          "output_type": "execute_result",
          "data": {
            "text/html": [
              "<table border=\"1\" class=\"dataframe\">\n",
              "    <thead>\n",
              "        <tr>\n",
              "            <th>State</th> <th>Participation Rate</th> <th>Critical Reading</th> <th>Math</th> <th>Writing</th> <th>Combined</th>\n",
              "        </tr>\n",
              "    </thead>\n",
              "    <tbody>\n",
              "        <tr>\n",
              "            <td>Alabama             </td> <td>6.7               </td> <td>547             </td> <td>538 </td> <td>532    </td> <td>1617    </td>\n",
              "        </tr>\n",
              "        <tr>\n",
              "            <td>Alaska              </td> <td>54.2              </td> <td>507             </td> <td>503 </td> <td>475    </td> <td>1485    </td>\n",
              "        </tr>\n",
              "        <tr>\n",
              "            <td>Arizona             </td> <td>36.4              </td> <td>522             </td> <td>525 </td> <td>500    </td> <td>1547    </td>\n",
              "        </tr>\n",
              "        <tr>\n",
              "            <td>Arkansas            </td> <td>4.2               </td> <td>573             </td> <td>571 </td> <td>554    </td> <td>1698    </td>\n",
              "        </tr>\n",
              "        <tr>\n",
              "            <td>California          </td> <td>60.3              </td> <td>498             </td> <td>510 </td> <td>496    </td> <td>1504    </td>\n",
              "        </tr>\n",
              "        <tr>\n",
              "            <td>Colorado            </td> <td>14.3              </td> <td>582             </td> <td>586 </td> <td>567    </td> <td>1735    </td>\n",
              "        </tr>\n",
              "        <tr>\n",
              "            <td>Connecticut         </td> <td>88.4              </td> <td>507             </td> <td>510 </td> <td>508    </td> <td>1525    </td>\n",
              "        </tr>\n",
              "        <tr>\n",
              "            <td>Delaware            </td> <td>100               </td> <td>456             </td> <td>459 </td> <td>444    </td> <td>1359    </td>\n",
              "        </tr>\n",
              "        <tr>\n",
              "            <td>District of Columbia</td> <td>100               </td> <td>440             </td> <td>438 </td> <td>431    </td> <td>1309    </td>\n",
              "        </tr>\n",
              "        <tr>\n",
              "            <td>Florida             </td> <td>72.2              </td> <td>491             </td> <td>485 </td> <td>472    </td> <td>1448    </td>\n",
              "        </tr>\n",
              "    </tbody>\n",
              "</table>\n",
              "<p>... (41 rows omitted)</p>"
            ],
            "text/plain": [
              "State                | Participation Rate | Critical Reading | Math | Writing | Combined\n",
              "Alabama              | 6.7                | 547              | 538  | 532     | 1617\n",
              "Alaska               | 54.2               | 507              | 503  | 475     | 1485\n",
              "Arizona              | 36.4               | 522              | 525  | 500     | 1547\n",
              "Arkansas             | 4.2                | 573              | 571  | 554     | 1698\n",
              "California           | 60.3               | 498              | 510  | 496     | 1504\n",
              "Colorado             | 14.3               | 582              | 586  | 567     | 1735\n",
              "Connecticut          | 88.4               | 507              | 510  | 508     | 1525\n",
              "Delaware             | 100                | 456              | 459  | 444     | 1359\n",
              "District of Columbia | 100                | 440              | 438  | 431     | 1309\n",
              "Florida              | 72.2               | 491              | 485  | 472     | 1448\n",
              "... (41 rows omitted)"
            ]
          },
          "metadata": {
            "tags": []
          },
          "execution_count": 11
        }
      ]
    },
    {
      "cell_type": "code",
      "metadata": {
        "id": "3YsKAqNgK1ys",
        "colab_type": "code",
        "colab": {
          "base_uri": "https://localhost:8080/",
          "height": 359
        },
        "outputId": "8277d5f3-da31-458a-9899-fabb69f6ed16"
      },
      "source": [
        "sat2014.scatter('Critical Reading', 'Math')"
      ],
      "execution_count": 12,
      "outputs": [
        {
          "output_type": "display_data",
          "data": {
            "image/png": "[encoded data removed]",
            "text/plain": [
              "<Figure size 360x360 with 1 Axes>"
            ]
          },
          "metadata": {
            "tags": []
          }
        }
      ]
    },
    {
      "cell_type": "code",
      "metadata": {
        "id": "oNlCVz8oK11c",
        "colab_type": "code",
        "colab": {
          "base_uri": "https://localhost:8080/",
          "height": 34
        },
        "outputId": "5f5eff03-da59-4716-d786-af6f6bfafeb2"
      },
      "source": [
        "correlation(sat2014, 'Critical Reading', 'Math')"
      ],
      "execution_count": 13,
      "outputs": [
        {
          "output_type": "execute_result",
          "data": {
            "text/plain": [
              "0.9847558411067434"
            ]
          },
          "metadata": {
            "tags": []
          },
          "execution_count": 13
        }
      ]
    }
  ]
}