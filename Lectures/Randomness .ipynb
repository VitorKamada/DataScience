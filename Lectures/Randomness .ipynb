{
  "nbformat": 4,
  "nbformat_minor": 0,
  "metadata": {
    "colab": {
      "name": "Randomness.ipynb",
      "provenance": []
    },
    "kernelspec": {
      "name": "python3",
      "display_name": "Python 3"
    }
  },
  "cells": [
    {
      "cell_type": "code",
      "metadata": {
        "id": "4qQ0t_HjU-4P",
        "colab_type": "code",
        "colab": {}
      },
      "source": [
        "from datascience import *\n",
        "import numpy as np"
      ],
      "execution_count": 0,
      "outputs": []
    },
    {
      "cell_type": "code",
      "metadata": {
        "id": "chfn6swtV1u_",
        "colab_type": "code",
        "colab": {}
      },
      "source": [
        "def bet_on_one_roll():\n",
        "    \"\"\"Returns my net gain on one bet\"\"\"\n",
        "    # roll a die once and record the number of spots\n",
        "    x = np.random.choice(np.arange(1, 7))  \n",
        "    if x <= 2:\n",
        "        return -1\n",
        "    elif x <= 4:\n",
        "        return 0\n",
        "    elif x <= 6:\n",
        "        return 1"
      ],
      "execution_count": 0,
      "outputs": []
    },
    {
      "cell_type": "code",
      "metadata": {
        "id": "Damleu2HU_hY",
        "colab_type": "code",
        "colab": {
          "base_uri": "https://localhost:8080/",
          "height": 34
        },
        "outputId": "0fff3e0d-973f-4bd9-9cf3-19faa85cf5f7"
      },
      "source": [
        "bet_on_one_roll()"
      ],
      "execution_count": 3,
      "outputs": [
        {
          "output_type": "execute_result",
          "data": {
            "text/plain": [
              "1"
            ]
          },
          "metadata": {
            "tags": []
          },
          "execution_count": 3
        }
      ]
    },
    {
      "cell_type": "code",
      "metadata": {
        "id": "p0-uGIZPU_kP",
        "colab_type": "code",
        "colab": {
          "base_uri": "https://localhost:8080/",
          "height": 104
        },
        "outputId": "a5f7e45d-5d6d-4f08-b1ad-347a755ef1de"
      },
      "source": [
        "for i in np.arange(5):\n",
        "    print(bet_on_one_roll())"
      ],
      "execution_count": 4,
      "outputs": [
        {
          "output_type": "stream",
          "text": [
            "-1\n",
            "-1\n",
            "0\n",
            "1\n",
            "-1\n"
          ],
          "name": "stdout"
        }
      ]
    },
    {
      "cell_type": "code",
      "metadata": {
        "id": "nr63_qzZU_nI",
        "colab_type": "code",
        "colab": {
          "base_uri": "https://localhost:8080/",
          "height": 34
        },
        "outputId": "2d036912-6132-4a85-d68f-d65708a4b641"
      },
      "source": [
        "outcomes = make_array()\n",
        "for i in np.arange(5):\n",
        "    outcome_of_bet = bet_on_one_roll()\n",
        "    outcomes = np.append(outcomes, outcome_of_bet)  \n",
        "outcomes "
      ],
      "execution_count": 5,
      "outputs": [
        {
          "output_type": "execute_result",
          "data": {
            "text/plain": [
              "array([ 1.,  0., -1., -1., -1.])"
            ]
          },
          "metadata": {
            "tags": []
          },
          "execution_count": 5
        }
      ]
    },
    {
      "cell_type": "code",
      "metadata": {
        "id": "HgeFI79fU_p2",
        "colab_type": "code",
        "colab": {
          "base_uri": "https://localhost:8080/",
          "height": 34
        },
        "outputId": "39b5c32c-ec7c-4a69-fbb7-2cabc18c1796"
      },
      "source": [
        "np.count_nonzero(outcomes)"
      ],
      "execution_count": 6,
      "outputs": [
        {
          "output_type": "execute_result",
          "data": {
            "text/plain": [
              "4"
            ]
          },
          "metadata": {
            "tags": []
          },
          "execution_count": 6
        }
      ]
    },
    {
      "cell_type": "code",
      "metadata": {
        "id": "CvysWXybU_su",
        "colab_type": "code",
        "colab": {
          "base_uri": "https://localhost:8080/",
          "height": 34
        },
        "outputId": "c8d033af-c753-4fc5-9edd-7e37d52e82fc"
      },
      "source": [
        "outcomes = make_array()\n",
        "for i in np.arange(300):\n",
        "    outcome_of_bet = bet_on_one_roll()\n",
        "    outcomes = np.append(outcomes, outcome_of_bet)\n",
        "len(outcomes)"
      ],
      "execution_count": 7,
      "outputs": [
        {
          "output_type": "execute_result",
          "data": {
            "text/plain": [
              "300"
            ]
          },
          "metadata": {
            "tags": []
          },
          "execution_count": 7
        }
      ]
    },
    {
      "cell_type": "code",
      "metadata": {
        "id": "AUYeVcgKU_vP",
        "colab_type": "code",
        "colab": {
          "base_uri": "https://localhost:8080/",
          "height": 301
        },
        "outputId": "7b377079-26a6-408e-f98d-f2a0669d52a9"
      },
      "source": [
        "%matplotlib inline\n",
        "import matplotlib.pyplot as plots\n",
        "plots.style.use('fivethirtyeight')\n",
        "outcome_table = Table().with_column('Outcome', outcomes)\n",
        "outcome_table.group('Outcome').barh(0)"
      ],
      "execution_count": 8,
      "outputs": [
        {
          "output_type": "display_data",
          "data": {
            "image/png": "[encoded data removed]",
            "text/plain": [
              "<Figure size 432x288 with 1 Axes>"
            ]
          },
          "metadata": {
            "tags": []
          }
        }
      ]
    },
    {
      "cell_type": "code",
      "metadata": {
        "id": "dUawXq0mXddY",
        "colab_type": "code",
        "colab": {
          "base_uri": "https://localhost:8080/",
          "height": 52
        },
        "outputId": "a961517d-2451-4331-c896-9fde6a5f3bbd"
      },
      "source": [
        "coin = make_array('Heads', 'Tails')\n",
        "ten_tosses = np.random.choice(coin, 10)\n",
        "ten_tosses"
      ],
      "execution_count": 9,
      "outputs": [
        {
          "output_type": "execute_result",
          "data": {
            "text/plain": [
              "array(['Heads', 'Tails', 'Heads', 'Tails', 'Tails', 'Heads', 'Tails',\n",
              "       'Heads', 'Tails', 'Tails'], dtype='<U5')"
            ]
          },
          "metadata": {
            "tags": []
          },
          "execution_count": 9
        }
      ]
    },
    {
      "cell_type": "code",
      "metadata": {
        "id": "DNYKv4YBXdgm",
        "colab_type": "code",
        "colab": {
          "base_uri": "https://localhost:8080/",
          "height": 34
        },
        "outputId": "43298670-407a-4b2f-a637-eac423f8e532"
      },
      "source": [
        "np.count_nonzero(ten_tosses == 'Heads')"
      ],
      "execution_count": 10,
      "outputs": [
        {
          "output_type": "execute_result",
          "data": {
            "text/plain": [
              "4"
            ]
          },
          "metadata": {
            "tags": []
          },
          "execution_count": 10
        }
      ]
    },
    {
      "cell_type": "code",
      "metadata": {
        "id": "_Dz8OkJYXdju",
        "colab_type": "code",
        "colab": {
          "base_uri": "https://localhost:8080/",
          "height": 34
        },
        "outputId": "23fa1c55-4125-4c7f-d626-4699be031f02"
      },
      "source": [
        "outcomes = np.random.choice(coin, 100)\n",
        "num_heads = np.count_nonzero(outcomes == 'Heads')\n",
        "num_heads"
      ],
      "execution_count": 11,
      "outputs": [
        {
          "output_type": "execute_result",
          "data": {
            "text/plain": [
              "51"
            ]
          },
          "metadata": {
            "tags": []
          },
          "execution_count": 11
        }
      ]
    },
    {
      "cell_type": "code",
      "metadata": {
        "id": "Wo_eS68SXdmp",
        "colab_type": "code",
        "colab": {
          "base_uri": "https://localhost:8080/",
          "height": 34
        },
        "outputId": "fba5eba4-f7d7-4449-cc54-dc15c93fd463"
      },
      "source": [
        "heads = make_array()\n",
        "\n",
        "num_repetitions = 10000\n",
        "\n",
        "for i in np.arange(num_repetitions):\n",
        "    outcomes = np.random.choice(coin, 100)\n",
        "    heads = np.append(heads, np.count_nonzero(outcomes == 'Heads'))\n",
        "\n",
        "heads    "
      ],
      "execution_count": 12,
      "outputs": [
        {
          "output_type": "execute_result",
          "data": {
            "text/plain": [
              "array([54., 56., 49., ..., 50., 51., 48.])"
            ]
          },
          "metadata": {
            "tags": []
          },
          "execution_count": 12
        }
      ]
    },
    {
      "cell_type": "code",
      "metadata": {
        "id": "VBKoEEr9Xdpo",
        "colab_type": "code",
        "colab": {
          "base_uri": "https://localhost:8080/",
          "height": 34
        },
        "outputId": "736729e5-141e-4058-897f-ce07829fba01"
      },
      "source": [
        "len(heads)"
      ],
      "execution_count": 13,
      "outputs": [
        {
          "output_type": "execute_result",
          "data": {
            "text/plain": [
              "10000"
            ]
          },
          "metadata": {
            "tags": []
          },
          "execution_count": 13
        }
      ]
    },
    {
      "cell_type": "code",
      "metadata": {
        "id": "s_TYlwXGXdsW",
        "colab_type": "code",
        "colab": {
          "base_uri": "https://localhost:8080/",
          "height": 388
        },
        "outputId": "2872c6f1-32a3-4ab2-ff3d-81cc19dff9dc"
      },
      "source": [
        "simulation_results = Table().with_column(\n",
        "    'Repetition', np.arange(1, num_repetitions + 1),\n",
        "    'Number of Heads', heads\n",
        ")\n",
        "simulation_results"
      ],
      "execution_count": 14,
      "outputs": [
        {
          "output_type": "execute_result",
          "data": {
            "text/html": [
              "<table border=\"1\" class=\"dataframe\">\n",
              "    <thead>\n",
              "        <tr>\n",
              "            <th>Repetition</th> <th>Number of Heads</th>\n",
              "        </tr>\n",
              "    </thead>\n",
              "    <tbody>\n",
              "        <tr>\n",
              "            <td>1         </td> <td>54             </td>\n",
              "        </tr>\n",
              "        <tr>\n",
              "            <td>2         </td> <td>56             </td>\n",
              "        </tr>\n",
              "        <tr>\n",
              "            <td>3         </td> <td>49             </td>\n",
              "        </tr>\n",
              "        <tr>\n",
              "            <td>4         </td> <td>54             </td>\n",
              "        </tr>\n",
              "        <tr>\n",
              "            <td>5         </td> <td>44             </td>\n",
              "        </tr>\n",
              "        <tr>\n",
              "            <td>6         </td> <td>52             </td>\n",
              "        </tr>\n",
              "        <tr>\n",
              "            <td>7         </td> <td>50             </td>\n",
              "        </tr>\n",
              "        <tr>\n",
              "            <td>8         </td> <td>49             </td>\n",
              "        </tr>\n",
              "        <tr>\n",
              "            <td>9         </td> <td>55             </td>\n",
              "        </tr>\n",
              "        <tr>\n",
              "            <td>10        </td> <td>59             </td>\n",
              "        </tr>\n",
              "    </tbody>\n",
              "</table>\n",
              "<p>... (9990 rows omitted)</p>"
            ],
            "text/plain": [
              "Repetition | Number of Heads\n",
              "1          | 54\n",
              "2          | 56\n",
              "3          | 49\n",
              "4          | 54\n",
              "5          | 44\n",
              "6          | 52\n",
              "7          | 50\n",
              "8          | 49\n",
              "9          | 55\n",
              "10         | 59\n",
              "... (9990 rows omitted)"
            ]
          },
          "metadata": {
            "tags": []
          },
          "execution_count": 14
        }
      ]
    },
    {
      "cell_type": "code",
      "metadata": {
        "id": "O6IfB-BpXdve",
        "colab_type": "code",
        "colab": {
          "base_uri": "https://localhost:8080/",
          "height": 301
        },
        "outputId": "05840ad9-6107-4e49-94e0-4e08dfac3f69"
      },
      "source": [
        "simulation_results.hist('Number of Heads',\n",
        "          bins = np.arange(30.5, 69.6, 1))"
      ],
      "execution_count": 15,
      "outputs": [
        {
          "output_type": "display_data",
          "data": {
            "image/png": "[encoded data removed]",
            "text/plain": [
              "<Figure size 432x288 with 1 Axes>"
            ]
          },
          "metadata": {
            "tags": []
          }
        }
      ]
    },
    {
      "cell_type": "code",
      "metadata": {
        "id": "zglQX37XY8vS",
        "colab_type": "code",
        "colab": {
          "base_uri": "https://localhost:8080/",
          "height": 34
        },
        "outputId": "cad99a09-ac9e-451a-a917-972800ad1358"
      },
      "source": [
        "die = np.arange(1, 7)\n",
        "sum(np.random.choice(die, 2))"
      ],
      "execution_count": 16,
      "outputs": [
        {
          "output_type": "execute_result",
          "data": {
            "text/plain": [
              "7"
            ]
          },
          "metadata": {
            "tags": []
          },
          "execution_count": 16
        }
      ]
    },
    {
      "cell_type": "code",
      "metadata": {
        "id": "yNrGxwRNY8yg",
        "colab_type": "code",
        "colab": {}
      },
      "source": [
        "moves = make_array()\n",
        "\n",
        "num_repetitions = 10000\n",
        "\n",
        "for i in np.arange(num_repetitions):\n",
        "    one_move = sum(np.random.choice(die, 2))\n",
        "    moves = np.append(moves, one_move)"
      ],
      "execution_count": 0,
      "outputs": []
    },
    {
      "cell_type": "code",
      "metadata": {
        "id": "ZuWuC4e8Y811",
        "colab_type": "code",
        "colab": {
          "base_uri": "https://localhost:8080/",
          "height": 305
        },
        "outputId": "71a1f68b-906e-4442-c6ae-872b98288d75"
      },
      "source": [
        "results = Table().with_column(\n",
        "    'Repetition', np.arange(1, num_repetitions + 1),\n",
        "    'Sum of Two Rolls', moves\n",
        ")\n",
        "\n",
        "results.hist('Sum of Two Rolls', bins = np.arange(1.5, 12.6, 1))"
      ],
      "execution_count": 18,
      "outputs": [
        {
          "output_type": "display_data",
          "data": {
            "image/png": "[encoded data removed]",
            "text/plain": [
              "<Figure size 432x288 with 1 Axes>"
            ]
          },
          "metadata": {
            "tags": []
          }
        }
      ]
    },
    {
      "cell_type": "code",
      "metadata": {
        "id": "ZsBocNRxZ7wE",
        "colab_type": "code",
        "colab": {
          "base_uri": "https://localhost:8080/",
          "height": 388
        },
        "outputId": "d518cc37-d319-40e1-cfc8-e4a6dd8bdf6c"
      },
      "source": [
        "rolls = np.arange(1, 51, 1)\n",
        "results = Table().with_columns(\n",
        "    'Rolls', rolls,\n",
        "    'Chance of at least one 6', 1 - (5/6)**rolls\n",
        ")\n",
        "results"
      ],
      "execution_count": 19,
      "outputs": [
        {
          "output_type": "execute_result",
          "data": {
            "text/html": [
              "<table border=\"1\" class=\"dataframe\">\n",
              "    <thead>\n",
              "        <tr>\n",
              "            <th>Rolls</th> <th>Chance of at least one 6</th>\n",
              "        </tr>\n",
              "    </thead>\n",
              "    <tbody>\n",
              "        <tr>\n",
              "            <td>1    </td> <td>0.166667                </td>\n",
              "        </tr>\n",
              "        <tr>\n",
              "            <td>2    </td> <td>0.305556                </td>\n",
              "        </tr>\n",
              "        <tr>\n",
              "            <td>3    </td> <td>0.421296                </td>\n",
              "        </tr>\n",
              "        <tr>\n",
              "            <td>4    </td> <td>0.517747                </td>\n",
              "        </tr>\n",
              "        <tr>\n",
              "            <td>5    </td> <td>0.598122                </td>\n",
              "        </tr>\n",
              "        <tr>\n",
              "            <td>6    </td> <td>0.665102                </td>\n",
              "        </tr>\n",
              "        <tr>\n",
              "            <td>7    </td> <td>0.720918                </td>\n",
              "        </tr>\n",
              "        <tr>\n",
              "            <td>8    </td> <td>0.767432                </td>\n",
              "        </tr>\n",
              "        <tr>\n",
              "            <td>9    </td> <td>0.806193                </td>\n",
              "        </tr>\n",
              "        <tr>\n",
              "            <td>10   </td> <td>0.838494                </td>\n",
              "        </tr>\n",
              "    </tbody>\n",
              "</table>\n",
              "<p>... (40 rows omitted)</p>"
            ],
            "text/plain": [
              "Rolls | Chance of at least one 6\n",
              "1     | 0.166667\n",
              "2     | 0.305556\n",
              "3     | 0.421296\n",
              "4     | 0.517747\n",
              "5     | 0.598122\n",
              "6     | 0.665102\n",
              "7     | 0.720918\n",
              "8     | 0.767432\n",
              "9     | 0.806193\n",
              "10    | 0.838494\n",
              "... (40 rows omitted)"
            ]
          },
          "metadata": {
            "tags": []
          },
          "execution_count": 19
        }
      ]
    },
    {
      "cell_type": "code",
      "metadata": {
        "id": "_D4MYSVeZ71n",
        "colab_type": "code",
        "colab": {
          "base_uri": "https://localhost:8080/",
          "height": 359
        },
        "outputId": "d984bd46-b7cb-45c3-b6f8-caabfb2e1131"
      },
      "source": [
        "results.scatter('Rolls')"
      ],
      "execution_count": 20,
      "outputs": [
        {
          "output_type": "display_data",
          "data": {
            "image/png": "[encoded data removed]",
            "text/plain": [
              "<Figure size 360x360 with 1 Axes>"
            ]
          },
          "metadata": {
            "tags": []
          }
        }
      ]
    },
    {
      "cell_type": "code",
      "metadata": {
        "id": "QFZP50-MqyKl",
        "colab_type": "code",
        "colab": {
          "base_uri": "https://localhost:8080/",
          "height": 80
        },
        "outputId": "7d772e72-2cc0-4689-bfba-487154256d34"
      },
      "source": [
        "results.where('Rolls', are.equal_to(50))"
      ],
      "execution_count": 21,
      "outputs": [
        {
          "output_type": "execute_result",
          "data": {
            "text/html": [
              "<table border=\"1\" class=\"dataframe\">\n",
              "    <thead>\n",
              "        <tr>\n",
              "            <th>Rolls</th> <th>Chance of at least one 6</th>\n",
              "        </tr>\n",
              "    </thead>\n",
              "    <tbody>\n",
              "        <tr>\n",
              "            <td>50   </td> <td>0.99989                 </td>\n",
              "        </tr>\n",
              "    </tbody>\n",
              "</table>"
            ],
            "text/plain": [
              "Rolls | Chance of at least one 6\n",
              "50    | 0.99989"
            ]
          },
          "metadata": {
            "tags": []
          },
          "execution_count": 21
        }
      ]
    }
  ]
}