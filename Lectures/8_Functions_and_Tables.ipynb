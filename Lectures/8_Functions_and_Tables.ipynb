{
  "nbformat": 4,
  "nbformat_minor": 0,
  "metadata": {
    "colab": {
      "name": "8_Functions_and_Tables.ipynb",
      "provenance": []
    },
    "kernelspec": {
      "name": "python3",
      "display_name": "Python 3"
    }
  },
  "cells": [
    {
      "cell_type": "code",
      "metadata": {
        "id": "sHskw0EwxzOC",
        "colab_type": "code",
        "colab": {}
      },
      "source": [
        "def double(x):\n",
        "    \"\"\" Double x \"\"\"\n",
        "    return 2*x"
      ],
      "execution_count": 0,
      "outputs": []
    },
    {
      "cell_type": "code",
      "metadata": {
        "id": "IJBgYKkFxzQq",
        "colab_type": "code",
        "colab": {
          "base_uri": "https://localhost:8080/",
          "height": 34
        },
        "outputId": "ea18ef89-c481-4cef-cdbc-ca1e8e6ba704"
      },
      "source": [
        "double(7)"
      ],
      "execution_count": 2,
      "outputs": [
        {
          "output_type": "execute_result",
          "data": {
            "text/plain": [
              "14"
            ]
          },
          "metadata": {
            "tags": []
          },
          "execution_count": 2
        }
      ]
    },
    {
      "cell_type": "code",
      "metadata": {
        "id": "85l6jRyAxzTK",
        "colab_type": "code",
        "colab": {
          "base_uri": "https://localhost:8080/",
          "height": 34
        },
        "outputId": "302001d1-0874-4420-98b1-bf4d1f718fe0"
      },
      "source": [
        "from datascience import *\n",
        "double(make_array(3, 4, 5))"
      ],
      "execution_count": 3,
      "outputs": [
        {
          "output_type": "execute_result",
          "data": {
            "text/plain": [
              "array([ 6,  8, 10])"
            ]
          },
          "metadata": {
            "tags": []
          },
          "execution_count": 3
        }
      ]
    },
    {
      "cell_type": "code",
      "metadata": {
        "id": "ZpTUzF2yxzYz",
        "colab_type": "code",
        "colab": {
          "base_uri": "https://localhost:8080/",
          "height": 387
        },
        "outputId": "9b1ed217-9a6d-4b7b-ade9-ab356b865e87"
      },
      "source": [
        "# Galton's data on heights of parents and their adult children\n",
        "path_data = 'https://github.com/data-8/textbook/raw/gh-pages/data/'\n",
        "galton = Table.read_table(path_data + 'galton.csv')\n",
        "galton"
      ],
      "execution_count": 4,
      "outputs": [
        {
          "output_type": "execute_result",
          "data": {
            "text/html": [
              "<table border=\"1\" class=\"dataframe\">\n",
              "    <thead>\n",
              "        <tr>\n",
              "            <th>family</th> <th>father</th> <th>mother</th> <th>midparentHeight</th> <th>children</th> <th>childNum</th> <th>gender</th> <th>childHeight</th>\n",
              "        </tr>\n",
              "    </thead>\n",
              "    <tbody>\n",
              "        <tr>\n",
              "            <td>1     </td> <td>78.5  </td> <td>67    </td> <td>75.43          </td> <td>4       </td> <td>1       </td> <td>male  </td> <td>73.2       </td>\n",
              "        </tr>\n",
              "        <tr>\n",
              "            <td>1     </td> <td>78.5  </td> <td>67    </td> <td>75.43          </td> <td>4       </td> <td>2       </td> <td>female</td> <td>69.2       </td>\n",
              "        </tr>\n",
              "        <tr>\n",
              "            <td>1     </td> <td>78.5  </td> <td>67    </td> <td>75.43          </td> <td>4       </td> <td>3       </td> <td>female</td> <td>69         </td>\n",
              "        </tr>\n",
              "        <tr>\n",
              "            <td>1     </td> <td>78.5  </td> <td>67    </td> <td>75.43          </td> <td>4       </td> <td>4       </td> <td>female</td> <td>69         </td>\n",
              "        </tr>\n",
              "        <tr>\n",
              "            <td>2     </td> <td>75.5  </td> <td>66.5  </td> <td>73.66          </td> <td>4       </td> <td>1       </td> <td>male  </td> <td>73.5       </td>\n",
              "        </tr>\n",
              "        <tr>\n",
              "            <td>2     </td> <td>75.5  </td> <td>66.5  </td> <td>73.66          </td> <td>4       </td> <td>2       </td> <td>male  </td> <td>72.5       </td>\n",
              "        </tr>\n",
              "        <tr>\n",
              "            <td>2     </td> <td>75.5  </td> <td>66.5  </td> <td>73.66          </td> <td>4       </td> <td>3       </td> <td>female</td> <td>65.5       </td>\n",
              "        </tr>\n",
              "        <tr>\n",
              "            <td>2     </td> <td>75.5  </td> <td>66.5  </td> <td>73.66          </td> <td>4       </td> <td>4       </td> <td>female</td> <td>65.5       </td>\n",
              "        </tr>\n",
              "        <tr>\n",
              "            <td>3     </td> <td>75    </td> <td>64    </td> <td>72.06          </td> <td>2       </td> <td>1       </td> <td>male  </td> <td>71         </td>\n",
              "        </tr>\n",
              "        <tr>\n",
              "            <td>3     </td> <td>75    </td> <td>64    </td> <td>72.06          </td> <td>2       </td> <td>2       </td> <td>female</td> <td>68         </td>\n",
              "        </tr>\n",
              "    </tbody>\n",
              "</table>\n",
              "<p>... (924 rows omitted)</p>"
            ],
            "text/plain": [
              "family | father | mother | midparentHeight | children | childNum | gender | childHeight\n",
              "1      | 78.5   | 67     | 75.43           | 4        | 1        | male   | 73.2\n",
              "1      | 78.5   | 67     | 75.43           | 4        | 2        | female | 69.2\n",
              "1      | 78.5   | 67     | 75.43           | 4        | 3        | female | 69\n",
              "1      | 78.5   | 67     | 75.43           | 4        | 4        | female | 69\n",
              "2      | 75.5   | 66.5   | 73.66           | 4        | 1        | male   | 73.5\n",
              "2      | 75.5   | 66.5   | 73.66           | 4        | 2        | male   | 72.5\n",
              "2      | 75.5   | 66.5   | 73.66           | 4        | 3        | female | 65.5\n",
              "2      | 75.5   | 66.5   | 73.66           | 4        | 4        | female | 65.5\n",
              "3      | 75     | 64     | 72.06           | 2        | 1        | male   | 71\n",
              "3      | 75     | 64     | 72.06           | 2        | 2        | female | 68\n",
              "... (924 rows omitted)"
            ]
          },
          "metadata": {
            "tags": []
          },
          "execution_count": 4
        }
      ]
    },
    {
      "cell_type": "code",
      "metadata": {
        "id": "Ur_t07m9xzbd",
        "colab_type": "code",
        "colab": {
          "base_uri": "https://localhost:8080/",
          "height": 387
        },
        "outputId": "5ee9181f-bb22-4f25-b7ea-c2bf0779cd12"
      },
      "source": [
        "heights = galton.select(3, 7).relabeled(0,\n",
        "        'MidParent').relabeled(1, 'Child')\n",
        "heights"
      ],
      "execution_count": 5,
      "outputs": [
        {
          "output_type": "execute_result",
          "data": {
            "text/html": [
              "<table border=\"1\" class=\"dataframe\">\n",
              "    <thead>\n",
              "        <tr>\n",
              "            <th>MidParent</th> <th>Child</th>\n",
              "        </tr>\n",
              "    </thead>\n",
              "    <tbody>\n",
              "        <tr>\n",
              "            <td>75.43    </td> <td>73.2 </td>\n",
              "        </tr>\n",
              "        <tr>\n",
              "            <td>75.43    </td> <td>69.2 </td>\n",
              "        </tr>\n",
              "        <tr>\n",
              "            <td>75.43    </td> <td>69   </td>\n",
              "        </tr>\n",
              "        <tr>\n",
              "            <td>75.43    </td> <td>69   </td>\n",
              "        </tr>\n",
              "        <tr>\n",
              "            <td>73.66    </td> <td>73.5 </td>\n",
              "        </tr>\n",
              "        <tr>\n",
              "            <td>73.66    </td> <td>72.5 </td>\n",
              "        </tr>\n",
              "        <tr>\n",
              "            <td>73.66    </td> <td>65.5 </td>\n",
              "        </tr>\n",
              "        <tr>\n",
              "            <td>73.66    </td> <td>65.5 </td>\n",
              "        </tr>\n",
              "        <tr>\n",
              "            <td>72.06    </td> <td>71   </td>\n",
              "        </tr>\n",
              "        <tr>\n",
              "            <td>72.06    </td> <td>68   </td>\n",
              "        </tr>\n",
              "    </tbody>\n",
              "</table>\n",
              "<p>... (924 rows omitted)</p>"
            ],
            "text/plain": [
              "MidParent | Child\n",
              "75.43     | 73.2\n",
              "75.43     | 69.2\n",
              "75.43     | 69\n",
              "75.43     | 69\n",
              "73.66     | 73.5\n",
              "73.66     | 72.5\n",
              "73.66     | 65.5\n",
              "73.66     | 65.5\n",
              "72.06     | 71\n",
              "72.06     | 68\n",
              "... (924 rows omitted)"
            ]
          },
          "metadata": {
            "tags": []
          },
          "execution_count": 5
        }
      ]
    },
    {
      "cell_type": "code",
      "metadata": {
        "id": "xlSgveWrxzeE",
        "colab_type": "code",
        "colab": {
          "base_uri": "https://localhost:8080/",
          "height": 337
        },
        "outputId": "46f69033-da85-4483-d204-aa65dbe388fd"
      },
      "source": [
        "import matplotlib.pyplot as plt\n",
        "plt.style.use('fivethirtyeight')\n",
        "%matplotlib inline\n",
        "heights.scatter(0) # column for x "
      ],
      "execution_count": 6,
      "outputs": [
        {
          "output_type": "display_data",
          "data": {
            "image/png": "[encoded data removed]",
            "text/plain": [
              "<Figure size 360x360 with 1 Axes>"
            ]
          },
          "metadata": {
            "tags": []
          }
        }
      ]
    },
    {
      "cell_type": "code",
      "metadata": {
        "id": "zhdxhwkUxzg2",
        "colab_type": "code",
        "colab": {
          "base_uri": "https://localhost:8080/",
          "height": 335
        },
        "outputId": "ccdc3b62-c65c-4d40-c0f8-0c96f63d049f"
      },
      "source": [
        "heights.scatter('MidParent')\n",
        "_ = plt.plot([67.5, 67.5], [50, 85], color='red', lw=2)\n",
        "_ = plt.plot([68.5, 68.5], [50, 85], color='red', lw=2)\n",
        "_ = plt.scatter(68, 66.24, color='gold', s=40)"
      ],
      "execution_count": 7,
      "outputs": [
        {
          "output_type": "display_data",
          "data": {
            "image/png": "[encoded data removed]",
            "text/plain": [
              "<Figure size 360x360 with 1 Axes>"
            ]
          },
          "metadata": {
            "tags": []
          }
        }
      ]
    },
    {
      "cell_type": "code",
      "metadata": {
        "id": "t4rj6wV8xzji",
        "colab_type": "code",
        "colab": {
          "base_uri": "https://localhost:8080/",
          "height": 387
        },
        "outputId": "0763d325-b51f-4a34-f3e8-c2024756689d"
      },
      "source": [
        "close_to_68 = heights.where('MidParent', are.between(67.5, 68.5))\n",
        "close_to_68"
      ],
      "execution_count": 8,
      "outputs": [
        {
          "output_type": "execute_result",
          "data": {
            "text/html": [
              "<table border=\"1\" class=\"dataframe\">\n",
              "    <thead>\n",
              "        <tr>\n",
              "            <th>MidParent</th> <th>Child</th>\n",
              "        </tr>\n",
              "    </thead>\n",
              "    <tbody>\n",
              "        <tr>\n",
              "            <td>68.44    </td> <td>62   </td>\n",
              "        </tr>\n",
              "        <tr>\n",
              "            <td>67.94    </td> <td>71.2 </td>\n",
              "        </tr>\n",
              "        <tr>\n",
              "            <td>67.94    </td> <td>67   </td>\n",
              "        </tr>\n",
              "        <tr>\n",
              "            <td>68.33    </td> <td>62.5 </td>\n",
              "        </tr>\n",
              "        <tr>\n",
              "            <td>68.23    </td> <td>73   </td>\n",
              "        </tr>\n",
              "        <tr>\n",
              "            <td>68.23    </td> <td>72   </td>\n",
              "        </tr>\n",
              "        <tr>\n",
              "            <td>68.23    </td> <td>69   </td>\n",
              "        </tr>\n",
              "        <tr>\n",
              "            <td>67.98    </td> <td>73   </td>\n",
              "        </tr>\n",
              "        <tr>\n",
              "            <td>67.98    </td> <td>71   </td>\n",
              "        </tr>\n",
              "        <tr>\n",
              "            <td>67.98    </td> <td>71   </td>\n",
              "        </tr>\n",
              "    </tbody>\n",
              "</table>\n",
              "<p>... (121 rows omitted)</p>"
            ],
            "text/plain": [
              "MidParent | Child\n",
              "68.44     | 62\n",
              "67.94     | 71.2\n",
              "67.94     | 67\n",
              "68.33     | 62.5\n",
              "68.23     | 73\n",
              "68.23     | 72\n",
              "68.23     | 69\n",
              "67.98     | 73\n",
              "67.98     | 71\n",
              "67.98     | 71\n",
              "... (121 rows omitted)"
            ]
          },
          "metadata": {
            "tags": []
          },
          "execution_count": 8
        }
      ]
    },
    {
      "cell_type": "code",
      "metadata": {
        "id": "OxgFq3q1x0Iy",
        "colab_type": "code",
        "colab": {
          "base_uri": "https://localhost:8080/",
          "height": 34
        },
        "outputId": "7785e3f6-dca3-44d5-fd25-ce347fba8829"
      },
      "source": [
        "close_to_68.column('Child').mean()"
      ],
      "execution_count": 9,
      "outputs": [
        {
          "output_type": "execute_result",
          "data": {
            "text/plain": [
              "66.24045801526718"
            ]
          },
          "metadata": {
            "tags": []
          },
          "execution_count": 9
        }
      ]
    },
    {
      "cell_type": "code",
      "metadata": {
        "id": "6dGkVgD3x0Lq",
        "colab_type": "code",
        "colab": {}
      },
      "source": [
        "def predict_child(mpht):\n",
        "    \"\"\"Predict the height of a child whose \n",
        "    parents have a midparent height of mpht.\n",
        "    \n",
        "    The prediction is the average height of \n",
        "    the children whose midparent height is\n",
        "    in the range mpht plus or minus 0.5.\n",
        "    \"\"\"\n",
        "    close_points = heights.where('MidParent',\n",
        "            are.between(mpht-0.5, mpht + 0.5))\n",
        "    return close_points.column('Child').mean()  "
      ],
      "execution_count": 0,
      "outputs": []
    },
    {
      "cell_type": "code",
      "metadata": {
        "id": "34FFROl2x0Oa",
        "colab_type": "code",
        "colab": {
          "base_uri": "https://localhost:8080/",
          "height": 34
        },
        "outputId": "d17b2b90-1a58-4255-82fc-ab0b1b0c562e"
      },
      "source": [
        "predict_child(68)"
      ],
      "execution_count": 11,
      "outputs": [
        {
          "output_type": "execute_result",
          "data": {
            "text/plain": [
              "66.24045801526718"
            ]
          },
          "metadata": {
            "tags": []
          },
          "execution_count": 11
        }
      ]
    },
    {
      "cell_type": "code",
      "metadata": {
        "id": "4QfPVy-6x0RD",
        "colab_type": "code",
        "colab": {
          "base_uri": "https://localhost:8080/",
          "height": 34
        },
        "outputId": "d58cb70d-73a5-44a5-ed6b-08544f09effa"
      },
      "source": [
        "predict_child(74)"
      ],
      "execution_count": 12,
      "outputs": [
        {
          "output_type": "execute_result",
          "data": {
            "text/plain": [
              "70.41578947368421"
            ]
          },
          "metadata": {
            "tags": []
          },
          "execution_count": 12
        }
      ]
    },
    {
      "cell_type": "code",
      "metadata": {
        "id": "M-oYs6Emx0TG",
        "colab_type": "code",
        "colab": {}
      },
      "source": [
        "# Apply predict_child to all the midparent heights\n",
        "heights_with_predictions = heights.with_column(\n",
        "    'Prediction', heights.apply(predict_child, 'MidParent')\n",
        ")"
      ],
      "execution_count": 0,
      "outputs": []
    },
    {
      "cell_type": "code",
      "metadata": {
        "id": "wGC9HyXp0xym",
        "colab_type": "code",
        "colab": {
          "base_uri": "https://localhost:8080/",
          "height": 387
        },
        "outputId": "ebf8a684-56c2-4343-d1a9-4f78950b7ac5"
      },
      "source": [
        "heights_with_predictions"
      ],
      "execution_count": 14,
      "outputs": [
        {
          "output_type": "execute_result",
          "data": {
            "text/html": [
              "<table border=\"1\" class=\"dataframe\">\n",
              "    <thead>\n",
              "        <tr>\n",
              "            <th>MidParent</th> <th>Child</th> <th>Prediction</th>\n",
              "        </tr>\n",
              "    </thead>\n",
              "    <tbody>\n",
              "        <tr>\n",
              "            <td>75.43    </td> <td>73.2 </td> <td>70.1      </td>\n",
              "        </tr>\n",
              "        <tr>\n",
              "            <td>75.43    </td> <td>69.2 </td> <td>70.1      </td>\n",
              "        </tr>\n",
              "        <tr>\n",
              "            <td>75.43    </td> <td>69   </td> <td>70.1      </td>\n",
              "        </tr>\n",
              "        <tr>\n",
              "            <td>75.43    </td> <td>69   </td> <td>70.1      </td>\n",
              "        </tr>\n",
              "        <tr>\n",
              "            <td>73.66    </td> <td>73.5 </td> <td>70.4158   </td>\n",
              "        </tr>\n",
              "        <tr>\n",
              "            <td>73.66    </td> <td>72.5 </td> <td>70.4158   </td>\n",
              "        </tr>\n",
              "        <tr>\n",
              "            <td>73.66    </td> <td>65.5 </td> <td>70.4158   </td>\n",
              "        </tr>\n",
              "        <tr>\n",
              "            <td>73.66    </td> <td>65.5 </td> <td>70.4158   </td>\n",
              "        </tr>\n",
              "        <tr>\n",
              "            <td>72.06    </td> <td>71   </td> <td>68.5025   </td>\n",
              "        </tr>\n",
              "        <tr>\n",
              "            <td>72.06    </td> <td>68   </td> <td>68.5025   </td>\n",
              "        </tr>\n",
              "    </tbody>\n",
              "</table>\n",
              "<p>... (924 rows omitted)</p>"
            ],
            "text/plain": [
              "MidParent | Child | Prediction\n",
              "75.43     | 73.2  | 70.1\n",
              "75.43     | 69.2  | 70.1\n",
              "75.43     | 69    | 70.1\n",
              "75.43     | 69    | 70.1\n",
              "73.66     | 73.5  | 70.4158\n",
              "73.66     | 72.5  | 70.4158\n",
              "73.66     | 65.5  | 70.4158\n",
              "73.66     | 65.5  | 70.4158\n",
              "72.06     | 71    | 68.5025\n",
              "72.06     | 68    | 68.5025\n",
              "... (924 rows omitted)"
            ]
          },
          "metadata": {
            "tags": []
          },
          "execution_count": 14
        }
      ]
    },
    {
      "cell_type": "code",
      "metadata": {
        "id": "ofyxyZAf0x9E",
        "colab_type": "code",
        "colab": {
          "base_uri": "https://localhost:8080/",
          "height": 335
        },
        "outputId": "b33489c4-07f8-4ed1-f862-dc73d67021b6"
      },
      "source": [
        "heights_with_predictions.scatter('MidParent')"
      ],
      "execution_count": 15,
      "outputs": [
        {
          "output_type": "display_data",
          "data": {
            "image/png": "[encoded data removed]",
            "text/plain": [
              "<Figure size 360x360 with 1 Axes>"
            ]
          },
          "metadata": {
            "tags": []
          }
        }
      ]
    },
    {
      "cell_type": "code",
      "metadata": {
        "id": "Y0wfArMU0yAT",
        "colab_type": "code",
        "colab": {
          "base_uri": "https://localhost:8080/",
          "height": 387
        },
        "outputId": "37897564-44c6-47a7-8caa-be761fd74aba"
      },
      "source": [
        "full_table = Table.read_table(path_data + 'educ_inc.csv')\n",
        "ca_2014 = full_table.where('Year', \n",
        "  are.equal_to('1/1/14 0:00')).where('Age', are.not_equal_to('00 to 17'))\n",
        "ca_2014"
      ],
      "execution_count": 16,
      "outputs": [
        {
          "output_type": "execute_result",
          "data": {
            "text/html": [
              "<table border=\"1\" class=\"dataframe\">\n",
              "    <thead>\n",
              "        <tr>\n",
              "            <th>Year</th> <th>Age</th> <th>Gender</th> <th>Educational Attainment</th> <th>Personal Income</th> <th>Population Count</th>\n",
              "        </tr>\n",
              "    </thead>\n",
              "    <tbody>\n",
              "        <tr>\n",
              "            <td>1/1/14 0:00</td> <td>18 to 64 </td> <td>Female</td> <td>No high school diploma        </td> <td>H: 75,000 and over </td> <td>2058            </td>\n",
              "        </tr>\n",
              "        <tr>\n",
              "            <td>1/1/14 0:00</td> <td>65 to 80+</td> <td>Male  </td> <td>No high school diploma        </td> <td>H: 75,000 and over </td> <td>2153            </td>\n",
              "        </tr>\n",
              "        <tr>\n",
              "            <td>1/1/14 0:00</td> <td>65 to 80+</td> <td>Female</td> <td>No high school diploma        </td> <td>G: 50,000 to 74,999</td> <td>4666            </td>\n",
              "        </tr>\n",
              "        <tr>\n",
              "            <td>1/1/14 0:00</td> <td>65 to 80+</td> <td>Female</td> <td>High school or equivalent     </td> <td>H: 75,000 and over </td> <td>7122            </td>\n",
              "        </tr>\n",
              "        <tr>\n",
              "            <td>1/1/14 0:00</td> <td>65 to 80+</td> <td>Female</td> <td>No high school diploma        </td> <td>F: 35,000 to 49,999</td> <td>7261            </td>\n",
              "        </tr>\n",
              "        <tr>\n",
              "            <td>1/1/14 0:00</td> <td>65 to 80+</td> <td>Male  </td> <td>No high school diploma        </td> <td>G: 50,000 to 74,999</td> <td>8569            </td>\n",
              "        </tr>\n",
              "        <tr>\n",
              "            <td>1/1/14 0:00</td> <td>18 to 64 </td> <td>Female</td> <td>No high school diploma        </td> <td>G: 50,000 to 74,999</td> <td>14635           </td>\n",
              "        </tr>\n",
              "        <tr>\n",
              "            <td>1/1/14 0:00</td> <td>65 to 80+</td> <td>Male  </td> <td>No high school diploma        </td> <td>F: 35,000 to 49,999</td> <td>15212           </td>\n",
              "        </tr>\n",
              "        <tr>\n",
              "            <td>1/1/14 0:00</td> <td>65 to 80+</td> <td>Male  </td> <td>College, less than 4-yr degree</td> <td>B: 5,000 to 9,999  </td> <td>15423           </td>\n",
              "        </tr>\n",
              "        <tr>\n",
              "            <td>1/1/14 0:00</td> <td>65 to 80+</td> <td>Female</td> <td>Bachelor's degree or higher   </td> <td>A: 0 to 4,999      </td> <td>15459           </td>\n",
              "        </tr>\n",
              "    </tbody>\n",
              "</table>\n",
              "<p>... (117 rows omitted)</p>"
            ],
            "text/plain": [
              "Year        | Age       | Gender | Educational Attainment         | Personal Income     | Population Count\n",
              "1/1/14 0:00 | 18 to 64  | Female | No high school diploma         | H: 75,000 and over  | 2058\n",
              "1/1/14 0:00 | 65 to 80+ | Male   | No high school diploma         | H: 75,000 and over  | 2153\n",
              "1/1/14 0:00 | 65 to 80+ | Female | No high school diploma         | G: 50,000 to 74,999 | 4666\n",
              "1/1/14 0:00 | 65 to 80+ | Female | High school or equivalent      | H: 75,000 and over  | 7122\n",
              "1/1/14 0:00 | 65 to 80+ | Female | No high school diploma         | F: 35,000 to 49,999 | 7261\n",
              "1/1/14 0:00 | 65 to 80+ | Male   | No high school diploma         | G: 50,000 to 74,999 | 8569\n",
              "1/1/14 0:00 | 18 to 64  | Female | No high school diploma         | G: 50,000 to 74,999 | 14635\n",
              "1/1/14 0:00 | 65 to 80+ | Male   | No high school diploma         | F: 35,000 to 49,999 | 15212\n",
              "1/1/14 0:00 | 65 to 80+ | Male   | College, less than 4-yr degree | B: 5,000 to 9,999   | 15423\n",
              "1/1/14 0:00 | 65 to 80+ | Female | Bachelor's degree or higher    | A: 0 to 4,999       | 15459\n",
              "... (117 rows omitted)"
            ]
          },
          "metadata": {
            "tags": []
          },
          "execution_count": 16
        }
      ]
    },
    {
      "cell_type": "code",
      "metadata": {
        "id": "rc-RSTli1e7j",
        "colab_type": "code",
        "colab": {
          "base_uri": "https://localhost:8080/",
          "height": 387
        },
        "outputId": "18801a3d-c92b-4a0c-9f1a-30ca08f5db37"
      },
      "source": [
        "educ_inc = ca_2014.select('Educational Attainment', \n",
        "            'Personal Income', 'Population Count')\n",
        "educ_inc"
      ],
      "execution_count": 17,
      "outputs": [
        {
          "output_type": "execute_result",
          "data": {
            "text/html": [
              "<table border=\"1\" class=\"dataframe\">\n",
              "    <thead>\n",
              "        <tr>\n",
              "            <th>Educational Attainment</th> <th>Personal Income</th> <th>Population Count</th>\n",
              "        </tr>\n",
              "    </thead>\n",
              "    <tbody>\n",
              "        <tr>\n",
              "            <td>No high school diploma        </td> <td>H: 75,000 and over </td> <td>2058            </td>\n",
              "        </tr>\n",
              "        <tr>\n",
              "            <td>No high school diploma        </td> <td>H: 75,000 and over </td> <td>2153            </td>\n",
              "        </tr>\n",
              "        <tr>\n",
              "            <td>No high school diploma        </td> <td>G: 50,000 to 74,999</td> <td>4666            </td>\n",
              "        </tr>\n",
              "        <tr>\n",
              "            <td>High school or equivalent     </td> <td>H: 75,000 and over </td> <td>7122            </td>\n",
              "        </tr>\n",
              "        <tr>\n",
              "            <td>No high school diploma        </td> <td>F: 35,000 to 49,999</td> <td>7261            </td>\n",
              "        </tr>\n",
              "        <tr>\n",
              "            <td>No high school diploma        </td> <td>G: 50,000 to 74,999</td> <td>8569            </td>\n",
              "        </tr>\n",
              "        <tr>\n",
              "            <td>No high school diploma        </td> <td>G: 50,000 to 74,999</td> <td>14635           </td>\n",
              "        </tr>\n",
              "        <tr>\n",
              "            <td>No high school diploma        </td> <td>F: 35,000 to 49,999</td> <td>15212           </td>\n",
              "        </tr>\n",
              "        <tr>\n",
              "            <td>College, less than 4-yr degree</td> <td>B: 5,000 to 9,999  </td> <td>15423           </td>\n",
              "        </tr>\n",
              "        <tr>\n",
              "            <td>Bachelor's degree or higher   </td> <td>A: 0 to 4,999      </td> <td>15459           </td>\n",
              "        </tr>\n",
              "    </tbody>\n",
              "</table>\n",
              "<p>... (117 rows omitted)</p>"
            ],
            "text/plain": [
              "Educational Attainment         | Personal Income     | Population Count\n",
              "No high school diploma         | H: 75,000 and over  | 2058\n",
              "No high school diploma         | H: 75,000 and over  | 2153\n",
              "No high school diploma         | G: 50,000 to 74,999 | 4666\n",
              "High school or equivalent      | H: 75,000 and over  | 7122\n",
              "No high school diploma         | F: 35,000 to 49,999 | 7261\n",
              "No high school diploma         | G: 50,000 to 74,999 | 8569\n",
              "No high school diploma         | G: 50,000 to 74,999 | 14635\n",
              "No high school diploma         | F: 35,000 to 49,999 | 15212\n",
              "College, less than 4-yr degree | B: 5,000 to 9,999   | 15423\n",
              "Bachelor's degree or higher    | A: 0 to 4,999       | 15459\n",
              "... (117 rows omitted)"
            ]
          },
          "metadata": {
            "tags": []
          },
          "execution_count": 17
        }
      ]
    },
    {
      "cell_type": "code",
      "metadata": {
        "id": "QsSvD2u41e-2",
        "colab_type": "code",
        "colab": {
          "base_uri": "https://localhost:8080/",
          "height": 172
        },
        "outputId": "4764e16d-654f-4851-949e-7b497f4ad474"
      },
      "source": [
        "education = educ_inc.select('Educational Attainment',\n",
        "                            'Population Count')\n",
        "educ_totals = education.group('Educational Attainment', sum)\n",
        "educ_totals"
      ],
      "execution_count": 18,
      "outputs": [
        {
          "output_type": "execute_result",
          "data": {
            "text/html": [
              "<table border=\"1\" class=\"dataframe\">\n",
              "    <thead>\n",
              "        <tr>\n",
              "            <th>Educational Attainment</th> <th>Population Count sum</th>\n",
              "        </tr>\n",
              "    </thead>\n",
              "    <tbody>\n",
              "        <tr>\n",
              "            <td>Bachelor's degree or higher   </td> <td>8525698             </td>\n",
              "        </tr>\n",
              "        <tr>\n",
              "            <td>College, less than 4-yr degree</td> <td>7775497             </td>\n",
              "        </tr>\n",
              "        <tr>\n",
              "            <td>High school or equivalent     </td> <td>6294141             </td>\n",
              "        </tr>\n",
              "        <tr>\n",
              "            <td>No high school diploma        </td> <td>4258277             </td>\n",
              "        </tr>\n",
              "    </tbody>\n",
              "</table>"
            ],
            "text/plain": [
              "Educational Attainment         | Population Count sum\n",
              "Bachelor's degree or higher    | 8525698\n",
              "College, less than 4-yr degree | 7775497\n",
              "High school or equivalent      | 6294141\n",
              "No high school diploma         | 4258277"
            ]
          },
          "metadata": {
            "tags": []
          },
          "execution_count": 18
        }
      ]
    },
    {
      "cell_type": "code",
      "metadata": {
        "id": "PdNydviE1fB0",
        "colab_type": "code",
        "colab": {}
      },
      "source": [
        "def percents(array_x):\n",
        "    return np.round( (array_x/sum(array_x))*100, 2)"
      ],
      "execution_count": 0,
      "outputs": []
    },
    {
      "cell_type": "code",
      "metadata": {
        "id": "G29_N2F41fEV",
        "colab_type": "code",
        "colab": {
          "base_uri": "https://localhost:8080/",
          "height": 172
        },
        "outputId": "8c65f5d2-0ca0-438a-b325-beea9759539b"
      },
      "source": [
        "import numpy as np\n",
        "educ_distribution = educ_totals.with_column(\n",
        "    'Population Percent', percents(educ_totals.column(1))\n",
        ")\n",
        "educ_distribution"
      ],
      "execution_count": 20,
      "outputs": [
        {
          "output_type": "execute_result",
          "data": {
            "text/html": [
              "<table border=\"1\" class=\"dataframe\">\n",
              "    <thead>\n",
              "        <tr>\n",
              "            <th>Educational Attainment</th> <th>Population Count sum</th> <th>Population Percent</th>\n",
              "        </tr>\n",
              "    </thead>\n",
              "    <tbody>\n",
              "        <tr>\n",
              "            <td>Bachelor's degree or higher   </td> <td>8525698             </td> <td>31.75             </td>\n",
              "        </tr>\n",
              "        <tr>\n",
              "            <td>College, less than 4-yr degree</td> <td>7775497             </td> <td>28.96             </td>\n",
              "        </tr>\n",
              "        <tr>\n",
              "            <td>High school or equivalent     </td> <td>6294141             </td> <td>23.44             </td>\n",
              "        </tr>\n",
              "        <tr>\n",
              "            <td>No high school diploma        </td> <td>4258277             </td> <td>15.86             </td>\n",
              "        </tr>\n",
              "    </tbody>\n",
              "</table>"
            ],
            "text/plain": [
              "Educational Attainment         | Population Count sum | Population Percent\n",
              "Bachelor's degree or higher    | 8525698              | 31.75\n",
              "College, less than 4-yr degree | 7775497              | 28.96\n",
              "High school or equivalent      | 6294141              | 23.44\n",
              "No high school diploma         | 4258277              | 15.86"
            ]
          },
          "metadata": {
            "tags": []
          },
          "execution_count": 20
        }
      ]
    },
    {
      "cell_type": "code",
      "metadata": {
        "id": "W_LalDCp1fHH",
        "colab_type": "code",
        "colab": {
          "base_uri": "https://localhost:8080/",
          "height": 434
        },
        "outputId": "d7aaca5c-1e25-4591-f731-5b769d7b989e"
      },
      "source": [
        "totals = educ_inc.pivot('Educational Attainment',\n",
        "  'Personal Income', values='Population Count', collect=sum)\n",
        "totals"
      ],
      "execution_count": 21,
      "outputs": [
        {
          "output_type": "execute_result",
          "data": {
            "text/html": [
              "<table border=\"1\" class=\"dataframe\">\n",
              "    <thead>\n",
              "        <tr>\n",
              "            <th>Personal Income</th> <th>Bachelor's degree or higher</th> <th>College, less than 4-yr degree</th> <th>High school or equivalent</th> <th>No high school diploma</th>\n",
              "        </tr>\n",
              "    </thead>\n",
              "    <tbody>\n",
              "        <tr>\n",
              "            <td>A: 0 to 4,999      </td> <td>575491                     </td> <td>985011                        </td> <td>1161873                  </td> <td>1204529               </td>\n",
              "        </tr>\n",
              "        <tr>\n",
              "            <td>B: 5,000 to 9,999  </td> <td>326020                     </td> <td>810641                        </td> <td>626499                   </td> <td>597039                </td>\n",
              "        </tr>\n",
              "        <tr>\n",
              "            <td>C: 10,000 to 14,999</td> <td>452449                     </td> <td>798596                        </td> <td>692661                   </td> <td>664607                </td>\n",
              "        </tr>\n",
              "        <tr>\n",
              "            <td>D: 15,000 to 24,999</td> <td>773684                     </td> <td>1345257                       </td> <td>1252377                  </td> <td>875498                </td>\n",
              "        </tr>\n",
              "        <tr>\n",
              "            <td>E: 25,000 to 34,999</td> <td>693884                     </td> <td>1091642                       </td> <td>929218                   </td> <td>464564                </td>\n",
              "        </tr>\n",
              "        <tr>\n",
              "            <td>F: 35,000 to 49,999</td> <td>1122791                    </td> <td>1112421                       </td> <td>782804                   </td> <td>260579                </td>\n",
              "        </tr>\n",
              "        <tr>\n",
              "            <td>G: 50,000 to 74,999</td> <td>1594681                    </td> <td>883826                        </td> <td>525517                   </td> <td>132516                </td>\n",
              "        </tr>\n",
              "        <tr>\n",
              "            <td>H: 75,000 and over </td> <td>2986698                    </td> <td>748103                        </td> <td>323192                   </td> <td>58945                 </td>\n",
              "        </tr>\n",
              "    </tbody>\n",
              "</table>"
            ],
            "text/plain": [
              "Personal Income     | Bachelor's degree or higher | College, less than 4-yr degree | High school or equivalent | No high school diploma\n",
              "A: 0 to 4,999       | 575491                      | 985011                         | 1161873                   | 1204529\n",
              "B: 5,000 to 9,999   | 326020                      | 810641                         | 626499                    | 597039\n",
              "C: 10,000 to 14,999 | 452449                      | 798596                         | 692661                    | 664607\n",
              "D: 15,000 to 24,999 | 773684                      | 1345257                        | 1252377                   | 875498\n",
              "E: 25,000 to 34,999 | 693884                      | 1091642                        | 929218                    | 464564\n",
              "F: 35,000 to 49,999 | 1122791                     | 1112421                        | 782804                    | 260579\n",
              "G: 50,000 to 74,999 | 1594681                     | 883826                         | 525517                    | 132516\n",
              "H: 75,000 and over  | 2986698                     | 748103                         | 323192                    | 58945"
            ]
          },
          "metadata": {
            "tags": []
          },
          "execution_count": 21
        }
      ]
    },
    {
      "cell_type": "code",
      "metadata": {
        "id": "LD2pZT7O1fJv",
        "colab_type": "code",
        "colab": {
          "base_uri": "https://localhost:8080/",
          "height": 434
        },
        "outputId": "1b9189c0-ddd4-4e0e-909c-6e62e6b4faf3"
      },
      "source": [
        "distributions = totals.select(0).with_columns(\n",
        "    \"Bachelor's degree or higher\", percents(totals.column(1)),\n",
        "    'College, less than 4-yr degree', percents(totals.column(2)),\n",
        "    'High school or equivalent', percents(totals.column(3)),\n",
        "    'No high school diploma', percents(totals.column(4))   \n",
        "    )\n",
        "distributions"
      ],
      "execution_count": 22,
      "outputs": [
        {
          "output_type": "execute_result",
          "data": {
            "text/html": [
              "<table border=\"1\" class=\"dataframe\">\n",
              "    <thead>\n",
              "        <tr>\n",
              "            <th>Personal Income</th> <th>Bachelor's degree or higher</th> <th>College, less than 4-yr degree</th> <th>High school or equivalent</th> <th>No high school diploma</th>\n",
              "        </tr>\n",
              "    </thead>\n",
              "    <tbody>\n",
              "        <tr>\n",
              "            <td>A: 0 to 4,999      </td> <td>6.75                       </td> <td>12.67                         </td> <td>18.46                    </td> <td>28.29                 </td>\n",
              "        </tr>\n",
              "        <tr>\n",
              "            <td>B: 5,000 to 9,999  </td> <td>3.82                       </td> <td>10.43                         </td> <td>9.95                     </td> <td>14.02                 </td>\n",
              "        </tr>\n",
              "        <tr>\n",
              "            <td>C: 10,000 to 14,999</td> <td>5.31                       </td> <td>10.27                         </td> <td>11                       </td> <td>15.61                 </td>\n",
              "        </tr>\n",
              "        <tr>\n",
              "            <td>D: 15,000 to 24,999</td> <td>9.07                       </td> <td>17.3                          </td> <td>19.9                     </td> <td>20.56                 </td>\n",
              "        </tr>\n",
              "        <tr>\n",
              "            <td>E: 25,000 to 34,999</td> <td>8.14                       </td> <td>14.04                         </td> <td>14.76                    </td> <td>10.91                 </td>\n",
              "        </tr>\n",
              "        <tr>\n",
              "            <td>F: 35,000 to 49,999</td> <td>13.17                      </td> <td>14.31                         </td> <td>12.44                    </td> <td>6.12                  </td>\n",
              "        </tr>\n",
              "        <tr>\n",
              "            <td>G: 50,000 to 74,999</td> <td>18.7                       </td> <td>11.37                         </td> <td>8.35                     </td> <td>3.11                  </td>\n",
              "        </tr>\n",
              "        <tr>\n",
              "            <td>H: 75,000 and over </td> <td>35.03                      </td> <td>9.62                          </td> <td>5.13                     </td> <td>1.38                  </td>\n",
              "        </tr>\n",
              "    </tbody>\n",
              "</table>"
            ],
            "text/plain": [
              "Personal Income     | Bachelor's degree or higher | College, less than 4-yr degree | High school or equivalent | No high school diploma\n",
              "A: 0 to 4,999       | 6.75                        | 12.67                          | 18.46                     | 28.29\n",
              "B: 5,000 to 9,999   | 3.82                        | 10.43                          | 9.95                      | 14.02\n",
              "C: 10,000 to 14,999 | 5.31                        | 10.27                          | 11                        | 15.61\n",
              "D: 15,000 to 24,999 | 9.07                        | 17.3                           | 19.9                      | 20.56\n",
              "E: 25,000 to 34,999 | 8.14                        | 14.04                          | 14.76                     | 10.91\n",
              "F: 35,000 to 49,999 | 13.17                       | 14.31                          | 12.44                     | 6.12\n",
              "G: 50,000 to 74,999 | 18.7                        | 11.37                          | 8.35                      | 3.11\n",
              "H: 75,000 and over  | 35.03                       | 9.62                           | 5.13                      | 1.38"
            ]
          },
          "metadata": {
            "tags": []
          },
          "execution_count": 22
        }
      ]
    },
    {
      "cell_type": "code",
      "metadata": {
        "id": "b06DPe861fM0",
        "colab_type": "code",
        "colab": {
          "base_uri": "https://localhost:8080/",
          "height": 262
        },
        "outputId": "d73986a1-c8ad-4619-f551-82a392b97e2e"
      },
      "source": [
        "distributions.select(0, 1, 4).barh(0)"
      ],
      "execution_count": 23,
      "outputs": [
        {
          "output_type": "display_data",
          "data": {
            "image/png": "[encoded data removed]",
            "text/plain": [
              "<Figure size 432x288 with 1 Axes>"
            ]
          },
          "metadata": {
            "tags": []
          }
        }
      ]
    }
  ]
}