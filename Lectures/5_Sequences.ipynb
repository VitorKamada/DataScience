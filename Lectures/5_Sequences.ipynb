{
  "nbformat": 4,
  "nbformat_minor": 0,
  "metadata": {
    "colab": {
      "name": "5_Sequences.ipynb",
      "provenance": []
    },
    "kernelspec": {
      "name": "python3",
      "display_name": "Python 3"
    }
  },
  "cells": [
    {
      "cell_type": "markdown",
      "metadata": {
        "id": "RsJkUkLymImH",
        "colab_type": "text"
      },
      "source": [
        "### Mean of Daily High Temperature\n",
        "\n",
        "![Mean of Daily High Temperature](http://berkeleyearth.lbl.gov/auto/Regional/TMAX/Figures/global-land-TMAX-Trend.png)\n",
        "\n",
        "### Mean of Daily Low Temperature\n",
        "\n",
        "![Mean of Daily Low Temperature](http://berkeleyearth.lbl.gov/auto/Regional/TMIN/Figures/global-land-TMIN-Trend.png)"
      ]
    },
    {
      "cell_type": "code",
      "metadata": {
        "id": "kv1DYpqkl5YZ",
        "colab_type": "code",
        "colab": {
          "base_uri": "https://localhost:8080/",
          "height": 34
        },
        "outputId": "dffe62c6-d505-4877-f308-dee9b7a22072"
      },
      "source": [
        "from datascience import *\n",
        "baseline_high = 14.48\n",
        "highs = make_array(baseline_high - 0.880, baseline_high - 0.093,\n",
        "                   baseline_high + 0.105, baseline_high + 0.684)\n",
        "highs"
      ],
      "execution_count": 1,
      "outputs": [
        {
          "output_type": "execute_result",
          "data": {
            "text/plain": [
              "array([13.6  , 14.387, 14.585, 15.164])"
            ]
          },
          "metadata": {
            "tags": []
          },
          "execution_count": 1
        }
      ]
    },
    {
      "cell_type": "code",
      "metadata": {
        "id": "aoq_6nhxgaq-",
        "colab_type": "code",
        "colab": {
          "base_uri": "https://localhost:8080/",
          "height": 34
        },
        "outputId": "5310365b-8ea3-44ab-c2f9-76935f07b02c"
      },
      "source": [
        "sum(highs)/len(highs)"
      ],
      "execution_count": 2,
      "outputs": [
        {
          "output_type": "execute_result",
          "data": {
            "text/plain": [
              "14.434000000000001"
            ]
          },
          "metadata": {
            "tags": []
          },
          "execution_count": 2
        }
      ]
    },
    {
      "cell_type": "code",
      "metadata": {
        "id": "FkQtitYvemS1",
        "colab_type": "code",
        "colab": {
          "base_uri": "https://localhost:8080/",
          "height": 34
        },
        "outputId": "a3059c2b-b7e9-4678-be64-8aceab2b3679"
      },
      "source": [
        "(9/5) * highs + 32"
      ],
      "execution_count": 3,
      "outputs": [
        {
          "output_type": "execute_result",
          "data": {
            "text/plain": [
              "array([56.48  , 57.8966, 58.253 , 59.2952])"
            ]
          },
          "metadata": {
            "tags": []
          },
          "execution_count": 3
        }
      ]
    },
    {
      "cell_type": "code",
      "metadata": {
        "id": "TQNM16r1exk9",
        "colab_type": "code",
        "colab": {
          "base_uri": "https://localhost:8080/",
          "height": 34
        },
        "outputId": "62c27b8b-b529-4549-9052-86c718e6180a"
      },
      "source": [
        "highs.size"
      ],
      "execution_count": 4,
      "outputs": [
        {
          "output_type": "execute_result",
          "data": {
            "text/plain": [
              "4"
            ]
          },
          "metadata": {
            "tags": []
          },
          "execution_count": 4
        }
      ]
    },
    {
      "cell_type": "code",
      "metadata": {
        "id": "H1DC1jxkexne",
        "colab_type": "code",
        "colab": {
          "base_uri": "https://localhost:8080/",
          "height": 34
        },
        "outputId": "208eed1f-2652-4bdc-d5a0-4ee027c746f0"
      },
      "source": [
        "highs.sum()"
      ],
      "execution_count": 5,
      "outputs": [
        {
          "output_type": "execute_result",
          "data": {
            "text/plain": [
              "57.736000000000004"
            ]
          },
          "metadata": {
            "tags": []
          },
          "execution_count": 5
        }
      ]
    },
    {
      "cell_type": "code",
      "metadata": {
        "id": "h9rWA8DPexqG",
        "colab_type": "code",
        "colab": {
          "base_uri": "https://localhost:8080/",
          "height": 34
        },
        "outputId": "c451d048-7e68-4edb-da66-6eda910a958e"
      },
      "source": [
        "highs.mean()"
      ],
      "execution_count": 6,
      "outputs": [
        {
          "output_type": "execute_result",
          "data": {
            "text/plain": [
              "14.434000000000001"
            ]
          },
          "metadata": {
            "tags": []
          },
          "execution_count": 6
        }
      ]
    },
    {
      "cell_type": "code",
      "metadata": {
        "id": "NLzkhH-pjEpY",
        "colab_type": "code",
        "colab": {
          "base_uri": "https://localhost:8080/",
          "height": 34
        },
        "outputId": "33160822-53f8-4633-beec-6598779f02b2"
      },
      "source": [
        "baseline_low = 3.00\n",
        "lows = make_array(baseline_low - 0.872, baseline_low - 0.629,\n",
        "                  baseline_low - 0.126, baseline_low + 0.728)\n",
        "lows"
      ],
      "execution_count": 7,
      "outputs": [
        {
          "output_type": "execute_result",
          "data": {
            "text/plain": [
              "array([2.128, 2.371, 2.874, 3.728])"
            ]
          },
          "metadata": {
            "tags": []
          },
          "execution_count": 7
        }
      ]
    },
    {
      "cell_type": "code",
      "metadata": {
        "id": "9fBKxP84jEsO",
        "colab_type": "code",
        "colab": {
          "base_uri": "https://localhost:8080/",
          "height": 34
        },
        "outputId": "670bf620-9ce8-4993-f79e-50e1fdcc4af3"
      },
      "source": [
        "make_array(\n",
        "    highs.item(0) - lows.item(0),\n",
        "    highs.item(1) - lows.item(1),\n",
        "    highs.item(2) - lows.item(2),\n",
        "    highs.item(3) - lows.item(3)\n",
        ")"
      ],
      "execution_count": 8,
      "outputs": [
        {
          "output_type": "execute_result",
          "data": {
            "text/plain": [
              "array([11.472, 12.016, 11.711, 11.436])"
            ]
          },
          "metadata": {
            "tags": []
          },
          "execution_count": 8
        }
      ]
    },
    {
      "cell_type": "code",
      "metadata": {
        "id": "aJlWExupjEvP",
        "colab_type": "code",
        "colab": {
          "base_uri": "https://localhost:8080/",
          "height": 34
        },
        "outputId": "61755d8c-7b8b-4035-8b6d-bbda02d210b1"
      },
      "source": [
        "highs - lows"
      ],
      "execution_count": 9,
      "outputs": [
        {
          "output_type": "execute_result",
          "data": {
            "text/plain": [
              "array([11.472, 12.016, 11.711, 11.436])"
            ]
          },
          "metadata": {
            "tags": []
          },
          "execution_count": 9
        }
      ]
    },
    {
      "cell_type": "markdown",
      "metadata": {
        "id": "Mhf-mOiSkoIQ",
        "colab_type": "text"
      },
      "source": [
        "#### Leibniz's formula for $\\pi$\n",
        "\n"
      ]
    },
    {
      "cell_type": "markdown",
      "metadata": {
        "id": "oobxufsDkSNv",
        "colab_type": "text"
      },
      "source": [
        "$$\\pi = 4 \\cdot \\left(1 - \\frac{1}{3} + \\frac{1}{5} - \\frac{1}{7} + \\frac{1}{9} - \\frac{1}{11} + \\dots\\right)$$"
      ]
    },
    {
      "cell_type": "markdown",
      "metadata": {
        "id": "xJ8TphfAkaUj",
        "colab_type": "text"
      },
      "source": [
        "$$4 \\cdot \\left( \\left(1 + \\frac{1}{5} + \\frac{1}{9} + \\dots + \\frac{1}{9997} \\right) - \\left(\\frac{1}{3} + \\frac{1}{7} + \\frac{1}{11} + \\dots + \\frac{1}{9999} \\right) \\right)$$"
      ]
    },
    {
      "cell_type": "code",
      "metadata": {
        "id": "FT1rN7oljE0-",
        "colab_type": "code",
        "colab": {
          "base_uri": "https://localhost:8080/",
          "height": 34
        },
        "outputId": "f1358499-1ffe-4ac8-bbbf-11f012253ce8"
      },
      "source": [
        "import numpy as np\n",
        "positive_term_denominators = np.arange(1, 10000, 4)\n",
        "positive_term_denominators"
      ],
      "execution_count": 10,
      "outputs": [
        {
          "output_type": "execute_result",
          "data": {
            "text/plain": [
              "array([   1,    5,    9, ..., 9989, 9993, 9997])"
            ]
          },
          "metadata": {
            "tags": []
          },
          "execution_count": 10
        }
      ]
    },
    {
      "cell_type": "code",
      "metadata": {
        "id": "oS9D9TCUj6uP",
        "colab_type": "code",
        "colab": {
          "base_uri": "https://localhost:8080/",
          "height": 34
        },
        "outputId": "2a4284a3-e3d3-4c00-cd48-f12144d27a7f"
      },
      "source": [
        "positive_terms = 1 / positive_term_denominators\n",
        "negative_terms = 1 / (positive_term_denominators + 2)\n",
        "4 * ( sum(positive_terms) - sum(negative_terms) )"
      ],
      "execution_count": 11,
      "outputs": [
        {
          "output_type": "execute_result",
          "data": {
            "text/plain": [
              "3.1413926535917955"
            ]
          },
          "metadata": {
            "tags": []
          },
          "execution_count": 11
        }
      ]
    },
    {
      "cell_type": "markdown",
      "metadata": {
        "id": "BYMU4LMnkxR_",
        "colab_type": "text"
      },
      "source": [
        "### Wallis' Formula for $\\pi$ ###"
      ]
    },
    {
      "cell_type": "markdown",
      "metadata": {
        "id": "9vbghPHIlSsf",
        "colab_type": "text"
      },
      "source": [
        "$$\n",
        "\\pi = 2 \\cdot \\left( \\frac{2}{1}\\cdot\\frac{2}{3}\\cdot\\frac{4}{3}\\cdot\\frac{4}{5}\\cdot\\frac{6}{5}\\cdot\\frac{6}{7}\\dots \\right)\n",
        "$$"
      ]
    },
    {
      "cell_type": "markdown",
      "metadata": {
        "id": "6Ql9yzrnlCdY",
        "colab_type": "text"
      },
      "source": [
        "$$\\pi \\approx 2 \\cdot \\left( \\frac{2}{1} \\cdot \\frac{4}{3} \\cdot \\frac{6}{5} \\cdots \\frac{1,000,000}{999999} \\right) \\cdot \\left( \\frac{2}{3} \\cdot \\frac{4}{5} \\cdot \\frac{6}{7} \\cdots \\frac{1,000,000}{1,000,001} \\right)$$"
      ]
    },
    {
      "cell_type": "code",
      "metadata": {
        "id": "y6iUuIOiexsn",
        "colab_type": "code",
        "colab": {
          "base_uri": "https://localhost:8080/",
          "height": 34
        },
        "outputId": "78413244-e181-45f3-b290-ed3a74963ac8"
      },
      "source": [
        "even = np.arange(2, 1000001, 2)\n",
        "one_below_even = even - 1\n",
        "one_above_even = even + 1\n",
        "2 * np.prod(even/one_below_even) * np.prod(even/one_above_even)"
      ],
      "execution_count": 12,
      "outputs": [
        {
          "output_type": "execute_result",
          "data": {
            "text/plain": [
              "3.1415910827951143"
            ]
          },
          "metadata": {
            "tags": []
          },
          "execution_count": 12
        }
      ]
    }
  ]
}