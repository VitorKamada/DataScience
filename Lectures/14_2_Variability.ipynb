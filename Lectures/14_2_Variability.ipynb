{
  "nbformat": 4,
  "nbformat_minor": 0,
  "metadata": {
    "colab": {
      "name": "14_2_Variability.ipynb",
      "provenance": []
    },
    "kernelspec": {
      "name": "python3",
      "display_name": "Python 3"
    }
  },
  "cells": [
    {
      "cell_type": "code",
      "metadata": {
        "id": "0NUY379oTnI-",
        "colab_type": "code",
        "colab": {
          "base_uri": "https://localhost:8080/",
          "height": 34
        },
        "outputId": "910a2d25-19f0-4c6b-ff69-83d7a54e1edc"
      },
      "source": [
        "import numpy as np\n",
        "from datascience import *\n",
        "any_numbers = make_array(1, 2, 2, 10)\n",
        "mean = np.mean(any_numbers)\n",
        "mean"
      ],
      "execution_count": 1,
      "outputs": [
        {
          "output_type": "execute_result",
          "data": {
            "text/plain": [
              "3.75"
            ]
          },
          "metadata": {
            "tags": []
          },
          "execution_count": 1
        }
      ]
    },
    {
      "cell_type": "code",
      "metadata": {
        "id": "CBw59seZToVx",
        "colab_type": "code",
        "colab": {
          "base_uri": "https://localhost:8080/",
          "height": 173
        },
        "outputId": "10729dec-d92b-48a3-eb92-63f961b69ae9"
      },
      "source": [
        "deviations = any_numbers - mean\n",
        "calculation_steps = Table().with_columns(\n",
        "        'Value', any_numbers,\n",
        "        'Deviation from Average', deviations\n",
        "        )\n",
        "calculation_steps"
      ],
      "execution_count": 2,
      "outputs": [
        {
          "output_type": "execute_result",
          "data": {
            "text/html": [
              "<table border=\"1\" class=\"dataframe\">\n",
              "    <thead>\n",
              "        <tr>\n",
              "            <th>Value</th> <th>Deviation from Average</th>\n",
              "        </tr>\n",
              "    </thead>\n",
              "    <tbody>\n",
              "        <tr>\n",
              "            <td>1    </td> <td>-2.75                 </td>\n",
              "        </tr>\n",
              "        <tr>\n",
              "            <td>2    </td> <td>-1.75                 </td>\n",
              "        </tr>\n",
              "        <tr>\n",
              "            <td>2    </td> <td>-1.75                 </td>\n",
              "        </tr>\n",
              "        <tr>\n",
              "            <td>10   </td> <td>6.25                  </td>\n",
              "        </tr>\n",
              "    </tbody>\n",
              "</table>"
            ],
            "text/plain": [
              "Value | Deviation from Average\n",
              "1     | -2.75\n",
              "2     | -1.75\n",
              "2     | -1.75\n",
              "10    | 6.25"
            ]
          },
          "metadata": {
            "tags": []
          },
          "execution_count": 2
        }
      ]
    },
    {
      "cell_type": "code",
      "metadata": {
        "id": "LfBYi76TToYf",
        "colab_type": "code",
        "colab": {
          "base_uri": "https://localhost:8080/",
          "height": 34
        },
        "outputId": "c1550375-913f-442a-d885-bb6a071c6bdd"
      },
      "source": [
        "sum(deviations)"
      ],
      "execution_count": 3,
      "outputs": [
        {
          "output_type": "execute_result",
          "data": {
            "text/plain": [
              "0.0"
            ]
          },
          "metadata": {
            "tags": []
          },
          "execution_count": 3
        }
      ]
    },
    {
      "cell_type": "code",
      "metadata": {
        "id": "wzwVCqpTToa-",
        "colab_type": "code",
        "colab": {
          "base_uri": "https://localhost:8080/",
          "height": 173
        },
        "outputId": "d1eeaeb0-301d-4c54-de0f-ed2b5ed72c94"
      },
      "source": [
        "squared_deviations = deviations ** 2\n",
        "calculation_steps = calculation_steps.with_column(\n",
        "   'Squared Deviations from Average', squared_deviations\n",
        "    )\n",
        "calculation_steps"
      ],
      "execution_count": 4,
      "outputs": [
        {
          "output_type": "execute_result",
          "data": {
            "text/html": [
              "<table border=\"1\" class=\"dataframe\">\n",
              "    <thead>\n",
              "        <tr>\n",
              "            <th>Value</th> <th>Deviation from Average</th> <th>Squared Deviations from Average</th>\n",
              "        </tr>\n",
              "    </thead>\n",
              "    <tbody>\n",
              "        <tr>\n",
              "            <td>1    </td> <td>-2.75                 </td> <td>7.5625                         </td>\n",
              "        </tr>\n",
              "        <tr>\n",
              "            <td>2    </td> <td>-1.75                 </td> <td>3.0625                         </td>\n",
              "        </tr>\n",
              "        <tr>\n",
              "            <td>2    </td> <td>-1.75                 </td> <td>3.0625                         </td>\n",
              "        </tr>\n",
              "        <tr>\n",
              "            <td>10   </td> <td>6.25                  </td> <td>39.0625                        </td>\n",
              "        </tr>\n",
              "    </tbody>\n",
              "</table>"
            ],
            "text/plain": [
              "Value | Deviation from Average | Squared Deviations from Average\n",
              "1     | -2.75                  | 7.5625\n",
              "2     | -1.75                  | 3.0625\n",
              "2     | -1.75                  | 3.0625\n",
              "10    | 6.25                   | 39.0625"
            ]
          },
          "metadata": {
            "tags": []
          },
          "execution_count": 4
        }
      ]
    },
    {
      "cell_type": "code",
      "metadata": {
        "id": "hY1eWANUTodn",
        "colab_type": "code",
        "colab": {
          "base_uri": "https://localhost:8080/",
          "height": 34
        },
        "outputId": "eb69badc-1e80-48f2-ab30-35e531a6346b"
      },
      "source": [
        "variance = np.mean(squared_deviations)\n",
        "variance"
      ],
      "execution_count": 5,
      "outputs": [
        {
          "output_type": "execute_result",
          "data": {
            "text/plain": [
              "13.1875"
            ]
          },
          "metadata": {
            "tags": []
          },
          "execution_count": 5
        }
      ]
    },
    {
      "cell_type": "code",
      "metadata": {
        "id": "vo68Whz_Togd",
        "colab_type": "code",
        "colab": {
          "base_uri": "https://localhost:8080/",
          "height": 34
        },
        "outputId": "030ec8b6-f468-4634-9054-d88622f6871e"
      },
      "source": [
        "sd = variance ** 0.5\n",
        "sd"
      ],
      "execution_count": 6,
      "outputs": [
        {
          "output_type": "execute_result",
          "data": {
            "text/plain": [
              "3.6314597615834874"
            ]
          },
          "metadata": {
            "tags": []
          },
          "execution_count": 6
        }
      ]
    },
    {
      "cell_type": "code",
      "metadata": {
        "id": "zc7Qh-iJToiv",
        "colab_type": "code",
        "colab": {}
      },
      "source": [
        "def standard_units(numbers_array):\n",
        "    \"Convert any array of numbers to standard units.\"\n",
        "    return (numbers_array - np.mean(numbers_array))/np.std(numbers_array) "
      ],
      "execution_count": 0,
      "outputs": []
    },
    {
      "cell_type": "code",
      "metadata": {
        "id": "cRDAwCdcTptX",
        "colab_type": "code",
        "colab": {
          "base_uri": "https://localhost:8080/",
          "height": 388
        },
        "outputId": "ef189b40-4eb1-4272-e1a2-3c08c1277c6e"
      },
      "source": [
        "path_data = 'https://github.com/data-8/textbook/raw/gh-pages/data/'\n",
        "united = Table.read_table(path_data + 'united_summer2015.csv')\n",
        "united = united.with_column(\n",
        "    'Delay (Standard Units)', standard_units(united.column('Delay'))\n",
        ")\n",
        "united"
      ],
      "execution_count": 8,
      "outputs": [
        {
          "output_type": "execute_result",
          "data": {
            "text/html": [
              "<table border=\"1\" class=\"dataframe\">\n",
              "    <thead>\n",
              "        <tr>\n",
              "            <th>Date</th> <th>Flight Number</th> <th>Destination</th> <th>Delay</th> <th>Delay (Standard Units)</th>\n",
              "        </tr>\n",
              "    </thead>\n",
              "    <tbody>\n",
              "        <tr>\n",
              "            <td>6/1/15</td> <td>73           </td> <td>HNL        </td> <td>257  </td> <td>6.08766               </td>\n",
              "        </tr>\n",
              "        <tr>\n",
              "            <td>6/1/15</td> <td>217          </td> <td>EWR        </td> <td>28   </td> <td>0.287279              </td>\n",
              "        </tr>\n",
              "        <tr>\n",
              "            <td>6/1/15</td> <td>237          </td> <td>STL        </td> <td>-3   </td> <td>-0.497924             </td>\n",
              "        </tr>\n",
              "        <tr>\n",
              "            <td>6/1/15</td> <td>250          </td> <td>SAN        </td> <td>0    </td> <td>-0.421937             </td>\n",
              "        </tr>\n",
              "        <tr>\n",
              "            <td>6/1/15</td> <td>267          </td> <td>PHL        </td> <td>64   </td> <td>1.19913               </td>\n",
              "        </tr>\n",
              "        <tr>\n",
              "            <td>6/1/15</td> <td>273          </td> <td>SEA        </td> <td>-6   </td> <td>-0.573912             </td>\n",
              "        </tr>\n",
              "        <tr>\n",
              "            <td>6/1/15</td> <td>278          </td> <td>SEA        </td> <td>-8   </td> <td>-0.62457              </td>\n",
              "        </tr>\n",
              "        <tr>\n",
              "            <td>6/1/15</td> <td>292          </td> <td>EWR        </td> <td>12   </td> <td>-0.117987             </td>\n",
              "        </tr>\n",
              "        <tr>\n",
              "            <td>6/1/15</td> <td>300          </td> <td>HNL        </td> <td>20   </td> <td>0.0846461             </td>\n",
              "        </tr>\n",
              "        <tr>\n",
              "            <td>6/1/15</td> <td>317          </td> <td>IND        </td> <td>-10  </td> <td>-0.675228             </td>\n",
              "        </tr>\n",
              "    </tbody>\n",
              "</table>\n",
              "<p>... (13815 rows omitted)</p>"
            ],
            "text/plain": [
              "Date   | Flight Number | Destination | Delay | Delay (Standard Units)\n",
              "6/1/15 | 73            | HNL         | 257   | 6.08766\n",
              "6/1/15 | 217           | EWR         | 28    | 0.287279\n",
              "6/1/15 | 237           | STL         | -3    | -0.497924\n",
              "6/1/15 | 250           | SAN         | 0     | -0.421937\n",
              "6/1/15 | 267           | PHL         | 64    | 1.19913\n",
              "6/1/15 | 273           | SEA         | -6    | -0.573912\n",
              "6/1/15 | 278           | SEA         | -8    | -0.62457\n",
              "6/1/15 | 292           | EWR         | 12    | -0.117987\n",
              "6/1/15 | 300           | HNL         | 20    | 0.0846461\n",
              "6/1/15 | 317           | IND         | -10   | -0.675228\n",
              "... (13815 rows omitted)"
            ]
          },
          "metadata": {
            "tags": []
          },
          "execution_count": 8
        }
      ]
    },
    {
      "cell_type": "code",
      "metadata": {
        "id": "aGXFZSnOTpwK",
        "colab_type": "code",
        "colab": {
          "base_uri": "https://localhost:8080/",
          "height": 388
        },
        "outputId": "cb807fb2-5aee-4644-d8d0-81861df04ec9"
      },
      "source": [
        "united.sort('Delay', descending=True)"
      ],
      "execution_count": 9,
      "outputs": [
        {
          "output_type": "execute_result",
          "data": {
            "text/html": [
              "<table border=\"1\" class=\"dataframe\">\n",
              "    <thead>\n",
              "        <tr>\n",
              "            <th>Date</th> <th>Flight Number</th> <th>Destination</th> <th>Delay</th> <th>Delay (Standard Units)</th>\n",
              "        </tr>\n",
              "    </thead>\n",
              "    <tbody>\n",
              "        <tr>\n",
              "            <td>6/21/15</td> <td>1964         </td> <td>SEA        </td> <td>580  </td> <td>14.269                </td>\n",
              "        </tr>\n",
              "        <tr>\n",
              "            <td>6/22/15</td> <td>300          </td> <td>HNL        </td> <td>537  </td> <td>13.1798               </td>\n",
              "        </tr>\n",
              "        <tr>\n",
              "            <td>6/21/15</td> <td>1149         </td> <td>IAD        </td> <td>508  </td> <td>12.4453               </td>\n",
              "        </tr>\n",
              "        <tr>\n",
              "            <td>6/20/15</td> <td>353          </td> <td>ORD        </td> <td>505  </td> <td>12.3693               </td>\n",
              "        </tr>\n",
              "        <tr>\n",
              "            <td>8/23/15</td> <td>1589         </td> <td>ORD        </td> <td>458  </td> <td>11.1788               </td>\n",
              "        </tr>\n",
              "        <tr>\n",
              "            <td>7/23/15</td> <td>1960         </td> <td>LAX        </td> <td>438  </td> <td>10.6722               </td>\n",
              "        </tr>\n",
              "        <tr>\n",
              "            <td>6/23/15</td> <td>1606         </td> <td>ORD        </td> <td>430  </td> <td>10.4696               </td>\n",
              "        </tr>\n",
              "        <tr>\n",
              "            <td>6/4/15 </td> <td>1743         </td> <td>LAX        </td> <td>408  </td> <td>9.91236               </td>\n",
              "        </tr>\n",
              "        <tr>\n",
              "            <td>6/17/15</td> <td>1122         </td> <td>HNL        </td> <td>405  </td> <td>9.83637               </td>\n",
              "        </tr>\n",
              "        <tr>\n",
              "            <td>7/27/15</td> <td>572          </td> <td>ORD        </td> <td>385  </td> <td>9.32979               </td>\n",
              "        </tr>\n",
              "    </tbody>\n",
              "</table>\n",
              "<p>... (13815 rows omitted)</p>"
            ],
            "text/plain": [
              "Date    | Flight Number | Destination | Delay | Delay (Standard Units)\n",
              "6/21/15 | 1964          | SEA         | 580   | 14.269\n",
              "6/22/15 | 300           | HNL         | 537   | 13.1798\n",
              "6/21/15 | 1149          | IAD         | 508   | 12.4453\n",
              "6/20/15 | 353           | ORD         | 505   | 12.3693\n",
              "8/23/15 | 1589          | ORD         | 458   | 11.1788\n",
              "7/23/15 | 1960          | LAX         | 438   | 10.6722\n",
              "6/23/15 | 1606          | ORD         | 430   | 10.4696\n",
              "6/4/15  | 1743          | LAX         | 408   | 9.91236\n",
              "6/17/15 | 1122          | HNL         | 405   | 9.83637\n",
              "7/27/15 | 572           | ORD         | 385   | 9.32979\n",
              "... (13815 rows omitted)"
            ]
          },
          "metadata": {
            "tags": []
          },
          "execution_count": 9
        }
      ]
    },
    {
      "cell_type": "code",
      "metadata": {
        "id": "rpkSNKhPTpy_",
        "colab_type": "code",
        "colab": {
          "base_uri": "https://localhost:8080/",
          "height": 34
        },
        "outputId": "2d6a21a2-a2f0-4c2a-e34e-cea472a5f1bc"
      },
      "source": [
        "within_3_sd = united.where('Delay (Standard Units)',\n",
        "                           are.between(-3, 3))\n",
        "within_3_sd.num_rows/united.num_rows"
      ],
      "execution_count": 10,
      "outputs": [
        {
          "output_type": "execute_result",
          "data": {
            "text/plain": [
              "0.9790235081374322"
            ]
          },
          "metadata": {
            "tags": []
          },
          "execution_count": 10
        }
      ]
    },
    {
      "cell_type": "code",
      "metadata": {
        "id": "jeFTc81qTp1v",
        "colab_type": "code",
        "colab": {
          "base_uri": "https://localhost:8080/",
          "height": 301
        },
        "outputId": "af11826a-af91-4a9b-e28d-bae9f8d06d8e"
      },
      "source": [
        "%matplotlib inline\n",
        "import matplotlib.pyplot as plots\n",
        "plots.style.use('fivethirtyeight')\n",
        "united.hist('Delay (Standard Units)', bins=np.arange(-5, 15.5, 0.5))\n",
        "plots.xticks(np.arange(-6, 17, 3));"
      ],
      "execution_count": 11,
      "outputs": [
        {
          "output_type": "display_data",
          "data": {
            "image/png": "[encoded data removed]",
            "text/plain": [
              "<Figure size 432x288 with 1 Axes>"
            ]
          },
          "metadata": {
            "tags": []
          }
        }
      ]
    }
  ]
}