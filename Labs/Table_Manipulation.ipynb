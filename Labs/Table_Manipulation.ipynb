{
  "nbformat": 4,
  "nbformat_minor": 0,
  "metadata": {
    "anaconda-cloud": {},
    "kernelspec": {
      "display_name": "Python [conda root]",
      "language": "python",
      "name": "conda-root-py"
    },
    "language_info": {
      "codemirror_mode": {
        "name": "ipython",
        "version": 3
      },
      "file_extension": ".py",
      "mimetype": "text/x-python",
      "name": "python",
      "nbconvert_exporter": "python",
      "pygments_lexer": "ipython3",
      "version": "3.5.2"
    },
    "colab": {
      "name": "Table_Manipulation.ipynb",
      "provenance": []
    }
  },
  "cells": [
    {
      "cell_type": "markdown",
      "metadata": {
        "id": "dTYeK-fcbOFf",
        "colab_type": "text"
      },
      "source": [
        "Send this ipynb file with your code (solution) to econometrics.methods@gmail.com\n",
        "\n",
        "In the subject of the e-mail, copy and paste only the title of this file without the extension \".ipynb\"\n",
        "\n",
        "Write the name of the members of your group in the e-mail, and not here.\n",
        "\n",
        "Only one student will send me the solution. This student is responsible to copy other members of the group in the e-mail. \n",
        "\n"
      ]
    },
    {
      "cell_type": "code",
      "metadata": {
        "id": "7wvKg6MPbOqG",
        "colab_type": "code",
        "colab": {}
      },
      "source": [
        "%matplotlib inline\n",
        "import matplotlib.pyplot as plots\n",
        "plots.style.use('fivethirtyeight')"
      ],
      "execution_count": 0,
      "outputs": []
    },
    {
      "cell_type": "markdown",
      "metadata": {
        "id": "TgUMpnffZHAB",
        "colab_type": "text"
      },
      "source": [
        "## Review of Table manipulation ##\n",
        "\n",
        "1) Let's see if we can make some interesting conclusions by using what we've learned about tables and visualization!\n",
        "\n",
        "First, let's set things up: import datascience and numpy, and read in the table called \"all-ages\"."
      ]
    },
    {
      "cell_type": "code",
      "metadata": {
        "id": "9Pvwp83aZHAC",
        "colab_type": "code",
        "colab": {},
        "outputId": "89bf69fe-d25a-4684-a9ae-8f9ae6417d50"
      },
      "source": [
        "import ... as ...\n",
        "from ... import ...\n",
        "path ='https://github.com/VitorKamada/DataScience/raw/master/Labs/Data/'\n",
        "collegedata = Table.read_table(path + \"all-ages.csv\")\n",
        "collegedata"
      ],
      "execution_count": 0,
      "outputs": [
        {
          "output_type": "error",
          "ename": "SyntaxError",
          "evalue": "invalid syntax (<ipython-input-2-5a99e7d3d027>, line 1)",
          "traceback": [
            "\u001b[0;36m  File \u001b[0;32m\"<ipython-input-2-5a99e7d3d027>\"\u001b[0;36m, line \u001b[0;32m1\u001b[0m\n\u001b[0;31m    import ... as ...\u001b[0m\n\u001b[0m             ^\u001b[0m\n\u001b[0;31mSyntaxError\u001b[0m\u001b[0;31m:\u001b[0m invalid syntax\n"
          ]
        }
      ]
    },
    {
      "cell_type": "markdown",
      "metadata": {
        "id": "DgToGbb9ZHAF",
        "colab_type": "text"
      },
      "source": [
        "2) Some of these majors are pretty uncommon/obscure. Let's remove any major with less than 50000 graduates (number of graduates is listed in the Total column). How many rows did we lose? Print this number before displaying the table."
      ]
    },
    {
      "cell_type": "code",
      "metadata": {
        "scrolled": true,
        "id": "v2i_5MLtZHAF",
        "colab_type": "code",
        "colab": {}
      },
      "source": [
        "before = ...\n",
        "bigmajors = ...\n",
        "after = ...\n",
        "print(...)\n",
        "bigmajors"
      ],
      "execution_count": 0,
      "outputs": []
    },
    {
      "cell_type": "markdown",
      "metadata": {
        "id": "aS4pNbkOZHAH",
        "colab_type": "text"
      },
      "source": [
        "3) There are some columns that we aren't too concerned with, so let's get rid of them. Specifically,\n",
        " * Major_code means nothing to us\n",
        " * Distinction between full time and part time isn't important right now, so let's drop employed_full_time_year_round"
      ]
    },
    {
      "cell_type": "code",
      "metadata": {
        "scrolled": true,
        "id": "h4DVH2p_ZHAI",
        "colab_type": "code",
        "colab": {}
      },
      "source": [
        "dropped = ...\n",
        "dropped"
      ],
      "execution_count": 0,
      "outputs": []
    },
    {
      "cell_type": "markdown",
      "metadata": {
        "id": "vJykzBSVZHAJ",
        "colab_type": "text"
      },
      "source": [
        "4) I wonder how different majors stack up in terms of employment, relative to other majors in the same category? Let's take a look. \n",
        "* Sort first by unemployment rate (low to high), and then by major category.\n",
        "     * Does it matter what order I sort these in?\n",
        "     * Can I do this in one line?\n",
        "* Now show 40 lines so we can see a couple different categories"
      ]
    },
    {
      "cell_type": "code",
      "metadata": {
        "id": "zbUycBfPZHAK",
        "colab_type": "code",
        "colab": {}
      },
      "source": [
        "employsorted = ...\n",
        "categorysorted = ...\n",
        "bothsorted = ...\n",
        "..."
      ],
      "execution_count": 0,
      "outputs": []
    },
    {
      "cell_type": "markdown",
      "metadata": {
        "id": "bM-9qVMPZHAM",
        "colab_type": "text"
      },
      "source": [
        "5) What's the business major with the lowest unemployment rate?\n",
        "It's a little hard to see patterns with just a table like this, so let's use a bar chart to see patterns within certain categories. Use barh to plot unemployement rates of business majors.\n",
        "* Make a new table called business containing just business majors (try using take for this: the rows with business majors are 18-29, inclusive on both ends)\n",
        "    * Challenge: how would I figure out what these rows are? (look up np.where())\n",
        "* Plot unemployment rate vs each major in the business category."
      ]
    },
    {
      "cell_type": "code",
      "metadata": {
        "id": "9XE8JaMGZHAO",
        "colab_type": "code",
        "colab": {}
      },
      "source": [
        "business = ...\n",
        "..."
      ],
      "execution_count": 0,
      "outputs": []
    },
    {
      "cell_type": "markdown",
      "metadata": {
        "id": "e_WO9BjeZHAR",
        "colab_type": "text"
      },
      "source": [
        "6) It's good to think about what we can use visualization for. Here's an example of something that might not be terribly insightful: plot the employement rate vs unemployment rate for all majors. \n",
        "\n",
        "First, create and add a new column called employment rate to bothsorted. (This is employed/(unemployed + employed)). Assign this new table to the same name as before, bothsorted. Then, use the second cell to plot. "
      ]
    },
    {
      "cell_type": "code",
      "metadata": {
        "id": "60kC1Bu1ZHAR",
        "colab_type": "code",
        "colab": {}
      },
      "source": [
        "bothsorted = ..."
      ],
      "execution_count": 0,
      "outputs": []
    },
    {
      "cell_type": "code",
      "metadata": {
        "id": "NST3XxpUZHAT",
        "colab_type": "code",
        "colab": {}
      },
      "source": [
        "..."
      ],
      "execution_count": 0,
      "outputs": []
    },
    {
      "cell_type": "markdown",
      "metadata": {
        "id": "esYIoq-dZHAV",
        "colab_type": "text"
      },
      "source": [
        "7) Here's something that might be a little more useful; is there a relationship between unemployment rate and median income? Plot the two and find out."
      ]
    },
    {
      "cell_type": "code",
      "metadata": {
        "id": "S7nV2kOsZHAW",
        "colab_type": "code",
        "colab": {}
      },
      "source": [
        "..."
      ],
      "execution_count": 0,
      "outputs": []
    },
    {
      "cell_type": "markdown",
      "metadata": {
        "id": "1XlqrZYOZHAX",
        "colab_type": "text"
      },
      "source": [
        "You'll learn how to quantify the difference between these two scatter plots as the course progresses."
      ]
    }
  ]
}