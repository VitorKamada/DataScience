{
  "nbformat": 4,
  "nbformat_minor": 0,
  "metadata": {
    "kernelspec": {
      "display_name": "Python 3",
      "language": "python",
      "name": "python3"
    },
    "language_info": {
      "codemirror_mode": {
        "name": "ipython",
        "version": 3
      },
      "file_extension": ".py",
      "mimetype": "text/x-python",
      "name": "python",
      "nbconvert_exporter": "python",
      "pygments_lexer": "ipython3",
      "version": "3.5.1"
    },
    "colab": {
      "name": "Regression.ipynb",
      "provenance": []
    }
  },
  "cells": [
    {
      "cell_type": "markdown",
      "metadata": {
        "id": "_DhoReHOJTJ9",
        "colab_type": "text"
      },
      "source": [
        "Send this ipynb file with your code (solution) to econometrics.methods@gmail.com\n",
        "\n",
        "In the subject of the e-mail, copy and paste only the title of this file without the extension \".ipynb\"\n",
        "\n",
        "Write the name of the members of your group in the e-mail, and not here.\n",
        "\n",
        "Only one student will send me the solution. This student is responsible to copy other members of the group in the e-mail. "
      ]
    },
    {
      "cell_type": "code",
      "metadata": {
        "id": "qDMBCEWPJTSp",
        "colab_type": "code",
        "colab": {}
      },
      "source": [
        "from datascience import *\n",
        "%matplotlib inline\n",
        "import matplotlib.pyplot as plots\n",
        "plots.style.use('fivethirtyeight')\n",
        "import numpy as np"
      ],
      "execution_count": 0,
      "outputs": []
    },
    {
      "cell_type": "markdown",
      "metadata": {
        "id": "vb7czYtaIadG",
        "colab_type": "text"
      },
      "source": [
        "# Tables"
      ]
    },
    {
      "cell_type": "markdown",
      "metadata": {
        "id": "xeeUyEw1IadH",
        "colab_type": "text"
      },
      "source": [
        " In this section, we want to find out if teams that pay higher salaries tend to win more than teams who pay lower salaries."
      ]
    },
    {
      "cell_type": "code",
      "metadata": {
        "id": "D6DYVmXUIadI",
        "colab_type": "code",
        "colab": {}
      },
      "source": [
        "#Load tables\n",
        "path ='https://github.com/VitorKamada/DataScience/raw/master/Labs/Data/'\n",
        "salaries = Table.read_table(path + \"Salaries.csv\")\n",
        "teams = Table.read_table(path + \"Teams.csv\")"
      ],
      "execution_count": 0,
      "outputs": []
    },
    {
      "cell_type": "code",
      "metadata": {
        "id": "bci23GuFIadL",
        "colab_type": "code",
        "colab": {
          "base_uri": "https://localhost:8080/",
          "height": 388
        },
        "outputId": "7da702ee-7257-4d90-94d7-1e2591a9bb47"
      },
      "source": [
        "salaries"
      ],
      "execution_count": 3,
      "outputs": [
        {
          "output_type": "execute_result",
          "data": {
            "text/html": [
              "<table border=\"1\" class=\"dataframe\">\n",
              "    <thead>\n",
              "        <tr>\n",
              "            <th>yearID</th> <th>teamID</th> <th>lgID</th> <th>playerID</th> <th>salary</th>\n",
              "        </tr>\n",
              "    </thead>\n",
              "    <tbody>\n",
              "        <tr>\n",
              "            <td>1991  </td> <td>ATL   </td> <td>NL  </td> <td>averyst01</td> <td>110000 </td>\n",
              "        </tr>\n",
              "        <tr>\n",
              "            <td>1991  </td> <td>ATL   </td> <td>NL  </td> <td>berenju01</td> <td>900000 </td>\n",
              "        </tr>\n",
              "        <tr>\n",
              "            <td>1991  </td> <td>ATL   </td> <td>NL  </td> <td>blausje01</td> <td>280000 </td>\n",
              "        </tr>\n",
              "        <tr>\n",
              "            <td>1991  </td> <td>ATL   </td> <td>NL  </td> <td>breamsi01</td> <td>1600000</td>\n",
              "        </tr>\n",
              "        <tr>\n",
              "            <td>1991  </td> <td>ATL   </td> <td>NL  </td> <td>cabrefr01</td> <td>110000 </td>\n",
              "        </tr>\n",
              "        <tr>\n",
              "            <td>1991  </td> <td>ATL   </td> <td>NL  </td> <td>castito02</td> <td>165000 </td>\n",
              "        </tr>\n",
              "        <tr>\n",
              "            <td>1991  </td> <td>ATL   </td> <td>NL  </td> <td>esaskni01</td> <td>2100000</td>\n",
              "        </tr>\n",
              "        <tr>\n",
              "            <td>1991  </td> <td>ATL   </td> <td>NL  </td> <td>freemma02</td> <td>190000 </td>\n",
              "        </tr>\n",
              "        <tr>\n",
              "            <td>1991  </td> <td>ATL   </td> <td>NL  </td> <td>gantro01 </td> <td>1195000</td>\n",
              "        </tr>\n",
              "        <tr>\n",
              "            <td>1991  </td> <td>ATL   </td> <td>NL  </td> <td>glavito02</td> <td>697500 </td>\n",
              "        </tr>\n",
              "    </tbody>\n",
              "</table>\n",
              "<p>... (21409 rows omitted)</p>"
            ],
            "text/plain": [
              "yearID | teamID | lgID | playerID  | salary\n",
              "1991   | ATL    | NL   | averyst01 | 110000\n",
              "1991   | ATL    | NL   | berenju01 | 900000\n",
              "1991   | ATL    | NL   | blausje01 | 280000\n",
              "1991   | ATL    | NL   | breamsi01 | 1600000\n",
              "1991   | ATL    | NL   | cabrefr01 | 110000\n",
              "1991   | ATL    | NL   | castito02 | 165000\n",
              "1991   | ATL    | NL   | esaskni01 | 2100000\n",
              "1991   | ATL    | NL   | freemma02 | 190000\n",
              "1991   | ATL    | NL   | gantro01  | 1195000\n",
              "1991   | ATL    | NL   | glavito02 | 697500\n",
              "... (21409 rows omitted)"
            ]
          },
          "metadata": {
            "tags": []
          },
          "execution_count": 3
        }
      ]
    },
    {
      "cell_type": "code",
      "metadata": {
        "id": "jmb77Ci3IadN",
        "colab_type": "code",
        "colab": {},
        "outputId": "aa222a1e-9ef4-4a11-f67d-58f1e8e5f2b9"
      },
      "source": [
        "teams"
      ],
      "execution_count": 0,
      "outputs": [
        {
          "output_type": "execute_result",
          "data": {
            "text/html": [
              "<table border=\"1\" class=\"dataframe\">\n",
              "    <thead>\n",
              "        <tr>\n",
              "            <th>yearID</th> <th>lgID</th> <th>teamID</th> <th>franchID</th> <th>divID</th> <th>W</th> <th>L</th> <th>DivWin</th> <th>WCWin</th> <th>LgWin</th> <th>WSWin</th> <th>name</th> <th>park</th> <th>attendance</th>\n",
              "        </tr>\n",
              "    </thead>\n",
              "    <tbody>\n",
              "        <tr>\n",
              "            <td>1991  </td> <td>AL  </td> <td>BAL   </td> <td>BAL     </td> <td>E    </td> <td>67  </td> <td>95  </td> <td>N     </td> <td>nan  </td> <td>N    </td> <td>N    </td> <td>Baltimore Orioles </td> <td>Memorial Stadium           </td> <td>2552753   </td>\n",
              "        </tr>\n",
              "    </tbody>\n",
              "        <tr>\n",
              "            <td>1991  </td> <td>AL  </td> <td>BOS   </td> <td>BOS     </td> <td>E    </td> <td>84  </td> <td>78  </td> <td>N     </td> <td>nan  </td> <td>N    </td> <td>N    </td> <td>Boston Red Sox    </td> <td>Fenway Park II             </td> <td>2562435   </td>\n",
              "        </tr>\n",
              "    </tbody>\n",
              "        <tr>\n",
              "            <td>1991  </td> <td>AL  </td> <td>CAL   </td> <td>ANA     </td> <td>W    </td> <td>81  </td> <td>81  </td> <td>N     </td> <td>nan  </td> <td>N    </td> <td>N    </td> <td>California Angels </td> <td>Anaheim Stadium            </td> <td>2416236   </td>\n",
              "        </tr>\n",
              "    </tbody>\n",
              "        <tr>\n",
              "            <td>1991  </td> <td>AL  </td> <td>CHA   </td> <td>CHW     </td> <td>W    </td> <td>87  </td> <td>75  </td> <td>N     </td> <td>nan  </td> <td>N    </td> <td>N    </td> <td>Chicago White Sox </td> <td>Comiskey Park II           </td> <td>2934154   </td>\n",
              "        </tr>\n",
              "    </tbody>\n",
              "        <tr>\n",
              "            <td>1991  </td> <td>AL  </td> <td>CLE   </td> <td>CLE     </td> <td>E    </td> <td>57  </td> <td>105 </td> <td>N     </td> <td>nan  </td> <td>N    </td> <td>N    </td> <td>Cleveland Indians </td> <td>Cleveland Stadium          </td> <td>1051863   </td>\n",
              "        </tr>\n",
              "    </tbody>\n",
              "        <tr>\n",
              "            <td>1991  </td> <td>AL  </td> <td>DET   </td> <td>DET     </td> <td>E    </td> <td>84  </td> <td>78  </td> <td>N     </td> <td>nan  </td> <td>N    </td> <td>N    </td> <td>Detroit Tigers    </td> <td>Tiger Stadium              </td> <td>1641661   </td>\n",
              "        </tr>\n",
              "    </tbody>\n",
              "        <tr>\n",
              "            <td>1991  </td> <td>AL  </td> <td>KCA   </td> <td>KCR     </td> <td>W    </td> <td>82  </td> <td>80  </td> <td>N     </td> <td>nan  </td> <td>N    </td> <td>N    </td> <td>Kansas City Royals</td> <td>Royals Stadium             </td> <td>2161537   </td>\n",
              "        </tr>\n",
              "    </tbody>\n",
              "        <tr>\n",
              "            <td>1991  </td> <td>AL  </td> <td>MIN   </td> <td>MIN     </td> <td>W    </td> <td>95  </td> <td>67  </td> <td>Y     </td> <td>nan  </td> <td>Y    </td> <td>Y    </td> <td>Minnesota Twins   </td> <td>Hubert H Humphrey Metrodome</td> <td>2293842   </td>\n",
              "        </tr>\n",
              "    </tbody>\n",
              "        <tr>\n",
              "            <td>1991  </td> <td>AL  </td> <td>ML4   </td> <td>MIL     </td> <td>E    </td> <td>83  </td> <td>79  </td> <td>N     </td> <td>nan  </td> <td>N    </td> <td>N    </td> <td>Milwaukee Brewers </td> <td>County Stadium             </td> <td>1478729   </td>\n",
              "        </tr>\n",
              "    </tbody>\n",
              "        <tr>\n",
              "            <td>1991  </td> <td>AL  </td> <td>NYA   </td> <td>NYY     </td> <td>E    </td> <td>71  </td> <td>91  </td> <td>N     </td> <td>nan  </td> <td>N    </td> <td>N    </td> <td>New York Yankees  </td> <td>Yankee Stadium II          </td> <td>1863733   </td>\n",
              "        </tr>\n",
              "    </tbody>\n",
              "</table>\n",
              "<p>... (722 rows omitted)</p"
            ],
            "text/plain": [
              "yearID | lgID | teamID | franchID | divID | W    | L    | DivWin | WCWin | LgWin | WSWin | name               | park                        | attendance\n",
              "1991   | AL   | BAL    | BAL      | E     | 67   | 95   | N      | nan   | N     | N     | Baltimore Orioles  | Memorial Stadium            | 2552753\n",
              "1991   | AL   | BOS    | BOS      | E     | 84   | 78   | N      | nan   | N     | N     | Boston Red Sox     | Fenway Park II              | 2562435\n",
              "1991   | AL   | CAL    | ANA      | W     | 81   | 81   | N      | nan   | N     | N     | California Angels  | Anaheim Stadium             | 2416236\n",
              "1991   | AL   | CHA    | CHW      | W     | 87   | 75   | N      | nan   | N     | N     | Chicago White Sox  | Comiskey Park II            | 2934154\n",
              "1991   | AL   | CLE    | CLE      | E     | 57   | 105  | N      | nan   | N     | N     | Cleveland Indians  | Cleveland Stadium           | 1051863\n",
              "1991   | AL   | DET    | DET      | E     | 84   | 78   | N      | nan   | N     | N     | Detroit Tigers     | Tiger Stadium               | 1641661\n",
              "1991   | AL   | KCA    | KCR      | W     | 82   | 80   | N      | nan   | N     | N     | Kansas City Royals | Royals Stadium              | 2161537\n",
              "1991   | AL   | MIN    | MIN      | W     | 95   | 67   | Y      | nan   | Y     | Y     | Minnesota Twins    | Hubert H Humphrey Metrodome | 2293842\n",
              "1991   | AL   | ML4    | MIL      | E     | 83   | 79   | N      | nan   | N     | N     | Milwaukee Brewers  | County Stadium              | 1478729\n",
              "1991   | AL   | NYA    | NYY      | E     | 71   | 91   | N      | nan   | N     | N     | New York Yankees   | Yankee Stadium II           | 1863733\n",
              "... (722 rows omitted)"
            ]
          },
          "metadata": {
            "tags": []
          },
          "execution_count": 5
        }
      ]
    },
    {
      "cell_type": "code",
      "metadata": {
        "id": "L01YHOjNIadQ",
        "colab_type": "code",
        "colab": {},
        "outputId": "4a88e59d-f3b5-4cb5-94ab-a23aab81a9eb"
      },
      "source": [
        "#Histogram of salaries\n",
        "salaries.hist(\"salary\", bins=np.arange(0, 20000000, 1000000))"
      ],
      "execution_count": 0,
      "outputs": [
        {
          "output_type": "display_data",
          "data": {
            "image/png": "[encoded data removed]",
            "text/plain": [
              "<matplotlib.figure.Figure at 0x1170d5eb8>"
            ]
          },
          "metadata": {
            "tags": []
          }
        }
      ]
    },
    {
      "cell_type": "markdown",
      "metadata": {
        "id": "1aW53M0qIadS",
        "colab_type": "text"
      },
      "source": [
        "1) What can you say about how much an average baseball player earns?"
      ]
    },
    {
      "cell_type": "code",
      "metadata": {
        "id": "1Vt61hysIadT",
        "colab_type": "code",
        "colab": {}
      },
      "source": [
        "#Create a histogram of the number of wins (the column named 'W').\n"
      ],
      "execution_count": 0,
      "outputs": []
    },
    {
      "cell_type": "markdown",
      "metadata": {
        "id": "3zeDRnqVIadV",
        "colab_type": "text"
      },
      "source": [
        "2) What would you estimate as the average number of wins per season for a baseball team?"
      ]
    },
    {
      "cell_type": "code",
      "metadata": {
        "id": "xSuljv6AIadX",
        "colab_type": "code",
        "colab": {}
      },
      "source": [
        "#There's a lot of data, but let's just look at the most recent year: 2015.\n",
        "salaries_2015 = salaries.where(salaries[\"yearID\"] == 2015)\n",
        "teams_2015 = ..."
      ],
      "execution_count": 0,
      "outputs": []
    },
    {
      "cell_type": "markdown",
      "metadata": {
        "id": "lzjmAcesIadZ",
        "colab_type": "text"
      },
      "source": [
        "3) We don't actually care about the individual salary of a player; we care about the total amount each team is paying its players. Let's create a new table to store this information."
      ]
    },
    {
      "cell_type": "code",
      "metadata": {
        "id": "uNmoD9l-Iada",
        "colab_type": "code",
        "colab": {}
      },
      "source": [
        "#Create a table called 'salaries_by_team' that has one row per team (so 30 rows). The table should have three columns:\n",
        "#one for the year, one for the team, and one for the total salary that team payed players that year.\n",
        "#Hint: the 'groups' method takes in a list of column labels (instead of just one column label in 'group'), and groups\n",
        "#by both the labels.\n",
        "salaries_by_team = ...\n",
        "salaries_by_team"
      ],
      "execution_count": 0,
      "outputs": []
    },
    {
      "cell_type": "code",
      "metadata": {
        "id": "S9ni8EC3Iadd",
        "colab_type": "code",
        "colab": {}
      },
      "source": [
        "#Let's reformat the table. Relabel the table so that the column labels are: 'yearID', 'teamID', and 'salary'.\n",
        "\"\"\"your code here\"\"\"\n",
        "salaries_by_team.set_format(\"salary\", NumberFormatter)"
      ],
      "execution_count": 0,
      "outputs": []
    },
    {
      "cell_type": "code",
      "metadata": {
        "id": "iQVm-427Iadf",
        "colab_type": "code",
        "colab": {}
      },
      "source": [
        "#Now we want to find out if teams with a higher salary tend to win more games. Create a new table that has all the\n",
        "#information from salaries_by_team and teams.\n",
        "salaries_with_team = ...\n",
        "salaries_with_team.set_format(\"attendance\", NumberFormatter)\n",
        "salaries_with_team"
      ],
      "execution_count": 0,
      "outputs": []
    },
    {
      "cell_type": "markdown",
      "metadata": {
        "id": "shjzrxnQIadh",
        "colab_type": "text"
      },
      "source": [
        "4) For simplicity's sake, let's categorize every team into division winners and non-division winners. Division winner have the value \"Y\" in the \"DivWin\" column. We want to know if division winners pay their players more than non-division winners do, and if that is consistent across both leagues (The league of a team is in the column \"lgID\": \"AL\" for American League and \"NL\" for National League)."
      ]
    },
    {
      "cell_type": "code",
      "metadata": {
        "id": "XiSdjcMXIadi",
        "colab_type": "code",
        "colab": {}
      },
      "source": [
        "#Create a new table that has a row for each league. The table should have two columns, one for division winners and\n",
        "#one for non-division winners. The value in the table should be the average salary for a team in that category.\n",
        "division_salary = ...\n",
        "division_salary"
      ],
      "execution_count": 0,
      "outputs": []
    },
    {
      "cell_type": "markdown",
      "metadata": {
        "id": "zB1uAT_mIadk",
        "colab_type": "text"
      },
      "source": [
        "What does the table you produced above tell you about the average salary of division winners? Do they spend more on players than non-division winners? Justify your answer."
      ]
    },
    {
      "cell_type": "markdown",
      "metadata": {
        "id": "hSxpWWa4Iadl",
        "colab_type": "text"
      },
      "source": [
        "***Your answer here***"
      ]
    },
    {
      "cell_type": "markdown",
      "metadata": {
        "id": "SL_6_qQyIadm",
        "colab_type": "text"
      },
      "source": [
        "# Correlation and Regression"
      ]
    },
    {
      "cell_type": "markdown",
      "metadata": {
        "id": "_s3yGgMZIadn",
        "colab_type": "text"
      },
      "source": [
        "5) We will now explore the correlation between two sets of variables: salary and the number of wins, and the number of wins and attendance."
      ]
    },
    {
      "cell_type": "code",
      "metadata": {
        "id": "b628utPrIadn",
        "colab_type": "code",
        "colab": {}
      },
      "source": [
        "#Some useful functions.\n",
        "def standard_units(any_numbers):\n",
        "    \"Convert any array of numbers to standard units.\"\n",
        "    return (any_numbers - np.mean(any_numbers))/np.std(any_numbers)  \n",
        "\n",
        "def correlation(t, x, y):\n",
        "    \"Compute r.\"\n",
        "    return np.mean(standard_units(t.column(x))*standard_units(t.column(y)))\n",
        "\n",
        "def slope(table, x, y):\n",
        "    r = correlation(table, x, y)\n",
        "    return r * np.std(table.column(y))/np.std(table.column(x))\n",
        "\n",
        "def intercept(table, x, y):\n",
        "    a = slope(table, x, y)\n",
        "    return np.mean(table.column(y)) - a * np.mean(table.column(x))\n",
        "\n",
        "def fit(table, x, y):\n",
        "    \"\"\"Return the height of the regression line at each x value.\"\"\"\n",
        "    a = slope(table, x, y)\n",
        "    b = intercept(table, x, y)\n",
        "    return a * table.column(x) + b"
      ],
      "execution_count": 0,
      "outputs": []
    },
    {
      "cell_type": "code",
      "metadata": {
        "id": "j256DlBxIadq",
        "colab_type": "code",
        "colab": {}
      },
      "source": [
        "#Create a new table 'plot_wins' with a column 'salary' and a column 'W', and plot (with salary on the x-axis).\n",
        "plot_wins = ...\n",
        "plot_wins.scatter(\"salary\", fit_line=True)"
      ],
      "execution_count": 0,
      "outputs": []
    },
    {
      "cell_type": "code",
      "metadata": {
        "id": "Y7F-sSu4Iads",
        "colab_type": "code",
        "colab": {}
      },
      "source": [
        "#Find the correlation between salary and number of wins.\n",
        "correlation(plot_wins, \"salary\", \"W\")"
      ],
      "execution_count": 0,
      "outputs": []
    },
    {
      "cell_type": "markdown",
      "metadata": {
        "id": "OrhwMfqSIadu",
        "colab_type": "text"
      },
      "source": [
        "Explain the above number. What does it mean? Is it consistent with your findings in using the table division_salary?"
      ]
    },
    {
      "cell_type": "markdown",
      "metadata": {
        "id": "52Q55S5BIadu",
        "colab_type": "text"
      },
      "source": [
        "***Your answer here***"
      ]
    },
    {
      "cell_type": "markdown",
      "metadata": {
        "id": "DdGGn5qWIadv",
        "colab_type": "text"
      },
      "source": [
        "6) Now let's move on to another correlation that might be interesting: the number of wins and attendance."
      ]
    },
    {
      "cell_type": "code",
      "metadata": {
        "id": "2r347f3KIadw",
        "colab_type": "code",
        "colab": {}
      },
      "source": [
        "#Create a table 'plot_attendance' that has two columns: 'W' for number of wins, and 'attendance'. Use the original\n",
        "#'teams' table to do this!\n",
        "plot_attendance = ...\n",
        "plot_attendance"
      ],
      "execution_count": 0,
      "outputs": []
    },
    {
      "cell_type": "code",
      "metadata": {
        "id": "vFUtRKbpIady",
        "colab_type": "code",
        "colab": {}
      },
      "source": [
        "plot_attendance.scatter(\"W\", fit_line=True)"
      ],
      "execution_count": 0,
      "outputs": []
    },
    {
      "cell_type": "code",
      "metadata": {
        "id": "v1iYCcAYIad0",
        "colab_type": "code",
        "colab": {}
      },
      "source": [
        "#Find the correlation coefficient of number of wins and attendance.\n"
      ],
      "execution_count": 0,
      "outputs": []
    },
    {
      "cell_type": "markdown",
      "metadata": {
        "id": "YajCb8PpIad7",
        "colab_type": "text"
      },
      "source": [
        "Explain the number above. What does it mean?"
      ]
    },
    {
      "cell_type": "markdown",
      "metadata": {
        "id": "8-il9BndIad8",
        "colab_type": "text"
      },
      "source": [
        "***Your answer here***"
      ]
    },
    {
      "cell_type": "code",
      "metadata": {
        "id": "EQOsyQE9Iad8",
        "colab_type": "code",
        "colab": {}
      },
      "source": [
        "#slope of the regression line\n",
        "slope(plot_attendance, \"W\", \"attendance\")"
      ],
      "execution_count": 0,
      "outputs": []
    },
    {
      "cell_type": "code",
      "metadata": {
        "id": "jNbwAEv6Iad-",
        "colab_type": "code",
        "colab": {}
      },
      "source": [
        "#intercept of the regression line\n",
        "intercept(plot_attendance, \"W\", \"attendance\")"
      ],
      "execution_count": 0,
      "outputs": []
    },
    {
      "cell_type": "code",
      "metadata": {
        "id": "qeaWTtZeIad_",
        "colab_type": "code",
        "colab": {}
      },
      "source": [
        "#Create a new table 'fitted' that has a column 'W' for wins, a column 'attendance' for attendance, and a column\n",
        "#'attendance (fitted)' for the estimated attendance based on the regression line.\n",
        "fitted = ...\n",
        "#These lines just format the table\n",
        "fitted.set_format(\"attendance\", NumberFormatter)\n",
        "fitted.set_format(\"attendance (fitted)\", NumberFormatter)\n",
        "fitted"
      ],
      "execution_count": 0,
      "outputs": []
    },
    {
      "cell_type": "code",
      "metadata": {
        "id": "rwLefs1BIaeB",
        "colab_type": "code",
        "colab": {}
      },
      "source": [
        "#Plot the fitted attendance. Does it resemble the fit line above?\n",
        "fitted.scatter(0, s=10)"
      ],
      "execution_count": 0,
      "outputs": []
    },
    {
      "cell_type": "markdown",
      "metadata": {
        "id": "xeqWoxYbIaeD",
        "colab_type": "text"
      },
      "source": [
        "7) Suppose you are the owner of the San Francisco Giants, and you want to predict your attendance for the 2016 season. Your general manager tells you that in all likelihood, your team will win 86 to 88 games this season. Based on these numbers, what should you expect your attendance to be in the range of?"
      ]
    },
    {
      "cell_type": "code",
      "metadata": {
        "id": "nlCZr5HjIaeD",
        "colab_type": "code",
        "colab": {}
      },
      "source": [
        "win_86 = ...\n",
        "win_88 = ...\n",
        "\n",
        "(win_86, win_88)"
      ],
      "execution_count": 0,
      "outputs": []
    },
    {
      "cell_type": "code",
      "metadata": {
        "id": "PNWHvG-8IaeF",
        "colab_type": "code",
        "colab": {}
      },
      "source": [
        "# Add a column 'residuals' to the table.\n",
        "residuals = ...\n",
        "fitted = ...\n",
        "fitted"
      ],
      "execution_count": 0,
      "outputs": []
    },
    {
      "cell_type": "code",
      "metadata": {
        "id": "gIEO2qbnIaeG",
        "colab_type": "code",
        "colab": {}
      },
      "source": [
        "#Plot the residuals against number of wins.\n",
        "fitted.scatter(\"W\", \"residuals\")"
      ],
      "execution_count": 0,
      "outputs": []
    },
    {
      "cell_type": "markdown",
      "metadata": {
        "id": "hAtKcrYqIaeH",
        "colab_type": "text"
      },
      "source": [
        "What does the shape of the residuals graph say about the relationship between wins and attendance?"
      ]
    },
    {
      "cell_type": "markdown",
      "metadata": {
        "id": "qFU5FzvCIaeI",
        "colab_type": "text"
      },
      "source": [
        "***Your answer here***"
      ]
    }
  ]
}