{
  "nbformat": 4,
  "nbformat_minor": 0,
  "metadata": {
    "kernelspec": {
      "display_name": "Python 3",
      "language": "python",
      "name": "python3"
    },
    "language_info": {
      "codemirror_mode": {
        "name": "ipython",
        "version": 3
      },
      "file_extension": ".py",
      "mimetype": "text/x-python",
      "name": "python",
      "nbconvert_exporter": "python",
      "pygments_lexer": "ipython3",
      "version": "3.5.2"
    },
    "colab": {
      "name": "Testing_Hypotheses.ipynb",
      "provenance": []
    }
  },
  "cells": [
    {
      "cell_type": "markdown",
      "metadata": {
        "deletable": true,
        "editable": true,
        "id": "EbfcFyquzCty",
        "colab_type": "text"
      },
      "source": [
        "Send this ipynb file with your code (solution) to econometrics.methods@gmail.com\n",
        "\n",
        "In the subject of the e-mail, copy and paste only the title of this file without the extension \".ipynb\"\n",
        "\n",
        "Write the name of the members of your group in the e-mail, and not here.\n",
        "\n",
        "Only one student will send me the solution. This student is responsible to copy other members of the group in the e-mail. "
      ]
    },
    {
      "cell_type": "code",
      "metadata": {
        "deletable": true,
        "editable": true,
        "id": "ZIZiEMNezCt0",
        "colab_type": "code",
        "colab": {}
      },
      "source": [
        "# Don't change this cell; just run it. \n",
        "\n",
        "import numpy as np\n",
        "from datascience import *\n",
        "\n",
        "%matplotlib inline\n",
        "import matplotlib.pyplot as plots\n",
        "plots.style.use('fivethirtyeight')"
      ],
      "execution_count": 0,
      "outputs": []
    },
    {
      "cell_type": "markdown",
      "metadata": {
        "deletable": true,
        "editable": true,
        "id": "-qraXoZ2zCt3",
        "colab_type": "text"
      },
      "source": [
        "1) You flip a coin 10 times and land heads 9 times and tails once. You begin to get suspicious of the coin. Suppose you want to test whether or not that coin is fair. State the null and alternative hypotheses."
      ]
    },
    {
      "cell_type": "markdown",
      "metadata": {
        "deletable": true,
        "editable": true,
        "id": "WlkfaLtZzCt4",
        "colab_type": "text"
      },
      "source": [
        "Null hypothesis:\n",
        "\n",
        "Alternative Hypothesis:\n"
      ]
    },
    {
      "cell_type": "markdown",
      "metadata": {
        "deletable": true,
        "editable": true,
        "id": "mjtonMcOzCt4",
        "colab_type": "text"
      },
      "source": [
        "2) What test statistic would you use test your hypothesis?"
      ]
    },
    {
      "cell_type": "markdown",
      "metadata": {
        "deletable": true,
        "editable": true,
        "id": "N5SwJDoTzCt5",
        "colab_type": "text"
      },
      "source": [
        ""
      ]
    },
    {
      "cell_type": "markdown",
      "metadata": {
        "deletable": true,
        "editable": true,
        "id": "njxsncUnzCt6",
        "colab_type": "text"
      },
      "source": [
        "3) Define a function that simulates flipping a coin ten times. The function should return the value of your test statistic."
      ]
    },
    {
      "cell_type": "code",
      "metadata": {
        "deletable": true,
        "editable": true,
        "id": "hbE1cuUrzCt6",
        "colab_type": "code",
        "colab": {},
        "outputId": "03e371c4-0b90-481b-86ff-0f2d1a7c23d7"
      },
      "source": [
        "def simulate():\n",
        "    \n",
        "simulate()"
      ],
      "execution_count": 0,
      "outputs": [
        {
          "output_type": "error",
          "ename": "IndentationError",
          "evalue": "expected an indented block (<ipython-input-5-bbdb374f787b>, line 2)",
          "traceback": [
            "\u001b[0;36m  File \u001b[0;32m\"<ipython-input-5-bbdb374f787b>\"\u001b[0;36m, line \u001b[0;32m2\u001b[0m\n\u001b[0;31m    simulate()\u001b[0m\n\u001b[0m           ^\u001b[0m\n\u001b[0;31mIndentationError\u001b[0m\u001b[0;31m:\u001b[0m expected an indented block\n"
          ]
        }
      ]
    },
    {
      "cell_type": "markdown",
      "metadata": {
        "collapsed": true,
        "deletable": true,
        "editable": true,
        "id": "dMyByI8IzCt-",
        "colab_type": "text"
      },
      "source": [
        "4) Simulate this function 10,000 times and put the results in a histogram."
      ]
    },
    {
      "cell_type": "code",
      "metadata": {
        "deletable": true,
        "editable": true,
        "id": "sFH8N_AjzCt-",
        "colab_type": "code",
        "colab": {}
      },
      "source": [
        ""
      ],
      "execution_count": 0,
      "outputs": []
    },
    {
      "cell_type": "markdown",
      "metadata": {
        "deletable": true,
        "editable": true,
        "id": "AZSXJcrvzCuB",
        "colab_type": "text"
      },
      "source": [
        "5) Contruct a 95% confidence interval for the results. What are the upper and lower bounds?"
      ]
    },
    {
      "cell_type": "code",
      "metadata": {
        "deletable": true,
        "editable": true,
        "id": "YfF5t0wfzCuD",
        "colab_type": "code",
        "colab": {},
        "outputId": "cc83114e-4193-4c81-c284-c0a760c0dad8"
      },
      "source": [
        "lower_bound = \n",
        "upper_bound = \n",
        "print('Upper Bound: ' + str(upper_bound))\n",
        "print('Lower Bound: ' + str(lower_bound))"
      ],
      "execution_count": 0,
      "outputs": [
        {
          "output_type": "error",
          "ename": "SyntaxError",
          "evalue": "invalid syntax (<ipython-input-3-5d3edeb09312>, line 1)",
          "traceback": [
            "\u001b[0;36m  File \u001b[0;32m\"<ipython-input-3-5d3edeb09312>\"\u001b[0;36m, line \u001b[0;32m1\u001b[0m\n\u001b[0;31m    lower_bound =\u001b[0m\n\u001b[0m                  ^\u001b[0m\n\u001b[0;31mSyntaxError\u001b[0m\u001b[0;31m:\u001b[0m invalid syntax\n"
          ]
        }
      ]
    },
    {
      "cell_type": "markdown",
      "metadata": {
        "deletable": true,
        "editable": true,
        "id": "ShsdfcunzCuG",
        "colab_type": "text"
      },
      "source": [
        "6) Calculate the p value."
      ]
    },
    {
      "cell_type": "code",
      "metadata": {
        "deletable": true,
        "editable": true,
        "id": "o7lMHTozzCuH",
        "colab_type": "code",
        "colab": {}
      },
      "source": [
        ""
      ],
      "execution_count": 0,
      "outputs": []
    },
    {
      "cell_type": "markdown",
      "metadata": {
        "deletable": true,
        "editable": true,
        "id": "FMzlWBPfzCuJ",
        "colab_type": "text"
      },
      "source": [
        "7) Using a p value cutoff of 1%, what can you say about the coin and the null hypothesis?"
      ]
    },
    {
      "cell_type": "markdown",
      "metadata": {
        "deletable": true,
        "editable": true,
        "id": "RQBfTcDtzCuJ",
        "colab_type": "text"
      },
      "source": [
        ""
      ]
    },
    {
      "cell_type": "markdown",
      "metadata": {
        "deletable": true,
        "editable": true,
        "id": "kAQ3Fm5GzCuK",
        "colab_type": "text"
      },
      "source": [
        "8) What does the p value represent?"
      ]
    },
    {
      "cell_type": "markdown",
      "metadata": {
        "deletable": true,
        "editable": true,
        "id": "_TFRntrMzCuK",
        "colab_type": "text"
      },
      "source": [
        ""
      ]
    },
    {
      "cell_type": "markdown",
      "metadata": {
        "deletable": true,
        "editable": true,
        "id": "m_jDkOsyzCuL",
        "colab_type": "text"
      },
      "source": [
        "9) What does the p value cutoff represent?"
      ]
    },
    {
      "cell_type": "markdown",
      "metadata": {
        "deletable": true,
        "editable": true,
        "id": "wFMXtjenzCuL",
        "colab_type": "text"
      },
      "source": [
        ""
      ]
    },
    {
      "cell_type": "markdown",
      "metadata": {
        "deletable": true,
        "editable": true,
        "id": "i8xr5xRLzCuM",
        "colab_type": "text"
      },
      "source": [
        "10) What does the confidence interval represent?"
      ]
    },
    {
      "cell_type": "markdown",
      "metadata": {
        "deletable": true,
        "editable": true,
        "id": "3vwhZXtEzCuM",
        "colab_type": "text"
      },
      "source": [
        ""
      ]
    },
    {
      "cell_type": "code",
      "metadata": {
        "deletable": true,
        "editable": true,
        "id": "yVCP2mZOzCuN",
        "colab_type": "code",
        "colab": {}
      },
      "source": [
        ""
      ],
      "execution_count": 0,
      "outputs": []
    }
  ]
}