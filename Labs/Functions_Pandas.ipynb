{
  "nbformat": 4,
  "nbformat_minor": 0,
  "metadata": {
    "anaconda-cloud": {},
    "celltoolbar": "Edit Metadata",
    "kernelspec": {
      "display_name": "Python [conda env:ds100win]",
      "language": "python",
      "name": "conda-env-ds100win-py"
    },
    "language_info": {
      "codemirror_mode": {
        "name": "ipython",
        "version": 3
      },
      "file_extension": ".py",
      "mimetype": "text/x-python",
      "name": "python",
      "nbconvert_exporter": "python",
      "pygments_lexer": "ipython3",
      "version": "3.5.2"
    },
    "colab": {
      "name": "Functions_Pandas.ipynb",
      "provenance": []
    }
  },
  "cells": [
    {
      "cell_type": "markdown",
      "metadata": {
        "id": "4N8UE42vVZy5",
        "colab_type": "text"
      },
      "source": [
        "Send this ipynb file with your code (solution) to econometrics.methods@gmail.com\n",
        "\n",
        "In the subject of the e-mail, copy and paste only the title of this file without the extension \".ipynb\"\n",
        "\n",
        "Write the name of the members of your group in the e-mail, and not here.\n",
        "\n",
        "Only one student will send me the solution. This student is responsible to copy other members of the group in the e-mail. "
      ]
    },
    {
      "cell_type": "code",
      "metadata": {
        "id": "5HZAb43wVZy9",
        "colab_type": "code",
        "colab": {}
      },
      "source": [
        "import pandas as pd\n",
        "import numpy as np"
      ],
      "execution_count": 0,
      "outputs": []
    },
    {
      "cell_type": "markdown",
      "metadata": {
        "id": "r_HAjc5AVZ0h",
        "colab_type": "text"
      },
      "source": [
        "The practice problems below use the department of transportation's \"On-Time\" flight data for all flights originating from SFO or OAK in January 2016.  Information about the variables can be found in the `readme.html` file.  Information about the airports and airlines are contained in the comma-delimited files `airports.dat` and `airlines.dat`, respectively.  Both were sourced from http://openflights.org/data.html\n",
        "\n",
        "Disclaimer: There is a more direct way of dealing with time data that is not presented in these problems.  This activity is merely an academic exercise."
      ]
    },
    {
      "cell_type": "code",
      "metadata": {
        "id": "vF4rpXa8VZ0i",
        "colab_type": "code",
        "colab": {
          "base_uri": "https://localhost:8080/",
          "height": 309
        },
        "outputId": "89589363-9115-4873-84e8-a40daf63639c"
      },
      "source": [
        "path ='https://github.com/VitorKamada/DataScience/raw/master/Labs/Data/'\n",
        "flights = pd.read_csv(path + \"flights.dat\", dtype={'sched_dep_time': 'f8', 'sched_arr_time': 'f8'})\n",
        "flights.head()"
      ],
      "execution_count": 2,
      "outputs": [
        {
          "output_type": "execute_result",
          "data": {
            "text/html": [
              "<div>\n",
              "<style scoped>\n",
              "    .dataframe tbody tr th:only-of-type {\n",
              "        vertical-align: middle;\n",
              "    }\n",
              "\n",
              "    .dataframe tbody tr th {\n",
              "        vertical-align: top;\n",
              "    }\n",
              "\n",
              "    .dataframe thead th {\n",
              "        text-align: right;\n",
              "    }\n",
              "</style>\n",
              "<table border=\"1\" class=\"dataframe\">\n",
              "  <thead>\n",
              "    <tr style=\"text-align: right;\">\n",
              "      <th></th>\n",
              "      <th>year</th>\n",
              "      <th>month</th>\n",
              "      <th>day</th>\n",
              "      <th>date</th>\n",
              "      <th>carrier</th>\n",
              "      <th>tailnum</th>\n",
              "      <th>flight</th>\n",
              "      <th>origin</th>\n",
              "      <th>destination</th>\n",
              "      <th>sched_dep_time</th>\n",
              "      <th>actual_dep_time</th>\n",
              "      <th>sched_arr_time</th>\n",
              "      <th>actual_arr_time</th>\n",
              "    </tr>\n",
              "  </thead>\n",
              "  <tbody>\n",
              "    <tr>\n",
              "      <th>0</th>\n",
              "      <td>2016</td>\n",
              "      <td>1</td>\n",
              "      <td>1</td>\n",
              "      <td>2016-01-01</td>\n",
              "      <td>AA</td>\n",
              "      <td>N3FLAA</td>\n",
              "      <td>208</td>\n",
              "      <td>SFO</td>\n",
              "      <td>MIA</td>\n",
              "      <td>630.0</td>\n",
              "      <td>628.0</td>\n",
              "      <td>1458.0</td>\n",
              "      <td>1431.0</td>\n",
              "    </tr>\n",
              "    <tr>\n",
              "      <th>1</th>\n",
              "      <td>2016</td>\n",
              "      <td>1</td>\n",
              "      <td>2</td>\n",
              "      <td>2016-01-02</td>\n",
              "      <td>AA</td>\n",
              "      <td>N3APAA</td>\n",
              "      <td>208</td>\n",
              "      <td>SFO</td>\n",
              "      <td>MIA</td>\n",
              "      <td>600.0</td>\n",
              "      <td>553.0</td>\n",
              "      <td>1428.0</td>\n",
              "      <td>1401.0</td>\n",
              "    </tr>\n",
              "    <tr>\n",
              "      <th>2</th>\n",
              "      <td>2016</td>\n",
              "      <td>1</td>\n",
              "      <td>3</td>\n",
              "      <td>2016-01-03</td>\n",
              "      <td>AA</td>\n",
              "      <td>N3DNAA</td>\n",
              "      <td>208</td>\n",
              "      <td>SFO</td>\n",
              "      <td>MIA</td>\n",
              "      <td>630.0</td>\n",
              "      <td>626.0</td>\n",
              "      <td>1458.0</td>\n",
              "      <td>1431.0</td>\n",
              "    </tr>\n",
              "    <tr>\n",
              "      <th>3</th>\n",
              "      <td>2016</td>\n",
              "      <td>1</td>\n",
              "      <td>4</td>\n",
              "      <td>2016-01-04</td>\n",
              "      <td>AA</td>\n",
              "      <td>N3FGAA</td>\n",
              "      <td>208</td>\n",
              "      <td>SFO</td>\n",
              "      <td>MIA</td>\n",
              "      <td>630.0</td>\n",
              "      <td>626.0</td>\n",
              "      <td>1458.0</td>\n",
              "      <td>1444.0</td>\n",
              "    </tr>\n",
              "    <tr>\n",
              "      <th>4</th>\n",
              "      <td>2016</td>\n",
              "      <td>1</td>\n",
              "      <td>5</td>\n",
              "      <td>2016-01-05</td>\n",
              "      <td>AA</td>\n",
              "      <td>N3KUAA</td>\n",
              "      <td>208</td>\n",
              "      <td>SFO</td>\n",
              "      <td>MIA</td>\n",
              "      <td>640.0</td>\n",
              "      <td>632.0</td>\n",
              "      <td>1458.0</td>\n",
              "      <td>1439.0</td>\n",
              "    </tr>\n",
              "  </tbody>\n",
              "</table>\n",
              "</div>"
            ],
            "text/plain": [
              "   year  month  day  ... actual_dep_time sched_arr_time actual_arr_time\n",
              "0  2016      1    1  ...           628.0         1458.0          1431.0\n",
              "1  2016      1    2  ...           553.0         1428.0          1401.0\n",
              "2  2016      1    3  ...           626.0         1458.0          1431.0\n",
              "3  2016      1    4  ...           626.0         1458.0          1444.0\n",
              "4  2016      1    5  ...           632.0         1458.0          1439.0\n",
              "\n",
              "[5 rows x 13 columns]"
            ]
          },
          "metadata": {
            "tags": []
          },
          "execution_count": 2
        }
      ]
    },
    {
      "cell_type": "code",
      "metadata": {
        "id": "7rdgfJk9VZ0j",
        "colab_type": "code",
        "colab": {
          "base_uri": "https://localhost:8080/",
          "height": 411
        },
        "outputId": "954dd46c-5b17-40d1-cc21-26c121baec91"
      },
      "source": [
        "airports_cols = [\n",
        "    'openflights_id',\n",
        "    'name',\n",
        "    'city',\n",
        "    'country',\n",
        "    'iata',\n",
        "    'icao',\n",
        "    'latitude',\n",
        "    'longitude',\n",
        "    'altitude',\n",
        "    'tz',\n",
        "    'dst',\n",
        "    'tz_olson',\n",
        "    'type',\n",
        "    'airport_dsource'\n",
        "]\n",
        "\n",
        "airports = pd.read_csv(path + \"airports.dat\", names=airports_cols)\n",
        "airports.head()"
      ],
      "execution_count": 3,
      "outputs": [
        {
          "output_type": "execute_result",
          "data": {
            "text/html": [
              "<div>\n",
              "<style scoped>\n",
              "    .dataframe tbody tr th:only-of-type {\n",
              "        vertical-align: middle;\n",
              "    }\n",
              "\n",
              "    .dataframe tbody tr th {\n",
              "        vertical-align: top;\n",
              "    }\n",
              "\n",
              "    .dataframe thead th {\n",
              "        text-align: right;\n",
              "    }\n",
              "</style>\n",
              "<table border=\"1\" class=\"dataframe\">\n",
              "  <thead>\n",
              "    <tr style=\"text-align: right;\">\n",
              "      <th></th>\n",
              "      <th>openflights_id</th>\n",
              "      <th>name</th>\n",
              "      <th>city</th>\n",
              "      <th>country</th>\n",
              "      <th>iata</th>\n",
              "      <th>icao</th>\n",
              "      <th>latitude</th>\n",
              "      <th>longitude</th>\n",
              "      <th>altitude</th>\n",
              "      <th>tz</th>\n",
              "      <th>dst</th>\n",
              "      <th>tz_olson</th>\n",
              "      <th>type</th>\n",
              "      <th>airport_dsource</th>\n",
              "    </tr>\n",
              "  </thead>\n",
              "  <tbody>\n",
              "    <tr>\n",
              "      <th>0</th>\n",
              "      <td>1</td>\n",
              "      <td>Goroka</td>\n",
              "      <td>Goroka</td>\n",
              "      <td>Papua New Guinea</td>\n",
              "      <td>GKA</td>\n",
              "      <td>AYGA</td>\n",
              "      <td>-6.081689</td>\n",
              "      <td>145.391881</td>\n",
              "      <td>5282</td>\n",
              "      <td>10.0</td>\n",
              "      <td>U</td>\n",
              "      <td>Pacific/Port_Moresby</td>\n",
              "      <td>NaN</td>\n",
              "      <td>NaN</td>\n",
              "    </tr>\n",
              "    <tr>\n",
              "      <th>1</th>\n",
              "      <td>2</td>\n",
              "      <td>Madang</td>\n",
              "      <td>Madang</td>\n",
              "      <td>Papua New Guinea</td>\n",
              "      <td>MAG</td>\n",
              "      <td>AYMD</td>\n",
              "      <td>-5.207083</td>\n",
              "      <td>145.788700</td>\n",
              "      <td>20</td>\n",
              "      <td>10.0</td>\n",
              "      <td>U</td>\n",
              "      <td>Pacific/Port_Moresby</td>\n",
              "      <td>NaN</td>\n",
              "      <td>NaN</td>\n",
              "    </tr>\n",
              "    <tr>\n",
              "      <th>2</th>\n",
              "      <td>3</td>\n",
              "      <td>Mount Hagen</td>\n",
              "      <td>Mount Hagen</td>\n",
              "      <td>Papua New Guinea</td>\n",
              "      <td>HGU</td>\n",
              "      <td>AYMH</td>\n",
              "      <td>-5.826789</td>\n",
              "      <td>144.295861</td>\n",
              "      <td>5388</td>\n",
              "      <td>10.0</td>\n",
              "      <td>U</td>\n",
              "      <td>Pacific/Port_Moresby</td>\n",
              "      <td>NaN</td>\n",
              "      <td>NaN</td>\n",
              "    </tr>\n",
              "    <tr>\n",
              "      <th>3</th>\n",
              "      <td>4</td>\n",
              "      <td>Nadzab</td>\n",
              "      <td>Nadzab</td>\n",
              "      <td>Papua New Guinea</td>\n",
              "      <td>LAE</td>\n",
              "      <td>AYNZ</td>\n",
              "      <td>-6.569828</td>\n",
              "      <td>146.726242</td>\n",
              "      <td>239</td>\n",
              "      <td>10.0</td>\n",
              "      <td>U</td>\n",
              "      <td>Pacific/Port_Moresby</td>\n",
              "      <td>NaN</td>\n",
              "      <td>NaN</td>\n",
              "    </tr>\n",
              "    <tr>\n",
              "      <th>4</th>\n",
              "      <td>5</td>\n",
              "      <td>Port Moresby Jacksons Intl</td>\n",
              "      <td>Port Moresby</td>\n",
              "      <td>Papua New Guinea</td>\n",
              "      <td>POM</td>\n",
              "      <td>AYPY</td>\n",
              "      <td>-9.443383</td>\n",
              "      <td>147.220050</td>\n",
              "      <td>146</td>\n",
              "      <td>10.0</td>\n",
              "      <td>U</td>\n",
              "      <td>Pacific/Port_Moresby</td>\n",
              "      <td>NaN</td>\n",
              "      <td>NaN</td>\n",
              "    </tr>\n",
              "  </tbody>\n",
              "</table>\n",
              "</div>"
            ],
            "text/plain": [
              "   openflights_id                        name  ... type airport_dsource\n",
              "0               1                      Goroka  ...  NaN             NaN\n",
              "1               2                      Madang  ...  NaN             NaN\n",
              "2               3                 Mount Hagen  ...  NaN             NaN\n",
              "3               4                      Nadzab  ...  NaN             NaN\n",
              "4               5  Port Moresby Jacksons Intl  ...  NaN             NaN\n",
              "\n",
              "[5 rows x 14 columns]"
            ]
          },
          "metadata": {
            "tags": []
          },
          "execution_count": 3
        }
      ]
    },
    {
      "cell_type": "markdown",
      "metadata": {
        "id": "z4VlqZBvVZ0m",
        "colab_type": "text"
      },
      "source": [
        "#### Question 1\n",
        "It looks like the departure and arrival were read in a floating-point numbers.  Write two functions, `extract_hour` and `extract_mins` that converts military time to hours and minutes, respectively. Hint: You may want to use modular arithmetic and integer division."
      ]
    },
    {
      "cell_type": "code",
      "metadata": {
        "id": "JPo9NOX1VZ0m",
        "colab_type": "code",
        "colab": {}
      },
      "source": [
        "def extract_hour(time):\n",
        "    \"\"\"\n",
        "    Extracts hour information from military time.\n",
        "    \n",
        "    Args: \n",
        "        time (float64): array of time given in military format.  \n",
        "          Takes on values in 0.0-2359.0 due to float64 representation.\n",
        "    \n",
        "    Returns:\n",
        "        array (float64): array of input dimension with hour information.  \n",
        "          Should only take on integer values in 0-23\n",
        "    \"\"\"\n",
        "    ..."
      ],
      "execution_count": 0,
      "outputs": []
    },
    {
      "cell_type": "code",
      "metadata": {
        "id": "pp3rcx93VZ0o",
        "colab_type": "code",
        "colab": {}
      },
      "source": [
        "def extract_mins(time):\n",
        "    \"\"\"\n",
        "    Extracts minute information from military time\n",
        "    \n",
        "    Args: \n",
        "        time (float64): array of time given in military format.  \n",
        "          Takes on values in 0.0-2359.0 due to float64 representation.\n",
        "    \n",
        "    Returns:\n",
        "        array (float64): array of input dimension with hour information.  \n",
        "          Should only take on integer values in 0-59\n",
        "    \"\"\"\n",
        "    ..."
      ],
      "execution_count": 0,
      "outputs": []
    },
    {
      "cell_type": "markdown",
      "metadata": {
        "id": "33LU-oS6VZ0q",
        "colab_type": "text"
      },
      "source": [
        "#### Question 2\n",
        "\n",
        "Using your two functions above, filter the `flights` data for flights that departed 15 or more minutes later than scheduled.  You need not worry about flights that were delayed to the next day for this question."
      ]
    },
    {
      "cell_type": "code",
      "metadata": {
        "id": "Vn0mGIKHVZ0r",
        "colab_type": "code",
        "colab": {}
      },
      "source": [
        "def convert_to_minofday(time):\n",
        "    \"\"\"\n",
        "    Converts military time to minute of day\n",
        "    \n",
        "    Args:\n",
        "        time (float64): array of time given in military format.  \n",
        "          Takes on values in 0.0-2359.0 due to float64 representation.\n",
        "    \n",
        "    Returns:\n",
        "        array (float64): array of input dimension with minute of day\n",
        "    \n",
        "    Example: 1:03pm is converted to 783.0\n",
        "    >>> convert_to_minofday(1303.0)\n",
        "    783.0\n",
        "    \"\"\"\n",
        "    ...\n",
        "\n",
        "def calc_time_diff(x, y):\n",
        "    \"\"\"\n",
        "    Calculates delay times y - x\n",
        "    \n",
        "    Args:\n",
        "        x (float64): array of scheduled time given in military format.  \n",
        "          Takes on values in 0.0-2359.0 due to float64 representation.\n",
        "        y (float64): array of same dimensions giving actual time\n",
        "    \n",
        "    Returns:\n",
        "        array (float64): array of input dimension with delay time\n",
        "    \"\"\"\n",
        "    \n",
        "    scheduled = ...\n",
        "    actual = ...\n",
        "    \n",
        "    ..."
      ],
      "execution_count": 0,
      "outputs": []
    },
    {
      "cell_type": "code",
      "metadata": {
        "id": "uNXivNVuVZ0s",
        "colab_type": "code",
        "colab": {}
      },
      "source": [
        "delay = ...\n",
        "delayed15 = ..."
      ],
      "execution_count": 0,
      "outputs": []
    },
    {
      "cell_type": "markdown",
      "metadata": {
        "id": "kgLCnNanVZ0u",
        "colab_type": "text"
      },
      "source": [
        "#### Question 3\n",
        "\n",
        "Using your answer from question 2, find the full name of every destination city with a flight from SFO or OAK that was delayed by 15 or more minutes.  The airport codes used in `flights` are IATA codes.  Sort the cities alphabetically."
      ]
    },
    {
      "cell_type": "code",
      "metadata": {
        "id": "-UyJg-VXVZ0v",
        "colab_type": "code",
        "colab": {}
      },
      "source": [
        "delayed_airports = ...\n",
        "delayed_destinations = ..."
      ],
      "execution_count": 0,
      "outputs": []
    },
    {
      "cell_type": "markdown",
      "metadata": {
        "id": "jBV_dBeeVZ0z",
        "colab_type": "text"
      },
      "source": [
        "#### Question 4\n",
        "\n",
        "Find the tail number of the top ten planes, measured by number of destinations the plane flew to in January.  You may find `drop_duplicates` and `sort_values` helpful."
      ]
    },
    {
      "cell_type": "code",
      "metadata": {
        "id": "lHbPUFr9VZ0z",
        "colab_type": "code",
        "colab": {}
      },
      "source": [
        "top10 = ..."
      ],
      "execution_count": 0,
      "outputs": []
    },
    {
      "cell_type": "markdown",
      "metadata": {
        "id": "SmsjRT-4VZ01",
        "colab_type": "text"
      },
      "source": [
        "#### Challenge\n",
        "Add a new column to `airports` called `sfo_arr_delay_avg` that contains information about the average delay time in January from SFO."
      ]
    },
    {
      "cell_type": "code",
      "metadata": {
        "id": "puY08uvWVZ01",
        "colab_type": "code",
        "colab": {}
      },
      "source": [
        "airports = ..."
      ],
      "execution_count": 0,
      "outputs": []
    },
    {
      "cell_type": "markdown",
      "metadata": {
        "id": "6ZGCXNY1VZ04",
        "colab_type": "text"
      },
      "source": [
        "Let's take a look at our non-null results.  Do any of the delay values catch your eye?"
      ]
    },
    {
      "cell_type": "markdown",
      "metadata": {
        "id": "CWQH18JxVZ04",
        "colab_type": "text"
      },
      "source": [
        "..."
      ]
    }
  ]
}