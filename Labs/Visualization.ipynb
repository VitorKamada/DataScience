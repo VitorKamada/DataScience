{
  "nbformat": 4,
  "nbformat_minor": 0,
  "metadata": {
    "anaconda-cloud": {},
    "kernelspec": {
      "display_name": "Python [conda env:ds100]",
      "language": "python",
      "name": "conda-env-ds100-py"
    },
    "language_info": {
      "codemirror_mode": {
        "name": "ipython",
        "version": 3
      },
      "file_extension": ".py",
      "mimetype": "text/x-python",
      "name": "python",
      "nbconvert_exporter": "python",
      "pygments_lexer": "ipython3",
      "version": "3.5.2"
    },
    "timetravel": {
      "allowedContentTypes": [
        "text/plain"
      ],
      "enabled": false,
      "version": "1.0"
    },
    "colab": {
      "name": "Visualization.ipynb",
      "provenance": []
    }
  },
  "cells": [
    {
      "cell_type": "markdown",
      "metadata": {
        "id": "ImRxNymycP5J",
        "colab_type": "text"
      },
      "source": [
        "Send this ipynb file with your code (solution) to econometrics.methods@gmail.com\n",
        "\n",
        "In the subject of the e-mail, copy and paste only the title of this file without the extension \".ipynb\"\n",
        "\n",
        "Write the name of the members of your group in the e-mail, and not here.\n",
        "\n",
        "Only one student will send me the solution. This student is responsible to copy other members of the group in the e-mail. "
      ]
    },
    {
      "cell_type": "code",
      "metadata": {
        "id": "0Gp5ZPtacP5M",
        "colab_type": "code",
        "colab": {}
      },
      "source": [
        "import pandas as pd\n",
        "import numpy as np\n",
        "import seaborn as sns\n",
        "%matplotlib inline\n",
        "import matplotlib.pyplot as plt"
      ],
      "execution_count": 0,
      "outputs": []
    },
    {
      "cell_type": "markdown",
      "metadata": {
        "id": "rRNgM04YcP5S",
        "colab_type": "text"
      },
      "source": [
        "# `matplotlib`\n",
        "\n",
        "[`matplotlib`][mpl] is the most widely used plotting library available for Python.\n",
        "It comes with a good amount of out-of-the-box functionality and is highly\n",
        "customizable. Most other plotting libraries in Python provide simpler ways to generate\n",
        "complicated `matplotlib` plots, including `seaborn`, so it's worth learning a bit about\n",
        "`matplotlib` now.\n",
        "\n",
        "Notice how all of our notebooks have lines that look like:\n",
        "\n",
        "\t%matplotlib inline\n",
        "\timport matplotlib.pyplot as plt\n",
        "\t\n",
        "The `%matplotlib inline` magic command tells `matplotlib` to render the plots\n",
        "directly onto the notebook (by default it will open a new window with the plot).\n",
        "\n",
        "Then, the `import` line lets us call `matplotlib` functions using `plt.<func>`\n",
        "\n",
        "Here's a graph of `cos(x)` from 0 to 2 * pi (you've made this in homework 1\n",
        "already).\n",
        "\n",
        "[mpl]: http://matplotlib.org/"
      ]
    },
    {
      "cell_type": "code",
      "metadata": {
        "id": "FcG5RxPScP5T",
        "colab_type": "code",
        "colab": {
          "base_uri": "https://localhost:8080/",
          "height": 282
        },
        "outputId": "bc3dcdab-099f-4e83-99c9-1d07c9ee0fe7"
      },
      "source": [
        "# Set up (x, y) pairs from 0 to 2*pi\n",
        "xs = np.linspace(0, 2 * np.pi, 300)\n",
        "ys = np.cos(xs)\n",
        "\n",
        "# plt.plot takes in x-values and y-values and plots them as a line\n",
        "plt.plot(xs, ys)"
      ],
      "execution_count": 2,
      "outputs": [
        {
          "output_type": "execute_result",
          "data": {
            "text/plain": [
              "[<matplotlib.lines.Line2D at 0x7f68f45c31d0>]"
            ]
          },
          "metadata": {
            "tags": []
          },
          "execution_count": 2
        },
        {
          "output_type": "display_data",
          "data": {
            "image/png": "[encoded data removed]",
            "text/plain": [
              "<Figure size 432x288 with 1 Axes>"
            ]
          },
          "metadata": {
            "tags": []
          }
        }
      ]
    },
    {
      "cell_type": "markdown",
      "metadata": {
        "id": "u1gtGp_icP5W",
        "colab_type": "text"
      },
      "source": [
        "`matplotlib` also conveniently has the ability to plot multiple things on the\n",
        "same plot. Just call `plt.plot` multiple times in the same cell:"
      ]
    },
    {
      "cell_type": "code",
      "metadata": {
        "scrolled": true,
        "id": "gr-fqmHTcP5X",
        "colab_type": "code",
        "colab": {
          "base_uri": "https://localhost:8080/",
          "height": 282
        },
        "outputId": "7848abf9-c68e-4987-f82b-2c2957f8bc4b"
      },
      "source": [
        "plt.plot(xs, ys)\n",
        "plt.plot(xs, np.sin(xs))"
      ],
      "execution_count": 3,
      "outputs": [
        {
          "output_type": "execute_result",
          "data": {
            "text/plain": [
              "[<matplotlib.lines.Line2D at 0x7f68f4142588>]"
            ]
          },
          "metadata": {
            "tags": []
          },
          "execution_count": 3
        },
        {
          "output_type": "display_data",
          "data": {
            "image/png": "[encoded data removed]",
            "text/plain": [
              "<Figure size 432x288 with 1 Axes>"
            ]
          },
          "metadata": {
            "tags": []
          }
        }
      ]
    },
    {
      "cell_type": "markdown",
      "metadata": {
        "id": "tpt5kgpScP5a",
        "colab_type": "text"
      },
      "source": [
        "**Question 1:**\n",
        "That plot looks pretty nice but isn't publication-ready. Luckily, `matplotlib`\n",
        "has a wide array of plot customizations.\n",
        "\n",
        "Skim through the first part of the tutorial at\n",
        "https://www.labri.fr/perso/nrougier/teaching/matplotlib\n",
        "to create the plot below. There is a lot of extra information there which we suggest\n",
        "you read on your own time. For now, just look for what you need to make the plot.\n",
        "\n",
        "Specifically, you'll have to change the x and y limits, add a title, and add\n",
        "a legend.\n",
        "\n",
        "![](q1.png)"
      ]
    },
    {
      "cell_type": "code",
      "metadata": {
        "for_assignment_type": "student",
        "id": "WItsLN8KcP5b",
        "colab_type": "code",
        "colab": {
          "base_uri": "https://localhost:8080/",
          "height": 282
        },
        "outputId": "317e845e-a886-4c5c-dce2-85c201d64726"
      },
      "source": [
        "# Here's the starting code from last time. Edit / Add code to create the plot above.\n",
        "plt.plot(xs, ys)\n",
        "plt.plot(xs, np.sin(xs))"
      ],
      "execution_count": 4,
      "outputs": [
        {
          "output_type": "execute_result",
          "data": {
            "text/plain": [
              "[<matplotlib.lines.Line2D at 0x7f68f465db38>]"
            ]
          },
          "metadata": {
            "tags": []
          },
          "execution_count": 4
        },
        {
          "output_type": "display_data",
          "data": {
            "image/png": "[encoded data removed]",
            "text/plain": [
              "<Figure size 432x288 with 1 Axes>"
            ]
          },
          "metadata": {
            "tags": []
          }
        }
      ]
    },
    {
      "cell_type": "markdown",
      "metadata": {
        "id": "ZMca1VwAcP5h",
        "colab_type": "text"
      },
      "source": [
        "## Dataset: Bikeshare trips\n",
        "\n",
        "Today, we'll be performing some basic EDA (exploratory data analysis) on\n",
        "bikeshare data in Washington D.C. \n",
        "\n",
        "The variables in this data frame are defined as:\n",
        "\n",
        "- instant: record index\n",
        "- dteday : date\n",
        "- season : season (1:spring, 2:summer, 3:fall, 4:winter)\n",
        "- yr : year (0: 2011, 1:2012)\n",
        "- mnth : month ( 1 to 12)\n",
        "- hr : hour (0 to 23)\n",
        "- holiday : whether day is holiday or not\n",
        "- weekday : day of the week\n",
        "- workingday : if day is neither weekend nor holiday\n",
        "- weathersit :\n",
        "    - 1: Clear or partly cloudy\n",
        "    - 2: Mist + clouds\n",
        "    - 3: Light Snow or Rain\n",
        "    - 4: Heavy Rain or Snow\n",
        "- temp : Normalized temperature in Celsius (divided by 41)\n",
        "- atemp: Normalized feeling temperature in Celsius (divided by 50)\n",
        "- hum: Normalized percent humidity (divided by 100)\n",
        "- windspeed: Normalized wind speed (divided by 67)\n",
        "- casual: count of casual users\n",
        "- registered: count of registered users\n",
        "- cnt: count of total rental bikes including casual and registered"
      ]
    },
    {
      "cell_type": "code",
      "metadata": {
        "scrolled": true,
        "id": "jxJ6KzyxcP5i",
        "colab_type": "code",
        "colab": {
          "base_uri": "https://localhost:8080/",
          "height": 394
        },
        "outputId": "6b71ad71-a593-4dd9-88a6-33e2388d0091"
      },
      "source": [
        "path ='https://github.com/VitorKamada/DataScience/raw/master/Labs/Data/'\n",
        "bike_trips = pd.read_csv(path + 'bikeshare.csv')\n",
        "\n",
        "# Here we'll do some pandas datetime parsing so that the dteday column\n",
        "# contains datetime objects.\n",
        "bike_trips['dteday'] += ':' + bike_trips['hr'].astype(str)\n",
        "bike_trips['dteday'] = pd.to_datetime(bike_trips['dteday'], format=\"%Y-%m-%d:%H\")\n",
        "bike_trips = bike_trips.drop(['yr', 'mnth', 'hr'], axis=1)\n",
        "\n",
        "bike_trips.head()"
      ],
      "execution_count": 5,
      "outputs": [
        {
          "output_type": "execute_result",
          "data": {
            "text/html": [
              "<div>\n",
              "<style scoped>\n",
              "    .dataframe tbody tr th:only-of-type {\n",
              "        vertical-align: middle;\n",
              "    }\n",
              "\n",
              "    .dataframe tbody tr th {\n",
              "        vertical-align: top;\n",
              "    }\n",
              "\n",
              "    .dataframe thead th {\n",
              "        text-align: right;\n",
              "    }\n",
              "</style>\n",
              "<table border=\"1\" class=\"dataframe\">\n",
              "  <thead>\n",
              "    <tr style=\"text-align: right;\">\n",
              "      <th></th>\n",
              "      <th>instant</th>\n",
              "      <th>dteday</th>\n",
              "      <th>season</th>\n",
              "      <th>holiday</th>\n",
              "      <th>weekday</th>\n",
              "      <th>workingday</th>\n",
              "      <th>weathersit</th>\n",
              "      <th>temp</th>\n",
              "      <th>atemp</th>\n",
              "      <th>hum</th>\n",
              "      <th>windspeed</th>\n",
              "      <th>casual</th>\n",
              "      <th>registered</th>\n",
              "      <th>cnt</th>\n",
              "    </tr>\n",
              "  </thead>\n",
              "  <tbody>\n",
              "    <tr>\n",
              "      <th>0</th>\n",
              "      <td>1</td>\n",
              "      <td>2011-01-01 00:00:00</td>\n",
              "      <td>1</td>\n",
              "      <td>0</td>\n",
              "      <td>6</td>\n",
              "      <td>0</td>\n",
              "      <td>1</td>\n",
              "      <td>0.24</td>\n",
              "      <td>0.2879</td>\n",
              "      <td>0.81</td>\n",
              "      <td>0.0</td>\n",
              "      <td>3</td>\n",
              "      <td>13</td>\n",
              "      <td>16</td>\n",
              "    </tr>\n",
              "    <tr>\n",
              "      <th>1</th>\n",
              "      <td>2</td>\n",
              "      <td>2011-01-01 01:00:00</td>\n",
              "      <td>1</td>\n",
              "      <td>0</td>\n",
              "      <td>6</td>\n",
              "      <td>0</td>\n",
              "      <td>1</td>\n",
              "      <td>0.22</td>\n",
              "      <td>0.2727</td>\n",
              "      <td>0.80</td>\n",
              "      <td>0.0</td>\n",
              "      <td>8</td>\n",
              "      <td>32</td>\n",
              "      <td>40</td>\n",
              "    </tr>\n",
              "    <tr>\n",
              "      <th>2</th>\n",
              "      <td>3</td>\n",
              "      <td>2011-01-01 02:00:00</td>\n",
              "      <td>1</td>\n",
              "      <td>0</td>\n",
              "      <td>6</td>\n",
              "      <td>0</td>\n",
              "      <td>1</td>\n",
              "      <td>0.22</td>\n",
              "      <td>0.2727</td>\n",
              "      <td>0.80</td>\n",
              "      <td>0.0</td>\n",
              "      <td>5</td>\n",
              "      <td>27</td>\n",
              "      <td>32</td>\n",
              "    </tr>\n",
              "    <tr>\n",
              "      <th>3</th>\n",
              "      <td>4</td>\n",
              "      <td>2011-01-01 03:00:00</td>\n",
              "      <td>1</td>\n",
              "      <td>0</td>\n",
              "      <td>6</td>\n",
              "      <td>0</td>\n",
              "      <td>1</td>\n",
              "      <td>0.24</td>\n",
              "      <td>0.2879</td>\n",
              "      <td>0.75</td>\n",
              "      <td>0.0</td>\n",
              "      <td>3</td>\n",
              "      <td>10</td>\n",
              "      <td>13</td>\n",
              "    </tr>\n",
              "    <tr>\n",
              "      <th>4</th>\n",
              "      <td>5</td>\n",
              "      <td>2011-01-01 04:00:00</td>\n",
              "      <td>1</td>\n",
              "      <td>0</td>\n",
              "      <td>6</td>\n",
              "      <td>0</td>\n",
              "      <td>1</td>\n",
              "      <td>0.24</td>\n",
              "      <td>0.2879</td>\n",
              "      <td>0.75</td>\n",
              "      <td>0.0</td>\n",
              "      <td>0</td>\n",
              "      <td>1</td>\n",
              "      <td>1</td>\n",
              "    </tr>\n",
              "  </tbody>\n",
              "</table>\n",
              "</div>"
            ],
            "text/plain": [
              "   instant              dteday  season  ...  casual  registered  cnt\n",
              "0        1 2011-01-01 00:00:00       1  ...       3          13   16\n",
              "1        2 2011-01-01 01:00:00       1  ...       8          32   40\n",
              "2        3 2011-01-01 02:00:00       1  ...       5          27   32\n",
              "3        4 2011-01-01 03:00:00       1  ...       3          10   13\n",
              "4        5 2011-01-01 04:00:00       1  ...       0           1    1\n",
              "\n",
              "[5 rows x 14 columns]"
            ]
          },
          "metadata": {
            "tags": []
          },
          "execution_count": 5
        }
      ]
    },
    {
      "cell_type": "markdown",
      "metadata": {
        "id": "RGN43DfAcP5r",
        "colab_type": "text"
      },
      "source": [
        "## Using `pandas` to plot\n",
        "\n",
        "`pandas` provides useful methods on dataframes. For simple plots, we prefer to\n",
        "just use those methods instead of the `matplotlib` methods since we're often\n",
        "working with dataframes anyway. The syntax is:\n",
        "\n",
        "    dataframe.plot.<plotfunc>\n",
        "\n",
        "Where the `plotfunc` is one of the functions listed here: http://pandas.pydata.org/pandas-docs/version/0.18.1/visualization.html#other-plots"
      ]
    },
    {
      "cell_type": "code",
      "metadata": {
        "id": "rRufUtcmcP5s",
        "colab_type": "code",
        "colab": {
          "base_uri": "https://localhost:8080/",
          "height": 294
        },
        "outputId": "80421abd-0b2b-45e0-fe5f-fd31792fb6a3"
      },
      "source": [
        "# This plot shows the temperature at each data point\n",
        "\n",
        "bike_trips.plot.line(x='dteday', y='temp')\n",
        "\n",
        "# Stop here! Discuss why this plot is shaped like this with your partner."
      ],
      "execution_count": 6,
      "outputs": [
        {
          "output_type": "execute_result",
          "data": {
            "text/plain": [
              "<matplotlib.axes._subplots.AxesSubplot at 0x7f68f409d470>"
            ]
          },
          "metadata": {
            "tags": []
          },
          "execution_count": 6
        },
        {
          "output_type": "display_data",
          "data": {
            "image/png": "[encoded data removed]",
            "text/plain": [
              "<Figure size 432x288 with 1 Axes>"
            ]
          },
          "metadata": {
            "tags": []
          }
        }
      ]
    },
    {
      "cell_type": "markdown",
      "metadata": {
        "id": "7RpNGABLcP5u",
        "colab_type": "text"
      },
      "source": [
        "## `seaborn`\n",
        "\n",
        "Now, we'll learn how to use the [`seaborn`][sns] Python library. `seaborn`\n",
        "is built on top of `matplotlib` and provides many helpful functions\n",
        "for statistical plotting that `matplotlib` and `pandas` don't have.\n",
        "\n",
        "Generally speaking, we'll use `seaborn` for more complex statistical plots,\n",
        "`pandas` for simple plots (eg. line / scatter plots), and\n",
        "`matplotlib` for plot customization.\n",
        "\n",
        "Nearly all `seaborn` functions are designed to operate on `pandas`\n",
        "dataframes. Most of these functions assume that the dataframe is in\n",
        "a specific format called *long-form*, where each column of the dataframe\n",
        "is a particular feature and each row of the dataframe a single datapoint.\n",
        "\n",
        "For example, this dataframe is long-form:\n",
        "\n",
        "```\n",
        "   country year avgtemp\n",
        " 1  Sweden 1994       6\n",
        " 2 Denmark 1994       6\n",
        " 3  Norway 1994       3\n",
        " 4  Sweden 1995       5\n",
        " 5 Denmark 1995       8\n",
        " 6  Norway 1995      11\n",
        " 7  Sweden 1996       7\n",
        " 8 Denmark 1996       8\n",
        " 9  Norway 1996       7\n",
        "```\n",
        "\n",
        "But this dataframe of the same data is not:\n",
        "\n",
        "```\n",
        "   country avgtemp.1994 avgtemp.1995 avgtemp.1996\n",
        " 1  Sweden            6            5            7\n",
        " 2 Denmark            6            8            8\n",
        " 3  Norway            3           11            7\n",
        "```\n",
        "\n",
        "Note that the `bike_trips` dataframe is long-form.\n",
        "\n",
        "For more about long-form data, see https://stanford.edu/~ejdemyr/r-tutorials/wide-and-long.\n",
        "For now, just remember that we typically prefer long-form data and it makes plotting using\n",
        "`seaborn` easy as well.\n",
        "\n",
        "[sns]: http://seaborn.pydata.org/index.html"
      ]
    },
    {
      "cell_type": "markdown",
      "metadata": {
        "id": "PIfcLD9IcP5v",
        "colab_type": "text"
      },
      "source": [
        "**Question 2:**\n",
        "Use seaborn's `barplot` function to make a bar chart showing the average\n",
        "number of registered riders on each day of the week over the \n",
        "entire `bike_trips` dataset.\n",
        "\n",
        "Here's a link to the seaborn API: http://seaborn.pydata.org/api.html\n",
        "\n",
        "See if you can figure it out by reading the docs and talking with your partner.\n",
        "\n",
        "Once you have the plot, discuss it with your partner. What trends do you\n",
        "notice? What do you suppose causes these trends?\n",
        "\n",
        "Notice that `barplot` draws error bars for each category. It uses bootstrapping\n",
        "to make those."
      ]
    },
    {
      "cell_type": "code",
      "metadata": {
        "for_assignment_type": "student",
        "scrolled": false,
        "id": "YKAZ56ZTcP5v",
        "colab_type": "code",
        "colab": {
          "base_uri": "https://localhost:8080/",
          "height": 34
        },
        "outputId": "68133e83-cc37-48cd-fb50-8661f342719f"
      },
      "source": [
        "..."
      ],
      "execution_count": 7,
      "outputs": [
        {
          "output_type": "execute_result",
          "data": {
            "text/plain": [
              "Ellipsis"
            ]
          },
          "metadata": {
            "tags": []
          },
          "execution_count": 7
        }
      ]
    },
    {
      "cell_type": "markdown",
      "metadata": {
        "id": "xiJO28GecP5x",
        "colab_type": "text"
      },
      "source": [
        "**Question 3:** Now for a fancier plot that `seaborn` makes really easy to produce.\n",
        "\n",
        "Use the `distplot` function to plot a histogram of all the total rider counts in the\n",
        "`bike_trips` dataset."
      ]
    },
    {
      "cell_type": "code",
      "metadata": {
        "for_assignment_type": "student",
        "scrolled": false,
        "id": "Yyfe9HJNcP5y",
        "colab_type": "code",
        "colab": {
          "base_uri": "https://localhost:8080/",
          "height": 34
        },
        "outputId": "d464beec-926a-4efa-d8c0-2832ae7e606c"
      },
      "source": [
        "..."
      ],
      "execution_count": 8,
      "outputs": [
        {
          "output_type": "execute_result",
          "data": {
            "text/plain": [
              "Ellipsis"
            ]
          },
          "metadata": {
            "tags": []
          },
          "execution_count": 8
        }
      ]
    },
    {
      "cell_type": "markdown",
      "metadata": {
        "id": "HAACi7zbcP5z",
        "colab_type": "text"
      },
      "source": [
        "Notice that `seaborn` will fit a curve to the histogram of the data. Fancy!"
      ]
    },
    {
      "cell_type": "markdown",
      "metadata": {
        "id": "YdZ2OUlKcP50",
        "colab_type": "text"
      },
      "source": [
        "**Question 4:**\n",
        "Use `seaborn` to make side-by-side boxplots of the number of casual riders (just\n",
        "checked out a bike for that day) and registered riders (have a bikeshare membership).\n",
        "\n",
        "The `boxplot` function will plot all the columns of the dataframe you pass in.\n",
        "\n",
        "Once you make the plot, you'll notice that there are many outliers that make\n",
        "the plot hard to see. To mitigate this, change the y-scale to be logarithmic.\n",
        "\n",
        "That's a plot customization so you'll use `matplotlib`. The `boxplot` function returns\n",
        "a `matplotlib` Axes object which represents a single plot and\n",
        "has a `set_yscale` function.\n",
        "\n",
        "The result should look like:\n",
        "\n",
        "![](q5.png)"
      ]
    },
    {
      "cell_type": "code",
      "metadata": {
        "for_assignment_type": "student",
        "scrolled": true,
        "id": "daCi8tSTcP51",
        "colab_type": "code",
        "colab": {
          "base_uri": "https://localhost:8080/",
          "height": 34
        },
        "outputId": "f739101a-34d0-4bb5-b9cc-c51107fb3a63"
      },
      "source": [
        "..."
      ],
      "execution_count": 9,
      "outputs": [
        {
          "output_type": "execute_result",
          "data": {
            "text/plain": [
              "Ellipsis"
            ]
          },
          "metadata": {
            "tags": []
          },
          "execution_count": 9
        }
      ]
    },
    {
      "cell_type": "markdown",
      "metadata": {
        "id": "_nAYTBNecP53",
        "colab_type": "text"
      },
      "source": [
        "**Question 5:** Let's take a closer look at the number of registered vs. casual riders.\n",
        "\n",
        "Use the `lmplot` function to make a scatterplot. Put the number of casual\n",
        "riders on the x-axis and the number of registered riders on the y-axis.\n",
        "Each point should correspond to a single row in your `bike_trips` dataframe."
      ]
    },
    {
      "cell_type": "code",
      "metadata": {
        "for_assignment_type": "student",
        "id": "gRZgeYqXcP54",
        "colab_type": "code",
        "colab": {
          "base_uri": "https://localhost:8080/",
          "height": 34
        },
        "outputId": "40e1e7d4-05cf-48e3-d756-a8dd5d77e8a3"
      },
      "source": [
        "..."
      ],
      "execution_count": 10,
      "outputs": [
        {
          "output_type": "execute_result",
          "data": {
            "text/plain": [
              "Ellipsis"
            ]
          },
          "metadata": {
            "tags": []
          },
          "execution_count": 10
        }
      ]
    },
    {
      "cell_type": "markdown",
      "metadata": {
        "id": "y9ekPrX_cP55",
        "colab_type": "text"
      },
      "source": [
        " Notice that `seaborn` automatically fits a line of best\n",
        "fit to the plot. \n",
        "\n",
        "You should note that `lm_plot` allows you to pass in `fit_line=False` to\n",
        "avoid plotting lines of best fit when you feel they are unnecessary \n",
        "or misleading."
      ]
    },
    {
      "cell_type": "markdown",
      "metadata": {
        "id": "H5V_2_rNcP56",
        "colab_type": "text"
      },
      "source": [
        "**Question 6:** There seem to be two main groups in the scatterplot. Let's\n",
        "see if we can separate them out.\n",
        "\n",
        "Use `lmplot` to make the scatterplot again. This time, use the `hue` parameter\n",
        "to color points for weekday trips differently from weekend trips. You should\n",
        "get something that looks like:\n",
        "\n",
        "![](q9.png)"
      ]
    },
    {
      "cell_type": "code",
      "metadata": {
        "for_assignment_type": "student",
        "id": "9EErj1yQcP56",
        "colab_type": "code",
        "colab": {
          "base_uri": "https://localhost:8080/",
          "height": 34
        },
        "outputId": "5f345588-2660-41b4-9a82-9473cfa1a323"
      },
      "source": [
        "# In your plot, you'll notice that your points are larger than ours. That's\n",
        "# fine. If you'd like them to be smaller, you can add scatter_kws={'s': 6}\n",
        "# to your lmplot call. That tells the underlying matplotlib scatter function\n",
        "# to change the size of the points.\n",
        "...\n",
        "\n",
        "# Note that the legend for workingday isn't super helpful. 0 in this case\n",
        "# means \"not a working day\" and 1 means \"working day\". Try fixing the legend\n",
        "# to be more descriptive."
      ],
      "execution_count": 11,
      "outputs": [
        {
          "output_type": "execute_result",
          "data": {
            "text/plain": [
              "Ellipsis"
            ]
          },
          "metadata": {
            "tags": []
          },
          "execution_count": 11
        }
      ]
    },
    {
      "cell_type": "markdown",
      "metadata": {
        "id": "qE54A1bXcP5_",
        "colab_type": "text"
      },
      "source": [
        "## Want to learn more?\n",
        "\n",
        "We recommend checking out the `seaborn` tutorials on your own time. http://seaborn.pydata.org/tutorial.html\n",
        "\n",
        "The `matplotlib` tutorial we linked in Question 1 is also a great refresher on common `matplotlib` functions: https://www.labri.fr/perso/nrougier/teaching/matplotlib/\n",
        "\n",
        "Here's a great blog post about the differences between Python's visualization libraries:\n",
        "https://dansaber.wordpress.com/2016/10/02/a-dramatic-tour-through-pythons-data-visualization-landscape-including-ggplot-and-altair/\n",
        "\n"
      ]
    }
  ]
}