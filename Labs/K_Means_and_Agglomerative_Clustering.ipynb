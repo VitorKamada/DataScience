{
  "nbformat": 4,
  "nbformat_minor": 0,
  "metadata": {
    "celltoolbar": "Create Assignment",
    "kernelspec": {
      "display_name": "Python 3",
      "language": "python",
      "name": "python3"
    },
    "language_info": {
      "codemirror_mode": {
        "name": "ipython",
        "version": 3
      },
      "file_extension": ".py",
      "mimetype": "text/x-python",
      "name": "python",
      "nbconvert_exporter": "python",
      "pygments_lexer": "ipython3",
      "version": "3.6.4"
    },
    "colab": {
      "name": "K-Means_and_Agglomerative_Clustering.ipynb",
      "provenance": []
    }
  },
  "cells": [
    {
      "cell_type": "markdown",
      "metadata": {
        "nbgrader": {
          "grade": false,
          "grade_id": "intro",
          "locked": true,
          "schema_version": 2,
          "solution": false
        },
        "id": "O_FW6Yr5ri5G",
        "colab_type": "text"
      },
      "source": [
        "Send this ipynb file with your code (solution) to econometrics.methods@gmail.com\n",
        "\n",
        "In the subject of the e-mail, copy and paste only the title of this file without the extension \".ipynb\"\n",
        "\n",
        "Write the name of the members of your group in the e-mail, and not here.\n",
        "\n",
        "Only one student will send me the solution. This student is responsible to copy other members of the group in the e-mail. "
      ]
    },
    {
      "cell_type": "code",
      "metadata": {
        "nbgrader": {
          "grade": false,
          "grade_id": "imports",
          "locked": true,
          "schema_version": 2,
          "solution": false
        },
        "id": "lFph0vISri5I",
        "colab_type": "code",
        "colab": {}
      },
      "source": [
        "import numpy as np\n",
        "import pandas as pd\n",
        "import matplotlib.pyplot as plt\n",
        "import matplotlib.cm as cm\n",
        "import seaborn as sns\n",
        "from sklearn import cluster\n",
        "from sklearn.metrics import silhouette_samples, silhouette_score\n",
        "\n",
        "%matplotlib inline\n",
        "sns.set()"
      ],
      "execution_count": 0,
      "outputs": []
    },
    {
      "cell_type": "markdown",
      "metadata": {
        "id": "hSMOjgL4ri5K",
        "colab_type": "text"
      },
      "source": [
        "## Vanilla Example\n",
        "\n",
        "Let us begin with a toy dataset with three groups that are completely separated with the variables given. There are the same number of points per group and the same variance within each group."
      ]
    },
    {
      "cell_type": "code",
      "metadata": {
        "id": "QXzO1OI9ri5L",
        "colab_type": "code",
        "colab": {
          "base_uri": "https://localhost:8080/",
          "height": 270
        },
        "outputId": "46f0952b-4fd5-465c-fd42-d07fbf044b8f"
      },
      "source": [
        "np.random.seed(1337)\n",
        "\n",
        "c1 = np.random.randn(25, 2)\n",
        "c2 = np.array([2, 8]) + np.random.randn(25, 2)\n",
        "c3 = np.array([8, 4]) + np.random.randn(25, 2)\n",
        "\n",
        "x1 = np.vstack((c1, c2, c3))\n",
        "\n",
        "sns.scatterplot(x=x1[:, 0], y=x1[:, 1]);"
      ],
      "execution_count": 2,
      "outputs": [
        {
          "output_type": "display_data",
          "data": {
            "image/png": "[encoded data removed]",
            "text/plain": [
              "<Figure size 432x288 with 1 Axes>"
            ]
          },
          "metadata": {
            "tags": []
          }
        }
      ]
    },
    {
      "cell_type": "markdown",
      "metadata": {
        "id": "U_jzzfFHri5N",
        "colab_type": "text"
      },
      "source": [
        "Running the K-Means algorithm, we can see that it is able to accurately pick out the three initial clusters. "
      ]
    },
    {
      "cell_type": "code",
      "metadata": {
        "scrolled": true,
        "id": "91fVjezgri5P",
        "colab_type": "code",
        "colab": {
          "base_uri": "https://localhost:8080/",
          "height": 270
        },
        "outputId": "83feb677-ccee-41d2-d674-41526922e23a"
      },
      "source": [
        "kmeans = cluster.KMeans(n_clusters=3, random_state=42).fit(x1)\n",
        "sns.scatterplot(x=x1[:, 0], y=x1[:, 1], hue=kmeans.labels_)\n",
        "sns.scatterplot(kmeans.cluster_centers_[:, 0], kmeans.cluster_centers_[:, 1], color='blue', marker='x', s=300, linewidth=5);"
      ],
      "execution_count": 3,
      "outputs": [
        {
          "output_type": "display_data",
          "data": {
            "image/png": "[encoded data removed]",
            "text/plain": [
              "<Figure size 432x288 with 1 Axes>"
            ]
          },
          "metadata": {
            "tags": []
          }
        }
      ]
    },
    {
      "cell_type": "markdown",
      "metadata": {
        "deletable": false,
        "editable": false,
        "id": "EyuqCazCri5S",
        "colab_type": "text"
      },
      "source": [
        "## Question 1\n",
        "\n",
        "In the previous example, the K-Means algorithm was able to accurately find the three initial clusters. However, changing the starting centers for K-Means can change the final clusters that K-Means gives us. Change the initial centers to the points `[0, 1]`, `[1, 1]`, and `[2, 2]`; and fit a [`cluster.KMeans`](https://scikit-learn.org/stable/modules/generated/sklearn.cluster.KMeans.html) object called `kmeans_q1` on the toy dataset from the previous example. Keep the `random_state` parameter as 42 and the `n_clusters` parameter as 3.\n",
        "\n",
        "**Hint:** You will need to change the `init` and `n_init` parameters in `cluster.KMeans`.\n",
        "\n",
        "<!--\n",
        "BEGIN QUESTION\n",
        "name: q1\n",
        "-->"
      ]
    },
    {
      "cell_type": "code",
      "metadata": {
        "id": "cbnQtNBlri5T",
        "colab_type": "code",
        "colab": {}
      },
      "source": [
        "kmeans_q1 = ..."
      ],
      "execution_count": 0,
      "outputs": []
    },
    {
      "cell_type": "markdown",
      "metadata": {
        "id": "KY0wdXNGri5X",
        "colab_type": "text"
      },
      "source": [
        "Running the K-Means algorithm with these centers gives us a different result from before, and this particular run of K-Means was unable to accurately find the three initial clusters."
      ]
    },
    {
      "cell_type": "code",
      "metadata": {
        "scrolled": true,
        "id": "yOgbx3p-ri5Y",
        "colab_type": "code",
        "colab": {
          "base_uri": "https://localhost:8080/",
          "height": 205
        },
        "outputId": "beb3818f-0e56-4467-d850-fa81f39113b6"
      },
      "source": [
        "sns.scatterplot(x=x1[:, 0], y=x1[:, 1], hue=kmeans_q1.labels_)\n",
        "sns.scatterplot(kmeans_q1.cluster_centers_[:, 0], kmeans_q1.cluster_centers_[:, 1], color='blue', marker='x', s=300, linewidth=5);"
      ],
      "execution_count": 5,
      "outputs": [
        {
          "output_type": "error",
          "ename": "AttributeError",
          "evalue": "ignored",
          "traceback": [
            "\u001b[0;31m---------------------------------------------------------------------------\u001b[0m",
            "\u001b[0;31mAttributeError\u001b[0m                            Traceback (most recent call last)",
            "\u001b[0;32m<ipython-input-5-ddb86660bb7c>\u001b[0m in \u001b[0;36m<module>\u001b[0;34m()\u001b[0m\n\u001b[0;32m----> 1\u001b[0;31m \u001b[0msns\u001b[0m\u001b[0;34m.\u001b[0m\u001b[0mscatterplot\u001b[0m\u001b[0;34m(\u001b[0m\u001b[0mx\u001b[0m\u001b[0;34m=\u001b[0m\u001b[0mx1\u001b[0m\u001b[0;34m[\u001b[0m\u001b[0;34m:\u001b[0m\u001b[0;34m,\u001b[0m \u001b[0;36m0\u001b[0m\u001b[0;34m]\u001b[0m\u001b[0;34m,\u001b[0m \u001b[0my\u001b[0m\u001b[0;34m=\u001b[0m\u001b[0mx1\u001b[0m\u001b[0;34m[\u001b[0m\u001b[0;34m:\u001b[0m\u001b[0;34m,\u001b[0m \u001b[0;36m1\u001b[0m\u001b[0;34m]\u001b[0m\u001b[0;34m,\u001b[0m \u001b[0mhue\u001b[0m\u001b[0;34m=\u001b[0m\u001b[0mkmeans_q1\u001b[0m\u001b[0;34m.\u001b[0m\u001b[0mlabels_\u001b[0m\u001b[0;34m)\u001b[0m\u001b[0;34m\u001b[0m\u001b[0;34m\u001b[0m\u001b[0m\n\u001b[0m\u001b[1;32m      2\u001b[0m \u001b[0msns\u001b[0m\u001b[0;34m.\u001b[0m\u001b[0mscatterplot\u001b[0m\u001b[0;34m(\u001b[0m\u001b[0mkmeans_q1\u001b[0m\u001b[0;34m.\u001b[0m\u001b[0mcluster_centers_\u001b[0m\u001b[0;34m[\u001b[0m\u001b[0;34m:\u001b[0m\u001b[0;34m,\u001b[0m \u001b[0;36m0\u001b[0m\u001b[0;34m]\u001b[0m\u001b[0;34m,\u001b[0m \u001b[0mkmeans_q1\u001b[0m\u001b[0;34m.\u001b[0m\u001b[0mcluster_centers_\u001b[0m\u001b[0;34m[\u001b[0m\u001b[0;34m:\u001b[0m\u001b[0;34m,\u001b[0m \u001b[0;36m1\u001b[0m\u001b[0;34m]\u001b[0m\u001b[0;34m,\u001b[0m \u001b[0mcolor\u001b[0m\u001b[0;34m=\u001b[0m\u001b[0;34m'blue'\u001b[0m\u001b[0;34m,\u001b[0m \u001b[0mmarker\u001b[0m\u001b[0;34m=\u001b[0m\u001b[0;34m'x'\u001b[0m\u001b[0;34m,\u001b[0m \u001b[0ms\u001b[0m\u001b[0;34m=\u001b[0m\u001b[0;36m300\u001b[0m\u001b[0;34m,\u001b[0m \u001b[0mlinewidth\u001b[0m\u001b[0;34m=\u001b[0m\u001b[0;36m5\u001b[0m\u001b[0;34m)\u001b[0m\u001b[0;34m;\u001b[0m\u001b[0;34m\u001b[0m\u001b[0;34m\u001b[0m\u001b[0m\n",
            "\u001b[0;31mAttributeError\u001b[0m: 'ellipsis' object has no attribute 'labels_'"
          ]
        }
      ]
    },
    {
      "cell_type": "markdown",
      "metadata": {
        "id": "j1OyDvklri5b",
        "colab_type": "text"
      },
      "source": [
        "## Question 2\n",
        "\n",
        "Sometimes, K-Means will have a difficult time finding the \"correct\" clusters even with ideal starting centers. For example, consider the data below. There are two groups of different sizes in two different senses. The smaller group has both smaller variability and is less numerous, and the larger of the two groups is more diffuse and populated."
      ]
    },
    {
      "cell_type": "code",
      "metadata": {
        "id": "S3c52-2Sri5c",
        "colab_type": "code",
        "colab": {}
      },
      "source": [
        "np.random.seed(1337)\n",
        "\n",
        "c1 = 0.5 * np.random.randn(25, 2)\n",
        "c2 = np.array([10, 10]) + 3*np.random.randn(475, 2)\n",
        "\n",
        "x2 = np.vstack((c1, c2))\n",
        "\n",
        "sns.scatterplot(x=x2[:, 0], y=x2[:, 1]);"
      ],
      "execution_count": 0,
      "outputs": []
    },
    {
      "cell_type": "markdown",
      "metadata": {
        "deletable": false,
        "editable": false,
        "id": "N2cgmoYyri5e",
        "colab_type": "text"
      },
      "source": [
        "### Question 2a\n",
        "\n",
        "Fit a `cluster.KMeans` object called `kmeans_q2a` on the dataset above with two clusters and a `random_state` parameter of 42.\n",
        "\n",
        "<!--\n",
        "BEGIN QUESTION\n",
        "name: q2a\n",
        "-->"
      ]
    },
    {
      "cell_type": "code",
      "metadata": {
        "id": "xJOCm9bSri5f",
        "colab_type": "code",
        "colab": {}
      },
      "source": [
        "kmeans_q2a = ..."
      ],
      "execution_count": 0,
      "outputs": []
    },
    {
      "cell_type": "markdown",
      "metadata": {
        "id": "I3-flR7Jri5j",
        "colab_type": "text"
      },
      "source": [
        "(For notational simplicity we will call the initial cluster on the bottom left $A$ and the initial cluster on the top right $B$. We will call the bottom left cluster found by K-Means as cluster $a$ and the top right cluster found by K-Means as cluster $b$.) \n",
        "\n",
        "As seen below, K-Means is unable to find the two intial clusters because cluster $a$ includes points from cluster $B$. Recall that K-Means attempts to minimize distortion, so it makes sense that points in the bottom left of cluster $B$ would prefer to be in cluster $a$ rather than cluster $b$. If these points were in cluster $b$ instead, then the resulting cluster assignments would have a larger distortion."
      ]
    },
    {
      "cell_type": "code",
      "metadata": {
        "id": "yOA5hG6Iri5k",
        "colab_type": "code",
        "colab": {}
      },
      "source": [
        "sns.scatterplot(x=x2[:, 0], y=x2[:, 1], hue=kmeans_q2a.labels_)\n",
        "sns.scatterplot(kmeans_q2a.cluster_centers_[:, 0], kmeans_q2a.cluster_centers_[:, 1], color='red', marker='x', s=300, linewidth=5);"
      ],
      "execution_count": 0,
      "outputs": []
    },
    {
      "cell_type": "markdown",
      "metadata": {
        "deletable": false,
        "editable": false,
        "id": "xWAADi5iri5m",
        "colab_type": "text"
      },
      "source": [
        "### Question 2b\n",
        "\n",
        "It turns out agglomerative clustering works better for this task, as long as we choose the right definition of distance between two clusters. Recall that agglomerative clustering starts with every data point in its own cluster and iteratively joins the two closest clusters until there are $K$ clusters remaining. However, the \"distance\" between two clusters is ambiguous. \n",
        "\n",
        "Our choice of definition for the distance is sometimes called the \"linkage criterion.\" We will discuss three linkage criteria, each of which is a different definition of \"distance\" between two clusters:\n",
        "\n",
        "- Complete linkage considers the distance between two clusters as the **maximum** distance between a point in the first cluster and a point in the second.\n",
        "- Single linkage considers the distance between two clusters as the **minimum** distance between a point in the first cluster and a point in the second.\n",
        "- Average linkage considers the distance between two clusters as the **average** distance between a point in the first cluster and a point in the second.\n",
        "\n",
        "Using the **complete linkage criterion**, fit a [`cluster.AgglomerativeClustering`](https://scikit-learn.org/stable/modules/generated/sklearn.cluster.AgglomerativeClustering.html) object called `aggc_q2b` on the dataset above with two clusters.\n",
        "\n",
        "<!--\n",
        "BEGIN QUESTION\n",
        "name: q2b\n",
        "-->"
      ]
    },
    {
      "cell_type": "code",
      "metadata": {
        "id": "DBL4i48lri5n",
        "colab_type": "code",
        "colab": {}
      },
      "source": [
        "aggc_q2b = ..."
      ],
      "execution_count": 0,
      "outputs": []
    },
    {
      "cell_type": "markdown",
      "metadata": {
        "id": "9XRD88vtri5r",
        "colab_type": "text"
      },
      "source": [
        "Below we visualize the results of your model. Note that complete linkage agglomerative clustering has the same issue as K-Means in that the bottom left cluster found by complete linkage agglomerative clustering includes points from the top right cluster. However, we can remedy this by picking a different linkage criterion."
      ]
    },
    {
      "cell_type": "code",
      "metadata": {
        "scrolled": false,
        "id": "TWUVPDNIri5s",
        "colab_type": "code",
        "colab": {}
      },
      "source": [
        "sns.scatterplot(x=x2[:, 0], y=x2[:, 1], hue=aggc_q2b.labels_);"
      ],
      "execution_count": 0,
      "outputs": []
    },
    {
      "cell_type": "markdown",
      "metadata": {
        "deletable": false,
        "editable": false,
        "id": "dn-X7fNfri5u",
        "colab_type": "text"
      },
      "source": [
        "### Question 2c\n",
        "\n",
        "Now, use the average linkage criterion to fit a `cluster.AgglomerativeClustering` object called `aggc_q2c` on the dataset above with two clusters.\n",
        "\n",
        "**Note:** We intended for you to use single linkage, but the version of sklearn installed on DataHub (0.19) does not support single linkage agglomerative clustering.\n",
        "\n",
        "<!--\n",
        "BEGIN QUESTION\n",
        "name: q2c\n",
        "-->"
      ]
    },
    {
      "cell_type": "code",
      "metadata": {
        "id": "pzCPsrE3ri5v",
        "colab_type": "code",
        "colab": {}
      },
      "source": [
        "aggc_q2c = ..."
      ],
      "execution_count": 0,
      "outputs": []
    },
    {
      "cell_type": "markdown",
      "metadata": {
        "id": "aIjqRXjAri50",
        "colab_type": "text"
      },
      "source": [
        "Finally, we see that average linkage agglomerative clustering is able to find the two initial clusters."
      ]
    },
    {
      "cell_type": "code",
      "metadata": {
        "scrolled": false,
        "id": "59J0MH0dri50",
        "colab_type": "code",
        "colab": {}
      },
      "source": [
        "sns.scatterplot(x=x2[:, 0], y=x2[:, 1], hue=aggc_q2c.labels_);"
      ],
      "execution_count": 0,
      "outputs": []
    },
    {
      "cell_type": "markdown",
      "metadata": {
        "id": "rqVE468Vri54",
        "colab_type": "text"
      },
      "source": [
        "You might be curious why average linkage \"works\" while complete linkage does not in this scenario; we will leave this as an exercise for students who are interested."
      ]
    },
    {
      "cell_type": "markdown",
      "metadata": {
        "id": "HSZ4q2pKri54",
        "colab_type": "text"
      },
      "source": [
        "## Question 3\n",
        "\n",
        "For this question, consider the following toy dataset."
      ]
    },
    {
      "cell_type": "code",
      "metadata": {
        "id": "fboLcmmqri55",
        "colab_type": "code",
        "colab": {}
      },
      "source": [
        "np.random.seed(1337)\n",
        "\n",
        "c1 = np.random.multivariate_normal([-3,0], [[.5,0],[0,4]], 100)\n",
        "c2 = np.random.multivariate_normal([3,0], [[.5,0],[0,4]], 100)\n",
        "c3 = np.random.multivariate_normal([0,6], [[4,0],[0,.5]], 100)\n",
        "x3 = np.vstack((c1, c2, c3))\n",
        "\n",
        "sns.scatterplot(x=x3[:, 0], y=x3[:, 1]);"
      ],
      "execution_count": 0,
      "outputs": []
    },
    {
      "cell_type": "markdown",
      "metadata": {
        "deletable": false,
        "editable": false,
        "id": "_tncp12pri58",
        "colab_type": "text"
      },
      "source": [
        "### Question 3a\n",
        "\n",
        "Fit three different `cluster.KMeans` objects on the dataset above called `kmeans_q32`, `kmeans_q33`, and `kmeans_q34`. These three objects should be fit with two, three, and four clusters respectively. Use a `random_state` parameter of 42.\n",
        "\n",
        "<!--\n",
        "BEGIN QUESTION\n",
        "name: q3a\n",
        "-->"
      ]
    },
    {
      "cell_type": "code",
      "metadata": {
        "id": "3qzza3efri59",
        "colab_type": "code",
        "colab": {}
      },
      "source": [
        "kmeans_q32 = ...\n",
        "kmeans_q33 = ...\n",
        "kmeans_q34 = ..."
      ],
      "execution_count": 0,
      "outputs": []
    },
    {
      "cell_type": "code",
      "metadata": {
        "scrolled": false,
        "id": "yp9dmJlwri6A",
        "colab_type": "code",
        "colab": {}
      },
      "source": [
        "sns.scatterplot(x=x3[:, 0], y=x3[:, 1], hue=kmeans_q32.labels_)\n",
        "sns.scatterplot(kmeans_q32.cluster_centers_[:, 0], kmeans_q32.cluster_centers_[:, 1], color='red', marker='x', s=300, linewidth=5);"
      ],
      "execution_count": 0,
      "outputs": []
    },
    {
      "cell_type": "code",
      "metadata": {
        "scrolled": true,
        "id": "QiY2blYDri6C",
        "colab_type": "code",
        "colab": {}
      },
      "source": [
        "sns.scatterplot(x=x3[:, 0], y=x3[:, 1], hue=kmeans_q33.labels_)\n",
        "sns.scatterplot(kmeans_q33.cluster_centers_[:, 0], kmeans_q33.cluster_centers_[:, 1], color='blue', marker='x', s=300, linewidth=5);"
      ],
      "execution_count": 0,
      "outputs": []
    },
    {
      "cell_type": "code",
      "metadata": {
        "scrolled": true,
        "id": "yssNotm0ri6D",
        "colab_type": "code",
        "colab": {}
      },
      "source": [
        "sns.scatterplot(x=x3[:, 0], y=x3[:, 1], hue=kmeans_q34.labels_)\n",
        "sns.scatterplot(kmeans_q34.cluster_centers_[:, 0], kmeans_q34.cluster_centers_[:, 1], color='blue', marker='x', s=300, linewidth=5);"
      ],
      "execution_count": 0,
      "outputs": []
    },
    {
      "cell_type": "markdown",
      "metadata": {
        "deletable": false,
        "editable": false,
        "id": "BqMWWdkari6F",
        "colab_type": "text"
      },
      "source": [
        "### Question 3b\n",
        "\n",
        "Based on the three plots above, how many clusters do you think we should use? Assign your answer to the variable `k_q3b`.\n",
        "\n",
        "**Note:** We will accept any of the three possible answers here, but one of the three plots might be more visually appealing than the other two.\n",
        "\n",
        "<!--\n",
        "BEGIN QUESTION\n",
        "name: q3b\n",
        "-->"
      ]
    },
    {
      "cell_type": "code",
      "metadata": {
        "id": "ByT7KYrlri6F",
        "colab_type": "code",
        "colab": {}
      },
      "source": [
        "k_q3b = ..."
      ],
      "execution_count": 0,
      "outputs": []
    },
    {
      "cell_type": "markdown",
      "metadata": {
        "id": "wJDaZ65Qri6J",
        "colab_type": "text"
      },
      "source": [
        "### Question 3c\n",
        "\n",
        "We can also use silhouette plots to select the number of clusters $K$. The following code is borrowed from https://scikit-learn.org/stable/auto_examples/cluster/plot_kmeans_silhouette_analysis.html."
      ]
    },
    {
      "cell_type": "code",
      "metadata": {
        "scrolled": true,
        "id": "xq6yESSLri6K",
        "colab_type": "code",
        "colab": {}
      },
      "source": [
        "X = x3\n",
        "\n",
        "range_n_clusters = [2, 3, 4]\n",
        "\n",
        "for n_clusters in range_n_clusters:\n",
        "    # Create a subplot with 1 row and 2 columns\n",
        "    fig, (ax1, ax2) = plt.subplots(1, 2)\n",
        "    fig.set_size_inches(18, 7)\n",
        "\n",
        "    # The 1st subplot is the silhouette plot\n",
        "    # The silhouette coefficient can range from -1, 1 but in this example all\n",
        "    # lie within [-0.1, 1]\n",
        "    ax1.set_xlim([-0.1, 1])\n",
        "    # The (n_clusters+1)*10 is for inserting blank space between silhouette\n",
        "    # plots of individual clusters, to demarcate them clearly.\n",
        "    ax1.set_ylim([0, len(X) + (n_clusters + 1) * 10])\n",
        "\n",
        "    # Initialize the clusterer with n_clusters value and a random generator\n",
        "    # seed of 10 for reproducibility.\n",
        "    clusterer = cluster.KMeans(n_clusters=n_clusters, random_state=10)\n",
        "    cluster_labels = clusterer.fit_predict(X)\n",
        "\n",
        "    # The silhouette_score gives the average value for all the samples.\n",
        "    # This gives a perspective into the density and separation of the formed\n",
        "    # clusters\n",
        "    silhouette_avg = silhouette_score(X, cluster_labels)\n",
        "    print(\"For n_clusters =\", n_clusters,\n",
        "          \"The average silhouette_score is :\", silhouette_avg)\n",
        "\n",
        "    # Compute the silhouette scores for each sample\n",
        "    sample_silhouette_values = silhouette_samples(X, cluster_labels)\n",
        "\n",
        "    y_lower = 10\n",
        "    for i in range(n_clusters):\n",
        "        # Aggregate the silhouette scores for samples belonging to\n",
        "        # cluster i, and sort them\n",
        "        ith_cluster_silhouette_values = \\\n",
        "            sample_silhouette_values[cluster_labels == i]\n",
        "\n",
        "        ith_cluster_silhouette_values.sort()\n",
        "\n",
        "        size_cluster_i = ith_cluster_silhouette_values.shape[0]\n",
        "        y_upper = y_lower + size_cluster_i\n",
        "\n",
        "        color = cm.nipy_spectral(float(i) / n_clusters)\n",
        "        ax1.fill_betweenx(np.arange(y_lower, y_upper),\n",
        "                          0, ith_cluster_silhouette_values,\n",
        "                          facecolor=color, edgecolor=color, alpha=0.7)\n",
        "\n",
        "        # Label the silhouette plots with their cluster numbers at the middle\n",
        "        ax1.text(-0.05, y_lower + 0.5 * size_cluster_i, str(i))\n",
        "\n",
        "        # Compute the new y_lower for next plot\n",
        "        y_lower = y_upper + 10  # 10 for the 0 samples\n",
        "\n",
        "    ax1.set_title(\"The silhouette plot for the various clusters.\")\n",
        "    ax1.set_xlabel(\"The silhouette coefficient values\")\n",
        "    ax1.set_ylabel(\"Cluster label\")\n",
        "\n",
        "    # The vertical line for average silhouette score of all the values\n",
        "    ax1.axvline(x=silhouette_avg, color=\"red\", linestyle=\"--\")\n",
        "\n",
        "    ax1.set_yticks([])  # Clear the yaxis labels / ticks\n",
        "    ax1.set_xticks([-0.1, 0, 0.2, 0.4, 0.6, 0.8, 1])\n",
        "\n",
        "    # 2nd Plot showing the actual clusters formed\n",
        "    colors = cm.nipy_spectral(cluster_labels.astype(float) / n_clusters)\n",
        "    ax2.scatter(X[:, 0], X[:, 1], marker='.', s=30, lw=0, alpha=0.7,\n",
        "                c=colors, edgecolor='k')\n",
        "\n",
        "    # Labeling the clusters\n",
        "    centers = clusterer.cluster_centers_\n",
        "    # Draw white circles at cluster centers\n",
        "    ax2.scatter(centers[:, 0], centers[:, 1], marker='o',\n",
        "                c=\"white\", alpha=1, s=200, edgecolor='k')\n",
        "\n",
        "    for i, c in enumerate(centers):\n",
        "        ax2.scatter(c[0], c[1], marker='$%d$' % i, alpha=1,\n",
        "                    s=50, edgecolor='k')\n",
        "\n",
        "    ax2.set_title(\"The visualization of the clustered data.\")\n",
        "    ax2.set_xlabel(\"Feature space for the 1st feature\")\n",
        "    ax2.set_ylabel(\"Feature space for the 2nd feature\")\n",
        "\n",
        "    plt.suptitle((\"Silhouette analysis for KMeans clustering on sample data \"\n",
        "                  \"with n_clusters = %d\" % n_clusters),\n",
        "                 fontsize=14, fontweight='bold')\n",
        "\n",
        "plt.show()"
      ],
      "execution_count": 0,
      "outputs": []
    },
    {
      "cell_type": "markdown",
      "metadata": {
        "deletable": false,
        "editable": false,
        "id": "O1epZ9UEri6M",
        "colab_type": "text"
      },
      "source": [
        "Suppose we want to pick the number of clusters based on the highest average silhouette score. Given the silhouette plots above, how many clusters should we use? Assign your answer to the variable `k_q3c`.\n",
        "\n",
        "<!--\n",
        "BEGIN QUESTION\n",
        "name: q3c\n",
        "-->"
      ]
    },
    {
      "cell_type": "code",
      "metadata": {
        "id": "HUpnRDY9ri6M",
        "colab_type": "code",
        "colab": {}
      },
      "source": [
        "k_q3c = ..."
      ],
      "execution_count": 0,
      "outputs": []
    },
    {
      "cell_type": "markdown",
      "metadata": {
        "id": "8Wfkt5GVri6P",
        "colab_type": "text"
      },
      "source": [
        "## Question 4\n",
        "\n",
        "In the previous three questions, we looked at clustering on two dimensional datasets. However, we can easily use clustering on data which have more than two dimensions. For this, let us turn to a World Bank dataset, containing various features for the world's countries.\n",
        "\n",
        "This data comes from https://databank.worldbank.org/source/world-development-indicators#.\n"
      ]
    },
    {
      "cell_type": "code",
      "metadata": {
        "id": "xgmo3QfJri6Q",
        "colab_type": "code",
        "colab": {
          "base_uri": "https://localhost:8080/",
          "height": 454
        },
        "outputId": "9aaa2f9f-2139-440e-d67f-b6d0371802e9"
      },
      "source": [
        "path ='https://github.com/VitorKamada/DataScience/raw/master/Labs/Data/'\n",
        "world_bank_data = pd.read_csv(path + \"world_bank_data.csv\", index_col = 'country')\n",
        "world_bank_data.head(5)"
      ],
      "execution_count": 6,
      "outputs": [
        {
          "output_type": "execute_result",
          "data": {
            "text/html": [
              "<div>\n",
              "<style scoped>\n",
              "    .dataframe tbody tr th:only-of-type {\n",
              "        vertical-align: middle;\n",
              "    }\n",
              "\n",
              "    .dataframe tbody tr th {\n",
              "        vertical-align: top;\n",
              "    }\n",
              "\n",
              "    .dataframe thead th {\n",
              "        text-align: right;\n",
              "    }\n",
              "</style>\n",
              "<table border=\"1\" class=\"dataframe\">\n",
              "  <thead>\n",
              "    <tr style=\"text-align: right;\">\n",
              "      <th></th>\n",
              "      <th>Age dependency ratio (% of working-age population)</th>\n",
              "      <th>Age dependency ratio, old (% of working-age population)</th>\n",
              "      <th>Age dependency ratio, young (% of working-age population)</th>\n",
              "      <th>Bird species, threatened</th>\n",
              "      <th>Business extent of disclosure index (0=less disclosure to 10=more disclosure)</th>\n",
              "      <th>Contributing family workers, female (% of female employment) (modeled ILO estimate)</th>\n",
              "      <th>Contributing family workers, male (% of male employment) (modeled ILO estimate)</th>\n",
              "      <th>Contributing family workers, total (% of total employment) (modeled ILO estimate)</th>\n",
              "      <th>Cost of business start-up procedures (% of GNI per capita)</th>\n",
              "      <th>Cost of business start-up procedures, female (% of GNI per capita)</th>\n",
              "      <th>Cost of business start-up procedures, male (% of GNI per capita)</th>\n",
              "      <th>Cost to export, border compliance (US$)</th>\n",
              "      <th>Cost to export, documentary compliance (US$)</th>\n",
              "      <th>Cost to import, border compliance (US$)</th>\n",
              "      <th>Cost to import, documentary compliance (US$)</th>\n",
              "      <th>Depth of credit information index (0=low to 8=high)</th>\n",
              "      <th>Ease of doing business score (0 = lowest performance to 100 = best performance)</th>\n",
              "      <th>Employers, female (% of female employment) (modeled ILO estimate)</th>\n",
              "      <th>Employers, male (% of male employment) (modeled ILO estimate)</th>\n",
              "      <th>Employers, total (% of total employment) (modeled ILO estimate)</th>\n",
              "      <th>Employment in agriculture (% of total employment) (modeled ILO estimate)</th>\n",
              "      <th>Employment in agriculture, female (% of female employment) (modeled ILO estimate)</th>\n",
              "      <th>Employment in agriculture, male (% of male employment) (modeled ILO estimate)</th>\n",
              "      <th>Employment in industry (% of total employment) (modeled ILO estimate)</th>\n",
              "      <th>Employment in industry, female (% of female employment) (modeled ILO estimate)</th>\n",
              "      <th>Employment in industry, male (% of male employment) (modeled ILO estimate)</th>\n",
              "      <th>Employment in services (% of total employment) (modeled ILO estimate)</th>\n",
              "      <th>Employment in services, female (% of female employment) (modeled ILO estimate)</th>\n",
              "      <th>Employment in services, male (% of male employment) (modeled ILO estimate)</th>\n",
              "      <th>Employment to population ratio, 15+, female (%) (modeled ILO estimate)</th>\n",
              "      <th>Employment to population ratio, 15+, male (%) (modeled ILO estimate)</th>\n",
              "      <th>Employment to population ratio, 15+, total (%) (modeled ILO estimate)</th>\n",
              "      <th>Employment to population ratio, ages 15-24, female (%) (modeled ILO estimate)</th>\n",
              "      <th>Employment to population ratio, ages 15-24, male (%) (modeled ILO estimate)</th>\n",
              "      <th>Employment to population ratio, ages 15-24, total (%) (modeled ILO estimate)</th>\n",
              "      <th>Fish species, threatened</th>\n",
              "      <th>Fixed broadband subscriptions</th>\n",
              "      <th>Fixed broadband subscriptions (per 100 people)</th>\n",
              "      <th>Foreign direct investment, net inflows (% of GDP)</th>\n",
              "      <th>Foreign direct investment, net inflows (BoP, current US$)</th>\n",
              "      <th>...</th>\n",
              "      <th>Self-employed, female (% of female employment) (modeled ILO estimate)</th>\n",
              "      <th>Self-employed, male (% of male employment) (modeled ILO estimate)</th>\n",
              "      <th>Self-employed, total (% of total employment) (modeled ILO estimate)</th>\n",
              "      <th>Start-up procedures to register a business (number)</th>\n",
              "      <th>Start-up procedures to register a business, female (number)</th>\n",
              "      <th>Start-up procedures to register a business, male (number)</th>\n",
              "      <th>Strength of legal rights index (0=weak to 12=strong)</th>\n",
              "      <th>Surface area (sq. km)</th>\n",
              "      <th>Tax payments (number)</th>\n",
              "      <th>Terrestrial and marine protected areas (% of total territorial area)</th>\n",
              "      <th>Terrestrial protected areas (% of total land area)</th>\n",
              "      <th>Time required to build a warehouse (days)</th>\n",
              "      <th>Time required to enforce a contract (days)</th>\n",
              "      <th>Time required to get electricity (days)</th>\n",
              "      <th>Time required to register property (days)</th>\n",
              "      <th>Time required to start a business (days)</th>\n",
              "      <th>Time required to start a business, female (days)</th>\n",
              "      <th>Time required to start a business, male (days)</th>\n",
              "      <th>Time to export, border compliance (hours)</th>\n",
              "      <th>Time to export, documentary compliance (hours)</th>\n",
              "      <th>Time to import, border compliance (hours)</th>\n",
              "      <th>Time to import, documentary compliance (hours)</th>\n",
              "      <th>Time to prepare and pay taxes (hours)</th>\n",
              "      <th>Time to resolve insolvency (years)</th>\n",
              "      <th>Total tax and contribution rate (% of profit)</th>\n",
              "      <th>Unemployment, female (% of female labor force) (modeled ILO estimate)</th>\n",
              "      <th>Unemployment, male (% of male labor force) (modeled ILO estimate)</th>\n",
              "      <th>Unemployment, total (% of total labor force) (modeled ILO estimate)</th>\n",
              "      <th>Unemployment, youth female (% of female labor force ages 15-24) (modeled ILO estimate)</th>\n",
              "      <th>Unemployment, youth male (% of male labor force ages 15-24) (modeled ILO estimate)</th>\n",
              "      <th>Unemployment, youth total (% of total labor force ages 15-24) (modeled ILO estimate)</th>\n",
              "      <th>Urban population</th>\n",
              "      <th>Urban population (% of total population)</th>\n",
              "      <th>Urban population growth (annual %)</th>\n",
              "      <th>Vulnerable employment, female (% of female employment) (modeled ILO estimate)</th>\n",
              "      <th>Vulnerable employment, male (% of male employment) (modeled ILO estimate)</th>\n",
              "      <th>Vulnerable employment, total (% of total employment) (modeled ILO estimate)</th>\n",
              "      <th>Wage and salaried workers, female (% of female employment) (modeled ILO estimate)</th>\n",
              "      <th>Wage and salaried workers, male (% of male employment) (modeled ILO estimate)</th>\n",
              "      <th>Wage and salaried workers, total (% of total employment) (modeled ILO estimate)</th>\n",
              "    </tr>\n",
              "    <tr>\n",
              "      <th>country</th>\n",
              "      <th></th>\n",
              "      <th></th>\n",
              "      <th></th>\n",
              "      <th></th>\n",
              "      <th></th>\n",
              "      <th></th>\n",
              "      <th></th>\n",
              "      <th></th>\n",
              "      <th></th>\n",
              "      <th></th>\n",
              "      <th></th>\n",
              "      <th></th>\n",
              "      <th></th>\n",
              "      <th></th>\n",
              "      <th></th>\n",
              "      <th></th>\n",
              "      <th></th>\n",
              "      <th></th>\n",
              "      <th></th>\n",
              "      <th></th>\n",
              "      <th></th>\n",
              "      <th></th>\n",
              "      <th></th>\n",
              "      <th></th>\n",
              "      <th></th>\n",
              "      <th></th>\n",
              "      <th></th>\n",
              "      <th></th>\n",
              "      <th></th>\n",
              "      <th></th>\n",
              "      <th></th>\n",
              "      <th></th>\n",
              "      <th></th>\n",
              "      <th></th>\n",
              "      <th></th>\n",
              "      <th></th>\n",
              "      <th></th>\n",
              "      <th></th>\n",
              "      <th></th>\n",
              "      <th></th>\n",
              "      <th></th>\n",
              "      <th></th>\n",
              "      <th></th>\n",
              "      <th></th>\n",
              "      <th></th>\n",
              "      <th></th>\n",
              "      <th></th>\n",
              "      <th></th>\n",
              "      <th></th>\n",
              "      <th></th>\n",
              "      <th></th>\n",
              "      <th></th>\n",
              "      <th></th>\n",
              "      <th></th>\n",
              "      <th></th>\n",
              "      <th></th>\n",
              "      <th></th>\n",
              "      <th></th>\n",
              "      <th></th>\n",
              "      <th></th>\n",
              "      <th></th>\n",
              "      <th></th>\n",
              "      <th></th>\n",
              "      <th></th>\n",
              "      <th></th>\n",
              "      <th></th>\n",
              "      <th></th>\n",
              "      <th></th>\n",
              "      <th></th>\n",
              "      <th></th>\n",
              "      <th></th>\n",
              "      <th></th>\n",
              "      <th></th>\n",
              "      <th></th>\n",
              "      <th></th>\n",
              "      <th></th>\n",
              "      <th></th>\n",
              "      <th></th>\n",
              "      <th></th>\n",
              "      <th></th>\n",
              "      <th></th>\n",
              "    </tr>\n",
              "  </thead>\n",
              "  <tbody>\n",
              "    <tr>\n",
              "      <th>Algeria</th>\n",
              "      <td>57.508032</td>\n",
              "      <td>10.021442</td>\n",
              "      <td>47.486590</td>\n",
              "      <td>15.0</td>\n",
              "      <td>4.0</td>\n",
              "      <td>2.720000</td>\n",
              "      <td>1.836</td>\n",
              "      <td>1.978000</td>\n",
              "      <td>0.0</td>\n",
              "      <td>11.8</td>\n",
              "      <td>11.8</td>\n",
              "      <td>592.9</td>\n",
              "      <td>374.4</td>\n",
              "      <td>408.8</td>\n",
              "      <td>399.8</td>\n",
              "      <td>0.0</td>\n",
              "      <td>48.49803</td>\n",
              "      <td>1.929</td>\n",
              "      <td>4.613</td>\n",
              "      <td>4.181</td>\n",
              "      <td>9.296000</td>\n",
              "      <td>3.125000</td>\n",
              "      <td>10.477000</td>\n",
              "      <td>30.725000</td>\n",
              "      <td>22.121</td>\n",
              "      <td>32.372002</td>\n",
              "      <td>59.980000</td>\n",
              "      <td>74.753998</td>\n",
              "      <td>57.150002</td>\n",
              "      <td>11.736000</td>\n",
              "      <td>60.587002</td>\n",
              "      <td>36.299999</td>\n",
              "      <td>4.533000</td>\n",
              "      <td>30.740000</td>\n",
              "      <td>17.893</td>\n",
              "      <td>41.0</td>\n",
              "      <td>3063835.0</td>\n",
              "      <td>7.255388</td>\n",
              "      <td>0.833651</td>\n",
              "      <td>1.506317e+09</td>\n",
              "      <td>...</td>\n",
              "      <td>26.266001</td>\n",
              "      <td>31.840000</td>\n",
              "      <td>30.944000</td>\n",
              "      <td>12.0</td>\n",
              "      <td>12.0</td>\n",
              "      <td>12.0</td>\n",
              "      <td>2.0</td>\n",
              "      <td>2381740.0</td>\n",
              "      <td>27.0</td>\n",
              "      <td>7.105493</td>\n",
              "      <td>7.495060</td>\n",
              "      <td>131.0</td>\n",
              "      <td>630.0</td>\n",
              "      <td>84.0</td>\n",
              "      <td>55.0</td>\n",
              "      <td>18.0</td>\n",
              "      <td>18.0</td>\n",
              "      <td>18.0</td>\n",
              "      <td>80.0</td>\n",
              "      <td>149.1</td>\n",
              "      <td>209.6</td>\n",
              "      <td>96.0</td>\n",
              "      <td>265.0</td>\n",
              "      <td>1.3</td>\n",
              "      <td>66.1</td>\n",
              "      <td>21.322001</td>\n",
              "      <td>10.138</td>\n",
              "      <td>12.145</td>\n",
              "      <td>46.313999</td>\n",
              "      <td>26.789</td>\n",
              "      <td>29.952999</td>\n",
              "      <td>30670086.0</td>\n",
              "      <td>72.629</td>\n",
              "      <td>2.804996</td>\n",
              "      <td>24.337001</td>\n",
              "      <td>27.227001</td>\n",
              "      <td>26.762000</td>\n",
              "      <td>73.734001</td>\n",
              "      <td>68.160004</td>\n",
              "      <td>69.056000</td>\n",
              "    </tr>\n",
              "    <tr>\n",
              "      <th>Afghanistan</th>\n",
              "      <td>84.077656</td>\n",
              "      <td>4.758273</td>\n",
              "      <td>79.319383</td>\n",
              "      <td>16.0</td>\n",
              "      <td>8.0</td>\n",
              "      <td>71.780998</td>\n",
              "      <td>9.606</td>\n",
              "      <td>31.577999</td>\n",
              "      <td>0.0</td>\n",
              "      <td>6.4</td>\n",
              "      <td>6.4</td>\n",
              "      <td>452.8</td>\n",
              "      <td>344.4</td>\n",
              "      <td>750.0</td>\n",
              "      <td>900.0</td>\n",
              "      <td>0.0</td>\n",
              "      <td>44.20343</td>\n",
              "      <td>0.143</td>\n",
              "      <td>0.715</td>\n",
              "      <td>0.513</td>\n",
              "      <td>38.588001</td>\n",
              "      <td>55.728001</td>\n",
              "      <td>29.221001</td>\n",
              "      <td>17.596001</td>\n",
              "      <td>15.844</td>\n",
              "      <td>18.554001</td>\n",
              "      <td>43.816002</td>\n",
              "      <td>28.427000</td>\n",
              "      <td>52.226002</td>\n",
              "      <td>47.481998</td>\n",
              "      <td>81.266998</td>\n",
              "      <td>64.939003</td>\n",
              "      <td>40.764999</td>\n",
              "      <td>69.442001</td>\n",
              "      <td>55.563</td>\n",
              "      <td>4.0</td>\n",
              "      <td>17491.0</td>\n",
              "      <td>0.047054</td>\n",
              "      <td>0.718898</td>\n",
              "      <td>1.392000e+08</td>\n",
              "      <td>...</td>\n",
              "      <td>95.717003</td>\n",
              "      <td>86.708000</td>\n",
              "      <td>89.891998</td>\n",
              "      <td>4.0</td>\n",
              "      <td>5.0</td>\n",
              "      <td>4.0</td>\n",
              "      <td>10.0</td>\n",
              "      <td>652860.0</td>\n",
              "      <td>19.0</td>\n",
              "      <td>0.104707</td>\n",
              "      <td>0.104707</td>\n",
              "      <td>199.0</td>\n",
              "      <td>1642.0</td>\n",
              "      <td>114.0</td>\n",
              "      <td>250.0</td>\n",
              "      <td>8.5</td>\n",
              "      <td>9.0</td>\n",
              "      <td>8.0</td>\n",
              "      <td>48.0</td>\n",
              "      <td>228.0</td>\n",
              "      <td>96.0</td>\n",
              "      <td>324.0</td>\n",
              "      <td>270.0</td>\n",
              "      <td>2.0</td>\n",
              "      <td>71.4</td>\n",
              "      <td>2.421000</td>\n",
              "      <td>1.056</td>\n",
              "      <td>1.542</td>\n",
              "      <td>3.670000</td>\n",
              "      <td>2.062</td>\n",
              "      <td>2.639000</td>\n",
              "      <td>9477100.0</td>\n",
              "      <td>25.495</td>\n",
              "      <td>3.350383</td>\n",
              "      <td>95.573997</td>\n",
              "      <td>85.993001</td>\n",
              "      <td>89.378998</td>\n",
              "      <td>4.282000</td>\n",
              "      <td>13.292000</td>\n",
              "      <td>10.108000</td>\n",
              "    </tr>\n",
              "    <tr>\n",
              "      <th>Albania</th>\n",
              "      <td>45.810037</td>\n",
              "      <td>20.041214</td>\n",
              "      <td>25.768823</td>\n",
              "      <td>8.0</td>\n",
              "      <td>9.0</td>\n",
              "      <td>37.987000</td>\n",
              "      <td>20.795</td>\n",
              "      <td>28.076000</td>\n",
              "      <td>0.0</td>\n",
              "      <td>11.3</td>\n",
              "      <td>11.3</td>\n",
              "      <td>54.7</td>\n",
              "      <td>10.0</td>\n",
              "      <td>77.3</td>\n",
              "      <td>10.0</td>\n",
              "      <td>6.0</td>\n",
              "      <td>66.99561</td>\n",
              "      <td>1.016</td>\n",
              "      <td>3.463</td>\n",
              "      <td>2.427</td>\n",
              "      <td>37.997002</td>\n",
              "      <td>42.289001</td>\n",
              "      <td>34.844002</td>\n",
              "      <td>19.341000</td>\n",
              "      <td>15.015</td>\n",
              "      <td>22.518000</td>\n",
              "      <td>42.661999</td>\n",
              "      <td>42.695999</td>\n",
              "      <td>42.638000</td>\n",
              "      <td>40.993000</td>\n",
              "      <td>55.505001</td>\n",
              "      <td>48.269001</td>\n",
              "      <td>16.802000</td>\n",
              "      <td>26.344000</td>\n",
              "      <td>21.746</td>\n",
              "      <td>44.0</td>\n",
              "      <td>360761.0</td>\n",
              "      <td>12.514517</td>\n",
              "      <td>8.015508</td>\n",
              "      <td>1.207046e+09</td>\n",
              "      <td>...</td>\n",
              "      <td>55.679001</td>\n",
              "      <td>58.457001</td>\n",
              "      <td>57.279999</td>\n",
              "      <td>5.0</td>\n",
              "      <td>5.0</td>\n",
              "      <td>5.0</td>\n",
              "      <td>8.0</td>\n",
              "      <td>28750.0</td>\n",
              "      <td>35.0</td>\n",
              "      <td>13.525683</td>\n",
              "      <td>17.736095</td>\n",
              "      <td>324.0</td>\n",
              "      <td>525.0</td>\n",
              "      <td>71.0</td>\n",
              "      <td>19.0</td>\n",
              "      <td>4.5</td>\n",
              "      <td>4.5</td>\n",
              "      <td>4.5</td>\n",
              "      <td>9.0</td>\n",
              "      <td>6.0</td>\n",
              "      <td>10.0</td>\n",
              "      <td>8.0</td>\n",
              "      <td>252.0</td>\n",
              "      <td>2.0</td>\n",
              "      <td>37.3</td>\n",
              "      <td>13.132000</td>\n",
              "      <td>14.452</td>\n",
              "      <td>13.898</td>\n",
              "      <td>27.143000</td>\n",
              "      <td>33.069</td>\n",
              "      <td>30.979000</td>\n",
              "      <td>1728969.0</td>\n",
              "      <td>60.319</td>\n",
              "      <td>1.317162</td>\n",
              "      <td>54.663000</td>\n",
              "      <td>54.994001</td>\n",
              "      <td>54.854000</td>\n",
              "      <td>44.320999</td>\n",
              "      <td>41.542999</td>\n",
              "      <td>42.720001</td>\n",
              "    </tr>\n",
              "    <tr>\n",
              "      <th>American Samoa</th>\n",
              "      <td>NaN</td>\n",
              "      <td>NaN</td>\n",
              "      <td>NaN</td>\n",
              "      <td>8.0</td>\n",
              "      <td>NaN</td>\n",
              "      <td>NaN</td>\n",
              "      <td>NaN</td>\n",
              "      <td>NaN</td>\n",
              "      <td>NaN</td>\n",
              "      <td>NaN</td>\n",
              "      <td>NaN</td>\n",
              "      <td>NaN</td>\n",
              "      <td>NaN</td>\n",
              "      <td>NaN</td>\n",
              "      <td>NaN</td>\n",
              "      <td>NaN</td>\n",
              "      <td>NaN</td>\n",
              "      <td>NaN</td>\n",
              "      <td>NaN</td>\n",
              "      <td>NaN</td>\n",
              "      <td>NaN</td>\n",
              "      <td>NaN</td>\n",
              "      <td>NaN</td>\n",
              "      <td>NaN</td>\n",
              "      <td>NaN</td>\n",
              "      <td>NaN</td>\n",
              "      <td>NaN</td>\n",
              "      <td>NaN</td>\n",
              "      <td>NaN</td>\n",
              "      <td>NaN</td>\n",
              "      <td>NaN</td>\n",
              "      <td>NaN</td>\n",
              "      <td>NaN</td>\n",
              "      <td>NaN</td>\n",
              "      <td>NaN</td>\n",
              "      <td>12.0</td>\n",
              "      <td>NaN</td>\n",
              "      <td>NaN</td>\n",
              "      <td>NaN</td>\n",
              "      <td>NaN</td>\n",
              "      <td>...</td>\n",
              "      <td>NaN</td>\n",
              "      <td>NaN</td>\n",
              "      <td>NaN</td>\n",
              "      <td>NaN</td>\n",
              "      <td>NaN</td>\n",
              "      <td>NaN</td>\n",
              "      <td>NaN</td>\n",
              "      <td>200.0</td>\n",
              "      <td>NaN</td>\n",
              "      <td>8.719566</td>\n",
              "      <td>15.847745</td>\n",
              "      <td>NaN</td>\n",
              "      <td>NaN</td>\n",
              "      <td>NaN</td>\n",
              "      <td>NaN</td>\n",
              "      <td>NaN</td>\n",
              "      <td>NaN</td>\n",
              "      <td>NaN</td>\n",
              "      <td>NaN</td>\n",
              "      <td>NaN</td>\n",
              "      <td>NaN</td>\n",
              "      <td>NaN</td>\n",
              "      <td>NaN</td>\n",
              "      <td>NaN</td>\n",
              "      <td>NaN</td>\n",
              "      <td>NaN</td>\n",
              "      <td>NaN</td>\n",
              "      <td>NaN</td>\n",
              "      <td>NaN</td>\n",
              "      <td>NaN</td>\n",
              "      <td>NaN</td>\n",
              "      <td>48339.0</td>\n",
              "      <td>87.153</td>\n",
              "      <td>-0.299516</td>\n",
              "      <td>NaN</td>\n",
              "      <td>NaN</td>\n",
              "      <td>NaN</td>\n",
              "      <td>NaN</td>\n",
              "      <td>NaN</td>\n",
              "      <td>NaN</td>\n",
              "    </tr>\n",
              "    <tr>\n",
              "      <th>Andorra</th>\n",
              "      <td>NaN</td>\n",
              "      <td>NaN</td>\n",
              "      <td>NaN</td>\n",
              "      <td>3.0</td>\n",
              "      <td>NaN</td>\n",
              "      <td>NaN</td>\n",
              "      <td>NaN</td>\n",
              "      <td>NaN</td>\n",
              "      <td>NaN</td>\n",
              "      <td>NaN</td>\n",
              "      <td>NaN</td>\n",
              "      <td>NaN</td>\n",
              "      <td>NaN</td>\n",
              "      <td>NaN</td>\n",
              "      <td>NaN</td>\n",
              "      <td>NaN</td>\n",
              "      <td>NaN</td>\n",
              "      <td>NaN</td>\n",
              "      <td>NaN</td>\n",
              "      <td>NaN</td>\n",
              "      <td>NaN</td>\n",
              "      <td>NaN</td>\n",
              "      <td>NaN</td>\n",
              "      <td>NaN</td>\n",
              "      <td>NaN</td>\n",
              "      <td>NaN</td>\n",
              "      <td>NaN</td>\n",
              "      <td>NaN</td>\n",
              "      <td>NaN</td>\n",
              "      <td>NaN</td>\n",
              "      <td>NaN</td>\n",
              "      <td>NaN</td>\n",
              "      <td>NaN</td>\n",
              "      <td>NaN</td>\n",
              "      <td>NaN</td>\n",
              "      <td>0.0</td>\n",
              "      <td>35663.0</td>\n",
              "      <td>46.311976</td>\n",
              "      <td>NaN</td>\n",
              "      <td>NaN</td>\n",
              "      <td>...</td>\n",
              "      <td>NaN</td>\n",
              "      <td>NaN</td>\n",
              "      <td>NaN</td>\n",
              "      <td>NaN</td>\n",
              "      <td>NaN</td>\n",
              "      <td>NaN</td>\n",
              "      <td>NaN</td>\n",
              "      <td>470.0</td>\n",
              "      <td>NaN</td>\n",
              "      <td>26.727725</td>\n",
              "      <td>26.727725</td>\n",
              "      <td>NaN</td>\n",
              "      <td>NaN</td>\n",
              "      <td>NaN</td>\n",
              "      <td>NaN</td>\n",
              "      <td>NaN</td>\n",
              "      <td>NaN</td>\n",
              "      <td>NaN</td>\n",
              "      <td>NaN</td>\n",
              "      <td>NaN</td>\n",
              "      <td>NaN</td>\n",
              "      <td>NaN</td>\n",
              "      <td>NaN</td>\n",
              "      <td>NaN</td>\n",
              "      <td>NaN</td>\n",
              "      <td>NaN</td>\n",
              "      <td>NaN</td>\n",
              "      <td>NaN</td>\n",
              "      <td>NaN</td>\n",
              "      <td>NaN</td>\n",
              "      <td>NaN</td>\n",
              "      <td>67813.0</td>\n",
              "      <td>88.062</td>\n",
              "      <td>-0.092859</td>\n",
              "      <td>NaN</td>\n",
              "      <td>NaN</td>\n",
              "      <td>NaN</td>\n",
              "      <td>NaN</td>\n",
              "      <td>NaN</td>\n",
              "      <td>NaN</td>\n",
              "    </tr>\n",
              "  </tbody>\n",
              "</table>\n",
              "<p>5 rows × 209 columns</p>\n",
              "</div>"
            ],
            "text/plain": [
              "                Age dependency ratio (% of working-age population)  ...  Wage and salaried workers, total (% of total employment) (modeled ILO estimate)\n",
              "country                                                             ...                                                                                 \n",
              "Algeria                                                 57.508032   ...                                          69.056000                              \n",
              "Afghanistan                                             84.077656   ...                                          10.108000                              \n",
              "Albania                                                 45.810037   ...                                          42.720001                              \n",
              "American Samoa                                                NaN   ...                                                NaN                              \n",
              "Andorra                                                       NaN   ...                                                NaN                              \n",
              "\n",
              "[5 rows x 209 columns]"
            ]
          },
          "metadata": {
            "tags": []
          },
          "execution_count": 6
        }
      ]
    },
    {
      "cell_type": "markdown",
      "metadata": {
        "id": "TzVsixYuri6S",
        "colab_type": "text"
      },
      "source": [
        "There are some missing values. For the sake of convenience and of keeping the lab short, we will fill them all with zeros. "
      ]
    },
    {
      "cell_type": "code",
      "metadata": {
        "id": "JFAHYJz0ri6S",
        "colab_type": "code",
        "colab": {}
      },
      "source": [
        "world_bank_data = world_bank_data.fillna(0)"
      ],
      "execution_count": 0,
      "outputs": []
    },
    {
      "cell_type": "markdown",
      "metadata": {
        "deletable": false,
        "editable": false,
        "id": "Fqsn3s8dri6U",
        "colab_type": "text"
      },
      "source": [
        "Using all available features, fit a `cluster.KMeans` object called `kmeans_q4` with four clusters and a `random_state` parameter of 42.\n",
        "\n",
        "<!--\n",
        "BEGIN QUESTION\n",
        "name: q4\n",
        "-->"
      ]
    },
    {
      "cell_type": "code",
      "metadata": {
        "id": "Cv1UIVAYri6U",
        "colab_type": "code",
        "colab": {}
      },
      "source": [
        "kmeans_q4 = ..."
      ],
      "execution_count": 0,
      "outputs": []
    },
    {
      "cell_type": "markdown",
      "metadata": {
        "id": "K3SsaTNari6Y",
        "colab_type": "text"
      },
      "source": [
        "Looking at the clusters, we see that almost all countries get clustered together, and the other 3 clusters seem to have countries with vaguely similar levels of economic and geopolitcal power."
      ]
    },
    {
      "cell_type": "code",
      "metadata": {
        "id": "0FwGXKdTri6Y",
        "colab_type": "code",
        "colab": {}
      },
      "source": [
        "labeled_world_bank_data = world_bank_data.copy()\n",
        "labeled_world_bank_data['cluster'] = kmeans_q4.labels_"
      ],
      "execution_count": 0,
      "outputs": []
    },
    {
      "cell_type": "code",
      "metadata": {
        "id": "UPU2phH_ri6d",
        "colab_type": "code",
        "colab": {}
      },
      "source": [
        "list(labeled_world_bank_data.query('cluster == 0').index)"
      ],
      "execution_count": 0,
      "outputs": []
    },
    {
      "cell_type": "code",
      "metadata": {
        "id": "NYZ9mShJri6g",
        "colab_type": "code",
        "colab": {}
      },
      "source": [
        "list(labeled_world_bank_data.query('cluster == 1').index)"
      ],
      "execution_count": 0,
      "outputs": []
    },
    {
      "cell_type": "code",
      "metadata": {
        "id": "xzCgsfJvri6h",
        "colab_type": "code",
        "colab": {}
      },
      "source": [
        "list(labeled_world_bank_data.query('cluster == 2').index)"
      ],
      "execution_count": 0,
      "outputs": []
    },
    {
      "cell_type": "code",
      "metadata": {
        "id": "nf_mWN3Iri6k",
        "colab_type": "code",
        "colab": {}
      },
      "source": [
        "list(labeled_world_bank_data.query('cluster == 3').index)"
      ],
      "execution_count": 0,
      "outputs": []
    },
    {
      "cell_type": "markdown",
      "metadata": {
        "id": "Xb6m5O_bri6l",
        "colab_type": "text"
      },
      "source": [
        "To understand the meaning of these clusters, we could look at `kmeans_q4.cluster_centers_`. We leave this as a very challenging exercise for students who are especially interested."
      ]
    },
    {
      "cell_type": "markdown",
      "metadata": {
        "id": "uEM1b-uiri6o",
        "colab_type": "text"
      },
      "source": [
        "## Question 5"
      ]
    },
    {
      "cell_type": "markdown",
      "metadata": {
        "deletable": false,
        "editable": false,
        "id": "D8qqedrlri6o",
        "colab_type": "text"
      },
      "source": [
        "Like with PCA, it sometimes makes sense to center and scale our data so that features with higher variance don't dominate the analysis. For example, in the clustering above, statistics like population will completely dominate features like % of total population that live in urban areas. This is because population can range over billions whereas % is always between 0 and 100. The ultimate effect is that we're not really using most of our columns at all.\n",
        "\n",
        "Below, repeat the clustering process from question 4. As before, fit a `cluster.KMeans` object called `kmeans_q5` with four clusters and a `random_state` parameter of 42.\n",
        "\n",
        "The difference is that this time you should use a centered and scaled version of the world bank data. By centered and scaled we mean that the mean in each column should be zero and the variance should be 1.\n",
        "\n",
        "<!--\n",
        "BEGIN QUESTION\n",
        "name: q5\n",
        "-->"
      ]
    },
    {
      "cell_type": "code",
      "metadata": {
        "id": "xnCAOzHhri6o",
        "colab_type": "code",
        "colab": {}
      },
      "source": [
        "...\n",
        "kmeans_q5 = ..."
      ],
      "execution_count": 0,
      "outputs": []
    },
    {
      "cell_type": "markdown",
      "metadata": {
        "id": "NyNjijDgri6r",
        "colab_type": "text"
      },
      "source": [
        "Looking at these new clusters, we see that they seem to correspond to:\n",
        "\n",
        "0: Very small countries.\n",
        "\n",
        "1: Developed countries.\n",
        "\n",
        "2: Less developed countries.\n",
        "\n",
        "3: Huge countries."
      ]
    },
    {
      "cell_type": "code",
      "metadata": {
        "scrolled": true,
        "id": "I_3xe6hori6s",
        "colab_type": "code",
        "colab": {}
      },
      "source": [
        "labeled_world_bank_data_q5 = pd.Series(kmeans_q5.labels_, name = \"cluster\", index  = world_bank_data.index).to_frame()\n",
        "labeled_world_bank_data_q5"
      ],
      "execution_count": 0,
      "outputs": []
    },
    {
      "cell_type": "code",
      "metadata": {
        "id": "DVaqzGvOri6t",
        "colab_type": "code",
        "colab": {}
      },
      "source": [
        "list(labeled_world_bank_data_q5.query('cluster == 0').index)"
      ],
      "execution_count": 0,
      "outputs": []
    },
    {
      "cell_type": "code",
      "metadata": {
        "id": "O1cs5GpRri6w",
        "colab_type": "code",
        "colab": {}
      },
      "source": [
        "list(labeled_world_bank_data_q5.query('cluster == 1').index)"
      ],
      "execution_count": 0,
      "outputs": []
    },
    {
      "cell_type": "code",
      "metadata": {
        "id": "qkYKZWCUri6x",
        "colab_type": "code",
        "colab": {}
      },
      "source": [
        "list(labeled_world_bank_data_q5.query('cluster == 2').index)"
      ],
      "execution_count": 0,
      "outputs": []
    },
    {
      "cell_type": "code",
      "metadata": {
        "scrolled": true,
        "id": "ZCEyF_mTri6y",
        "colab_type": "code",
        "colab": {}
      },
      "source": [
        "list(labeled_world_bank_data_q5.query('cluster == 3').index)"
      ],
      "execution_count": 0,
      "outputs": []
    }
  ]
}