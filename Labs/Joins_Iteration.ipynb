{
  "nbformat": 4,
  "nbformat_minor": 0,
  "metadata": {
    "kernelspec": {
      "display_name": "Python 3",
      "language": "python",
      "name": "python3"
    },
    "language_info": {
      "codemirror_mode": {
        "name": "ipython",
        "version": 3
      },
      "file_extension": ".py",
      "mimetype": "text/x-python",
      "name": "python",
      "nbconvert_exporter": "python",
      "pygments_lexer": "ipython3",
      "version": "3.5.2"
    },
    "timetravel": {
      "allowedContentTypes": [
        "text/plain"
      ],
      "enabled": false,
      "version": "1.0"
    },
    "colab": {
      "name": "Joins_Iteration.ipynb",
      "provenance": []
    }
  },
  "cells": [
    {
      "cell_type": "markdown",
      "metadata": {
        "id": "OS_fxTRnyMTM",
        "colab_type": "text"
      },
      "source": [
        "Send this ipynb file with your code (solution) to econometrics.methods@gmail.com\n",
        "\n",
        "In the subject of the e-mail, copy and paste only the title of this file without the extension \".ipynb\"\n",
        "\n",
        "Write the name of the members of your group in the e-mail, and not here.\n",
        "\n",
        "Only one student will send me the solution. This student is responsible to copy other members of the group in the e-mail. \n"
      ]
    },
    {
      "cell_type": "code",
      "metadata": {
        "id": "IZmcY5XvyMxM",
        "colab_type": "code",
        "colab": {}
      },
      "source": [
        "import numpy as np\n",
        "from datascience import *\n",
        "\n",
        "%matplotlib inline\n",
        "import matplotlib.pyplot as plots\n",
        "plots.style.use('fivethirtyeight')"
      ],
      "execution_count": 0,
      "outputs": []
    },
    {
      "cell_type": "markdown",
      "metadata": {
        "id": "DSVKRNbrtV7d",
        "colab_type": "text"
      },
      "source": [
        "Topics to go over: \n",
        "    - Joins\n",
        "        - Implementation\n",
        "    - Iteration\n",
        "        - Comparison/Booleans\n",
        "        - Random Selection\n",
        "        - Control Statements"
      ]
    },
    {
      "cell_type": "markdown",
      "metadata": {
        "id": "D_fdPN1JtV7d",
        "colab_type": "text"
      },
      "source": [
        "# The Incumbency Effect\n",
        "The following table contains data about every congressional representative from the 50 states (DC is not included) from 1995 onward. If an entry contains \"nan\" it means that there is no entry (i.e. a middlename of \"nan\" means the congressman or woman had no middle name)."
      ]
    },
    {
      "cell_type": "code",
      "metadata": {
        "id": "e_Kh51-gtV7e",
        "colab_type": "code",
        "colab": {
          "base_uri": "https://localhost:8080/",
          "height": 425
        },
        "outputId": "7717b81c-a747-4e00-f769-be4ba0860439"
      },
      "source": [
        "path ='https://github.com/VitorKamada/DataScience/raw/master/Labs/Data/'\n",
        "congress = Table().read_table(path + \"congress-terms-since1995.csv\").drop(2,6,13,14).where(\"incumbent\", are.not_equal_to(\"nan\"))\n",
        "true_date = make_array()\n",
        "for i in congress.column(\"termstart\"):\n",
        "     true_date = np.append(true_date, int(i[:-5:-1][::-1]))\n",
        "congress = congress.with_column(\n",
        "    \"Term Start\", true_date).drop(\"termstart\")\n",
        "congress"
      ],
      "execution_count": 2,
      "outputs": [
        {
          "output_type": "execute_result",
          "data": {
            "text/html": [
              "<table border=\"1\" class=\"dataframe\">\n",
              "    <thead>\n",
              "        <tr>\n",
              "            <th>congress</th> <th>chamber</th> <th>firstname</th> <th>middlename</th> <th>lastname</th> <th>birthday</th> <th>state</th> <th>party</th> <th>incumbent</th> <th>age</th> <th>Term Start</th>\n",
              "        </tr>\n",
              "    </thead>\n",
              "    <tbody>\n",
              "        <tr>\n",
              "            <td>104     </td> <td>house  </td> <td>Sidney   </td> <td>Richard   </td> <td>Yates     </td> <td>8/27/1909</td> <td>IL   </td> <td>D    </td> <td>Yes      </td> <td>85.4</td> <td>1995      </td>\n",
              "        </tr>\n",
              "        <tr>\n",
              "            <td>104     </td> <td>house  </td> <td>James    </td> <td>Henry     </td> <td>Quillen   </td> <td>1/11/1916</td> <td>TN   </td> <td>R    </td> <td>Yes      </td> <td>79  </td> <td>1995      </td>\n",
              "        </tr>\n",
              "        <tr>\n",
              "            <td>104     </td> <td>house  </td> <td>Henry    </td> <td>Barbosa   </td> <td>González  </td> <td>5/3/1916 </td> <td>TX   </td> <td>D    </td> <td>Yes      </td> <td>78.7</td> <td>1995      </td>\n",
              "        </tr>\n",
              "        <tr>\n",
              "            <td>104     </td> <td>house  </td> <td>Sam      </td> <td>Melville  </td> <td>Gibbons   </td> <td>1/20/1920</td> <td>FL   </td> <td>D    </td> <td>Yes      </td> <td>75  </td> <td>1995      </td>\n",
              "        </tr>\n",
              "        <tr>\n",
              "            <td>104     </td> <td>house  </td> <td>George   </td> <td>E.        </td> <td>Brown     </td> <td>3/6/1920 </td> <td>CA   </td> <td>D    </td> <td>Yes      </td> <td>74.8</td> <td>1995      </td>\n",
              "        </tr>\n",
              "        <tr>\n",
              "            <td>104     </td> <td>house  </td> <td>Gillespie</td> <td>V.        </td> <td>Montgomery</td> <td>8/5/1920 </td> <td>MS   </td> <td>D    </td> <td>Yes      </td> <td>74.4</td> <td>1995      </td>\n",
              "        </tr>\n",
              "        <tr>\n",
              "            <td>104     </td> <td>house  </td> <td>Tom      </td> <td>nan       </td> <td>Bevill    </td> <td>3/27/1921</td> <td>AL   </td> <td>D    </td> <td>Yes      </td> <td>73.8</td> <td>1995      </td>\n",
              "        </tr>\n",
              "        <tr>\n",
              "            <td>104     </td> <td>house  </td> <td>Barbara  </td> <td>Farrell   </td> <td>Vucanovich</td> <td>6/22/1921</td> <td>NV   </td> <td>R    </td> <td>Yes      </td> <td>73.5</td> <td>1995      </td>\n",
              "        </tr>\n",
              "        <tr>\n",
              "            <td>104     </td> <td>house  </td> <td>Carlos   </td> <td>John      </td> <td>Moorhead  </td> <td>5/6/1922 </td> <td>CA   </td> <td>R    </td> <td>Yes      </td> <td>72.7</td> <td>1995      </td>\n",
              "        </tr>\n",
              "        <tr>\n",
              "            <td>104     </td> <td>house  </td> <td>Benjamin </td> <td>nan       </td> <td>Gilman    </td> <td>12/6/1922</td> <td>NY   </td> <td>R    </td> <td>Yes      </td> <td>72.1</td> <td>1995      </td>\n",
              "        </tr>\n",
              "    </tbody>\n",
              "</table>\n",
              "<p>... (5439 rows omitted)</p>"
            ],
            "text/plain": [
              "congress | chamber | firstname | middlename | lastname   | birthday  | state | party | incumbent | age  | Term Start\n",
              "104      | house   | Sidney    | Richard    | Yates      | 8/27/1909 | IL    | D     | Yes       | 85.4 | 1995\n",
              "104      | house   | James     | Henry      | Quillen    | 1/11/1916 | TN    | R     | Yes       | 79   | 1995\n",
              "104      | house   | Henry     | Barbosa    | González   | 5/3/1916  | TX    | D     | Yes       | 78.7 | 1995\n",
              "104      | house   | Sam       | Melville   | Gibbons    | 1/20/1920 | FL    | D     | Yes       | 75   | 1995\n",
              "104      | house   | George    | E.         | Brown      | 3/6/1920  | CA    | D     | Yes       | 74.8 | 1995\n",
              "104      | house   | Gillespie | V.         | Montgomery | 8/5/1920  | MS    | D     | Yes       | 74.4 | 1995\n",
              "104      | house   | Tom       | nan        | Bevill     | 3/27/1921 | AL    | D     | Yes       | 73.8 | 1995\n",
              "104      | house   | Barbara   | Farrell    | Vucanovich | 6/22/1921 | NV    | R     | Yes       | 73.5 | 1995\n",
              "104      | house   | Carlos    | John       | Moorhead   | 5/6/1922  | CA    | R     | Yes       | 72.7 | 1995\n",
              "104      | house   | Benjamin  | nan        | Gilman     | 12/6/1922 | NY    | R     | Yes       | 72.1 | 1995\n",
              "... (5439 rows omitted)"
            ]
          },
          "metadata": {
            "tags": []
          },
          "execution_count": 2
        }
      ]
    },
    {
      "cell_type": "markdown",
      "metadata": {
        "id": "M_IS70TDtV7h",
        "colab_type": "text"
      },
      "source": [
        "# Question 1.1:\n",
        "Often times people who've already served in office are said to have an incumbency advantage: an advantage that comes from having prior experience, a well known name, and franking priviledges (they can send mail without paying postage). But just how big is this supposed advantage? Is there an advantage?\n",
        "\n",
        "In the cell below find out what proportion of representatives have been incumbents since 1995."
      ]
    },
    {
      "cell_type": "code",
      "metadata": {
        "id": "r0r5T_kLtV7i",
        "colab_type": "code",
        "colab": {},
        "outputId": "1d0b2618-9fbb-47c9-e7b1-60e4ec03d499"
      },
      "source": [
        "prop_incumbents = \n",
        "prop_incumbents"
      ],
      "execution_count": 0,
      "outputs": [
        {
          "output_type": "error",
          "ename": "SyntaxError",
          "evalue": "invalid syntax (<ipython-input-4-143ed0d377dd>, line 1)",
          "traceback": [
            "\u001b[1;36m  File \u001b[1;32m\"<ipython-input-4-143ed0d377dd>\"\u001b[1;36m, line \u001b[1;32m1\u001b[0m\n\u001b[1;33m    prop_incumbents =\u001b[0m\n\u001b[1;37m                      ^\u001b[0m\n\u001b[1;31mSyntaxError\u001b[0m\u001b[1;31m:\u001b[0m invalid syntax\n"
          ]
        }
      ]
    },
    {
      "cell_type": "markdown",
      "metadata": {
        "id": "HGvpuVyrtV7l",
        "colab_type": "text"
      },
      "source": [
        "# Question 1.2\n",
        "Of course the House and the Senate differ in many ways, from term lengths, to number of representatives, to jurisdiction of powers. Does one chamber have a higher incidence of incumbent advantage that the other?"
      ]
    },
    {
      "cell_type": "code",
      "metadata": {
        "id": "Trwh7LCLtV7l",
        "colab_type": "code",
        "colab": {},
        "outputId": "4d2a35b2-daca-443f-8b25-4ca573290140"
      },
      "source": [
        "# house and senate are tables that only have data about their respective chambers \n",
        "house = \n",
        "senate = \n",
        "\n",
        "prop_incumbents_house = \n",
        "prop_incumbents_senate = \n",
        "\n",
        "print(\"Proportion of House who have been incumbents:\", prop_incumbents_house)\n",
        "print(\"Proportion of Senate who have been incumbents:\", prop_incumbents_senate)"
      ],
      "execution_count": 0,
      "outputs": [
        {
          "output_type": "error",
          "ename": "SyntaxError",
          "evalue": "invalid syntax (<ipython-input-5-0f2e5157c3ca>, line 2)",
          "traceback": [
            "\u001b[1;36m  File \u001b[1;32m\"<ipython-input-5-0f2e5157c3ca>\"\u001b[1;36m, line \u001b[1;32m2\u001b[0m\n\u001b[1;33m    house =\u001b[0m\n\u001b[1;37m            ^\u001b[0m\n\u001b[1;31mSyntaxError\u001b[0m\u001b[1;31m:\u001b[0m invalid syntax\n"
          ]
        }
      ]
    },
    {
      "cell_type": "markdown",
      "metadata": {
        "id": "B6Rz8hovtV7n",
        "colab_type": "text"
      },
      "source": [
        "So it would seem that the senate, at least since 1995, has had a more pronounced incumbency effect. I encourage you to think about why this may be"
      ]
    },
    {
      "cell_type": "markdown",
      "metadata": {
        "id": "8WlA7HmwtV7o",
        "colab_type": "text"
      },
      "source": [
        "# Parties of Congressional Representatives\n",
        "Next, we are going to find what proportion of each state's representatives, since 1995, have been Republican or Democrat. Eventually, we're going to use that information to build a map."
      ]
    },
    {
      "cell_type": "markdown",
      "metadata": {
        "id": "qFPHKi-htV7p",
        "colab_type": "text"
      },
      "source": [
        "First, let's see how the composition of each chamber Congress has changed since 1995."
      ]
    },
    {
      "cell_type": "code",
      "metadata": {
        "id": "ZSUg-p94tV7p",
        "colab_type": "code",
        "colab": {
          "base_uri": "https://localhost:8080/",
          "height": 362
        },
        "outputId": "72e34e93-cdd0-4df6-e796-79e648b26682"
      },
      "source": [
        "#run cell\n",
        "house_plot = congress.where(\"chamber\", \"house\").pivot(\"party\", \"Term Start\").select(\"Term Start\", \"D\", \"R\")\\\n",
        ".relabeled(\"D\", \"Democrats\").relabeled(\"R\", \"Republicans\").scatter(0)\n",
        "house_plot"
      ],
      "execution_count": 3,
      "outputs": [
        {
          "output_type": "display_data",
          "data": {
            "image/png": "[encoded data removed]",
            "text/plain": [
              "<Figure size 360x360 with 1 Axes>"
            ]
          },
          "metadata": {
            "tags": []
          }
        }
      ]
    },
    {
      "cell_type": "code",
      "metadata": {
        "id": "xvV7oJbutV7r",
        "colab_type": "code",
        "colab": {
          "base_uri": "https://localhost:8080/",
          "height": 362
        },
        "outputId": "15217234-fccb-4a98-e9de-8c980a7b8430"
      },
      "source": [
        "#run cell\n",
        "senate_plot = congress.where(\"chamber\", \"senate\").pivot(\"party\", \"Term Start\").select(\"Term Start\", \"D\", \"R\")\\\n",
        ".relabeled(\"D\", \"Democrats\").relabeled(\"R\", \"Republicans\").scatter(0)\n",
        "senate_plot"
      ],
      "execution_count": 4,
      "outputs": [
        {
          "output_type": "display_data",
          "data": {
            "image/png": "[encoded data removed]",
            "text/plain": [
              "<Figure size 360x360 with 1 Axes>"
            ]
          },
          "metadata": {
            "tags": []
          }
        }
      ]
    },
    {
      "cell_type": "markdown",
      "metadata": {
        "id": "Nx_UdNTTtV7t",
        "colab_type": "text"
      },
      "source": [
        "Obviously, the composition of congress has changed dramatically over the past few years. For the sake of simplicity, we'll only be looking at the overall proportion of democratic versus republican representatives a state has had in the given time."
      ]
    },
    {
      "cell_type": "markdown",
      "metadata": {
        "id": "nNUCYjODtV7u",
        "colab_type": "text"
      },
      "source": [
        "The following cell creates a table called states that associates each state with the latitude and longitude of one of it's cities (for our purposes it doesn't matter which city it is, so long as the coordinates correspond with a point within each State's borders)."
      ]
    },
    {
      "cell_type": "code",
      "metadata": {
        "id": "ceeOyLaNtV7u",
        "colab_type": "code",
        "colab": {
          "base_uri": "https://localhost:8080/",
          "height": 388
        },
        "outputId": "9fdbcbdd-1f2b-46cf-e403-d9bac7eda8f9"
      },
      "source": [
        "#run cell\n",
        "path ='https://github.com/VitorKamada/DataScience/raw/master/Labs/Data/'\n",
        "abbreviations = Table().read_table(path + \"State_names_w_abbreviations.csv\")\n",
        "states_w_cities = Table.read_table(path + \"zip_codes_states.csv\").where(\n",
        "    \"latitude\", are.between_or_equal_to(0.01,360))\n",
        "states = abbreviations.join(\"Abbreviation\", states_w_cities, \"state\").drop(2,5,6)\n",
        "states"
      ],
      "execution_count": 5,
      "outputs": [
        {
          "output_type": "execute_result",
          "data": {
            "text/html": [
              "<table border=\"1\" class=\"dataframe\">\n",
              "    <thead>\n",
              "        <tr>\n",
              "            <th>Abbreviation</th> <th>US State</th> <th>latitude</th> <th>longitude</th>\n",
              "        </tr>\n",
              "    </thead>\n",
              "    <tbody>\n",
              "        <tr>\n",
              "            <td>AK          </td> <td>Alaska  </td> <td>61.2876 </td> <td>-149.487 </td>\n",
              "        </tr>\n",
              "        <tr>\n",
              "            <td>AK          </td> <td>Alaska  </td> <td>61.1661 </td> <td>-149.96  </td>\n",
              "        </tr>\n",
              "        <tr>\n",
              "            <td>AK          </td> <td>Alaska  </td> <td>61.1884 </td> <td>-149.894 </td>\n",
              "        </tr>\n",
              "        <tr>\n",
              "            <td>AK          </td> <td>Alaska  </td> <td>61.2053 </td> <td>-149.772 </td>\n",
              "        </tr>\n",
              "        <tr>\n",
              "            <td>AK          </td> <td>Alaska  </td> <td>61.2591 </td> <td>-149.69  </td>\n",
              "        </tr>\n",
              "        <tr>\n",
              "            <td>AK          </td> <td>Alaska  </td> <td>61.2574 </td> <td>-149.804 </td>\n",
              "        </tr>\n",
              "        <tr>\n",
              "            <td>AK          </td> <td>Alaska  </td> <td>61.1519 </td> <td>-149.776 </td>\n",
              "        </tr>\n",
              "        <tr>\n",
              "            <td>AK          </td> <td>Alaska  </td> <td>61.2051 </td> <td>-149.823 </td>\n",
              "        </tr>\n",
              "        <tr>\n",
              "            <td>AK          </td> <td>Alaska  </td> <td>61.1089 </td> <td>-149.44  </td>\n",
              "        </tr>\n",
              "        <tr>\n",
              "            <td>AK          </td> <td>Alaska  </td> <td>61.1446 </td> <td>-149.878 </td>\n",
              "        </tr>\n",
              "    </tbody>\n",
              "</table>\n",
              "<p>... (41539 rows omitted)</p>"
            ],
            "text/plain": [
              "Abbreviation | US State | latitude | longitude\n",
              "AK           | Alaska   | 61.2876  | -149.487\n",
              "AK           | Alaska   | 61.1661  | -149.96\n",
              "AK           | Alaska   | 61.1884  | -149.894\n",
              "AK           | Alaska   | 61.2053  | -149.772\n",
              "AK           | Alaska   | 61.2591  | -149.69\n",
              "AK           | Alaska   | 61.2574  | -149.804\n",
              "AK           | Alaska   | 61.1519  | -149.776\n",
              "AK           | Alaska   | 61.2051  | -149.823\n",
              "AK           | Alaska   | 61.1089  | -149.44\n",
              "AK           | Alaska   | 61.1446  | -149.878\n",
              "... (41539 rows omitted)"
            ]
          },
          "metadata": {
            "tags": []
          },
          "execution_count": 5
        }
      ]
    },
    {
      "cell_type": "markdown",
      "metadata": {
        "id": "y82p3yvHtV7w",
        "colab_type": "text"
      },
      "source": [
        "# Question 2.1\n",
        "Now that we have a table with congressional data and one with coordinates associated with each state, it will be of some use to us to join the 2 tables. \n",
        "Use the .join method to create a new table that has a row for every representative and has all of the old congressional data PLUS the new longitude and latitude data. \n",
        "(Remember, the order you use .join matters. congress.join(-arguments-) is not the same as states.join(-arguments-)!!)"
      ]
    },
    {
      "cell_type": "code",
      "metadata": {
        "id": "LvJaxFW0tV7x",
        "colab_type": "code",
        "colab": {},
        "outputId": "ceefc0c7-ce2a-47a1-e3a9-6b63e8302aa8"
      },
      "source": [
        "combined = \n",
        "combined"
      ],
      "execution_count": 0,
      "outputs": [
        {
          "output_type": "error",
          "ename": "SyntaxError",
          "evalue": "invalid syntax (<ipython-input-9-f54882f2eb59>, line 1)",
          "traceback": [
            "\u001b[1;36m  File \u001b[1;32m\"<ipython-input-9-f54882f2eb59>\"\u001b[1;36m, line \u001b[1;32m1\u001b[0m\n\u001b[1;33m    combined =\u001b[0m\n\u001b[1;37m               ^\u001b[0m\n\u001b[1;31mSyntaxError\u001b[0m\u001b[1;31m:\u001b[0m invalid syntax\n"
          ]
        }
      ]
    },
    {
      "cell_type": "markdown",
      "metadata": {
        "collapsed": true,
        "id": "YRLB2yL9tV8Q",
        "colab_type": "text"
      },
      "source": [
        "# Making Comparisons"
      ]
    },
    {
      "cell_type": "code",
      "metadata": {
        "id": "kV6XTPaOtV8Q",
        "colab_type": "code",
        "colab": {
          "base_uri": "https://localhost:8080/",
          "height": 388
        },
        "outputId": "9410a7d3-2f74-46db-c1be-3b9693cc520b"
      },
      "source": [
        "path ='https://github.com/VitorKamada/DataScience/raw/master/Labs/Data/'\n",
        "actors = Table.read_table(path + 'actors.csv')\n",
        "actors"
      ],
      "execution_count": 6,
      "outputs": [
        {
          "output_type": "execute_result",
          "data": {
            "text/html": [
              "<table border=\"1\" class=\"dataframe\">\n",
              "    <thead>\n",
              "        <tr>\n",
              "            <th>Actor</th> <th>Total Gross</th> <th>Number of Movies</th> <th>Average per Movie</th> <th>#1 Movie</th> <th>Gross</th>\n",
              "        </tr>\n",
              "    </thead>\n",
              "    <tbody>\n",
              "        <tr>\n",
              "            <td>Harrison Ford     </td> <td>4871.7     </td> <td>41              </td> <td>118.8            </td> <td>Star Wars: The Force Awakens</td> <td>936.7</td>\n",
              "        </tr>\n",
              "        <tr>\n",
              "            <td>Samuel L. Jackson </td> <td>4772.8     </td> <td>69              </td> <td>69.2             </td> <td>The Avengers                </td> <td>623.4</td>\n",
              "        </tr>\n",
              "        <tr>\n",
              "            <td>Morgan Freeman    </td> <td>4468.3     </td> <td>61              </td> <td>73.3             </td> <td>The Dark Knight             </td> <td>534.9</td>\n",
              "        </tr>\n",
              "        <tr>\n",
              "            <td>Tom Hanks         </td> <td>4340.8     </td> <td>44              </td> <td>98.7             </td> <td>Toy Story 3                 </td> <td>415  </td>\n",
              "        </tr>\n",
              "        <tr>\n",
              "            <td>Robert Downey, Jr.</td> <td>3947.3     </td> <td>53              </td> <td>74.5             </td> <td>The Avengers                </td> <td>623.4</td>\n",
              "        </tr>\n",
              "        <tr>\n",
              "            <td>Eddie Murphy      </td> <td>3810.4     </td> <td>38              </td> <td>100.3            </td> <td>Shrek 2                     </td> <td>441.2</td>\n",
              "        </tr>\n",
              "        <tr>\n",
              "            <td>Tom Cruise        </td> <td>3587.2     </td> <td>36              </td> <td>99.6             </td> <td>War of the Worlds           </td> <td>234.3</td>\n",
              "        </tr>\n",
              "        <tr>\n",
              "            <td>Johnny Depp       </td> <td>3368.6     </td> <td>45              </td> <td>74.9             </td> <td>Dead Man's Chest            </td> <td>423.3</td>\n",
              "        </tr>\n",
              "        <tr>\n",
              "            <td>Michael Caine     </td> <td>3351.5     </td> <td>58              </td> <td>57.8             </td> <td>The Dark Knight             </td> <td>534.9</td>\n",
              "        </tr>\n",
              "        <tr>\n",
              "            <td>Scarlett Johansson</td> <td>3341.2     </td> <td>37              </td> <td>90.3             </td> <td>The Avengers                </td> <td>623.4</td>\n",
              "        </tr>\n",
              "    </tbody>\n",
              "</table>\n",
              "<p>... (40 rows omitted)</p>"
            ],
            "text/plain": [
              "Actor              | Total Gross | Number of Movies | Average per Movie | #1 Movie                     | Gross\n",
              "Harrison Ford      | 4871.7      | 41               | 118.8             | Star Wars: The Force Awakens | 936.7\n",
              "Samuel L. Jackson  | 4772.8      | 69               | 69.2              | The Avengers                 | 623.4\n",
              "Morgan Freeman     | 4468.3      | 61               | 73.3              | The Dark Knight              | 534.9\n",
              "Tom Hanks          | 4340.8      | 44               | 98.7              | Toy Story 3                  | 415\n",
              "Robert Downey, Jr. | 3947.3      | 53               | 74.5              | The Avengers                 | 623.4\n",
              "Eddie Murphy       | 3810.4      | 38               | 100.3             | Shrek 2                      | 441.2\n",
              "Tom Cruise         | 3587.2      | 36               | 99.6              | War of the Worlds            | 234.3\n",
              "Johnny Depp        | 3368.6      | 45               | 74.9              | Dead Man's Chest             | 423.3\n",
              "Michael Caine      | 3351.5      | 58               | 57.8              | The Dark Knight              | 534.9\n",
              "Scarlett Johansson | 3341.2      | 37               | 90.3              | The Avengers                 | 623.4\n",
              "... (40 rows omitted)"
            ]
          },
          "metadata": {
            "tags": []
          },
          "execution_count": 6
        }
      ]
    },
    {
      "cell_type": "markdown",
      "metadata": {
        "id": "cdZNv2uEtV8S",
        "colab_type": "text"
      },
      "source": [
        "1.1 Find the number of actors whose number of movies are greater than 50 by using the table method \".where\"."
      ]
    },
    {
      "cell_type": "code",
      "metadata": {
        "id": "AhZCmJR-tV8S",
        "colab_type": "code",
        "colab": {},
        "outputId": "647d8625-282d-4d62-ccf2-07f6244382f3"
      },
      "source": [
        "..."
      ],
      "execution_count": 0,
      "outputs": [
        {
          "output_type": "execute_result",
          "data": {
            "text/plain": [
              "Ellipsis"
            ]
          },
          "metadata": {
            "tags": []
          },
          "execution_count": 21
        }
      ]
    },
    {
      "cell_type": "markdown",
      "metadata": {
        "id": "hxvozsT-tV8W",
        "colab_type": "text"
      },
      "source": [
        "1.2 Find the number of actors whose number of movies are greater than 50 without using the table method \".where\"."
      ]
    },
    {
      "cell_type": "code",
      "metadata": {
        "id": "5vQI37zftV8X",
        "colab_type": "code",
        "colab": {},
        "outputId": "d7503548-3d1d-44b4-96ba-47032b9cf50d"
      },
      "source": [
        "..."
      ],
      "execution_count": 0,
      "outputs": [
        {
          "output_type": "execute_result",
          "data": {
            "text/plain": [
              "Ellipsis"
            ]
          },
          "metadata": {
            "tags": []
          },
          "execution_count": 22
        }
      ]
    },
    {
      "cell_type": "markdown",
      "metadata": {
        "id": "YSGyEpJItV8Z",
        "colab_type": "text"
      },
      "source": [
        "# Conditional Statement Review"
      ]
    },
    {
      "cell_type": "markdown",
      "metadata": {
        "id": "c-ldJPPbtV8Z",
        "colab_type": "text"
      },
      "source": [
        "Chained Conditional Statement\n",
        "\n",
        "if x < y:\n",
        "\n",
        "    STATEMENTS_A\n",
        "    \n",
        "elif x > y:\n",
        "\n",
        "    STATEMENTS_B\n",
        "    \n",
        "else:\n",
        "\n",
        "    STATEMENTS_C"
      ]
    },
    {
      "cell_type": "markdown",
      "metadata": {
        "id": "pVJ5CJy7tV8a",
        "colab_type": "text"
      },
      "source": [
        "Nested Conditional Statement\n",
        "\n",
        "if x < y:\n",
        "\n",
        "    STATEMENTS_A\n",
        "    \n",
        "else:\n",
        "\n",
        "    if x > y:\n",
        "    \n",
        "        STATEMENTS_B\n",
        "        \n",
        "    else:\n",
        "    \n",
        "        STATEMENTS_C"
      ]
    },
    {
      "cell_type": "markdown",
      "metadata": {
        "id": "CaC7Bft3tV8a",
        "colab_type": "text"
      },
      "source": [
        "2.1 Write a function that take in a string username and a string password and verify if the username and password match with the provided information."
      ]
    },
    {
      "cell_type": "code",
      "metadata": {
        "id": "zoEV4eOCtV8b",
        "colab_type": "code",
        "colab": {}
      },
      "source": [
        "myusername = \"aliceinwonderland\"\n",
        "mypassword = \"ilovenutella\"\n",
        "\n",
        "def verify(username, password):\n",
        "    #if the username is not correct, print out an error message \"No user found\"\n",
        "    \n",
        "    #if the username is correct but the password is not, \n",
        "    #print out an error message \"The password entered is not correct\"\n",
        "    \n",
        "    #if both the username and password are correct, print out \"Welcome back!\"\n",
        "    ..."
      ],
      "execution_count": 0,
      "outputs": []
    },
    {
      "cell_type": "code",
      "metadata": {
        "id": "JhbimUvotV8c",
        "colab_type": "code",
        "colab": {}
      },
      "source": [
        "# run verify(myusername, mypassword) to see if you implement the function correctly\n",
        "verify(myusername, mypassword)"
      ],
      "execution_count": 0,
      "outputs": []
    },
    {
      "cell_type": "markdown",
      "metadata": {
        "id": "TSudizTftV8e",
        "colab_type": "text"
      },
      "source": [
        "# Iteration"
      ]
    },
    {
      "cell_type": "markdown",
      "metadata": {
        "id": "wOCgw0JntV8e",
        "colab_type": "text"
      },
      "source": [
        "3.1 Write a function that takes in a list of numbers and prints out all the negative numbers from the list."
      ]
    },
    {
      "cell_type": "code",
      "metadata": {
        "id": "_8K1GXUitV8f",
        "colab_type": "code",
        "colab": {}
      },
      "source": [
        "def printnegative(mylist):\n",
        "    ..."
      ],
      "execution_count": 0,
      "outputs": []
    },
    {
      "cell_type": "code",
      "metadata": {
        "id": "JI9zw_ZwtV8h",
        "colab_type": "code",
        "colab": {}
      },
      "source": [
        "#verify if the function above behaves correctly\n",
        "mylist = make_array(1,-1,4,0,-7,-12,3,-3)\n",
        "printnegative(mylist)"
      ],
      "execution_count": 0,
      "outputs": []
    }
  ]
}