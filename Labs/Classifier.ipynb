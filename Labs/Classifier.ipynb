{
  "nbformat": 4,
  "nbformat_minor": 0,
  "metadata": {
    "kernelspec": {
      "display_name": "Python 3",
      "language": "python",
      "name": "python3"
    },
    "language_info": {
      "codemirror_mode": {
        "name": "ipython",
        "version": 3
      },
      "file_extension": ".py",
      "mimetype": "text/x-python",
      "name": "python",
      "nbconvert_exporter": "python",
      "pygments_lexer": "ipython3",
      "version": "3.5.2"
    },
    "colab": {
      "name": "Classifier.ipynb",
      "provenance": []
    }
  },
  "cells": [
    {
      "cell_type": "markdown",
      "metadata": {
        "id": "kw8JJJlW9GxC",
        "colab_type": "text"
      },
      "source": [
        "Send this ipynb file with your code (solution) to econometrics.methods@gmail.com\n",
        "\n",
        "In the subject of the e-mail, copy and paste only the title of this file without the extension \".ipynb\"\n",
        "\n",
        "Write the name of the members of your group in the e-mail, and not here.\n",
        "\n",
        "Only one student will send me the solution. This student is responsible to copy other members of the group in the e-mail. \n"
      ]
    },
    {
      "cell_type": "code",
      "metadata": {
        "id": "9U1uvmv59G9I",
        "colab_type": "code",
        "colab": {}
      },
      "source": [
        "# HIDDEN\n",
        "import matplotlib\n",
        "#matplotlib.use('Agg')\n",
        "from datascience import *\n",
        "%matplotlib inline\n",
        "import matplotlib.pyplot as plt\n",
        "from mpl_toolkits.mplot3d import Axes3D\n",
        "import numpy as np\n",
        "import math\n",
        "import scipy.stats as stats\n",
        "plt.style.use('fivethirtyeight')"
      ],
      "execution_count": 0,
      "outputs": []
    },
    {
      "cell_type": "markdown",
      "metadata": {
        "deletable": true,
        "editable": true,
        "id": "foyh-4rt6cgf",
        "colab_type": "text"
      },
      "source": [
        "# 1. Classifier"
      ]
    },
    {
      "cell_type": "code",
      "metadata": {
        "deletable": true,
        "editable": true,
        "id": "41c6nce46cgi",
        "colab_type": "code",
        "colab": {
          "base_uri": "https://localhost:8080/",
          "height": 388
        },
        "outputId": "1a508219-33f2-43c7-fe71-be956cd52d7f"
      },
      "source": [
        "path ='https://github.com/VitorKamada/DataScience/raw/master/Labs/Data/'\n",
        "iris = Table.read_table(path +'iris.csv')\n",
        "iris.show(10)\n"
      ],
      "execution_count": 2,
      "outputs": [
        {
          "output_type": "display_data",
          "data": {
            "text/html": [
              "<table border=\"1\" class=\"dataframe\">\n",
              "    <thead>\n",
              "        <tr>\n",
              "            <th>sepal_length</th> <th>sepal_width</th> <th>petal_length</th> <th>petal_width</th> <th>species</th>\n",
              "        </tr>\n",
              "    </thead>\n",
              "    <tbody>\n",
              "        <tr>\n",
              "            <td>5.1         </td> <td>3.5        </td> <td>1.4         </td> <td>0.2        </td> <td>setosa </td>\n",
              "        </tr>\n",
              "        <tr>\n",
              "            <td>4.9         </td> <td>3          </td> <td>1.4         </td> <td>0.2        </td> <td>setosa </td>\n",
              "        </tr>\n",
              "        <tr>\n",
              "            <td>4.7         </td> <td>3.2        </td> <td>1.3         </td> <td>0.2        </td> <td>setosa </td>\n",
              "        </tr>\n",
              "        <tr>\n",
              "            <td>4.6         </td> <td>3.1        </td> <td>1.5         </td> <td>0.2        </td> <td>setosa </td>\n",
              "        </tr>\n",
              "        <tr>\n",
              "            <td>5           </td> <td>3.6        </td> <td>1.4         </td> <td>0.2        </td> <td>setosa </td>\n",
              "        </tr>\n",
              "        <tr>\n",
              "            <td>5.4         </td> <td>3.9        </td> <td>1.7         </td> <td>0.4        </td> <td>setosa </td>\n",
              "        </tr>\n",
              "        <tr>\n",
              "            <td>4.6         </td> <td>3.4        </td> <td>1.4         </td> <td>0.3        </td> <td>setosa </td>\n",
              "        </tr>\n",
              "        <tr>\n",
              "            <td>5           </td> <td>3.4        </td> <td>1.5         </td> <td>0.2        </td> <td>setosa </td>\n",
              "        </tr>\n",
              "        <tr>\n",
              "            <td>4.4         </td> <td>2.9        </td> <td>1.4         </td> <td>0.2        </td> <td>setosa </td>\n",
              "        </tr>\n",
              "        <tr>\n",
              "            <td>4.9         </td> <td>3.1        </td> <td>1.5         </td> <td>0.1        </td> <td>setosa </td>\n",
              "        </tr>\n",
              "    </tbody>\n",
              "</table>\n",
              "<p>... (140 rows omitted)</p>"
            ],
            "text/plain": [
              "<IPython.core.display.HTML object>"
            ]
          },
          "metadata": {
            "tags": []
          }
        }
      ]
    },
    {
      "cell_type": "markdown",
      "metadata": {
        "deletable": true,
        "editable": true,
        "id": "SPQ7UvTz6cgk",
        "colab_type": "text"
      },
      "source": [
        "#### Question 1 \n",
        "\n",
        "List all the features and classes on the table above (you might use code to help you find all classes)."
      ]
    },
    {
      "cell_type": "markdown",
      "metadata": {
        "deletable": true,
        "editable": true,
        "id": "qJrdKcSj6cgl",
        "colab_type": "text"
      },
      "source": [
        "\\# TODO: Your answer here."
      ]
    },
    {
      "cell_type": "code",
      "metadata": {
        "deletable": true,
        "editable": true,
        "id": "IPf0A4sP6cgm",
        "colab_type": "code",
        "colab": {}
      },
      "source": [
        "# Now we assign a color to each class\n",
        "\n",
        "color_table = Table().with_columns(\n",
        "    'species', make_array('setosa','versicolor','virginica'),\n",
        "    'Color', make_array('darkblue', 'gold', 'lightblue')\n",
        ")\n",
        "\n",
        "iris = iris.join('species', color_table).drop(6,7)\n",
        "\n",
        "iris\n"
      ],
      "execution_count": 0,
      "outputs": []
    },
    {
      "cell_type": "markdown",
      "metadata": {
        "deletable": true,
        "editable": true,
        "id": "NZKfDr2b6cgo",
        "colab_type": "text"
      },
      "source": [
        "#### Question 2\n",
        "\n",
        "Create a scatter graph using only the first 2 features. Is it enough to distinguish the three species?"
      ]
    },
    {
      "cell_type": "markdown",
      "metadata": {
        "deletable": true,
        "editable": true,
        "id": "-NcT3yMS6cgo",
        "colab_type": "text"
      },
      "source": [
        "\\# TODO: Your answer here."
      ]
    },
    {
      "cell_type": "code",
      "metadata": {
        "deletable": true,
        "editable": true,
        "id": "LbTCUn3y6cgp",
        "colab_type": "code",
        "colab": {}
      },
      "source": [
        "# TODO: Your solution here."
      ],
      "execution_count": 0,
      "outputs": []
    },
    {
      "cell_type": "markdown",
      "metadata": {
        "deletable": true,
        "editable": true,
        "id": "k5Irwrqs6cgr",
        "colab_type": "text"
      },
      "source": [
        "#### Question 3\n",
        "\n",
        "Now we have a unknown iris with sepal_length = 5.1 and  sepal_width= 4.2. Can you classify it? Also, what about an unknown iris with sepal_length = 6 and  sepal_width= 3?"
      ]
    },
    {
      "cell_type": "markdown",
      "metadata": {
        "deletable": true,
        "editable": true,
        "id": "4SBoR0ms6cgr",
        "colab_type": "text"
      },
      "source": [
        "\\# TODO: Your answer here."
      ]
    },
    {
      "cell_type": "code",
      "metadata": {
        "deletable": true,
        "editable": true,
        "id": "7VSbR-rl6cgs",
        "colab_type": "code",
        "colab": {}
      },
      "source": [
        "#Here we make a 3d scatter graph adding one more feature - petal_length.\n",
        "\n",
        "ax = plt.figure(figsize=(8,8)).add_subplot(111, projection='3d')\n",
        "ax.scatter(iris.column('sepal_length'), \n",
        "           iris.column('sepal_width'), \n",
        "           iris.column('petal_length'), \n",
        "           c=iris.column('Color'));\n",
        "\n",
        "# Can you see the light blue dots and gold dots are separted? What if we add more features?"
      ],
      "execution_count": 0,
      "outputs": []
    },
    {
      "cell_type": "markdown",
      "metadata": {
        "deletable": true,
        "editable": true,
        "id": "RiUu9Lvr6cgu",
        "colab_type": "text"
      },
      "source": [
        "#### Question 4 \n",
        "\n",
        "Now, can you classify an unknown iris with sepal_length = 6, sepal_width= 3, and petal_length = 5.7?"
      ]
    },
    {
      "cell_type": "markdown",
      "metadata": {
        "deletable": true,
        "editable": true,
        "id": "16hNzUks6cgv",
        "colab_type": "text"
      },
      "source": [
        "\\# TODO: Your answer here."
      ]
    },
    {
      "cell_type": "markdown",
      "metadata": {
        "deletable": true,
        "editable": true,
        "id": "Ki9bljqR6cgv",
        "colab_type": "text"
      },
      "source": [
        "#### Question 5\n",
        "\n",
        "Calculate the distance between iris.row(0) and iris.row(100), iris.row(0) and iris.row(1) using the distance formula."
      ]
    },
    {
      "cell_type": "code",
      "metadata": {
        "deletable": true,
        "editable": true,
        "id": "TaDrqJsD6cgw",
        "colab_type": "code",
        "colab": {}
      },
      "source": [
        "# TODO: Your solution here."
      ],
      "execution_count": 0,
      "outputs": []
    },
    {
      "cell_type": "markdown",
      "metadata": {
        "deletable": true,
        "editable": true,
        "id": "bzi9JpYu6cgx",
        "colab_type": "text"
      },
      "source": [
        "# 2. Comparing Two Samples"
      ]
    },
    {
      "cell_type": "code",
      "metadata": {
        "deletable": true,
        "editable": true,
        "id": "dWvgp5So6cgy",
        "colab_type": "code",
        "colab": {}
      },
      "source": [
        "iris_petal_width = iris.select('species', 'petal_width')\n",
        "iris_petal_width"
      ],
      "execution_count": 0,
      "outputs": []
    },
    {
      "cell_type": "code",
      "metadata": {
        "deletable": true,
        "editable": true,
        "id": "c2FmpX086cg0",
        "colab_type": "code",
        "colab": {}
      },
      "source": [
        "iris_petal_width_pivot = iris_petal_width.pivot('species', 'petal_width')\n",
        "iris_petal_width_pivot"
      ],
      "execution_count": 0,
      "outputs": []
    },
    {
      "cell_type": "code",
      "metadata": {
        "deletable": true,
        "editable": true,
        "id": "Xh9L7BRq6cg3",
        "colab_type": "code",
        "colab": {}
      },
      "source": [
        "def proportions(array):\n",
        "    return array/np.sum(array)\n",
        "\n",
        "iris_dists = iris_petal_width_pivot.select(0).with_columns(\n",
        "   'setosa', proportions(iris_petal_width_pivot.column('setosa')),\n",
        "    'versicolor', proportions(iris_petal_width_pivot.column('versicolor')),\n",
        "    'virginica', proportions(iris_petal_width_pivot.column('virginica'))\n",
        ")\n",
        "\n",
        "iris_dists.barh('petal_width')"
      ],
      "execution_count": 0,
      "outputs": []
    },
    {
      "cell_type": "markdown",
      "metadata": {
        "deletable": true,
        "editable": true,
        "id": "yQ3ILRkh6cg5",
        "colab_type": "text"
      },
      "source": [
        "#### Question 1 \n",
        "\n",
        "Do the 3 distributions look the same or very different? "
      ]
    },
    {
      "cell_type": "markdown",
      "metadata": {
        "deletable": true,
        "editable": true,
        "id": "1fY7m4cv6cg6",
        "colab_type": "text"
      },
      "source": [
        "\\# TODO: Your answer here."
      ]
    },
    {
      "cell_type": "markdown",
      "metadata": {
        "deletable": true,
        "editable": true,
        "id": "JzM37eWN6cg6",
        "colab_type": "text"
      },
      "source": [
        "#### Question 2\n",
        "\n",
        "Contruct a simple but accurate classifier based on the observation you have for these distinct distributions.\n",
        "\n",
        "**Describe how you would classify a data point given simple restraints on feature values.**"
      ]
    },
    {
      "cell_type": "markdown",
      "metadata": {
        "deletable": true,
        "editable": true,
        "id": "bCaXWmJa6cg7",
        "colab_type": "text"
      },
      "source": [
        "\\# TODO: Your answer here."
      ]
    },
    {
      "cell_type": "markdown",
      "metadata": {
        "collapsed": true,
        "deletable": true,
        "editable": true,
        "id": "5GCfdxMr6cg8",
        "colab_type": "text"
      },
      "source": [
        "# 3. A Potpourri of Tests"
      ]
    },
    {
      "cell_type": "markdown",
      "metadata": {
        "deletable": true,
        "editable": true,
        "id": "En9DQGc-6cg8",
        "colab_type": "text"
      },
      "source": [
        "#### Question 1\n",
        "Many scientific disciplines use 5% as a standard cutoff for rejecting the null hypothesis when conducting hypothesis tests.  Suppose for sake of argument that every scientific paper hinges on exactly one hypothesis test with a 5% cutoff.  After learning about hypothesis testing, Thomas despairs about the state of scientific research, wondering:\n",
        "\n",
        "> \"Doesn't this mean that 5% of all scientific papers are wrong?\"\n",
        "\n",
        "Give one reason why Thomas's worry isn't quite accurate."
      ]
    },
    {
      "cell_type": "markdown",
      "metadata": {
        "deletable": true,
        "editable": true,
        "id": "HSaBSYcV6cg9",
        "colab_type": "text"
      },
      "source": [
        "\\# TODO: Your answer here."
      ]
    },
    {
      "cell_type": "markdown",
      "metadata": {
        "deletable": true,
        "editable": true,
        "id": "3gs71Yak6cg9",
        "colab_type": "text"
      },
      "source": [
        "#### Question 2\n",
        "Many scientists hope to make exciting and unintuitive discoveries.  Often the null hypothesis in an hypothesis test is something boring (\"the sky is blue\"), while the alternative is surprising (\"the sky is not blue!\").\n",
        "\n",
        "Suppose a scientist has an exciting but incorrect idea, so that their null hypothesis is *truly correct*.  When an hypothesis test is run on a sample of data, it fails to reject the null when using a 5% cutoff.  Disappointed but determined, the scientist gathers 10 more samples and runs the same test on each sample (running 10 separate hypothesis tests, each with a 5% cutoff).  If any of the tests rejects the null, the scientist publishes that one.  What is the chance that any of those tests rejects the null hypothesis?"
      ]
    },
    {
      "cell_type": "markdown",
      "metadata": {
        "deletable": true,
        "editable": true,
        "id": "4zo4A7sF6cg-",
        "colab_type": "text"
      },
      "source": [
        "\\# TODO: Your answer here."
      ]
    },
    {
      "cell_type": "markdown",
      "metadata": {
        "deletable": true,
        "editable": true,
        "id": "2Pns2hD46cg_",
        "colab_type": "text"
      },
      "source": [
        "**Note:** The scientist in this scenario is acting very unethically, but (probably milder) forms of this [*publication bias*](https://en.wikipedia.org/wiki/Publication_bias) seem to be a real problem in science today."
      ]
    },
    {
      "cell_type": "markdown",
      "metadata": {
        "deletable": true,
        "editable": true,
        "id": "oGJLRAuF6chA",
        "colab_type": "text"
      },
      "source": [
        "#### Question 3\n",
        "Explain one advantage and one disadvantage of using a very high confidence level like 99.9999% when computing a confidence interval.  Describe a situation where you would advise using such a high confidence level."
      ]
    },
    {
      "cell_type": "markdown",
      "metadata": {
        "deletable": true,
        "editable": true,
        "id": "erk8muHd6chB",
        "colab_type": "text"
      },
      "source": [
        "\\# TODO: Your answer here."
      ]
    }
  ]
}