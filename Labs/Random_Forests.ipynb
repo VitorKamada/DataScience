{
  "nbformat": 4,
  "nbformat_minor": 0,
  "metadata": {
    "celltoolbar": "Create Assignment",
    "kernelspec": {
      "display_name": "Python 3",
      "language": "python",
      "name": "python3"
    },
    "language_info": {
      "codemirror_mode": {
        "name": "ipython",
        "version": 3
      },
      "file_extension": ".py",
      "mimetype": "text/x-python",
      "name": "python",
      "nbconvert_exporter": "python",
      "pygments_lexer": "ipython3",
      "version": "3.6.4"
    },
    "colab": {
      "name": "Random_Forests.ipynb",
      "provenance": []
    }
  },
  "cells": [
    {
      "cell_type": "markdown",
      "metadata": {
        "id": "rQI_KnbK2hCF",
        "colab_type": "text"
      },
      "source": [
        "Send this ipynb file with your code (solution) to econometrics.methods@gmail.com\n",
        "\n",
        "In the subject of the e-mail, copy and paste only the title of this file without the extension \".ipynb\"\n",
        "\n",
        "Write the name of the members of your group in the e-mail, and not here.\n",
        "\n",
        "Only one student will send me the solution. This student is responsible to copy other members of the group in the e-mail. "
      ]
    },
    {
      "cell_type": "code",
      "metadata": {
        "nbgrader": {
          "grade": false,
          "grade_id": "imports",
          "locked": true,
          "schema_version": 2,
          "solution": false
        },
        "id": "vgFTBc332hCG",
        "colab_type": "code",
        "colab": {}
      },
      "source": [
        "import pandas as pd\n",
        "import numpy as np\n",
        "import matplotlib.pyplot as plt\n",
        "import matplotlib.gridspec as gridspec\n",
        "from matplotlib.colors import ListedColormap\n",
        "import seaborn as sns\n",
        "import graphviz\n",
        "\n",
        "from sklearn.linear_model import LogisticRegression\n",
        "from sklearn.metrics import mean_squared_error\n",
        "from sklearn.metrics import mean_absolute_error\n",
        "from sklearn.model_selection import train_test_split\n",
        "from sklearn.preprocessing import PolynomialFeatures\n",
        "from sklearn.preprocessing import StandardScaler\n",
        "from sklearn.pipeline import Pipeline\n",
        "from sklearn import tree\n",
        "# ignore the warning you might get from importing ensemble from sklearn\n",
        "from sklearn import ensemble"
      ],
      "execution_count": 0,
      "outputs": []
    },
    {
      "cell_type": "markdown",
      "metadata": {
        "id": "SCldBc9T2hDD",
        "colab_type": "text"
      },
      "source": [
        " We'll now be looking at a dataset of per-game stats for all NBA players in the 2018-19 season. This dataset comes from basketball-reference.com."
      ]
    },
    {
      "cell_type": "code",
      "metadata": {
        "id": "YpOO1Ep62hDD",
        "colab_type": "code",
        "colab": {
          "base_uri": "https://localhost:8080/",
          "height": 292
        },
        "outputId": "b552d251-d6ac-443f-c915-cb3b8164ea44"
      },
      "source": [
        "path ='https://github.com/VitorKamada/DataScience/raw/master/Labs/Data/'\n",
        "nba_data = pd.read_csv(path +\"nba18-19.csv\")\n",
        "nba_data.head(5)"
      ],
      "execution_count": 2,
      "outputs": [
        {
          "output_type": "execute_result",
          "data": {
            "text/html": [
              "<div>\n",
              "<style scoped>\n",
              "    .dataframe tbody tr th:only-of-type {\n",
              "        vertical-align: middle;\n",
              "    }\n",
              "\n",
              "    .dataframe tbody tr th {\n",
              "        vertical-align: top;\n",
              "    }\n",
              "\n",
              "    .dataframe thead th {\n",
              "        text-align: right;\n",
              "    }\n",
              "</style>\n",
              "<table border=\"1\" class=\"dataframe\">\n",
              "  <thead>\n",
              "    <tr style=\"text-align: right;\">\n",
              "      <th></th>\n",
              "      <th>Rk</th>\n",
              "      <th>Player</th>\n",
              "      <th>Pos</th>\n",
              "      <th>Age</th>\n",
              "      <th>Tm</th>\n",
              "      <th>G</th>\n",
              "      <th>GS</th>\n",
              "      <th>MP</th>\n",
              "      <th>FG</th>\n",
              "      <th>FGA</th>\n",
              "      <th>FG%</th>\n",
              "      <th>3P</th>\n",
              "      <th>3PA</th>\n",
              "      <th>3P%</th>\n",
              "      <th>2P</th>\n",
              "      <th>2PA</th>\n",
              "      <th>2P%</th>\n",
              "      <th>eFG%</th>\n",
              "      <th>FT</th>\n",
              "      <th>FTA</th>\n",
              "      <th>FT%</th>\n",
              "      <th>ORB</th>\n",
              "      <th>DRB</th>\n",
              "      <th>TRB</th>\n",
              "      <th>AST</th>\n",
              "      <th>STL</th>\n",
              "      <th>BLK</th>\n",
              "      <th>TOV</th>\n",
              "      <th>PF</th>\n",
              "      <th>PTS</th>\n",
              "    </tr>\n",
              "  </thead>\n",
              "  <tbody>\n",
              "    <tr>\n",
              "      <th>0</th>\n",
              "      <td>1</td>\n",
              "      <td>Álex Abrines\\abrinal01</td>\n",
              "      <td>SG</td>\n",
              "      <td>25</td>\n",
              "      <td>OKC</td>\n",
              "      <td>31</td>\n",
              "      <td>2</td>\n",
              "      <td>19.0</td>\n",
              "      <td>1.8</td>\n",
              "      <td>5.1</td>\n",
              "      <td>0.357</td>\n",
              "      <td>1.3</td>\n",
              "      <td>4.1</td>\n",
              "      <td>0.323</td>\n",
              "      <td>0.5</td>\n",
              "      <td>1.0</td>\n",
              "      <td>0.500</td>\n",
              "      <td>0.487</td>\n",
              "      <td>0.4</td>\n",
              "      <td>0.4</td>\n",
              "      <td>0.923</td>\n",
              "      <td>0.2</td>\n",
              "      <td>1.4</td>\n",
              "      <td>1.5</td>\n",
              "      <td>0.6</td>\n",
              "      <td>0.5</td>\n",
              "      <td>0.2</td>\n",
              "      <td>0.5</td>\n",
              "      <td>1.7</td>\n",
              "      <td>5.3</td>\n",
              "    </tr>\n",
              "    <tr>\n",
              "      <th>1</th>\n",
              "      <td>2</td>\n",
              "      <td>Quincy Acy\\acyqu01</td>\n",
              "      <td>PF</td>\n",
              "      <td>28</td>\n",
              "      <td>PHO</td>\n",
              "      <td>10</td>\n",
              "      <td>0</td>\n",
              "      <td>12.3</td>\n",
              "      <td>0.4</td>\n",
              "      <td>1.8</td>\n",
              "      <td>0.222</td>\n",
              "      <td>0.2</td>\n",
              "      <td>1.5</td>\n",
              "      <td>0.133</td>\n",
              "      <td>0.2</td>\n",
              "      <td>0.3</td>\n",
              "      <td>0.667</td>\n",
              "      <td>0.278</td>\n",
              "      <td>0.7</td>\n",
              "      <td>1.0</td>\n",
              "      <td>0.700</td>\n",
              "      <td>0.3</td>\n",
              "      <td>2.2</td>\n",
              "      <td>2.5</td>\n",
              "      <td>0.8</td>\n",
              "      <td>0.1</td>\n",
              "      <td>0.4</td>\n",
              "      <td>0.4</td>\n",
              "      <td>2.4</td>\n",
              "      <td>1.7</td>\n",
              "    </tr>\n",
              "    <tr>\n",
              "      <th>2</th>\n",
              "      <td>3</td>\n",
              "      <td>Jaylen Adams\\adamsja01</td>\n",
              "      <td>PG</td>\n",
              "      <td>22</td>\n",
              "      <td>ATL</td>\n",
              "      <td>34</td>\n",
              "      <td>1</td>\n",
              "      <td>12.6</td>\n",
              "      <td>1.1</td>\n",
              "      <td>3.2</td>\n",
              "      <td>0.345</td>\n",
              "      <td>0.7</td>\n",
              "      <td>2.2</td>\n",
              "      <td>0.338</td>\n",
              "      <td>0.4</td>\n",
              "      <td>1.1</td>\n",
              "      <td>0.361</td>\n",
              "      <td>0.459</td>\n",
              "      <td>0.2</td>\n",
              "      <td>0.3</td>\n",
              "      <td>0.778</td>\n",
              "      <td>0.3</td>\n",
              "      <td>1.4</td>\n",
              "      <td>1.8</td>\n",
              "      <td>1.9</td>\n",
              "      <td>0.4</td>\n",
              "      <td>0.1</td>\n",
              "      <td>0.8</td>\n",
              "      <td>1.3</td>\n",
              "      <td>3.2</td>\n",
              "    </tr>\n",
              "    <tr>\n",
              "      <th>3</th>\n",
              "      <td>4</td>\n",
              "      <td>Steven Adams\\adamsst01</td>\n",
              "      <td>C</td>\n",
              "      <td>25</td>\n",
              "      <td>OKC</td>\n",
              "      <td>80</td>\n",
              "      <td>80</td>\n",
              "      <td>33.4</td>\n",
              "      <td>6.0</td>\n",
              "      <td>10.1</td>\n",
              "      <td>0.595</td>\n",
              "      <td>0.0</td>\n",
              "      <td>0.0</td>\n",
              "      <td>0.000</td>\n",
              "      <td>6.0</td>\n",
              "      <td>10.1</td>\n",
              "      <td>0.596</td>\n",
              "      <td>0.595</td>\n",
              "      <td>1.8</td>\n",
              "      <td>3.7</td>\n",
              "      <td>0.500</td>\n",
              "      <td>4.9</td>\n",
              "      <td>4.6</td>\n",
              "      <td>9.5</td>\n",
              "      <td>1.6</td>\n",
              "      <td>1.5</td>\n",
              "      <td>1.0</td>\n",
              "      <td>1.7</td>\n",
              "      <td>2.6</td>\n",
              "      <td>13.9</td>\n",
              "    </tr>\n",
              "    <tr>\n",
              "      <th>4</th>\n",
              "      <td>5</td>\n",
              "      <td>Bam Adebayo\\adebaba01</td>\n",
              "      <td>C</td>\n",
              "      <td>21</td>\n",
              "      <td>MIA</td>\n",
              "      <td>82</td>\n",
              "      <td>28</td>\n",
              "      <td>23.3</td>\n",
              "      <td>3.4</td>\n",
              "      <td>5.9</td>\n",
              "      <td>0.576</td>\n",
              "      <td>0.0</td>\n",
              "      <td>0.2</td>\n",
              "      <td>0.200</td>\n",
              "      <td>3.4</td>\n",
              "      <td>5.7</td>\n",
              "      <td>0.588</td>\n",
              "      <td>0.579</td>\n",
              "      <td>2.0</td>\n",
              "      <td>2.8</td>\n",
              "      <td>0.735</td>\n",
              "      <td>2.0</td>\n",
              "      <td>5.3</td>\n",
              "      <td>7.3</td>\n",
              "      <td>2.2</td>\n",
              "      <td>0.9</td>\n",
              "      <td>0.8</td>\n",
              "      <td>1.5</td>\n",
              "      <td>2.5</td>\n",
              "      <td>8.9</td>\n",
              "    </tr>\n",
              "  </tbody>\n",
              "</table>\n",
              "</div>"
            ],
            "text/plain": [
              "   Rk                  Player Pos  Age   Tm   G  ...  AST  STL  BLK  TOV   PF   PTS\n",
              "0   1  Álex Abrines\\abrinal01  SG   25  OKC  31  ...  0.6  0.5  0.2  0.5  1.7   5.3\n",
              "1   2      Quincy Acy\\acyqu01  PF   28  PHO  10  ...  0.8  0.1  0.4  0.4  2.4   1.7\n",
              "2   3  Jaylen Adams\\adamsja01  PG   22  ATL  34  ...  1.9  0.4  0.1  0.8  1.3   3.2\n",
              "3   4  Steven Adams\\adamsst01   C   25  OKC  80  ...  1.6  1.5  1.0  1.7  2.6  13.9\n",
              "4   5   Bam Adebayo\\adebaba01   C   21  MIA  82  ...  2.2  0.9  0.8  1.5  2.5   8.9\n",
              "\n",
              "[5 rows x 30 columns]"
            ]
          },
          "metadata": {
            "tags": []
          },
          "execution_count": 2
        }
      ]
    },
    {
      "cell_type": "markdown",
      "metadata": {
        "id": "kRurAl-b2hDF",
        "colab_type": "text"
      },
      "source": [
        "Our goal will be to predict a player's position given several other features. The 5 positions in basketball are PG, SG, SF, PF, and C (which stand for point guard, shooting guard, small forward, power forward, and center). This information is contained in the `Pos` column."
      ]
    },
    {
      "cell_type": "code",
      "metadata": {
        "id": "8_UNF8LS2hDF",
        "colab_type": "code",
        "colab": {
          "base_uri": "https://localhost:8080/",
          "height": 227
        },
        "outputId": "0076ef22-a05a-4d6c-c99c-d85d808c7f4f"
      },
      "source": [
        "nba_data['Pos'].value_counts()"
      ],
      "execution_count": 3,
      "outputs": [
        {
          "output_type": "execute_result",
          "data": {
            "text/plain": [
              "SG       176\n",
              "PF       147\n",
              "PG       139\n",
              "C        120\n",
              "SF       118\n",
              "PF-SF      2\n",
              "SF-SG      2\n",
              "SG-SF      1\n",
              "PF-C       1\n",
              "C-PF       1\n",
              "SG-PF      1\n",
              "Name: Pos, dtype: int64"
            ]
          },
          "metadata": {
            "tags": []
          },
          "execution_count": 3
        }
      ]
    },
    {
      "cell_type": "markdown",
      "metadata": {
        "id": "KSx5m1GR2hDH",
        "colab_type": "text"
      },
      "source": [
        "While we could set out to try and perform 5-class classification, the results (and visualizations) are slightly more interesting if we try and categorize players into 1 of 3 categories: **guard**, **forward**, and **center**. The below code will take the `Pos` column of our dataframe and use it to create `Pos3`."
      ]
    },
    {
      "cell_type": "code",
      "metadata": {
        "id": "jgCHViHL2hDH",
        "colab_type": "code",
        "colab": {
          "base_uri": "https://localhost:8080/",
          "height": 87
        },
        "outputId": "22f30999-4917-4221-98ae-be72b2b036e2"
      },
      "source": [
        "def basic_position(pos):\n",
        "    if 'F' in pos:\n",
        "        return 'F'\n",
        "    elif 'G' in pos:\n",
        "        return 'G'\n",
        "    return 'C'\n",
        "\n",
        "nba_data['Pos3'] = nba_data['Pos'].apply(basic_position)\n",
        "nba_data['Pos3'].value_counts()"
      ],
      "execution_count": 4,
      "outputs": [
        {
          "output_type": "execute_result",
          "data": {
            "text/plain": [
              "G    315\n",
              "F    273\n",
              "C    120\n",
              "Name: Pos3, dtype: int64"
            ]
          },
          "metadata": {
            "tags": []
          },
          "execution_count": 4
        }
      ]
    },
    {
      "cell_type": "markdown",
      "metadata": {
        "id": "_UZSLiLB2hDJ",
        "colab_type": "text"
      },
      "source": [
        "Furthermore, since there are **many** players in the NBA (in the 2018-19 season there were 530 unique players), our visualizations can tend to get noisy and messy. Let's restrict our data to only contain rows for players that averaged 10 or more points per game."
      ]
    },
    {
      "cell_type": "code",
      "metadata": {
        "id": "zVtSrgFw2hDK",
        "colab_type": "code",
        "colab": {}
      },
      "source": [
        "nba_data = nba_data[nba_data['PTS'] > 10]"
      ],
      "execution_count": 0,
      "outputs": []
    },
    {
      "cell_type": "markdown",
      "metadata": {
        "id": "XrtMAguo2hDM",
        "colab_type": "text"
      },
      "source": [
        "Now, let's look at a scatterplot of Rebounds (`TRB`) vs. Assists (`AST`)."
      ]
    },
    {
      "cell_type": "code",
      "metadata": {
        "id": "yfp8exgK2hDM",
        "colab_type": "code",
        "colab": {
          "base_uri": "https://localhost:8080/",
          "height": 279
        },
        "outputId": "39ea224c-0fde-4e06-f3e2-da6a7134651f"
      },
      "source": [
        "sns.scatterplot(data = nba_data, x = 'AST', y = 'TRB', hue = 'Pos3');"
      ],
      "execution_count": 6,
      "outputs": [
        {
          "output_type": "display_data",
          "data": {
            "image/png": "[encoded data removed]",
            "text/plain": [
              "<Figure size 432x288 with 1 Axes>"
            ]
          },
          "metadata": {
            "tags": []
          }
        }
      ]
    },
    {
      "cell_type": "markdown",
      "metadata": {
        "id": "Lh9HSPMv2hDO",
        "colab_type": "text"
      },
      "source": [
        "As you can see, when using just rebounds and assists as our features, we see pretty decent cluster separation. That is, Centers, Forwards, and Guards appear in different regions of the plot."
      ]
    },
    {
      "cell_type": "markdown",
      "metadata": {
        "id": "Sw8auQvQ2hDP",
        "colab_type": "text"
      },
      "source": [
        "## One-vs-Rest Logistic Regression\n",
        "\n",
        "We only discussed binary logistic regression in class, but there is a natural extension to binary logistic regression called one-vs-rest logistic regression for multiclass classification. This is discussed in the [extra slides in lecture 22](https://docs.google.com/presentation/d/18APMVrMwUYsL3F99P4vH1Ysxd-of-dPWhfN8gu7Hlg8/edit#slide=id.g70b8c9ba27_3_85). In essence, one-vs-rest logistic regression simply builds one binary logistic regression classifier for each of the $N$ classes (in this scenario $N = 3$). We then predict the class corresponding to the classifier that gives the highest probability among the $N$ classes.\n",
        "\n",
        "Before using logistic regression, let's first split `nba_data` into a training set and test set."
      ]
    },
    {
      "cell_type": "code",
      "metadata": {
        "id": "LUwD4y7H2hDP",
        "colab_type": "code",
        "colab": {}
      },
      "source": [
        "nba_train, nba_test = train_test_split(nba_data, test_size=0.25, random_state=100)\n",
        "nba_train = nba_train.sort_values(by='Pos')\n",
        "nba_test = nba_test.sort_values(by='Pos')"
      ],
      "execution_count": 0,
      "outputs": []
    },
    {
      "cell_type": "markdown",
      "metadata": {
        "deletable": false,
        "editable": false,
        "id": "0opRIQ0Y2hDR",
        "colab_type": "text"
      },
      "source": [
        "### Question 2a\n",
        "\n",
        "In the cell below, set `logistic_regression_model` to be a one-vs-rest logistic regression model. Then, fit that model using the `AST` and `TRB` columns (in that order) from `nba_train` as our features, and `Pos3` as our response variable.\n",
        "\n",
        "Remember, [`sklearn.linear_model.LogisticRegression`](https://scikit-learn.org/stable/modules/generated/sklearn.linear_model.LogisticRegression.html) has already been imported for you. There is an optional parameter you need to specify in order to make your model a multi-class one-vs-rest classifier. See the documentation for more details.\n",
        "\n",
        "<!--\n",
        "BEGIN QUESTION\n",
        "name: q2a\n",
        "-->"
      ]
    },
    {
      "cell_type": "code",
      "metadata": {
        "id": "hz5cc9L22hDR",
        "colab_type": "code",
        "colab": {}
      },
      "source": [
        "logistic_regression_model = ...\n",
        "..."
      ],
      "execution_count": 0,
      "outputs": []
    },
    {
      "cell_type": "markdown",
      "metadata": {
        "id": "nO3iw8SF2hDW",
        "colab_type": "text"
      },
      "source": [
        "To see our classifier in action, we can use `logistic_regression_model.predict` and see what it outputs."
      ]
    },
    {
      "cell_type": "code",
      "metadata": {
        "id": "_JGJQL7-2hDW",
        "colab_type": "code",
        "colab": {
          "base_uri": "https://localhost:8080/",
          "height": 185
        },
        "outputId": "e7c622af-6452-45ab-d529-91a6cf6347c3"
      },
      "source": [
        "nba_train['Predicted (OVRLR) Pos3'] = logistic_regression_model.predict(nba_train[['AST', 'TRB']])\n",
        "nba_train[['AST', 'TRB', 'Pos3', 'Predicted (OVRLR) Pos3']].head(15)"
      ],
      "execution_count": 9,
      "outputs": [
        {
          "output_type": "error",
          "ename": "AttributeError",
          "evalue": "ignored",
          "traceback": [
            "\u001b[0;31m---------------------------------------------------------------------------\u001b[0m",
            "\u001b[0;31mAttributeError\u001b[0m                            Traceback (most recent call last)",
            "\u001b[0;32m<ipython-input-9-89fdfacd75cc>\u001b[0m in \u001b[0;36m<module>\u001b[0;34m()\u001b[0m\n\u001b[0;32m----> 1\u001b[0;31m \u001b[0mnba_train\u001b[0m\u001b[0;34m[\u001b[0m\u001b[0;34m'Predicted (OVRLR) Pos3'\u001b[0m\u001b[0;34m]\u001b[0m \u001b[0;34m=\u001b[0m \u001b[0mlogistic_regression_model\u001b[0m\u001b[0;34m.\u001b[0m\u001b[0mpredict\u001b[0m\u001b[0;34m(\u001b[0m\u001b[0mnba_train\u001b[0m\u001b[0;34m[\u001b[0m\u001b[0;34m[\u001b[0m\u001b[0;34m'AST'\u001b[0m\u001b[0;34m,\u001b[0m \u001b[0;34m'TRB'\u001b[0m\u001b[0;34m]\u001b[0m\u001b[0;34m]\u001b[0m\u001b[0;34m)\u001b[0m\u001b[0;34m\u001b[0m\u001b[0;34m\u001b[0m\u001b[0m\n\u001b[0m\u001b[1;32m      2\u001b[0m \u001b[0mnba_train\u001b[0m\u001b[0;34m[\u001b[0m\u001b[0;34m[\u001b[0m\u001b[0;34m'AST'\u001b[0m\u001b[0;34m,\u001b[0m \u001b[0;34m'TRB'\u001b[0m\u001b[0;34m,\u001b[0m \u001b[0;34m'Pos3'\u001b[0m\u001b[0;34m,\u001b[0m \u001b[0;34m'Predicted (OVRLR) Pos3'\u001b[0m\u001b[0;34m]\u001b[0m\u001b[0;34m]\u001b[0m\u001b[0;34m.\u001b[0m\u001b[0mhead\u001b[0m\u001b[0;34m(\u001b[0m\u001b[0;36m15\u001b[0m\u001b[0;34m)\u001b[0m\u001b[0;34m\u001b[0m\u001b[0;34m\u001b[0m\u001b[0m\n",
            "\u001b[0;31mAttributeError\u001b[0m: 'ellipsis' object has no attribute 'predict'"
          ]
        }
      ]
    },
    {
      "cell_type": "markdown",
      "metadata": {
        "id": "i2X7K4Q62hDY",
        "colab_type": "text"
      },
      "source": [
        "Our model does decently well here, as you can see visually above. Below, we compute the training accuracy:"
      ]
    },
    {
      "cell_type": "code",
      "metadata": {
        "scrolled": true,
        "id": "_HAUQLJM2hDZ",
        "colab_type": "code",
        "colab": {}
      },
      "source": [
        "lr_training_accuracy = logistic_regression_model.score(nba_train[['AST', 'TRB']], nba_train['Pos3'])\n",
        "lr_training_accuracy"
      ],
      "execution_count": 0,
      "outputs": []
    },
    {
      "cell_type": "markdown",
      "metadata": {
        "id": "GV8PIfwD2hDb",
        "colab_type": "text"
      },
      "source": [
        "We can compute the test accuracy as well by looking at `nba_test` instead of `nba_train`:"
      ]
    },
    {
      "cell_type": "code",
      "metadata": {
        "id": "Kf0B9qN22hDc",
        "colab_type": "code",
        "colab": {}
      },
      "source": [
        "lr_test_accuracy = logistic_regression_model.score(nba_test[['AST', 'TRB']], nba_test['Pos3'])\n",
        "lr_test_accuracy"
      ],
      "execution_count": 0,
      "outputs": []
    },
    {
      "cell_type": "markdown",
      "metadata": {
        "id": "reMp0Iqs2hDd",
        "colab_type": "text"
      },
      "source": [
        "Now, let's draw the decision boundary for this logistic regression classifier, and see how the classifier performs on both the training and test data."
      ]
    },
    {
      "cell_type": "code",
      "metadata": {
        "scrolled": true,
        "id": "3pQiFxUJ2hDe",
        "colab_type": "code",
        "colab": {}
      },
      "source": [
        "sns_cmap = ListedColormap(np.array(sns.color_palette())[0:3, :])\n",
        "\n",
        "xx, yy = np.meshgrid(np.arange(0, 12, 0.02), np.arange(0, 16, 0.02))\n",
        "Z_string = logistic_regression_model.predict(np.c_[xx.ravel(), yy.ravel()])\n",
        "categories, Z_int = np.unique(Z_string, return_inverse = True)\n",
        "Z_int = Z_int.reshape(xx.shape)\n",
        "plt.contourf(xx, yy, Z_int, cmap = sns_cmap)\n",
        "sns.scatterplot(data = nba_train, x = 'AST', y = 'TRB', hue = 'Pos3')\n",
        "plt.title('Logistic Regression on nba_train');"
      ],
      "execution_count": 0,
      "outputs": []
    },
    {
      "cell_type": "code",
      "metadata": {
        "id": "I8HS7-Bq2hDf",
        "colab_type": "code",
        "colab": {}
      },
      "source": [
        "sns_cmap = ListedColormap(np.array(sns.color_palette())[0:3, :])\n",
        "\n",
        "xx, yy = np.meshgrid(np.arange(0, 12, 0.02), np.arange(0, 16, 0.02))\n",
        "Z_string = logistic_regression_model.predict(np.c_[xx.ravel(), yy.ravel()])\n",
        "categories, Z_int = np.unique(Z_string, return_inverse = True)\n",
        "Z_int = Z_int.reshape(xx.shape)\n",
        "plt.contourf(xx, yy, Z_int, cmap = sns_cmap)\n",
        "sns.scatterplot(data = nba_test, x = 'AST', y = 'TRB', hue = 'Pos3')\n",
        "plt.title('Logistic Regression on nba_test');"
      ],
      "execution_count": 0,
      "outputs": []
    },
    {
      "cell_type": "markdown",
      "metadata": {
        "id": "8RqHtYII2hDi",
        "colab_type": "text"
      },
      "source": [
        "Our one-vs-rest logistic regression was able to find a linear decision boundary between the three classes. It generally classifies centers as players with a lot of rebounds, forwards as players with a medium number of rebounds and a low number of assists, and guards as players with a low number of rebounds. \n",
        "\n",
        "Note: In practice we would use many more features – we only used 2 here just so that we could visualize the decision boundary."
      ]
    },
    {
      "cell_type": "markdown",
      "metadata": {
        "deletable": false,
        "editable": false,
        "id": "aLLPDyhq2hDj",
        "colab_type": "text"
      },
      "source": [
        "## Decision Trees\n",
        "\n",
        "### Question 2b\n",
        "\n",
        "Let's now create a decision tree classifier on the same training data `nba_train`, and look at the resulting decision boundary. \n",
        "\n",
        "In the following cell, first, use [`tree.DecisionTreeClassifier`](https://scikit-learn.org/stable/modules/generated/sklearn.tree.DecisionTreeClassifier.html) to fit a model using the same features and response as above, and call this model `decision_tree_model`. Set the `random_state` parameter to 42.\n",
        "\n",
        "**Hint:** Your code will be mostly be the same as question 2a.\n",
        "\n",
        "<!--\n",
        "BEGIN QUESTION\n",
        "name: q2b\n",
        "-->"
      ]
    },
    {
      "cell_type": "code",
      "metadata": {
        "scrolled": true,
        "id": "-Qx9qmxL2hDl",
        "colab_type": "code",
        "colab": {}
      },
      "source": [
        "decision_tree_model = ...\n",
        "..."
      ],
      "execution_count": 0,
      "outputs": []
    },
    {
      "cell_type": "markdown",
      "metadata": {
        "id": "epzVHrJt2hDo",
        "colab_type": "text"
      },
      "source": [
        "Now, let's draw the decision boundary for this decision tree classifier, and see how the classifier performs on both the training and test data."
      ]
    },
    {
      "cell_type": "code",
      "metadata": {
        "id": "0VSz0Jfm2hDo",
        "colab_type": "code",
        "colab": {}
      },
      "source": [
        "xx, yy = np.meshgrid(np.arange(0, 12, 0.02), np.arange(0, 16, 0.02))\n",
        "Z_string = decision_tree_model.predict(np.c_[xx.ravel(), yy.ravel()])\n",
        "categories, Z_int = np.unique(Z_string, return_inverse = True)\n",
        "Z_int = Z_int.reshape(xx.shape)\n",
        "plt.contourf(xx, yy, Z_int, cmap = sns_cmap)\n",
        "sns.scatterplot(data = nba_train, x = 'AST', y = 'TRB', hue = 'Pos3')\n",
        "plt.title('Decision Tree on nba_train');"
      ],
      "execution_count": 0,
      "outputs": []
    },
    {
      "cell_type": "code",
      "metadata": {
        "id": "6uQCeHWf2hDq",
        "colab_type": "code",
        "colab": {}
      },
      "source": [
        "xx, yy = np.meshgrid(np.arange(0, 12, 0.02), np.arange(0, 16, 0.02))\n",
        "Z_string = decision_tree_model.predict(np.c_[xx.ravel(), yy.ravel()])\n",
        "categories, Z_int = np.unique(Z_string, return_inverse = True)\n",
        "Z_int = Z_int.reshape(xx.shape)\n",
        "plt.contourf(xx, yy, Z_int, cmap = sns_cmap)\n",
        "sns.scatterplot(data = nba_test, x = 'AST', y = 'TRB', hue = 'Pos3')\n",
        "plt.title('Decision Tree on nba_test');"
      ],
      "execution_count": 0,
      "outputs": []
    },
    {
      "cell_type": "markdown",
      "metadata": {
        "deletable": false,
        "editable": false,
        "id": "fR080e3K2hDr",
        "colab_type": "text"
      },
      "source": [
        "### Question 2c\n",
        "\n",
        "Set `dt_training_accuracy` to be the training accuracy of the decision tree model and `dt_test_accuracy` to be the test accuracy.\n",
        "\n",
        "**Hint:** If you're failing this test, make sure you have the correct `random_state` parameter to `tree.DecisionTreeClassifier` in question 2b.\n",
        "\n",
        "<!--\n",
        "BEGIN QUESTION\n",
        "name: q2c\n",
        "-->"
      ]
    },
    {
      "cell_type": "code",
      "metadata": {
        "id": "cOBw_dTg2hDs",
        "colab_type": "code",
        "colab": {}
      },
      "source": [
        "dt_training_accuracy = ...\n",
        "dt_test_accuracy = ...\n",
        "dt_training_accuracy, dt_test_accuracy"
      ],
      "execution_count": 0,
      "outputs": []
    },
    {
      "cell_type": "markdown",
      "metadata": {
        "deletable": false,
        "editable": false,
        "id": "5H88W8iZ2hDw",
        "colab_type": "text"
      },
      "source": [
        "## Random Forests\n",
        "\n",
        "### Question 2d\n",
        "\n",
        "Let's now create a random forest classifier on the same training data `nba_train` and look at the resulting decision boundary. \n",
        "\n",
        "In the following cell, use [`ensemble.RandomForestClassifier`](https://scikit-learn.org/stable/modules/generated/sklearn.ensemble.RandomForestClassifier.html) to fit a model using the same features and response as above, and call this model `random_forest_model`. Use 20 trees in your random forest classifier, and set the `random_state` parameter to 42.\n",
        "\n",
        "**Hint:** Your code for both parts will be mostly the same as questions 2a and 2b.\n",
        "\n",
        "**Hint:** Look at the `n_estimators` parameter of `ensemble.RandomForestClassifier`.\n",
        "\n",
        "<!--\n",
        "BEGIN QUESTION\n",
        "name: q2d\n",
        "-->"
      ]
    },
    {
      "cell_type": "code",
      "metadata": {
        "id": "AeY9mvL72hDw",
        "colab_type": "code",
        "colab": {}
      },
      "source": [
        "random_forest_model = ...\n",
        "..."
      ],
      "execution_count": 0,
      "outputs": []
    },
    {
      "cell_type": "markdown",
      "metadata": {
        "id": "quamdQGP2hDz",
        "colab_type": "text"
      },
      "source": [
        "Now, let's draw the decision boundary for this random forest classifier, and see how the classifier performs on both the training and test data."
      ]
    },
    {
      "cell_type": "code",
      "metadata": {
        "id": "erwtyTWH2hDz",
        "colab_type": "code",
        "colab": {}
      },
      "source": [
        "xx, yy = np.meshgrid(np.arange(0, 12, 0.02), np.arange(0, 16, 0.02))\n",
        "Z_string = random_forest_model.predict(np.c_[xx.ravel(), yy.ravel()])\n",
        "categories, Z_int = np.unique(Z_string, return_inverse = True)\n",
        "Z_int = Z_int.reshape(xx.shape)\n",
        "plt.contourf(xx, yy, Z_int, cmap = sns_cmap)\n",
        "sns.scatterplot(data = nba_train, x = 'AST', y = 'TRB', hue = 'Pos3')\n",
        "plt.title('Random Forest on nba_train');"
      ],
      "execution_count": 0,
      "outputs": []
    },
    {
      "cell_type": "code",
      "metadata": {
        "id": "OAMDmJ6y2hD0",
        "colab_type": "code",
        "colab": {}
      },
      "source": [
        "xx, yy = np.meshgrid(np.arange(0, 12, 0.02), np.arange(0, 16, 0.02))\n",
        "Z_string = random_forest_model.predict(np.c_[xx.ravel(), yy.ravel()])\n",
        "categories, Z_int = np.unique(Z_string, return_inverse = True)\n",
        "Z_int = Z_int.reshape(xx.shape)\n",
        "plt.contourf(xx, yy, Z_int, cmap = sns_cmap)\n",
        "sns.scatterplot(data = nba_test, x = 'AST', y = 'TRB', hue = 'Pos3')\n",
        "plt.title('Random Forest on nba_test');"
      ],
      "execution_count": 0,
      "outputs": []
    },
    {
      "cell_type": "markdown",
      "metadata": {
        "deletable": false,
        "editable": false,
        "id": "hY61NGvR2hD2",
        "colab_type": "text"
      },
      "source": [
        "### Question 2e\n",
        "\n",
        "Set `rf_train_accuracy` to be the training accuracy of the random forest model and `rf_test_accuracy` to be the test accuracy.\n",
        "\n",
        "**Hint:** If you're failing this test, make sure you have the correct parameters to `ensemble.RandomForestClassifier` in question 2d.\n",
        "\n",
        "<!--\n",
        "BEGIN QUESTION\n",
        "name: q2e\n",
        "-->"
      ]
    },
    {
      "cell_type": "code",
      "metadata": {
        "id": "lS4Yermr2hD3",
        "colab_type": "code",
        "colab": {}
      },
      "source": [
        "rf_train_accuracy = ...\n",
        "rf_test_accuracy = ...\n",
        "rf_train_accuracy, rf_test_accuracy"
      ],
      "execution_count": 0,
      "outputs": []
    },
    {
      "cell_type": "markdown",
      "metadata": {
        "deletable": false,
        "editable": false,
        "id": "3GtPGKdQ2hD5",
        "colab_type": "text"
      },
      "source": [
        "### Question 2f\n",
        "\n",
        "Looking at the three models you created (multiclass one-vs-rest logistic regression, decision tree, random forest), which model performed the best on the training set, and which model performed the best on the test set? How are the training and test accuracy related for the three models, and how do the decision boundaries generated for each of the three models relate to the model's performance?\n",
        "\n",
        "<!--\n",
        "BEGIN QUESTION\n",
        "name: q2f\n",
        "-->"
      ]
    },
    {
      "cell_type": "markdown",
      "metadata": {
        "id": "yX22Gmbs2hD6",
        "colab_type": "text"
      },
      "source": [
        "*Write your answer here, replacing this text.*"
      ]
    }
  ]
}