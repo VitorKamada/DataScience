{
  "nbformat": 4,
  "nbformat_minor": 0,
  "metadata": {
    "anaconda-cloud": {},
    "kernelspec": {
      "display_name": "Python [Root]",
      "language": "python",
      "name": "Python [Root]"
    },
    "language_info": {
      "codemirror_mode": {
        "name": "ipython",
        "version": 3
      },
      "file_extension": ".py",
      "mimetype": "text/x-python",
      "name": "python",
      "nbconvert_exporter": "python",
      "pygments_lexer": "ipython3",
      "version": "3.5.2"
    },
    "colab": {
      "name": "Bootstrap.ipynb",
      "provenance": []
    }
  },
  "cells": [
    {
      "cell_type": "markdown",
      "metadata": {
        "id": "7mbNFWm3f6Zq",
        "colab_type": "text"
      },
      "source": [
        "Send this ipynb file with your code (solution) to econometrics.methods@gmail.com\n",
        "\n",
        "In the subject of the e-mail, copy and paste only the title of this file without the extension \".ipynb\"\n",
        "\n",
        "Write the name of the members of your group in the e-mail, and not here.\n",
        "\n",
        "Only one student will send me the solution. This student is responsible to copy other members of the group in the e-mail. "
      ]
    },
    {
      "cell_type": "code",
      "metadata": {
        "id": "nqmm5kpVf6Zt",
        "colab_type": "code",
        "colab": {}
      },
      "source": [
        "# Run this cell to set up the notebook.\n",
        "import numpy as np\n",
        "import pandas as pd\n",
        "import seaborn as sns\n",
        "\n",
        "import matplotlib\n",
        "%matplotlib inline\n",
        "import matplotlib.pyplot as plt"
      ],
      "execution_count": 0,
      "outputs": []
    },
    {
      "cell_type": "markdown",
      "metadata": {
        "id": "N8SaGYk6f6Zv",
        "colab_type": "text"
      },
      "source": [
        "Today's lab has a few goals:\n",
        "\n",
        "1. Get more practice with Pandas and visualization code.\n",
        "2. Exercise some of the principles of visualization we've been learning about.\n",
        "3. Do some basic prediction and inference.\n",
        "\n",
        "We'll be analyzing a dataset of names.  The data were collected by the US Social Security Administration; it includes a large fraction of all people who were born in the United States in recent years.  (Because it is based on official government records, the dataset includes some anachronisms, including binary sex classification and the use of the word \"gender\" rather than \"sex.\"  We've left it as we found it.)\n",
        "\n",
        "Note: Most of the plotting in this lab can be done with `<DataFrame>.plot.<plot_method_name>`.  You can find the documentation for Pandas plotting [here](http://pandas.pydata.org/pandas-docs/version/0.18.1/visualization.html)."
      ]
    },
    {
      "cell_type": "markdown",
      "metadata": {
        "id": "v3CbXHTAf6Zw",
        "colab_type": "text"
      },
      "source": [
        "## What's in a name database?\n",
        "We've included several CSV and PDF files in [`names.zip`](./names.zip).  These files are from [kaggle.com](https://www.kaggle.com/kaggle/us-baby-names)'s site for this dataset.  Peruse them to see what the data look like.  Note that Kaggle seems to have modified the data format, so the PDF descriptions are not exactly accurate!"
      ]
    },
    {
      "cell_type": "code",
      "metadata": {
        "id": "OS8mjlMzf6Zy",
        "colab_type": "code",
        "colab": {}
      },
      "source": [
        "path ='https://github.com/jcbain/celeb_baby_names/raw/master/data/NationalNames.csv'\n",
        "names = pd.read_csv(path)"
      ],
      "execution_count": 0,
      "outputs": []
    },
    {
      "cell_type": "code",
      "metadata": {
        "id": "hGLTvOmLf6Z6",
        "colab_type": "code",
        "colab": {
          "base_uri": "https://localhost:8080/",
          "height": 204
        },
        "outputId": "adf851cf-fbe1-4ea0-9af9-e04409c3771f"
      },
      "source": [
        "names.head()"
      ],
      "execution_count": 3,
      "outputs": [
        {
          "output_type": "execute_result",
          "data": {
            "text/html": [
              "<div>\n",
              "<style scoped>\n",
              "    .dataframe tbody tr th:only-of-type {\n",
              "        vertical-align: middle;\n",
              "    }\n",
              "\n",
              "    .dataframe tbody tr th {\n",
              "        vertical-align: top;\n",
              "    }\n",
              "\n",
              "    .dataframe thead th {\n",
              "        text-align: right;\n",
              "    }\n",
              "</style>\n",
              "<table border=\"1\" class=\"dataframe\">\n",
              "  <thead>\n",
              "    <tr style=\"text-align: right;\">\n",
              "      <th></th>\n",
              "      <th>Id</th>\n",
              "      <th>Name</th>\n",
              "      <th>Year</th>\n",
              "      <th>Gender</th>\n",
              "      <th>Count</th>\n",
              "    </tr>\n",
              "  </thead>\n",
              "  <tbody>\n",
              "    <tr>\n",
              "      <th>0</th>\n",
              "      <td>1</td>\n",
              "      <td>Mary</td>\n",
              "      <td>1880</td>\n",
              "      <td>F</td>\n",
              "      <td>7065</td>\n",
              "    </tr>\n",
              "    <tr>\n",
              "      <th>1</th>\n",
              "      <td>2</td>\n",
              "      <td>Anna</td>\n",
              "      <td>1880</td>\n",
              "      <td>F</td>\n",
              "      <td>2604</td>\n",
              "    </tr>\n",
              "    <tr>\n",
              "      <th>2</th>\n",
              "      <td>3</td>\n",
              "      <td>Emma</td>\n",
              "      <td>1880</td>\n",
              "      <td>F</td>\n",
              "      <td>2003</td>\n",
              "    </tr>\n",
              "    <tr>\n",
              "      <th>3</th>\n",
              "      <td>4</td>\n",
              "      <td>Elizabeth</td>\n",
              "      <td>1880</td>\n",
              "      <td>F</td>\n",
              "      <td>1939</td>\n",
              "    </tr>\n",
              "    <tr>\n",
              "      <th>4</th>\n",
              "      <td>5</td>\n",
              "      <td>Minnie</td>\n",
              "      <td>1880</td>\n",
              "      <td>F</td>\n",
              "      <td>1746</td>\n",
              "    </tr>\n",
              "  </tbody>\n",
              "</table>\n",
              "</div>"
            ],
            "text/plain": [
              "   Id       Name  Year Gender  Count\n",
              "0   1       Mary  1880      F   7065\n",
              "1   2       Anna  1880      F   2604\n",
              "2   3       Emma  1880      F   2003\n",
              "3   4  Elizabeth  1880      F   1939\n",
              "4   5     Minnie  1880      F   1746"
            ]
          },
          "metadata": {
            "tags": []
          },
          "execution_count": 3
        }
      ]
    },
    {
      "cell_type": "markdown",
      "metadata": {
        "id": "VspNkZ8sf6Z8",
        "colab_type": "text"
      },
      "source": [
        "## EDA\n",
        "Let's do some basic exploration."
      ]
    },
    {
      "cell_type": "markdown",
      "metadata": {
        "id": "97pvOZgjf6Z9",
        "colab_type": "text"
      },
      "source": [
        "#### Question 1\n",
        "In the national database, how many people were recorded each year?  Create an appropriate visualization."
      ]
    },
    {
      "cell_type": "code",
      "metadata": {
        "id": "W_piDfQPf6Z-",
        "colab_type": "code",
        "colab": {
          "base_uri": "https://localhost:8080/",
          "height": 34
        },
        "outputId": "343e5c12-fa91-417f-8640-cd40efec44c4"
      },
      "source": [
        "..."
      ],
      "execution_count": 4,
      "outputs": [
        {
          "output_type": "execute_result",
          "data": {
            "text/plain": [
              "Ellipsis"
            ]
          },
          "metadata": {
            "tags": []
          },
          "execution_count": 4
        }
      ]
    },
    {
      "cell_type": "markdown",
      "metadata": {
        "id": "R-TVbzmif6aA",
        "colab_type": "text"
      },
      "source": [
        "#### Question 2\n",
        "In the national database, among people born in the most recent year, what are the frequencies of the *most common* and *least common* names?  Create appropriate visualizations."
      ]
    },
    {
      "cell_type": "code",
      "metadata": {
        "for_assignment_type": "student",
        "id": "CPnNmr60f6aA",
        "colab_type": "code",
        "colab": {
          "base_uri": "https://localhost:8080/",
          "height": 34
        },
        "outputId": "beafb472-0051-4fc7-bf2c-4938c00f7cfe"
      },
      "source": [
        "..."
      ],
      "execution_count": 5,
      "outputs": [
        {
          "output_type": "execute_result",
          "data": {
            "text/plain": [
              "Ellipsis"
            ]
          },
          "metadata": {
            "tags": []
          },
          "execution_count": 5
        }
      ]
    },
    {
      "cell_type": "markdown",
      "metadata": {
        "id": "m_OHYrBrf6aD",
        "colab_type": "text"
      },
      "source": [
        "#### Question 3\n",
        "Using the plots you made in question 2, figure out one reason why the chart you made in question 1 probably understates the number of births per year in the US.  **Then** find a source online listing US births by year and check whether - and by how much - the chart understates the number of births."
      ]
    },
    {
      "cell_type": "markdown",
      "metadata": {
        "id": "7BRvMkJIf6aD",
        "colab_type": "text"
      },
      "source": [
        "*Write your answer here, replacing this text.*"
      ]
    },
    {
      "cell_type": "markdown",
      "metadata": {
        "id": "S_CinJgCf6aE",
        "colab_type": "text"
      },
      "source": [
        "#### Question 4\n",
        "The visualization in question 2 didn't help us answer this question:\n",
        "\n",
        "> \"Among names of people born in 2014, what is the distribution of frequencies?\"\n",
        "    \n",
        "Create a histogram to attempt to answer that question.  Your histogram should tell you, for example, how many names occurred fewer than 100 times."
      ]
    },
    {
      "cell_type": "code",
      "metadata": {
        "id": "8_Vcu3KPf6aF",
        "colab_type": "code",
        "colab": {
          "base_uri": "https://localhost:8080/",
          "height": 34
        },
        "outputId": "303211d5-4d75-4520-fc89-cde7d471d0a5"
      },
      "source": [
        "..."
      ],
      "execution_count": 6,
      "outputs": [
        {
          "output_type": "execute_result",
          "data": {
            "text/plain": [
              "Ellipsis"
            ]
          },
          "metadata": {
            "tags": []
          },
          "execution_count": 6
        }
      ]
    },
    {
      "cell_type": "markdown",
      "metadata": {
        "id": "Bnuy-KUUf6aH",
        "colab_type": "text"
      },
      "source": [
        "You should find that your histogram is not terribly useful, except to tell you that almost all names occurred fewer than, say, 500 times.  A few names are *much* more frequent than the others.  Your plot in question 2 should tell you what many of those names are."
      ]
    },
    {
      "cell_type": "markdown",
      "metadata": {
        "id": "IPO3363Wf6aI",
        "colab_type": "text"
      },
      "source": [
        "Now consider the new question:\n",
        "\n",
        "> \"Among *people* born in 2014, what is the distribution of name popularity?\""
      ]
    },
    {
      "cell_type": "markdown",
      "metadata": {
        "id": "z9kPfjdjf6aJ",
        "colab_type": "text"
      },
      "source": [
        "#### Question 5\n",
        "How this is a different question than the one in question 4?  How might the plot in question 4 mislead us about the answer to this new question?"
      ]
    },
    {
      "cell_type": "markdown",
      "metadata": {
        "id": "3-RiUjcff6aJ",
        "colab_type": "text"
      },
      "source": [
        "*Write your answer here, replacing this text.*"
      ]
    },
    {
      "cell_type": "markdown",
      "metadata": {
        "id": "Wj6tMB9Tf6aK",
        "colab_type": "text"
      },
      "source": [
        "The cell below creates a histogram helping us answer questions like this:\n",
        "\n",
        "> \"How many people had names occurring between 5000 and 5500 times?\""
      ]
    },
    {
      "cell_type": "code",
      "metadata": {
        "id": "i7L-6InOf6aK",
        "colab_type": "code",
        "colab": {
          "base_uri": "https://localhost:8080/",
          "height": 265
        },
        "outputId": "b9aeb755-86fe-4101-db43-da044c107cbf"
      },
      "source": [
        "names_in_2014 = names[names['Year'] == 2014]\n",
        "plt.hist(names_in_2014[\"Count\"], weights=names_in_2014[\"Count\"], bins=np.arange(0, names_in_2014[\"Count\"].max()+500, 500));"
      ],
      "execution_count": 7,
      "outputs": [
        {
          "output_type": "display_data",
          "data": {
            "image/png": "[encoded data removed]",
            "text/plain": [
              "<Figure size 432x288 with 1 Axes>"
            ]
          },
          "metadata": {
            "tags": []
          }
        }
      ]
    },
    {
      "cell_type": "markdown",
      "metadata": {
        "id": "bRRFf2KZf6aM",
        "colab_type": "text"
      },
      "source": [
        "#### Question 6\n",
        "Create a visualization to help us answer questions like this:\n",
        "\n",
        "> \"How many people had names occurring fewer than 5000 times?\"\n",
        "\n",
        "Then use your visualization to estimate the number of people who had names occurring fewer than 2500 times, giving your estimate the name `num_people_with_rare_names`.\n",
        "\n",
        "(This question is a bit more natural and should lead to a visualization that's more readable than our histogram.)"
      ]
    },
    {
      "cell_type": "code",
      "metadata": {
        "for_assignment_type": "student",
        "id": "Sj2SvPPXf6aN",
        "colab_type": "code",
        "colab": {}
      },
      "source": [
        "...\n",
        "\n",
        "# Write in your estimate here.\n",
        "num_people_with_rare_names = ..."
      ],
      "execution_count": 0,
      "outputs": []
    },
    {
      "cell_type": "markdown",
      "metadata": {
        "id": "6lip0iH_f6aQ",
        "colab_type": "text"
      },
      "source": [
        "You probably saw in question 2 that the least-common names occur 5 times in a year.  That's because the data are \"censored\" to remove names that occur fewer than 5 times."
      ]
    },
    {
      "cell_type": "markdown",
      "metadata": {
        "id": "xwIJBIqff6aR",
        "colab_type": "text"
      },
      "source": [
        "#### Question 7\n",
        "Why do you think the Social Security Administration does that?"
      ]
    },
    {
      "cell_type": "markdown",
      "metadata": {
        "id": "DhawGk72f6aS",
        "colab_type": "text"
      },
      "source": [
        "*Write your answer here, replacing this text.*"
      ]
    },
    {
      "cell_type": "markdown",
      "metadata": {
        "id": "96KobCgyf6aS",
        "colab_type": "text"
      },
      "source": [
        "However, you might imagine that it's possible to extrapolate from the pattern of name frequencies in the our data to the pattern of name frequencies for names that appeared 4 or fewer times.  Then we could try to answer interesting questions like, \"How many distinct names were given to people born in 2014?\"  In later weeks, we'll have the tools to do that."
      ]
    },
    {
      "cell_type": "markdown",
      "metadata": {
        "id": "IESaetenf6aT",
        "colab_type": "text"
      },
      "source": [
        "# What if we'd had a sample?\n",
        "We are pretty lucky to have a census of most US births.  Let's generate a random sample to see how it would affect our inferences in the remainder of the lab."
      ]
    },
    {
      "cell_type": "markdown",
      "metadata": {
        "id": "iSr7ippcf6aT",
        "colab_type": "text"
      },
      "source": [
        "#### Question 8\n",
        "You can generate a random sample of the rows of a Pandas table with the `sample` method, as in:\n",
        "\n",
        "    names.sample(n = 10000, replace = False)\n",
        "\n",
        "But if we did that, we wouldn't get the kind of dataset we'd see if the Social Security Administration had sampled randomly from people born in each year and reported their name counts.  Why not?"
      ]
    },
    {
      "cell_type": "markdown",
      "metadata": {
        "id": "oiFCEKvbf6aU",
        "colab_type": "text"
      },
      "source": [
        "*Write your answer here, replacing this text.*"
      ]
    },
    {
      "cell_type": "markdown",
      "metadata": {
        "id": "1C0gIV7of6aV",
        "colab_type": "text"
      },
      "source": [
        "#### Question 9\n",
        "Generate a random sample of 100,000 people born in 2014.  Do this by implementing the function `sample_counts_table` according to its documentation.  (Note that it should sample ***with replacement***.)  Call that function to compute a table called `sample_names_2014`.  It should have the same columns as `names`, and `sample_names_2014[\"Count\"].sum()` should equal 100,000.\n",
        "\n",
        "*Hint:* In `sample_counts_table`, use `groupby` to re-aggregate the table after sampling it.  Before returning the result, use `reset_index` to take the columns you pass to `groupby` out of the index and make them ordinary columns again."
      ]
    },
    {
      "cell_type": "code",
      "metadata": {
        "for_assignment_type": "student",
        "id": "roZDh_m2f6aX",
        "colab_type": "code",
        "colab": {}
      },
      "source": [
        "def sample_counts_table(table, count_column_name, sample_size):\n",
        "    \"\"\"Given a table with a column of counts, produces a table that's a random sample from that table.\n",
        "    \n",
        "    The sampling is not done directly on the rows of the given table.  Instead, the sample\n",
        "    is taken from a copy of that table, where each row is duplicated once per count.  Then\n",
        "    the data are re-aggregated, so the resulting table looks similar to the original table,\n",
        "    except that its counts are smaller (and sum to sample_size).\n",
        "    \n",
        "    Args:\n",
        "        table (pd.DataFrame): Any DataFrame\n",
        "        count_column_name (str): The name of a column in table.  That column should\n",
        "                                 contain integer counts.\n",
        "        sample_size (int): The size of the sample\n",
        "    \n",
        "    Returns:\n",
        "        pd.DataFrame: A copy of table, but with total count equal to sample_size,\n",
        "                      sampled randomly as described above.\n",
        "    \"\"\"\n",
        "    ...\n",
        "\n",
        "sample_names_2014 = ..."
      ],
      "execution_count": 0,
      "outputs": []
    },
    {
      "cell_type": "markdown",
      "metadata": {
        "id": "u04LYtChf6ac",
        "colab_type": "text"
      },
      "source": [
        "#### Question 10\n",
        "Verify that your sample looks reasonable.  Do this by checking whether the following two bar charts look similar:\n",
        "1. The frequencies of the top 5 names in 2014.\n",
        "2. The frequencies of the top 5 names in 2014, using your sample."
      ]
    },
    {
      "cell_type": "code",
      "metadata": {
        "id": "uxn-xv_4f6ad",
        "colab_type": "code",
        "colab": {}
      },
      "source": [
        "n = 5\n",
        "...\n",
        "..."
      ],
      "execution_count": 0,
      "outputs": []
    },
    {
      "cell_type": "markdown",
      "metadata": {
        "id": "CSJ-7_Dmf6ag",
        "colab_type": "text"
      },
      "source": [
        "# Are names visually related to birth-assigned sex?\n",
        "When you see a name for the first time in a familiar language (for example, in a fiction book), you can probably make a guess about the sex of the person with the name.  For example, a person named Almon is probably male, and a person named Alma is probably female.  What patterns has your brain learned to let you make such predictions?\n",
        "\n",
        "One simple pattern you might guess is that names of females more often end in vowels, while names of males more often end in consonants.  Let's find out."
      ]
    },
    {
      "cell_type": "markdown",
      "metadata": {
        "id": "vcDdTu0Zf6ai",
        "colab_type": "text"
      },
      "source": [
        "#### Question 11\n",
        "For each letter in English, compute the proportion of males and females whose name ends with that letter.  Do this by filling in the function `pivot_by_ending` and calling it on `sample_names_2014`.  **Use your sample table, `sample_names_2014`, as in the filled-in code.**\n",
        "\n",
        "Your table should look like this (but with different values and with 26 rows):\n",
        "\n",
        "|Ending|F|M|\n",
        "|-|-|-|-|\n",
        "|a|.7|.3|\n",
        "|b|.2|.8|"
      ]
    },
    {
      "cell_type": "code",
      "metadata": {
        "for_assignment_type": "student",
        "id": "7NiGmaMEf6al",
        "colab_type": "code",
        "colab": {
          "base_uri": "https://localhost:8080/",
          "height": 325
        },
        "outputId": "e91f7932-8fd2-4cbd-e970-df2943543c18"
      },
      "source": [
        "def pivot_by_ending(names):\n",
        "    \"\"\"Find the last letter of each name in the given table and pivot by\n",
        "    that value and by gender.\n",
        "    \n",
        "    Args:\n",
        "        names (pd.DataFrame): A table like `names_in_2014`, having at least\n",
        "                              the following columns:\n",
        "                               * 'Name': A column of strings\n",
        "                               * 'Gender': A column of strings 'F' or 'M'\n",
        "                               * 'Count': A column of integers, the number\n",
        "                                 of individuals represented by each row\n",
        "    Returns:\n",
        "        pd.DataFrame: A table pivoted by last letter of name and by gender.\n",
        "                      See above for an example.\"\"\"\n",
        "    # The next line will create a copy of names with an\n",
        "    # extra column called \"Ending\".  Replace the ... with\n",
        "    # a Series or array containing the last letters of\n",
        "    # each name.\n",
        "    with_ending = names.assign(Ending = ...)\n",
        "\n",
        "    # Fill in the ellipses here to pivot your table.\n",
        "    return with_ending.pivot_table(\n",
        "        index=[...], # column(s) that will index the pivoted table\n",
        "        columns=[...], # Each value in this column (or columns) will get its own column in the pivoted table.\n",
        "        values=..., # the field to process in each group\n",
        "        aggfunc=..., # the operation to apply to the collection of field values in each group\n",
        "        fill_value=... # the default value for an empty cell in the resulting table\n",
        "    )\n",
        "\n",
        "sample_names_2014_by_ending = pivot_by_ending(sample_names_2014)"
      ],
      "execution_count": 11,
      "outputs": [
        {
          "output_type": "error",
          "ename": "AttributeError",
          "evalue": "ignored",
          "traceback": [
            "\u001b[0;31m---------------------------------------------------------------------------\u001b[0m",
            "\u001b[0;31mAttributeError\u001b[0m                            Traceback (most recent call last)",
            "\u001b[0;32m<ipython-input-11-6e616c68908f>\u001b[0m in \u001b[0;36m<module>\u001b[0;34m()\u001b[0m\n\u001b[1;32m     28\u001b[0m     )\n\u001b[1;32m     29\u001b[0m \u001b[0;34m\u001b[0m\u001b[0m\n\u001b[0;32m---> 30\u001b[0;31m \u001b[0msample_names_2014_by_ending\u001b[0m \u001b[0;34m=\u001b[0m \u001b[0mpivot_by_ending\u001b[0m\u001b[0;34m(\u001b[0m\u001b[0msample_names_2014\u001b[0m\u001b[0;34m)\u001b[0m\u001b[0;34m\u001b[0m\u001b[0;34m\u001b[0m\u001b[0m\n\u001b[0m",
            "\u001b[0;32m<ipython-input-11-6e616c68908f>\u001b[0m in \u001b[0;36mpivot_by_ending\u001b[0;34m(names)\u001b[0m\n\u001b[1;32m     17\u001b[0m     \u001b[0;31m# a Series or array containing the last letters of\u001b[0m\u001b[0;34m\u001b[0m\u001b[0;34m\u001b[0m\u001b[0;34m\u001b[0m\u001b[0m\n\u001b[1;32m     18\u001b[0m     \u001b[0;31m# each name.\u001b[0m\u001b[0;34m\u001b[0m\u001b[0;34m\u001b[0m\u001b[0;34m\u001b[0m\u001b[0m\n\u001b[0;32m---> 19\u001b[0;31m     \u001b[0mwith_ending\u001b[0m \u001b[0;34m=\u001b[0m \u001b[0mnames\u001b[0m\u001b[0;34m.\u001b[0m\u001b[0massign\u001b[0m\u001b[0;34m(\u001b[0m\u001b[0mEnding\u001b[0m \u001b[0;34m=\u001b[0m \u001b[0;34m...\u001b[0m\u001b[0;34m)\u001b[0m\u001b[0;34m\u001b[0m\u001b[0;34m\u001b[0m\u001b[0m\n\u001b[0m\u001b[1;32m     20\u001b[0m \u001b[0;34m\u001b[0m\u001b[0m\n\u001b[1;32m     21\u001b[0m     \u001b[0;31m# Fill in the ellipses here to pivot your table.\u001b[0m\u001b[0;34m\u001b[0m\u001b[0;34m\u001b[0m\u001b[0;34m\u001b[0m\u001b[0m\n",
            "\u001b[0;31mAttributeError\u001b[0m: 'ellipsis' object has no attribute 'assign'"
          ]
        }
      ]
    },
    {
      "cell_type": "markdown",
      "metadata": {
        "id": "xWAtVj0Df6ap",
        "colab_type": "text"
      },
      "source": [
        "Run the next cell to make a bar chart of your results.  (The male proportion is 1 minus the female proportion.)"
      ]
    },
    {
      "cell_type": "code",
      "metadata": {
        "id": "tT5NJQhXf6ap",
        "colab_type": "code",
        "colab": {}
      },
      "source": [
        "def compute_proportions(pivoted_by_letter):\n",
        "    totals = pivoted_by_letter['M'] + pivoted_by_letter['F']\n",
        "    return pd.DataFrame({\n",
        "            \"Ending\": pivoted_by_letter.index.values,\n",
        "            \"Male proportion\": pivoted_by_letter['M'] / totals,\n",
        "            \"Female proportion\": pivoted_by_letter['F'] / totals})\n",
        "\n",
        "proportions_in_2014_sample = compute_proportions(sample_names_2014_by_ending).sort_values(\"Female proportion\", ascending=False)\n",
        "proportions_in_2014_sample[[\"Female proportion\"]].plot.bar(color=\"Pink\");"
      ],
      "execution_count": 0,
      "outputs": []
    },
    {
      "cell_type": "markdown",
      "metadata": {
        "id": "ab64w5tIf6ar",
        "colab_type": "text"
      },
      "source": [
        "#### Question 12\n",
        "Discuss what the chart tells us.  Is there a strong association between sex and the last letter of a name in our sample?"
      ]
    },
    {
      "cell_type": "markdown",
      "metadata": {
        "id": "IFasTE6Lf6as",
        "colab_type": "text"
      },
      "source": [
        "# Uncertainty\n",
        "The bar chart was built from a sample.  It's possible that the relationships we saw don't really exist in the full dataset.\n",
        "\n",
        "To quantify our uncertainty, let's run the bootstrap.  We can reuse most of our earlier code. (That's why we packaged everything into functions.)"
      ]
    },
    {
      "cell_type": "markdown",
      "metadata": {
        "id": "yMAo0uW_f6as",
        "colab_type": "text"
      },
      "source": [
        "#### Question 13\n",
        "Compute 200 bootstrap resamples from `sample_names_2014`.  For each resample, compute a table of proportions by calling your `compute_proportions` and `pivot_by_ending` functions on it."
      ]
    },
    {
      "cell_type": "code",
      "metadata": {
        "id": "pyS9I1VZf6at",
        "colab_type": "code",
        "colab": {}
      },
      "source": [
        "# Constants provided for your convenience.\n",
        "num_resamples = 200\n",
        "resample_size = 100000\n",
        "\n",
        "# Compute a list of num_resamples tables, each one like `proportions_in_2014_sample`.\n",
        "# Each should be based on a resample of sample_names_2014.\n",
        "# This should take around a minute.\n",
        "resamples = ..."
      ],
      "execution_count": 0,
      "outputs": []
    },
    {
      "cell_type": "markdown",
      "metadata": {
        "id": "Kk-IzyMzf6av",
        "colab_type": "text"
      },
      "source": [
        "The cell below displays your bootstrapped proportions."
      ]
    },
    {
      "cell_type": "code",
      "metadata": {
        "id": "AA6n9Z0Hf6aw",
        "colab_type": "code",
        "colab": {}
      },
      "source": [
        "resample_proportions = pd.concat(resamples)\n",
        "sns.boxplot(x=\"Ending\",\n",
        "            y=\"Female proportion\",\n",
        "            data=resample_proportions,\n",
        "            order=proportions_in_2014_sample[\"Ending\"],\n",
        "            color=\"Pink\");"
      ],
      "execution_count": 0,
      "outputs": []
    },
    {
      "cell_type": "code",
      "metadata": {
        "id": "NxZb9LFlf6ax",
        "colab_type": "code",
        "colab": {}
      },
      "source": [
        "compute_proportions(pivot_by_ending(names_in_2014))\\\n",
        "    .loc[proportions_in_2014_sample[\"Ending\"]]\\\n",
        "    [[\"Female proportion\"]]\\\n",
        "    .plot.bar(color=(\"Pink\"));\n",
        "plt.title(\"\")"
      ],
      "execution_count": 0,
      "outputs": []
    },
    {
      "cell_type": "markdown",
      "metadata": {
        "id": "f1INJd76f6az",
        "colab_type": "text"
      },
      "source": [
        "#### Question 14\n",
        "Why is the box for names ending in 'q' so wide?"
      ]
    },
    {
      "cell_type": "markdown",
      "metadata": {
        "id": "GqsWeoMxf6az",
        "colab_type": "text"
      },
      "source": [
        "*Write your answer here, replacing this text.*"
      ]
    }
  ]
}